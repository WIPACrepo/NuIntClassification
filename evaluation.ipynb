{
 "cells": [
  {
   "cell_type": "code",
   "execution_count": 1,
   "metadata": {},
   "outputs": [],
   "source": [
    "import numpy as np\n",
    "import pandas as pd\n",
    "import matplotlib.pyplot as plt\n",
    "import matplotlib\n",
    "import h5py\n",
    "from model import *\n",
    "from dataset import *\n",
    "import util\n",
    "import json\n",
    "from collections import defaultdict\n",
    "import torch\n",
    "from torch.utils.data import Dataset, DataLoader\n",
    "import pprint\n",
    "import os\n",
    "\n",
    "matplotlib.rc('text', usetex=True)"
   ]
  },
  {
   "cell_type": "markdown",
   "metadata": {},
   "source": [
    "# Load model and data"
   ]
  },
  {
   "cell_type": "code",
   "execution_count": 2,
   "metadata": {},
   "outputs": [],
   "source": [
    "#model_idx, model_number = 'hd5-6294123123', 50 # Model with about 60% accuracy, compares good to baseline\n",
    "#model_idx, model_number = 'hd5-8950268560', 25 # Graph Feature Model with about 61% accuracy, compares good to baseline\n",
    "#model_idx, model_number = 'hd5-25894918', 7\n",
    "#model_idx, model_number = 'hd5-7444815001', 19\n",
    "model_idx, model_number = 'hd5-2757239296', 40\n",
    "\n",
    "CUDA = True"
   ]
  },
  {
   "cell_type": "code",
   "execution_count": 3,
   "metadata": {},
   "outputs": [
    {
     "name": "stdout",
     "output_type": "stream",
     "text": [
      "Classes [0 1]; Class counts [ 672760 1089606]\n",
      "Reduced dataset to 672760 samples per class (1345520 / 1762366)\n"
     ]
    }
   ],
   "source": [
    "config_path = f'training/{model_idx}/config.json'\n",
    "with open('default_settings.json') as f:\n",
    "        config = json.load(f)\n",
    "with open(config_path) as f:\n",
    "    util.dict_update(config, json.load(f))\n",
    "data_train, data_val, data_test = util.dataset_from_config(config, filter_non_train=False, close_file=False)\n",
    "model = util.model_from_config(config)"
   ]
  },
  {
   "cell_type": "code",
   "execution_count": 4,
   "metadata": {},
   "outputs": [
    {
     "name": "stdout",
     "output_type": "stream",
     "text": [
      "{'dataset': {'balance_classes': True,\n",
      "             'class_weights': 'balanced',\n",
      "             'coordinates': ['COGCenteredVertexX',\n",
      "                             'COGCenteredVertexY',\n",
      "                             'COGCenteredVertexZ'],\n",
      "             'currents': None,\n",
      "             'distances_precomputed': True,\n",
      "             'features': ['ChargeFirstPulse',\n",
      "                          'ChargeLastPulse',\n",
      "                          'ChargeMaxPulse',\n",
      "                          'TimeFirstPulse',\n",
      "                          'TimeLastPulse',\n",
      "                          'TimeMaxPulse',\n",
      "                          'TimeStd',\n",
      "                          'COGCenteredVertexX',\n",
      "                          'COGCenteredVertexY',\n",
      "                          'COGCenteredVertexZ',\n",
      "                          'VertexX',\n",
      "                          'VertexY',\n",
      "                          'VertexZ'],\n",
      "             'flavors': None,\n",
      "             'graph_features': None,\n",
      "             'max_cascade_energy': None,\n",
      "             'max_charge': None,\n",
      "             'max_true_energy': None,\n",
      "             'min_track_length': None,\n",
      "             'min_true_energy': None,\n",
      "             'paths': {'test': '../data/data_dragon8_split/test.hd5',\n",
      "                       'train': '../data/data_dragon8_split/train.hd5',\n",
      "                       'validation': '../data/data_dragon8_split/val.hd5'},\n",
      "             'shuffle': False,\n",
      "             'type': 'hd5'},\n",
      " 'model': {'dropout_rate': 0.5,\n",
      "           'hidden_units_fully_connected': [1],\n",
      "           'hidden_units_graph_convolutions': [64, 64, 64, 64, 64, 64, 64, 64],\n",
      "           'hidden_units_graph_mlp': None,\n",
      "           'hidden_units_lstm': [32, 16],\n",
      "           'hidden_units_regression': [64, 64, 5],\n",
      "           'type': 'gcn',\n",
      "           'use_batchnorm': True,\n",
      "           'use_residual': True},\n",
      " 'seed': 2757239296,\n",
      " 'training': {'auxiliary_loss_lambda': 0.1,\n",
      "              'batch_size': 64,\n",
      "              'checkpoint_period': 1,\n",
      "              'directory': './training/hd5-{0}',\n",
      "              'epochs': 50,\n",
      "              'learning_rate': 0.001,\n",
      "              'learning_rate_decay': 1e-05,\n",
      "              'learning_rate_scheduler': 'reduce_on_plateau',\n",
      "              'learning_rate_scheduler_patience': 5,\n",
      "              'logdir': './log',\n",
      "              'logfile': None,\n",
      "              'loss': 'binary_crossentropy',\n",
      "              'min_learning_rate': 1e-05,\n",
      "              'use_class_weights': True}}\n"
     ]
    }
   ],
   "source": [
    "pprint.pprint(config)"
   ]
  },
  {
   "cell_type": "code",
   "execution_count": 5,
   "metadata": {},
   "outputs": [
    {
     "data": {
      "text/plain": [
       "<All keys matched successfully>"
      ]
     },
     "execution_count": 5,
     "metadata": {},
     "output_type": "execute_result"
    }
   ],
   "source": [
    "if torch.cuda.is_available() and CUDA:\n",
    "    model = model.cuda()\n",
    "else:\n",
    "    model = model.cpu()\n",
    "model.load_state_dict(torch.load(f'training/{model_idx}/model_{model_number}'))"
   ]
  },
  {
   "cell_type": "code",
   "execution_count": 6,
   "metadata": {},
   "outputs": [],
   "source": [
    "test_loader = DataLoader(data_test, batch_size=config['training']['batch_size'], shuffle=config['dataset']['shuffle'], collate_fn=data_test.collate, drop_last=False)"
   ]
  },
  {
   "cell_type": "code",
   "execution_count": 7,
   "metadata": {},
   "outputs": [
    {
     "name": "stdout",
     "output_type": "stream",
     "text": [
      "Evaluating 3443 / 3443\r"
     ]
    }
   ],
   "source": [
    "metrics = defaultdict(float)\n",
    "y_pred = np.zeros(len(test_loader.dataset))\n",
    "y_true = np.zeros(len(test_loader.dataset))\n",
    "total_loss = 0\n",
    "model.eval()\n",
    "for batch_idx, (inputs, y_i, _) in enumerate(test_loader):\n",
    "    print(f'\\rEvaluating {batch_idx + 1} / {len(test_loader)}', end='\\r')\n",
    "    y_pred_i = model(*[i.cpu() if not CUDA else i for i in inputs])\n",
    "    y_pred[batch_idx * test_loader.batch_size : (batch_idx + 1) * test_loader.batch_size] = y_pred_i.data.cpu().numpy().squeeze()\n",
    "    y_true[batch_idx * test_loader.batch_size : (batch_idx + 1) * test_loader.batch_size] = y_i.data.cpu().numpy().squeeze()"
   ]
  },
  {
   "cell_type": "code",
   "execution_count": 8,
   "metadata": {},
   "outputs": [
    {
     "data": {
      "image/png": "[encoded data removed]",
      "text/plain": [
       "<Figure size 432x288 with 1 Axes>"
      ]
     },
     "metadata": {
      "needs_background": "light"
     },
     "output_type": "display_data"
    }
   ],
   "source": [
    "y_model = (y_pred >= .5).astype(np.int).flatten()\n",
    "_ = plt.hist(y_pred, bins=100)"
   ]
  },
  {
   "cell_type": "code",
   "execution_count": 9,
   "metadata": {},
   "outputs": [],
   "source": [
    "delta_llh = np.array(data_test.file['DeltaLLH'])[data_test._idxs]\n",
    "y_baseline = (delta_llh >= 2.0).astype(np.uint8)"
   ]
  },
  {
   "cell_type": "code",
   "execution_count": 10,
   "metadata": {},
   "outputs": [
    {
     "data": {
      "text/plain": [
       "(array([0.61129849]), array([0.61444881]))"
      ]
     },
     "execution_count": 10,
     "metadata": {},
     "output_type": "execute_result"
    }
   ],
   "source": [
    "logits_model = y_pred\n",
    "y_pred = (logits_model >= .5).astype(np.uint8)\n",
    "acc_model = (y_pred == data_test.targets).sum() / y_pred.shape\n",
    "acc_baseline = (y_baseline == data_test.targets).sum() / y_baseline.shape\n",
    "acc_model, acc_baseline"
   ]
  },
  {
   "cell_type": "markdown",
   "metadata": {},
   "source": [
    "# Check integrity of tracks in data"
   ]
  },
  {
   "cell_type": "code",
   "execution_count": 11,
   "metadata": {
    "scrolled": false
   },
   "outputs": [
    {
     "data": {
      "image/png": "[encoded data removed]",
      "text/plain": [
       "<Figure size 432x288 with 1 Axes>"
      ]
     },
     "metadata": {
      "needs_background": "light"
     },
     "output_type": "display_data"
    }
   ],
   "source": [
    "track_idx = data_test.targets > 0\n",
    "_ = plt.hist(data_test.file['PDGEncoding'][track_idx])"
   ]
  },
  {
   "cell_type": "code",
   "execution_count": 12,
   "metadata": {
    "scrolled": true
   },
   "outputs": [
    {
     "data": {
      "image/png": "[encoded data removed]",
      "text/plain": [
       "<Figure size 432x288 with 1 Axes>"
      ]
     },
     "metadata": {
      "needs_background": "light"
     },
     "output_type": "display_data"
    }
   ],
   "source": [
    "_ = plt.hist(data_test.file['InteractionType'][track_idx])"
   ]
  },
  {
   "cell_type": "code",
   "execution_count": 13,
   "metadata": {},
   "outputs": [
    {
     "data": {
      "image/png": "[encoded data removed]",
      "text/plain": [
       "<Figure size 432x288 with 1 Axes>"
      ]
     },
     "metadata": {
      "needs_background": "light"
     },
     "output_type": "display_data"
    }
   ],
   "source": [
    "has_no_track_length = np.isnan(data_test.file['TrackLength'])\n",
    "_ = plt.hist(data_test.targets[~has_no_track_length])"
   ]
  },
  {
   "cell_type": "code",
   "execution_count": 14,
   "metadata": {},
   "outputs": [
    {
     "data": {
      "text/plain": [
       "(array([-14.,  14.]), array([43326, 92922]))"
      ]
     },
     "execution_count": 14,
     "metadata": {},
     "output_type": "execute_result"
    }
   ],
   "source": [
    "np.unique(data_test.file['PDGEncoding'][~has_no_track_length], return_counts=True)"
   ]
  },
  {
   "cell_type": "code",
   "execution_count": 15,
   "metadata": {},
   "outputs": [
    {
     "data": {
      "text/plain": [
       "False"
      ]
     },
     "execution_count": 15,
     "metadata": {},
     "output_type": "execute_result"
    },
    {
     "data": {
      "image/png": "[encoded data removed]",
      "text/plain": [
       "<Figure size 432x288 with 1 Axes>"
      ]
     },
     "metadata": {
      "needs_background": "light"
     },
     "output_type": "display_data"
    }
   ],
   "source": [
    "mask = (~np.isnan(data_test.file['TrackLength'])).copy()\n",
    "mask[data_test.targets > 0] = False\n",
    "\n",
    "track_lengths = data_test.file['TrackLength'][mask]\n",
    "plt.hist(track_lengths, bins=200)\n",
    "\n",
    "mask.any()"
   ]
  },
  {
   "cell_type": "markdown",
   "metadata": {},
   "source": [
    "# Check Batchnorm of model"
   ]
  },
  {
   "cell_type": "code",
   "execution_count": 16,
   "metadata": {},
   "outputs": [
    {
     "data": {
      "text/plain": [
       "tensor([0.5388, 0.0372, 0.1273, 0.6665, 0.0755, 0.0621, 0.1013, 0.1284, 0.0197,\n",
       "        0.0192, 0.5741, 0.1309, 0.0560, 0.3555, 1.3750, 0.1397, 0.0457, 0.1047,\n",
       "        0.1858, 0.0846, 0.0509, 0.0365, 0.1741, 0.0579, 0.1969, 0.0945, 0.2130,\n",
       "        1.2641, 0.0394, 0.0402, 1.0761, 0.1661, 0.1011, 0.0815, 0.1802, 0.3406,\n",
       "        1.0055, 0.1190, 0.0172, 0.0091, 0.0205, 0.6455, 0.1316, 0.1180, 0.0583,\n",
       "        1.0587, 0.2211, 0.0625, 0.1260, 0.0463, 0.1223, 0.1033, 0.1814, 0.0625,\n",
       "        0.0446, 0.3564, 0.1525, 0.1152, 0.0625, 0.3325, 0.2988, 0.1227, 0.0541,\n",
       "        0.2055], device='cuda:0')"
      ]
     },
     "execution_count": 16,
     "metadata": {},
     "output_type": "execute_result"
    }
   ],
   "source": [
    "model.graph_convolutions[1].batchnorm.running_variance"
   ]
  },
  {
   "cell_type": "code",
   "execution_count": 17,
   "metadata": {},
   "outputs": [
    {
     "data": {
      "text/plain": [
       "(array([ 1.14877984e+00,  1.07118455e+00,  1.31084852e+00,  6.16717558e-01,\n",
       "         6.75447944e-01,  6.33142512e-01,  2.45274318e-02, -1.72397561e-04,\n",
       "         4.53449570e-05,  1.04970250e-03, -2.62451001e-12, -2.03038639e-12,\n",
       "        -3.23756173e-11]),\n",
       " array([0.94939857, 0.49905676, 2.20266628, 0.50793224, 0.54240993,\n",
       "        0.51665181, 0.10815457, 0.0325995 , 0.03342982, 0.02795726,\n",
       "        1.21162359, 1.19836402, 1.14504191]))"
      ]
     },
     "execution_count": 17,
     "metadata": {},
     "output_type": "execute_result"
    }
   ],
   "source": [
    "data_test.features.mean(0), data_test.features.std(0)"
   ]
  },
  {
   "cell_type": "code",
   "execution_count": 18,
   "metadata": {},
   "outputs": [
    {
     "data": {
      "text/plain": [
       "tensor([0.1442], device='cuda:0', grad_fn=<MulBackward0>)"
      ]
     },
     "execution_count": 18,
     "metadata": {},
     "output_type": "execute_result"
    }
   ],
   "source": [
    "1 / model.kernel.inverse_sigma"
   ]
  },
  {
   "cell_type": "code",
   "execution_count": 19,
   "metadata": {},
   "outputs": [
    {
     "data": {
      "text/plain": [
       "tensor(True, device='cuda:0')"
      ]
     },
     "execution_count": 19,
     "metadata": {},
     "output_type": "execute_result"
    }
   ],
   "source": [
    "# Verify that batchnorm is working in testing mode\n",
    "for X, y, _ in test_loader:\n",
    "    break\n",
    "y_pred1 = model(*[xi.cpu() if not CUDA else xi for xi in X])\n",
    "y_pred2 = model(*[xi[:32].cpu() if not CUDA else xi for xi in X])\n",
    "(y_pred1[:y_pred2.size(0)] == y_pred2).all()"
   ]
  },
  {
   "cell_type": "markdown",
   "metadata": {},
   "source": [
    "## Predict model on all data that was discarded during filtering"
   ]
  },
  {
   "cell_type": "code",
   "execution_count": 20,
   "metadata": {},
   "outputs": [
    {
     "data": {
      "image/png": "[encoded data removed]",
      "text/plain": [
       "<Figure size 432x288 with 1 Axes>"
      ]
     },
     "metadata": {
      "needs_background": "light"
     },
     "output_type": "display_data"
    }
   ],
   "source": [
    "charge = np.array(data_test.file['TotalCharge'])[data_test._idxs]\n",
    "pdg_encodings = np.array(data_test.file['PDGEncoding'])[data_test._idxs]\n",
    "interaction_types = np.array(data_test.file['InteractionType'])[data_test._idxs]\n",
    "muon_energy = np.array(data_test.file['MuonEnergy'])[data_test._idxs]\n",
    "cascade_energy = np.array(data_test.file['CascadeEnergy'])[data_test._idxs]\n",
    "# Fill NaNs with zeros\n",
    "muon_energy[np.isnan(muon_energy)] = 0.0\n",
    "cascade_energy[np.isnan(cascade_energy)] = 0.0\n",
    "total_energy = muon_energy + cascade_energy\n",
    "#_ = plt.hist(np.log(np.array(data_train.file['TotalCharge'])))\n",
    "#plt.hist(charge)\n",
    "_ = plt.hist(total_energy)"
   ]
  },
  {
   "cell_type": "code",
   "execution_count": 21,
   "metadata": {},
   "outputs": [],
   "source": [
    "def binned_ppr(y_pred, y_gnd, values, number_bins=50, max_value=.1, min_value=50.0):\n",
    "    \"\"\" Calculates the ppr binned in charges. \n",
    "    \n",
    "    Parameters:\n",
    "    -----------\n",
    "    y_pred : ndarray, shape [N]\n",
    "        Predictions.\n",
    "    y_gnd : ndarray, shape [N]\n",
    "        Ground truths.\n",
    "    values : ndarray, shape [N]\n",
    "        Values to be binned.\n",
    "    number_bins : int, optional\n",
    "        The number of bins.\n",
    "    min_value : float, optional\n",
    "        Minumum value for bins.\n",
    "    max_value : float, optional\n",
    "        Maximum value for bins.\n",
    "    \n",
    "    Returns:\n",
    "    --------\n",
    "    ppr : ndarray, shape [bins + 1]\n",
    "        Positive predicted values for each bin.\n",
    "    sigma_ppr : ndarray, shape [bins + 1]\n",
    "        Uncertainty of predicted positive values for each bin.\n",
    "    bins : ndarray, shape [bins]\n",
    "        Bin edges.\n",
    "    \"\"\"\n",
    "    log_values = np.log10(values)\n",
    "    # Bin all charges\n",
    "    bins = np.linspace(np.log10(min_value), np.log10(max_value), number_bins)\n",
    "    \n",
    "    bin_counts, _ = np.histogram(log_values, bins=bins)\n",
    "    # Bin positive predictions\n",
    "    pos_bin_counts, _ = np.histogram(log_values[y_pred > 0], bins=bins)\n",
    "    ppr = pos_bin_counts / bin_counts\n",
    "    \n",
    "    # Calculate uncertainty\n",
    "    sigma_bin_counts = np.sqrt(bin_counts)\n",
    "    sigma_pos_bin_counts = np.sqrt(pos_bin_counts)\n",
    "    \n",
    "    sigma_ppr = np.sqrt(\n",
    "        ppr**2 * ((sigma_bin_counts / bin_counts)**2 + (sigma_pos_bin_counts / pos_bin_counts)**2))\n",
    "    return ppr, sigma_ppr, bins, pos_bin_counts, bin_counts"
   ]
  },
  {
   "cell_type": "code",
   "execution_count": 22,
   "metadata": {},
   "outputs": [],
   "source": [
    "def ppr_plot(y_pred, y_gnd, charges, pdg_encodings, interaction_types, title, plots, \n",
    "             bins=50, xlabel='log(Integrated Charge) (pe)', min_charge=0.1, max_charge=50.0, filepath=None):\n",
    "    \"\"\" Creates subplots for the ppr by neutrino flavour (and interaction type). \"\"\"\n",
    "    pgd_encodings = np.abs(pdg_encodings)\n",
    "    fig = plt.figure(figsize=(15, 10))\n",
    "    plt.xticks(fontsize=24)\n",
    "    plt.xscale('log')\n",
    "    \n",
    "    for plot_label in plots:\n",
    "        color, pdg_encoding, interaction_type = plots[plot_label]\n",
    "        if interaction_type is None:\n",
    "            mask = pdg_encodings == pdg_encoding\n",
    "        else:\n",
    "            mask = np.logical_and((pdg_encodings == pdg_encoding), (interaction_types == interaction_type))\n",
    "                           \n",
    "        ppr, sigma, bin_edges, _, _ = binned_ppr(y_pred[mask], y_gnd[mask], charges[mask], number_bins=bins, \n",
    "                                           min_value=min_charge, max_value=max_charge)\n",
    "        bin_centers = 0.5 * (bin_edges[1:] + bin_edges[:-1])\n",
    "        plt.fill_between(\n",
    "            np.power(10, bin_edges[1:]),\n",
    "            ppr - sigma,\n",
    "            ppr + sigma,\n",
    "            color=color,\n",
    "            alpha=.1,\n",
    "            step='pre',\n",
    "        )\n",
    "        plt.errorbar(\n",
    "            np.power(10, bin_edges[1:]),\n",
    "            ppr,\n",
    "            color=color,\n",
    "            label=plot_label,\n",
    "            linestyle='steps',\n",
    "        )\n",
    "    plt.xlabel(xlabel, fontsize=24)\n",
    "    plt.ylabel('Positive Prediction Rate', fontsize=24)\n",
    "    plt.yticks(fontsize=24)\n",
    "    plt.ylim(0, 1)\n",
    "    #plt.legend(loc='left', bbox_to_anchor=(1.0, 1.0), fontsize=20)\n",
    "    plt.legend(fontsize=24, loc='upper left')\n",
    "    plt.title(title, fontsize=24)\n",
    "    if filepath:\n",
    "        os.makedirs(os.path.dirname(filepath), exist_ok=True)\n",
    "        plt.savefig(filepath)"
   ]
  },
  {
   "cell_type": "code",
   "execution_count": 23,
   "metadata": {},
   "outputs": [],
   "source": [
    "def ppr_plots(y_pred, y_baseline, y_gnd, charges, pdg_encodings, interaction_types, plots, \n",
    "             bins=50, xlabel='log(Integrated Charge) (pe)', min_charge=0.1, max_charge=50.0, filepath=None):\n",
    "    \"\"\" Creates subplots for the ppr by neutrino flavour (and interaction type). \"\"\"\n",
    "    pgd_encodings = np.abs(pdg_encodings)\n",
    "    fig = plt.figure(figsize=(20, 10))\n",
    "    \n",
    "    for idx, ys, title in ((1, y_pred, 'Model'), (2, y_baseline, 'Baseline')):\n",
    "    \n",
    "        plt.subplot(1, 2, idx)\n",
    "        plt.xticks(fontsize=24)\n",
    "        plt.xscale('log')\n",
    "\n",
    "        for plot_label in plots:\n",
    "            color, pdg_encoding, interaction_type = plots[plot_label]\n",
    "            if interaction_type is None:\n",
    "                mask = pdg_encodings == pdg_encoding\n",
    "            else:\n",
    "                mask = np.logical_and((pdg_encodings == pdg_encoding), (interaction_types == interaction_type))\n",
    "\n",
    "            ppr, sigma, bin_edges, _, _ = binned_ppr(ys[mask], y_gnd[mask], charges[mask], number_bins=bins, \n",
    "                                               min_value=min_charge, max_value=max_charge)\n",
    "            bin_centers = 0.5 * (bin_edges[1:] + bin_edges[:-1])\n",
    "            plt.fill_between(\n",
    "                np.power(10, bin_edges[1:]),\n",
    "                ppr - sigma,\n",
    "                ppr + sigma,\n",
    "                color=color,\n",
    "                alpha=.1,\n",
    "                step='pre',\n",
    "            )\n",
    "            plt.errorbar(\n",
    "                np.power(10, bin_edges[1:]),\n",
    "                ppr,\n",
    "                color=color,\n",
    "                label=plot_label,\n",
    "                linestyle='steps',\n",
    "            )\n",
    "            \n",
    "        plt.xlabel(xlabel, fontsize=24)\n",
    "        plt.ylabel('Positive Prediction Rate', fontsize=24)\n",
    "        plt.yticks(fontsize=24)\n",
    "        plt.ylim(0, 1)\n",
    "        plt.legend(fontsize=24, loc='upper left')\n",
    "        plt.title(title)\n",
    "    #plt.legend(loc='left', bbox_to_anchor=(1.0, 1.0), fontsize=20)\n",
    "    if filepath:\n",
    "        os.makedirs(os.path.dirname(filepath), exist_ok=True)\n",
    "        #plt.gca().set_axis_off()\n",
    "        #plt.subplots_adjust(top = 1, bottom = 0, right = 1, left = 0, \n",
    "        #            hspace = 0, wspace = 0)\n",
    "        #plt.margins(0,0)\n",
    "        #plt.gca().xaxis.set_major_locator(plt.NullLocator())\n",
    "        #plt.gca().yaxis.set_major_locator(plt.NullLocator())\n",
    "        plt.savefig(filepath, bbox_inches = 'tight',\n",
    "            pad_inches = 0)"
   ]
  },
  {
   "cell_type": "code",
   "execution_count": 24,
   "metadata": {},
   "outputs": [],
   "source": [
    "plots = {\n",
    "    '$\\\\nu_e$ NC' : ('blue', 12, 2),\n",
    "    '$\\\\nu_e$ CC' : ('black', 12, 1),\n",
    "    '$\\\\nu_\\\\mu$ CC' : ('green', 14, 1),\n",
    "    '$\\\\nu_\\\\mu$ NC' : ('red', 14, 2),\n",
    "    #'nue' : ('blue', 12, None),\n",
    "    #'nutau' : ('purple', 16, None),\n",
    "    '$\\\\nu_\\\\tau$ NC' : ('grey', 16, 2),\n",
    "    '$\\\\nu_\\\\tau$ CC' : ('brown', 16, 1)\n",
    "\n",
    "}"
   ]
  },
  {
   "cell_type": "code",
   "execution_count": 25,
   "metadata": {},
   "outputs": [
    {
     "name": "stdout",
     "output_type": "stream",
     "text": [
      "After Track Length filter 136373 / 220295 events remain.\n",
      "After Cascade Energy filter 119139 / 220295 events remain.\n"
     ]
    },
    {
     "name": "stderr",
     "output_type": "stream",
     "text": [
      "/media/dominik/d/uni/uare/icecube/NuIntClassification/dataset/hd5.py:178: RuntimeWarning: invalid value encountered in less\n",
      "  idx_removed = np.where(np.logical_and((track_length < min_track_length), has_track_length))[0]\n",
      "/media/dominik/d/uni/uare/icecube/NuIntClassification/dataset/hd5.py:184: RuntimeWarning: invalid value encountered in greater\n",
      "  idx_removed = np.where(np.logical_and((cascade_energy > max_cascade_energy), has_track_length))\n"
     ]
    }
   ],
   "source": [
    "import dataset\n",
    "idx_filter = dataset.hd5.event_filter(data_test.file, min_track_length=70, max_cascade_energy=10)"
   ]
  },
  {
   "cell_type": "code",
   "execution_count": 26,
   "metadata": {},
   "outputs": [
    {
     "data": {
      "text/plain": [
       "0.544767036822535"
      ]
     },
     "execution_count": 26,
     "metadata": {},
     "output_type": "execute_result"
    }
   ],
   "source": [
    "(y_model[idx_filter] == data_test.targets[idx_filter]).sum() / idx_filter.sum()"
   ]
  },
  {
   "cell_type": "code",
   "execution_count": 27,
   "metadata": {},
   "outputs": [
    {
     "data": {
      "text/plain": [
       "array([0.54081572])"
      ]
     },
     "execution_count": 27,
     "metadata": {},
     "output_type": "execute_result"
    }
   ],
   "source": [
    "idx_filter.sum() / idx_filter.shape"
   ]
  },
  {
   "cell_type": "code",
   "execution_count": 28,
   "metadata": {},
   "outputs": [
    {
     "name": "stderr",
     "output_type": "stream",
     "text": [
      "/home/dominik/.local/lib/python3.6/site-packages/ipykernel_launcher.py:35: RuntimeWarning: invalid value encountered in true_divide\n",
      "/home/dominik/.local/lib/python3.6/site-packages/ipykernel_launcher.py:42: RuntimeWarning: invalid value encountered in true_divide\n"
     ]
    },
    {
     "data": {
      "image/png": "[encoded data removed]",
      "text/plain": [
       "<Figure size 1440x720 with 2 Axes>"
      ]
     },
     "metadata": {
      "needs_background": "light"
     },
     "output_type": "display_data"
    }
   ],
   "source": [
    "ppr_plots(y_model, y_baseline, data_test.targets, total_energy, pdg_encodings, interaction_types,\n",
    "         plots, bins=15, min_charge=2.0, max_charge=500.0, xlabel='True Energy (GeV)', \n",
    "         filepath=os.path.join('.', 'plots', model_idx, 'ppr_all.pdf'))"
   ]
  },
  {
   "cell_type": "code",
   "execution_count": 29,
   "metadata": {},
   "outputs": [
    {
     "name": "stderr",
     "output_type": "stream",
     "text": [
      "/home/dominik/.local/lib/python3.6/site-packages/ipykernel_launcher.py:35: RuntimeWarning: invalid value encountered in true_divide\n",
      "/home/dominik/.local/lib/python3.6/site-packages/ipykernel_launcher.py:42: RuntimeWarning: invalid value encountered in true_divide\n"
     ]
    },
    {
     "data": {
      "image/png": "[encoded data removed]",
      "text/plain": [
       "<Figure size 1440x720 with 2 Axes>"
      ]
     },
     "metadata": {
      "needs_background": "light"
     },
     "output_type": "display_data"
    }
   ],
   "source": [
    "ppr_plots(y_model[idx_filter], y_baseline[idx_filter], data_test.targets[idx_filter], total_energy[idx_filter], pdg_encodings[idx_filter], interaction_types[idx_filter],\n",
    "         plots, bins=15, min_charge=2.0, max_charge=500.0, xlabel='True Energy (GeV)', \n",
    "         filepath=os.path.join('.', 'plots', model_idx, 'ppr_good_tracks.pdf'))"
   ]
  },
  {
   "cell_type": "markdown",
   "metadata": {
    "scrolled": true
   },
   "source": [
    "ppr_plot(y_model[idx_filter], data_test.targets[idx_filter], charge[idx_filter], pdg_encodings[idx_filter], interaction_types[idx_filter],\n",
    "        'Positive Predicted Value (Model), \"Good Tracks\"', plots, bins=15)"
   ]
  },
  {
   "cell_type": "markdown",
   "metadata": {},
   "source": [
    "ppr_plot(y_baseline[idx_filter], data_test.targets[idx_filter], charge[idx_filter], pdg_encodings[idx_filter], interaction_types[idx_filter],\n",
    "        'Positive Predicted Value (Baseline), \"Good Tracks\"', plots, bins=15)"
   ]
  },
  {
   "cell_type": "code",
   "execution_count": 30,
   "metadata": {},
   "outputs": [
    {
     "data": {
      "text/plain": [
       "(array([0.75256885]), array([0.60531496]))"
      ]
     },
     "execution_count": 30,
     "metadata": {},
     "output_type": "execute_result"
    }
   ],
   "source": [
    "numucc = np.logical_and(interaction_types == 1, np.abs(pdg_encodings) == 14)\n",
    "nuecc = np.logical_and(interaction_types == 1, np.abs(pdg_encodings) == 12)\n",
    "y_model[numucc].sum() / y_model[numucc].shape, y_model[nuecc].sum() / y_model[nuecc].shape"
   ]
  },
  {
   "cell_type": "code",
   "execution_count": 31,
   "metadata": {},
   "outputs": [
    {
     "data": {
      "text/plain": [
       "array([0.55420072])"
      ]
     },
     "execution_count": 31,
     "metadata": {},
     "output_type": "execute_result"
    }
   ],
   "source": [
    "numuecc = np.logical_or(numucc, nuecc)\n",
    "y_model[numucc].sum() / y_model[numuecc].shape"
   ]
  },
  {
   "cell_type": "code",
   "execution_count": 32,
   "metadata": {},
   "outputs": [
    {
     "data": {
      "text/plain": [
       "(61.241350528697005, 28.3755843497205)"
      ]
     },
     "execution_count": 32,
     "metadata": {},
     "output_type": "execute_result"
    }
   ],
   "source": [
    "total_energy[interaction_types == 2].mean(), total_energy[interaction_types == 1].mean()"
   ]
  },
  {
   "cell_type": "code",
   "execution_count": 33,
   "metadata": {},
   "outputs": [
    {
     "data": {
      "text/plain": [
       "(array([ 1052.,  6855., 23196., 43658., 51947., 42524., 26243., 14087.,\n",
       "         6601.]),\n",
       " array([0.        , 0.25555556, 0.51111111, 0.76666667, 1.02222222,\n",
       "        1.27777778, 1.53333333, 1.78888889, 2.04444444, 2.3       ]),\n",
       " <a list of 9 Patch objects>)"
      ]
     },
     "execution_count": 33,
     "metadata": {},
     "output_type": "execute_result"
    },
    {
     "data": {
      "image/png": "[encoded data removed]",
      "text/plain": [
       "<Figure size 432x288 with 1 Axes>"
      ]
     },
     "metadata": {
      "needs_background": "light"
     },
     "output_type": "display_data"
    }
   ],
   "source": [
    "plt.hist(np.log10(total_energy), np.linspace(0, 2.3, 10)) "
   ]
  },
  {
   "cell_type": "markdown",
   "metadata": {},
   "source": [
    "# Correlation plots for trackness"
   ]
  },
  {
   "cell_type": "code",
   "execution_count": 34,
   "metadata": {},
   "outputs": [
    {
     "data": {
      "text/plain": [
       "<KeysViewHDF5 ['CMeans', 'COGCenteredCMeans', 'COGCenteredPrimaryX', 'COGCenteredPrimaryY', 'COGCenteredPrimaryZ', 'COGCenteredRecoX', 'COGCenteredRecoY', 'COGCenteredRecoZ', 'COGCenteredVertexX', 'COGCenteredVertexY', 'COGCenteredVertexZ', 'CascadeEnergy', 'ChargeFirstPulse', 'ChargeLastPulse', 'ChargeMaxPulse', 'DCFiducialPE', 'DeltaLLH', 'EventID', 'InteractionType', 'MuonEnergy', 'NeutrinoEnergy', 'NoFlux', 'NuMuFlux', 'NueFlux', 'NumberChannels', 'NumberVertices', 'PDGEncoding', 'PrimaryAzimuth', 'PrimaryEnergy', 'PrimaryX', 'PrimaryXOriginal', 'PrimaryY', 'PrimaryYOriginal', 'PrimaryZ', 'PrimaryZOriginal', 'PrimaryZenith', 'RecoAzimuth', 'RecoX', 'RecoY', 'RecoZ', 'RecoZenith', 'RunID', 'TimeDeltaFirstPulse', 'TimeDeltaLastPulse', 'TimeDeltaMaxPulse', 'TimeDeltaStd', 'TimeFirstPulse', 'TimeLastPulse', 'TimeMaxPulse', 'TimeStd', 'TotalCharge', 'TrackLength', 'VertexX', 'VertexY', 'VertexZ']>"
      ]
     },
     "execution_count": 34,
     "metadata": {},
     "output_type": "execute_result"
    }
   ],
   "source": [
    "data_test.file.keys()"
   ]
  },
  {
   "cell_type": "code",
   "execution_count": 35,
   "metadata": {},
   "outputs": [],
   "source": [
    "zenith_true = np.array(data_test.file['PrimaryZenith'])\n",
    "zenith_reco = np.array(data_test.file['RecoZenith'])"
   ]
  },
  {
   "cell_type": "code",
   "execution_count": 36,
   "metadata": {},
   "outputs": [
    {
     "data": {
      "image/png": "[encoded data removed]",
      "text/plain": [
       "<Figure size 1152x576 with 2 Axes>"
      ]
     },
     "metadata": {
      "needs_background": "light"
     },
     "output_type": "display_data"
    }
   ],
   "source": [
    "fig = plt.figure(figsize=(16,8))\n",
    "# Correlation between log(energy) and trackness\n",
    "plt.subplot(1, 2, 1)\n",
    "\n",
    "y_bins = np.linspace(0, 1.0, 11)\n",
    "x_bins = np.linspace(np.log(2), np.log(500), 11) # 2 to 500 GeV bins\n",
    "\n",
    "counts, xedges, yedges = np.histogram2d(np.log(total_energy), logits_model, bins=(x_bins, y_bins))\n",
    "counts /= counts.sum(1).reshape((-1, 1)) + 1e-20\n",
    "plt.pcolor(xedges, yedges, counts.T)\n",
    "plt.xlabel('Total Energy (GeV)', fontsize=20)\n",
    "xticks, _ = plt.xticks()\n",
    "plt.xticks(xticks[1:-1], labels=[f'$10^{int(tick)}$' for tick in xticks], fontsize=16)\n",
    "#plt.xticks(xedges, fontsize=14)\n",
    "plt.ylabel('Trackness', fontsize=20)\n",
    "plt.yticks(fontsize=16)\n",
    "# Correlation between zenith and trackness\n",
    "plt.subplot(1, 2, 2)\n",
    "counts, xedges, yedges = np.histogram2d(zenith_true, logits_model, bins=10)\n",
    "counts /= counts.sum(1).reshape((-1, 1)) + 1e-20\n",
    "plt.pcolor(xedges, yedges, counts.T)\n",
    "plt.xlabel('Zenith', fontsize=20)\n",
    "xticks = np.linspace(0, 1, 6)\n",
    "plt.xticks(np.pi * xticks, labels=[f'${tick:.1f}\\\\pi$' for tick in xticks], fontsize=16)\n",
    "plt.ylabel('Trackness', fontsize=20)\n",
    "\n",
    "os.makedirs(os.path.join('.', 'plots', model_idx), exist_ok=True)\n",
    "plt.savefig(os.path.join('.', 'plots', model_idx, 'corplot.pdf'))\n",
    "\n"
   ]
  },
  {
   "cell_type": "code",
   "execution_count": null,
   "metadata": {},
   "outputs": [],
   "source": []
  },
  {
   "cell_type": "code",
   "execution_count": null,
   "metadata": {},
   "outputs": [],
   "source": []
  },
  {
   "cell_type": "code",
   "execution_count": null,
   "metadata": {},
   "outputs": [],
   "source": []
  }
 ],
 "metadata": {
  "kernelspec": {
   "display_name": "Python 3",
   "language": "python",
   "name": "python3"
  },
  "language_info": {
   "codemirror_mode": {
    "name": "ipython",
    "version": 3
   },
   "file_extension": ".py",
   "mimetype": "text/x-python",
   "name": "python",
   "nbconvert_exporter": "python",
   "pygments_lexer": "ipython3",
   "version": "3.6.8"
  }
 },
 "nbformat": 4,
 "nbformat_minor": 2
}
