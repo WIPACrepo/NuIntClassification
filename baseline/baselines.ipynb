{
 "cells": [
  {
   "cell_type": "code",
   "execution_count": 1,
   "metadata": {},
   "outputs": [],
   "source": [
    "import numpy as np\n",
    "import pandas as pd\n",
    "import matplotlib.pyplot as plt\n",
    "import h5py"
   ]
  },
  {
   "cell_type": "code",
   "execution_count": 2,
   "metadata": {},
   "outputs": [],
   "source": [
    "file = h5py.File('../../data/data_dragon.hd5')"
   ]
  },
  {
   "cell_type": "code",
   "execution_count": 3,
   "metadata": {},
   "outputs": [],
   "source": [
    "# Get ground truths from the table\n",
    "interaction_type = np.array(file['InteractionType']['value'], dtype=np.uint8)\n",
    "pdg_encoding = np.array(file['PDGEncoding']['value'], dtype=np.uint8)\n",
    "has_track = np.logical_and(pdg_encoding == 14, interaction_type == 1)\n",
    "targets = has_track.astype(np.uint8)"
   ]
  },
  {
   "cell_type": "code",
   "execution_count": 4,
   "metadata": {},
   "outputs": [],
   "source": [
    "# Get prediction\n",
    "predicted = (np.array(file['DeltaLLH']['value']) >= 2.0).astype(np.uint8)"
   ]
  },
  {
   "cell_type": "code",
   "execution_count": 5,
   "metadata": {},
   "outputs": [
    {
     "data": {
      "text/plain": [
       "(2202957,)"
      ]
     },
     "execution_count": 5,
     "metadata": {},
     "output_type": "execute_result"
    }
   ],
   "source": [
    "assert targets.shape == predicted.shape\n",
    "targets.shape"
   ]
  },
  {
   "cell_type": "code",
   "execution_count": 6,
   "metadata": {},
   "outputs": [],
   "source": [
    "total_charge = np.array(file['TotalCharge']['value'])\n",
    "total_charge_sorted = np.sort(total_charge)"
   ]
  },
  {
   "cell_type": "code",
   "execution_count": 7,
   "metadata": {},
   "outputs": [],
   "source": [
    "# Find different cutoff values to check performance at different maximal energies by selecting the quantiles of the data\n",
    "cutoffs = []\n",
    "quantiles = []\n",
    "for quantile in np.arange(0.00, 1.0, 0.01):\n",
    "    quantile = 1.0 - quantile\n",
    "    quantiles.append(quantile)\n",
    "    cutoffs.append(total_charge_sorted[int(total_charge.shape[0] * quantile) - 1])"
   ]
  },
  {
   "cell_type": "code",
   "execution_count": 8,
   "metadata": {},
   "outputs": [
    {
     "name": "stdout",
     "output_type": "stream",
     "text": [
      "Accuracy at cutoff 2020.9750251919031 (100.0% of the data, 42.185753058275765% track_events): 0.5891608415416189\n",
      "Accuracy at cutoff 188.14999978244305 (99.0% of the data, 42.149049463828916% track_events): 0.5888583157528886\n",
      "Accuracy at cutoff 144.27500046789646 (98.0% of the data, 42.10024841388913% track_events): 0.5884768935247953\n",
      "Accuracy at cutoff 121.87499941885471 (97.0% of the data, 42.03670980144773% track_events): 0.588066740669054\n",
      "Accuracy at cutoff 107.32499998807907 (96.0% of the data, 41.969975950876616% track_events): 0.587685676160538\n",
      "Accuracy at cutoff 96.59999978542328 (95.0% of the data, 41.900240299043055% track_events): 0.5872943971475658\n",
      "Accuracy at cutoff 88.32500031590462 (94.0% of the data, 41.824550084774856% track_events): 0.5868883159429374\n",
      "Accuracy at cutoff 81.65000051259995 (93.0% of the data, 41.75251165222128% track_events): 0.5864690242982188\n",
      "Accuracy at cutoff 76.09999930858612 (92.0% of the data, 41.68222546775085% track_events): 0.5860947738217416\n",
      "Accuracy at cutoff 71.27500015497208 (91.0% of the data, 41.6092846182855% track_events): 0.5857662922783151\n",
      "Accuracy at cutoff 67.09999992884696 (90.0% of the data, 41.53806424799802% track_events): 0.5853860039613429\n",
      "Accuracy at cutoff 63.47500003874302 (89.0% of the data, 41.46668013171263% track_events): 0.5850409459806838\n",
      "Accuracy at cutoff 60.30000011622906 (88.0% of the data, 41.39716001823993% track_events): 0.5847341695364293\n",
      "Accuracy at cutoff 57.475000232458115 (87.0% of the data, 41.331345756903474% track_events): 0.5844163433463496\n",
      "Accuracy at cutoff 54.9250003695488 (86.0% of the data, 41.260721543374416% track_events): 0.5840320920535219\n",
      "Accuracy at cutoff 52.62500013411045 (85.0% of the data, 41.18870012325662% track_events): 0.5836777896690869\n",
      "Accuracy at cutoff 50.500000432133675 (84.0% of the data, 41.1196428175779% track_events): 0.5833682341313052\n",
      "Accuracy at cutoff 48.5500001758337 (83.0% of the data, 41.056092650797915% track_events): 0.5830954733964211\n",
      "Accuracy at cutoff 46.7749999165535 (82.0% of the data, 40.99377334718018% track_events): 0.5827666533069682\n",
      "Accuracy at cutoff 45.12499997019768 (81.0% of the data, 40.92790802067473% track_events): 0.5824682904795503\n",
      "Accuracy at cutoff 43.57499995827675 (80.0% of the data, 40.86400453932903% track_events): 0.5822336335910349\n",
      "Accuracy at cutoff 42.14999997615814 (79.0% of the data, 40.80310605438123% track_events): 0.5819134503945487\n",
      "Accuracy at cutoff 40.82500000298023 (78.0% of the data, 40.7468944867501% track_events): 0.5816180386017697\n",
      "Accuracy at cutoff 39.57500021159649 (77.0% of the data, 40.68545408562399% track_events): 0.5813372462162725\n",
      "Accuracy at cutoff 38.42499999701977 (76.0% of the data, 40.62042145463429% track_events): 0.5810927765224886\n",
      "Accuracy at cutoff 37.324999794363976 (75.0% of the data, 40.552663481854985% track_events): 0.5808468258104111\n",
      "Accuracy at cutoff 36.275000005960464 (74.0% of the data, 40.49179030638441% track_events): 0.5806090882936952\n",
      "Accuracy at cutoff 35.299999833106995 (73.0% of the data, 40.433762539944695% track_events): 0.5804524546982547\n",
      "Accuracy at cutoff 34.35000029206276 (72.0% of the data, 40.38294465144723% track_events): 0.5802973274573963\n",
      "Accuracy at cutoff 33.47499991953373 (71.0% of the data, 40.32285597559751% track_events): 0.5800909530894065\n",
      "Accuracy at cutoff 32.624999940395355 (70.0% of the data, 40.26065991131493% track_events): 0.5799021585047786\n",
      "Accuracy at cutoff 31.824999943375587 (69.0% of the data, 40.203834863761415% track_events): 0.5797655872751889\n",
      "Accuracy at cutoff 31.05000001192093 (68.0% of the data, 40.14807526191204% track_events): 0.5795589116848752\n",
      "Accuracy at cutoff 30.30000026524067 (67.0% of the data, 40.09653195012425% track_events): 0.5794267975078388\n",
      "Accuracy at cutoff 29.600000143051147 (65.99999999999999% of the data, 40.045557898559395% track_events): 0.5793281035286738\n",
      "Accuracy at cutoff 28.925000220537186 (64.99999999999999% of the data, 39.99555843900082% track_events): 0.5791676821965335\n",
      "Accuracy at cutoff 28.30000001192093 (64.0% of the data, 39.944592718893155% track_events): 0.5791280800440876\n",
      "Accuracy at cutoff 27.67500013113022 (63.0% of the data, 39.89597248220696% track_events): 0.5790156653711861\n",
      "Accuracy at cutoff 27.099999859929085 (62.0% of the data, 39.8421186731057% track_events): 0.5788981986124249\n",
      "Accuracy at cutoff 26.524999871850014 (61.0% of the data, 39.80251701874965% track_events): 0.5787997130550999\n",
      "Accuracy at cutoff 25.97499988414347 (60.0% of the data, 39.751878914247065% track_events): 0.5786806216493894\n",
      "Accuracy at cutoff 25.450000032782555 (59.0% of the data, 39.70377448638318% track_events): 0.5786122440186713\n",
      "Accuracy at cutoff 24.950000032782555 (58.00000000000001% of the data, 39.65441946445817% track_events): 0.5784732972590539\n",
      "Accuracy at cutoff 24.474999740719795 (57.00000000000001% of the data, 39.62430187729605% track_events): 0.5783414523819194\n",
      "Accuracy at cutoff 23.975000351667404 (56.00000000000001% of the data, 39.582865549930894% track_events): 0.5781478614361389\n",
      "Accuracy at cutoff 23.52500006556511 (55.00000000000001% of the data, 39.53795848030728% track_events): 0.5781634542852568\n",
      "Accuracy at cutoff 23.09999978542328 (54.0% of the data, 39.48975517495009% track_events): 0.5782494483555742\n",
      "Accuracy at cutoff 22.67499989271164 (53.0% of the data, 39.445830970909206% track_events): 0.5782614728165634\n",
      "Accuracy at cutoff 22.250000059604645 (52.0% of the data, 39.398899233129505% track_events): 0.5781304421835514\n",
      "Accuracy at cutoff 21.850000083446503 (51.0% of the data, 39.360527058287396% track_events): 0.5782456727478574\n",
      "Accuracy at cutoff 21.474999845027924 (50.0% of the data, 39.32431156512487% track_events): 0.5782172051523218\n",
      "Accuracy at cutoff 21.0999998152256 (49.0% of the data, 39.270296409659714% track_events): 0.5782378466110581\n",
      "Accuracy at cutoff 20.724999994039536 (48.0% of the data, 39.23644702934014% track_events): 0.5781119228314064\n",
      "Accuracy at cutoff 20.374999940395355 (47.0% of the data, 39.2063392421689% track_events): 0.5780927225229489\n",
      "Accuracy at cutoff 20.02499996125698 (46.0% of the data, 39.15158201367289% track_events): 0.5782135639515606\n",
      "Accuracy at cutoff 19.67500013113022 (44.99999999999999% of the data, 39.10398983250874% track_events): 0.5782770742236949\n",
      "Accuracy at cutoff 19.35000005364418 (43.99999999999999% of the data, 39.07139253982156% track_events): 0.5782974188843052\n",
      "Accuracy at cutoff 19.02500009536743 (42.99999999999999% of the data, 39.03608912871603% track_events): 0.5782631321719873\n",
      "Accuracy at cutoff 18.72499993443489 (42.00000000000001% of the data, 38.996114794581246% track_events): 0.5782396074807766\n",
      "Accuracy at cutoff 18.424999833106995 (41.0% of the data, 38.94963858329523% track_events): 0.5783630463735994\n",
      "Accuracy at cutoff 18.124999850988388 (40.0% of the data, 38.914496976959526% track_events): 0.5783437278718885\n",
      "Accuracy at cutoff 17.825000017881393 (39.0% of the data, 38.87867283354321% track_events): 0.5783588256243497\n",
      "Accuracy at cutoff 17.549999872222543 (38.0% of the data, 38.834317059739135% track_events): 0.5785732801511845\n",
      "Accuracy at cutoff 17.250000208616257 (37.0% of the data, 38.78959856118991% track_events): 0.578549363405053\n",
      "Accuracy at cutoff 16.97500018775463 (36.0% of the data, 38.756030332604524% track_events): 0.5785223068717421\n",
      "Accuracy at cutoff 16.724999874830246 (35.0% of the data, 38.73168289738013% track_events): 0.5784125674874752\n",
      "Accuracy at cutoff 16.450000017881393 (34.0% of the data, 38.6934807538525% track_events): 0.578646007857859\n",
      "Accuracy at cutoff 16.19999995827675 (32.99999999999999% of the data, 38.6544370267066% track_events): 0.578858621951186\n",
      "Accuracy at cutoff 15.949999868869781 (31.999999999999996% of the data, 38.61241765910729% track_events): 0.5790983211252262\n",
      "Accuracy at cutoff 15.69999985396862 (30.999999999999993% of the data, 38.571215200698184% track_events): 0.5793040432498286\n",
      "Accuracy at cutoff 15.449999943375587 (29.999999999999993% of the data, 38.536344007275005% track_events): 0.5794054408202235\n",
      "Accuracy at cutoff 15.200000017881393 (29.000000000000004% of the data, 38.518273870923814% track_events): 0.5793073006262689\n",
      "Accuracy at cutoff 14.974999815225601 (28.000000000000004% of the data, 38.47286168212178% track_events): 0.579505220154335\n",
      "Accuracy at cutoff 14.725000083446503 (27.0% of the data, 38.446202749747435% track_events): 0.5796641737730105\n",
      "Accuracy at cutoff 14.500000014901161 (26.0% of the data, 38.42596391379114% track_events): 0.5797135100690474\n",
      "Accuracy at cutoff 14.274999991059303 (25.0% of the data, 38.4026552207479% track_events): 0.5797328801446717\n",
      "Accuracy at cutoff 14.049999982118607 (24.0% of the data, 38.35037937529787% track_events): 0.5800205762873418\n"
     ]
    },
    {
     "name": "stdout",
     "output_type": "stream",
     "text": [
      "Accuracy at cutoff 13.825000002980232 (23.0% of the data, 38.32710665869337% track_events): 0.5802846310670606\n",
      "Accuracy at cutoff 13.600000068545341 (21.999999999999996% of the data, 38.2952207831866% track_events): 0.5802983941352822\n",
      "Accuracy at cutoff 13.37500011920929 (20.999999999999996% of the data, 38.26109887449555% track_events): 0.5803491722451944\n",
      "Accuracy at cutoff 13.17499989271164 (19.999999999999996% of the data, 38.22345980759935% track_events): 0.5805765665175664\n",
      "Accuracy at cutoff 12.949999988079071 (18.999999999999993% of the data, 38.17376140652621% track_events): 0.5807582055324638\n",
      "Accuracy at cutoff 12.725000143051147 (17.999999999999993% of the data, 38.14027726646931% track_events): 0.5808399691365808\n",
      "Accuracy at cutoff 12.524999976158142 (16.999999999999993% of the data, 38.08700432006361% track_events): 0.5809911864298236\n",
      "Accuracy at cutoff 12.300000071525574 (16.000000000000004% of the data, 38.04814950344229% track_events): 0.5815753119619207\n",
      "Accuracy at cutoff 12.09999993443489 (15.000000000000002% of the data, 37.97169668624948% track_events): 0.5820935255716023\n",
      "Accuracy at cutoff 11.875000074505806 (14.000000000000002% of the data, 37.95174081927774% track_events): 0.5822876745196455\n",
      "Accuracy at cutoff 11.674999952316284 (13.0% of the data, 37.90447809109721% track_events): 0.5823158497136856\n",
      "Accuracy at cutoff 11.450000077486038 (12.0% of the data, 37.87239029110799% track_events): 0.5831496819018602\n",
      "Accuracy at cutoff 11.225000262260437 (10.999999999999998% of the data, 37.79680600833574% track_events): 0.5838691041142244\n",
      "Accuracy at cutoff 11.02499994635582 (9.999999999999998% of the data, 37.83013817944275% track_events): 0.5836108112031501\n",
      "Accuracy at cutoff 10.799999952316284 (8.999999999999996% of the data, 37.82508769807669% track_events): 0.583847425507036\n",
      "Accuracy at cutoff 10.550000250339508 (7.9999999999999964% of the data, 37.84555152065365% track_events): 0.5840217884702679\n",
      "Accuracy at cutoff 10.324999988079071 (6.999999999999995% of the data, 37.87447752972815% track_events): 0.5837928911641772\n",
      "Accuracy at cutoff 10.074999988079071 (5.999999999999995% of the data, 37.832768635043564% track_events): 0.5846064254598258\n",
      "Accuracy at cutoff 9.800000131130219 (4.999999999999993% of the data, 37.79140992948991% track_events): 0.5855876294272984\n",
      "Accuracy at cutoff 9.525000020861626 (4.0000000000000036% of the data, 37.749997163957296% track_events): 0.5859491100498009\n",
      "Accuracy at cutoff 9.200000047683716 (3.0000000000000027% of the data, 37.60081102755375% track_events): 0.588388385359137\n",
      "Accuracy at cutoff 8.825000017881393 (2.0000000000000018% of the data, 37.65660043950069% track_events): 0.5879794295552887\n",
      "Accuracy at cutoff 8.324999958276749 (1.0000000000000009% of the data, 37.663750509949686% track_events): 0.5884139431576084\n"
     ]
    }
   ],
   "source": [
    "accuracies = []\n",
    "for cutoff, quantile in zip(cutoffs, quantiles):\n",
    "    mask = total_charge <= cutoff\n",
    "    accuracy = (targets[mask] == predicted[mask]).sum() / mask.sum()\n",
    "    accuracies.append(accuracy)\n",
    "    labels, counts = np.unique(targets[mask], return_counts=True)\n",
    "    for label, count in zip(labels, counts):\n",
    "        if label == 1: \n",
    "            percentage = count / np.sum(counts)\n",
    "            break\n",
    "    print(f'Accuracy at cutoff {cutoff} ({quantile * 100}% of the data, {percentage * 100}% track_events): {accuracy}')\n",
    "    "
   ]
  },
  {
   "cell_type": "code",
   "execution_count": 9,
   "metadata": {},
   "outputs": [
    {
     "data": {
      "text/plain": [
       "Text(0, 0.5, 'Accuracy')"
      ]
     },
     "execution_count": 9,
     "metadata": {},
     "output_type": "execute_result"
    },
    {
     "data": {
      "image/png": "[encoded data removed]",
      "text/plain": [
       "<Figure size 432x288 with 1 Axes>"
      ]
     },
     "metadata": {
      "needs_background": "light"
     },
     "output_type": "display_data"
    }
   ],
   "source": [
    "plt.plot(cutoffs, accuracies)\n",
    "plt.xlabel('Integrated charge cutoff (pe)')\n",
    "plt.ylabel('Accuracy')"
   ]
  },
  {
   "cell_type": "code",
   "execution_count": null,
   "metadata": {},
   "outputs": [],
   "source": []
  }
 ],
 "metadata": {
  "kernelspec": {
   "display_name": "Python 3",
   "language": "python",
   "name": "python3"
  },
  "language_info": {
   "codemirror_mode": {
    "name": "ipython",
    "version": 3
   },
   "file_extension": ".py",
   "mimetype": "text/x-python",
   "name": "python",
   "nbconvert_exporter": "python",
   "pygments_lexer": "ipython3",
   "version": "3.6.7"
  }
 },
 "nbformat": 4,
 "nbformat_minor": 2
}
