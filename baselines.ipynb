{
 "cells": [
  {
   "cell_type": "code",
   "execution_count": 19,
   "metadata": {},
   "outputs": [],
   "source": [
    "import numpy as np\n",
    "import pandas as pd\n",
    "import matplotlib.pyplot as plt\n",
    "import h5py\n",
    "from model import GCNN\n",
    "from dataset import HD5Dataset"
   ]
  },
  {
   "cell_type": "code",
   "execution_count": 50,
   "metadata": {},
   "outputs": [
    {
     "name": "stdout",
     "output_type": "stream",
     "text": [
      "Created memory map arrays.\n"
     ]
    }
   ],
   "source": [
    "# Evaluate the model on the entire dataset\n",
    "data = HD5Dataset('../data/data_dragon.hd5', seed=1337, features=[\"FirstCharge\", \"CumulativeCharge\", \"Time\",\n",
    "            \"VertexX\", \"VertexY\", \"VertexZ\", \"RecoX\",\n",
    "\"RecoZ\", \"RecoAzimuth\", \"RecoZenith\"])"
   ]
  },
  {
   "cell_type": "code",
   "execution_count": 93,
   "metadata": {},
   "outputs": [
    {
     "data": {
      "text/plain": [
       "<tensorflow.python.training.checkpointable.util.CheckpointLoadStatus at 0x7fc91070ac50>"
      ]
     },
     "execution_count": 93,
     "metadata": {},
     "output_type": "execute_result"
    }
   ],
   "source": [
    "# Load the trained GCNN model\n",
    "model = GCNN(data.get_number_features(),\n",
    "            units_graph_convolutions = [64, 64, 64, 64, 64, 64, 64, 64],\n",
    "            units_fully_connected = [32, 16, 1],\n",
    "            use_batchnorm = False,\n",
    "            dropout_rate = 0.0)\n",
    "model.load_weights('training/baseline_gcnn/cp-0003.ckpt')"
   ]
  },
  {
   "cell_type": "code",
   "execution_count": 94,
   "metadata": {},
   "outputs": [],
   "source": [
    "test_idx = data._get_idx('train')"
   ]
  },
  {
   "cell_type": "code",
   "execution_count": null,
   "metadata": {},
   "outputs": [],
   "source": [
    "# Evaluate the model on all the data\n",
    "batch_size = 128\n",
    "y_model = model.predict_generator(data.get_batches(batch_size=batch_size, dataset='train'),\n",
    "                       steps=int(np.ceil(data.size(dataset='train') / batch_size)))"
   ]
  },
  {
   "cell_type": "code",
   "execution_count": null,
   "metadata": {},
   "outputs": [],
   "source": [
    "y_model = (y_model >= 0.5).astype(np.int)"
   ]
  },
  {
   "cell_type": "code",
   "execution_count": null,
   "metadata": {},
   "outputs": [],
   "source": [
    "y_model = y_model.squeeze()"
   ]
  },
  {
   "cell_type": "code",
   "execution_count": null,
   "metadata": {},
   "outputs": [],
   "source": [
    "# Get the pe counts (~charge) of the test data\n",
    "total_charge = data.file['TotalCharge']['value'][test_idx]"
   ]
  },
  {
   "cell_type": "code",
   "execution_count": null,
   "metadata": {},
   "outputs": [],
   "source": [
    "y_gnd = data.targets[test_idx]\n",
    "y_baseline = (data.delta_loglikelihood[test_idx] >= 2.0).astype(np.uint8)"
   ]
  },
  {
   "cell_type": "code",
   "execution_count": null,
   "metadata": {},
   "outputs": [],
   "source": [
    "total_charge_sorted = np.sort(total_charge)"
   ]
  },
  {
   "cell_type": "code",
   "execution_count": null,
   "metadata": {},
   "outputs": [],
   "source": [
    "# Find different cutoff values to check performance at different maximal energies by selecting the quantiles of the data\n",
    "cutoffs = []\n",
    "quantiles = []\n",
    "for quantile in np.arange(0.00, 1.0, 0.01):\n",
    "    quantile = 1.0 - quantile\n",
    "    quantiles.append(quantile)\n",
    "    cutoffs.append(total_charge_sorted[int(total_charge.shape[0] * quantile) - 1])"
   ]
  },
  {
   "cell_type": "code",
   "execution_count": null,
   "metadata": {},
   "outputs": [],
   "source": [
    "y_model.shape, y_gnd.shape"
   ]
  },
  {
   "cell_type": "code",
   "execution_count": null,
   "metadata": {},
   "outputs": [],
   "source": [
    "y_model, y_gnd"
   ]
  },
  {
   "cell_type": "code",
   "execution_count": null,
   "metadata": {},
   "outputs": [],
   "source": [
    "accuracies = []\n",
    "for cutoff, quantile in zip(cutoffs, quantiles):\n",
    "    mask = total_charge <= cutoff\n",
    "    accuracy_baseline = (y_gnd[mask] == y_baseline[mask]).sum() / mask.sum()\n",
    "    accuracy_model = (y_model[mask] == y_gnd[mask]).sum() / mask.sum()\n",
    "    accuracies.append([accuracy_baseline, accuracy_model])\n",
    "accuracies = np.array(accuracies)"
   ]
  },
  {
   "cell_type": "code",
   "execution_count": null,
   "metadata": {},
   "outputs": [],
   "source": [
    "accuracies"
   ]
  },
  {
   "cell_type": "code",
   "execution_count": 127,
   "metadata": {},
   "outputs": [
    {
     "data": {
      "text/plain": [
       "Text(0, 0.5, 'Accuracy')"
      ]
     },
     "execution_count": 127,
     "metadata": {},
     "output_type": "execute_result"
    },
    {
     "data": {
      "image/png": "[encoded data removed]",
      "text/plain": [
       "<Figure size 432x288 with 1 Axes>"
      ]
     },
     "metadata": {
      "needs_background": "light"
     },
     "output_type": "display_data"
    }
   ],
   "source": [
    "plt.plot(cutoffs, accuracies[:, 0])\n",
    "plt.plot(cutoffs, accuracies[:, 1])\n",
    "\n",
    "plt.xlabel('Integrated charge cutoff (pe)')\n",
    "plt.ylabel('Accuracy')"
   ]
  },
  {
   "cell_type": "code",
   "execution_count": 131,
   "metadata": {},
   "outputs": [
    {
     "data": {
      "text/plain": [
       "array([0])"
      ]
     },
     "execution_count": 131,
     "metadata": {},
     "output_type": "execute_result"
    }
   ],
   "source": [
    "np.unique(y_model)"
   ]
  }
 ],
 "metadata": {
  "kernelspec": {
   "display_name": "Python 3",
   "language": "python",
   "name": "python3"
  },
  "language_info": {
   "codemirror_mode": {
    "name": "ipython",
    "version": 3
   },
   "file_extension": ".py",
   "mimetype": "text/x-python",
   "name": "python",
   "nbconvert_exporter": "python",
   "pygments_lexer": "ipython3",
   "version": "3.6.7"
  }
 },
 "nbformat": 4,
 "nbformat_minor": 2
}
