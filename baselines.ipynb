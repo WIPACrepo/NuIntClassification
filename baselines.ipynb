{
 "cells": [
  {
   "cell_type": "code",
   "execution_count": 1,
   "metadata": {},
   "outputs": [],
   "source": [
    "import numpy as np\n",
    "import pandas as pd\n",
    "import matplotlib.pyplot as plt\n",
    "import h5py\n",
    "from model import *\n",
    "from dataset import *\n",
    "import util\n",
    "import json\n",
    "from collections import defaultdict"
   ]
  },
  {
   "cell_type": "markdown",
   "metadata": {},
   "source": [
    "# Load model and data"
   ]
  },
  {
   "cell_type": "code",
   "execution_count": 2,
   "metadata": {},
   "outputs": [],
   "source": [
    "#model_idx = 'hd5-860835'\n",
    "model_idx = 'hd5-6181356400'"
   ]
  },
  {
   "cell_type": "code",
   "execution_count": 3,
   "metadata": {},
   "outputs": [
    {
     "name": "stderr",
     "output_type": "stream",
     "text": [
      "/media/dominik/d/uni/uare/icecube/NuIntClassification/dataset/hd5.py:316: RuntimeWarning: invalid value encountered in less\n",
      "  idx_removed = np.where(np.logical_and((track_length < min_track_length), has_track_length))[0]\n",
      "/media/dominik/d/uni/uare/icecube/NuIntClassification/dataset/hd5.py:322: RuntimeWarning: invalid value encountered in greater\n",
      "  idx_removed = np.where(np.logical_and((cascade_energy > max_cascade_energy), has_track_length))\n"
     ]
    },
    {
     "name": "stdout",
     "output_type": "stream",
     "text": [
      "After Track Length filter 1333960 / 2202957 events remain.\n",
      "After Cascade Energy filter 1167113 / 2202957 events remain.\n",
      "Reduced dataset to 326328 samples per class (652656 / 2202957)\n",
      "Created sha1 hash for features and data file c7186ad6f4095a7ceb2168696ef104bbe0381efa\n",
      "Loaded feature memmap ./memmaps/hd5_features_c7186ad6f4095a7ceb2168696ef104bbe0381efa.\n",
      "Created distances memmap ./memmaps/hd5_distances_c7186ad6f4095a7ceb2168696ef104bbe0381efa.\n"
     ]
    }
   ],
   "source": [
    "with open(f'training/{model_idx}/config.json') as f:\n",
    "    config = json.load(f)\n",
    "data = util.dataset_from_config(config)\n",
    "model = util.model_from_config(config)"
   ]
  },
  {
   "cell_type": "code",
   "execution_count": 4,
   "metadata": {},
   "outputs": [
    {
     "name": "stdout",
     "output_type": "stream",
     "text": [
      "{'dataset': {'type': 'hd5', 'path': '../data/data_dragon4.hd5', 'validation_portion': 0.1, 'test_portion': 0.1, 'shuffle': True, 'features': ['ChargeFirstPulse', 'TimeFirstPulse', 'ChargeLastPulse', 'TimeLastPulse', 'TimeVariance', 'IntegratedCharge', 'TimeMaxPulse', 'ChargeMaxPulse', 'VertexX', 'VertexY', 'VertexZ'], 'max_charge': None, 'distances_precomputed': True, 'balance_classes': True, 'min_track_length': 75, 'max_cascade_energy': 10, 'seed': None}, 'model': {'type': 'gcnn', 'hidden_units_graph_convolutions': [64, 64, 64, 64, 64, 64], 'hidden_units_lstm': [32, 16], 'hidden_units_fully_connected': [1], 'use_batchnorm': True, 'dropout_rate': 0.3}, 'training': {'loss': 'binary_crossentropy', 'metrics': ['accuracy'], 'learning_rate': 0.0005, 'learning_rate_decay': None, 'batch_size': 64, 'epochs': 100, 'directory': './training/hd5-{0}', 'checkpoint_period': 5, 'use_class_weights': True, 'logfile': None}}\n"
     ]
    }
   ],
   "source": [
    "print(config)"
   ]
  },
  {
   "cell_type": "code",
   "execution_count": 5,
   "metadata": {},
   "outputs": [
    {
     "name": "stdout",
     "output_type": "stream",
     "text": [
      "WARNING:tensorflow:From /home/dominik/.local/lib/python3.6/site-packages/tensorflow/python/ops/resource_variable_ops.py:642: colocate_with (from tensorflow.python.framework.ops) is deprecated and will be removed in a future version.\n",
      "Instructions for updating:\n",
      "Colocations handled automatically by placer.\n",
      "WARNING:tensorflow:From /home/dominik/.local/lib/python3.6/site-packages/tensorflow/python/keras/layers/core.py:143: calling dropout (from tensorflow.python.ops.nn_ops) with keep_prob is deprecated and will be removed in a future version.\n",
      "Instructions for updating:\n",
      "Please use `rate` instead of `keep_prob`. Rate should be set to `rate = 1 - keep_prob`.\n",
      "1020/1020 [==============================] - 11s 11ms/step\n"
     ]
    }
   ],
   "source": [
    "# Predict on one batch such that the model gets built and then load weights\n",
    "batch_size = config['training']['batch_size']\n",
    "for X, y in data.get_batches(batch_size=batch_size, dataset='test'):\n",
    "    break\n",
    "model.predict_on_batch(X)\n",
    "model.load_weights(f'training/{model_idx}/model_weights.h5')\n",
    "logits_model = model.predict_generator(data.get_batches(batch_size=batch_size, dataset='test'),\n",
    "                       steps=int(np.ceil(data.size(dataset='test') / batch_size)), verbose=1)"
   ]
  },
  {
   "cell_type": "code",
   "execution_count": 6,
   "metadata": {},
   "outputs": [
    {
     "data": {
      "text/plain": [
       "(array([23138.,  1143.,  1121.,  1056.,  1438.,  3105.,  3943.,  5666.,\n",
       "        11455., 13200.]),\n",
       " array([0.        , 0.09947237, 0.19894475, 0.29841712, 0.3978895 ,\n",
       "        0.49736187, 0.59683424, 0.6963066 , 0.795779  , 0.8952514 ,\n",
       "        0.99472374], dtype=float32),\n",
       " <a list of 10 Patch objects>)"
      ]
     },
     "execution_count": 6,
     "metadata": {},
     "output_type": "execute_result"
    },
    {
     "data": {
      "image/png": "[encoded data removed]",
      "text/plain": [
       "<Figure size 432x288 with 1 Axes>"
      ]
     },
     "metadata": {
      "needs_background": "light"
     },
     "output_type": "display_data"
    }
   ],
   "source": [
    "y_model = (logits_model >= .5).astype(np.int).flatten()\n",
    "plt.hist(logits_model)"
   ]
  },
  {
   "cell_type": "code",
   "execution_count": 33,
   "metadata": {},
   "outputs": [
    {
     "data": {
      "text/plain": [
       "(0.8023749329656018, 0.7709338849306673)"
      ]
     },
     "execution_count": 33,
     "metadata": {},
     "output_type": "execute_result"
    }
   ],
   "source": [
    "y_baseline = (data.delta_loglikelihood >= 2.0).astype(np.uint8)[data._get_idx('test')]\n",
    "acc_model = (y_model == data.targets[data._get_idx('test')]).sum() / y_model.shape[0]\n",
    "acc_baseline = (y_baseline == data.targets[data._get_idx('test')]).sum() / y_model.shape[0]\n",
    "acc_model, acc_baseline"
   ]
  },
  {
   "cell_type": "markdown",
   "metadata": {},
   "source": [
    "# Check integrity of tracks in data"
   ]
  },
  {
   "cell_type": "code",
   "execution_count": 48,
   "metadata": {},
   "outputs": [
    {
     "data": {
      "text/plain": [
       "(array([432838.,      0.,      0.,      0.,      0.,      0.,      0.,\n",
       "             0.,      0., 929334.]),\n",
       " array([-14. , -11.2,  -8.4,  -5.6,  -2.8,   0. ,   2.8,   5.6,   8.4,\n",
       "         11.2,  14. ]),\n",
       " <a list of 10 Patch objects>)"
      ]
     },
     "execution_count": 48,
     "metadata": {},
     "output_type": "execute_result"
    },
    {
     "data": {
      "image/png": "[encoded data removed]",
      "text/plain": [
       "<Figure size 432x288 with 1 Axes>"
      ]
     },
     "metadata": {
      "needs_background": "light"
     },
     "output_type": "display_data"
    }
   ],
   "source": [
    "track_idx = data.targets > 0\n",
    "plt.hist(data.file['PDGEncoding']['value'][track_idx])"
   ]
  },
  {
   "cell_type": "code",
   "execution_count": 47,
   "metadata": {},
   "outputs": [
    {
     "data": {
      "text/plain": [
       "(array([      0.,       0.,       0.,       0.,       0., 1362172.,\n",
       "              0.,       0.,       0.,       0.]),\n",
       " array([0.5, 0.6, 0.7, 0.8, 0.9, 1. , 1.1, 1.2, 1.3, 1.4, 1.5]),\n",
       " <a list of 10 Patch objects>)"
      ]
     },
     "execution_count": 47,
     "metadata": {},
     "output_type": "execute_result"
    },
    {
     "data": {
      "image/png": "[encoded data removed]",
      "text/plain": [
       "<Figure size 432x288 with 1 Axes>"
      ]
     },
     "metadata": {
      "needs_background": "light"
     },
     "output_type": "display_data"
    }
   ],
   "source": [
    "plt.hist(data.file['InteractionType']['value'][track_idx])"
   ]
  },
  {
   "cell_type": "code",
   "execution_count": 77,
   "metadata": {},
   "outputs": [
    {
     "data": {
      "text/plain": [
       "(array([      0.,       0.,       0.,       0.,       0., 1362172.,\n",
       "              0.,       0.,       0.,       0.]),\n",
       " array([0.5, 0.6, 0.7, 0.8, 0.9, 1. , 1.1, 1.2, 1.3, 1.4, 1.5]),\n",
       " <a list of 10 Patch objects>)"
      ]
     },
     "execution_count": 77,
     "metadata": {},
     "output_type": "execute_result"
    },
    {
     "data": {
      "image/png": "[encoded data removed]",
      "text/plain": [
       "<Figure size 432x288 with 1 Axes>"
      ]
     },
     "metadata": {
      "needs_background": "light"
     },
     "output_type": "display_data"
    }
   ],
   "source": [
    "has_no_track_length = np.isnan(data.file['TrackLength']['value'])\n",
    "plt.hist(data.targets[~has_no_track_length])"
   ]
  },
  {
   "cell_type": "code",
   "execution_count": 78,
   "metadata": {},
   "outputs": [
    {
     "data": {
      "text/plain": [
       "(array([-14.,  14.]), array([432838, 929334]))"
      ]
     },
     "execution_count": 78,
     "metadata": {},
     "output_type": "execute_result"
    }
   ],
   "source": [
    "np.unique(data.file['PDGEncoding']['value'][~has_no_track_length], return_counts=True)"
   ]
  },
  {
   "cell_type": "code",
   "execution_count": 79,
   "metadata": {},
   "outputs": [
    {
     "data": {
      "text/plain": [
       "False"
      ]
     },
     "execution_count": 79,
     "metadata": {},
     "output_type": "execute_result"
    },
    {
     "data": {
      "image/png": "[encoded data removed]",
      "text/plain": [
       "<Figure size 432x288 with 1 Axes>"
      ]
     },
     "metadata": {
      "needs_background": "light"
     },
     "output_type": "display_data"
    }
   ],
   "source": [
    "mask = (~np.isnan(data.file['TrackLength']['value'])).copy()\n",
    "mask[data.targets > 0] = False\n",
    "\n",
    "track_lengths = data.file['TrackLength']['value'][mask]\n",
    "plt.hist(track_lengths, bins=200)\n",
    "\n",
    "mask.any()"
   ]
  },
  {
   "cell_type": "markdown",
   "metadata": {},
   "source": [
    "## Predict model on all data that was discarded during filtering"
   ]
  },
  {
   "cell_type": "code",
   "execution_count": 7,
   "metadata": {},
   "outputs": [
    {
     "name": "stdout",
     "output_type": "stream",
     "text": [
      "Large test data consists of (1615566,) samples\n"
     ]
    }
   ],
   "source": [
    "large_data_mask = np.ones(data.targets.shape).astype(np.bool)\n",
    "large_data_mask[data._get_idx('train')] = False\n",
    "large_data_mask[data._get_idx('val')] = False\n",
    "large_data_idx = np.where(large_data_mask)[0]\n",
    "print(f'Large test data consists of {large_data_idx.shape} samples')"
   ]
  },
  {
   "cell_type": "code",
   "execution_count": 8,
   "metadata": {},
   "outputs": [],
   "source": [
    "charge = np.array(data.file['TotalCharge']['value'])\n",
    "pdg_encodings = np.array(data.file['PDGEncoding']['value'])\n",
    "interaction_type = np.array(data.file['InteractionType']['value'])\n",
    "y_baseline = (data.delta_loglikelihood >= 2.0).astype(np.uint8)"
   ]
  },
  {
   "cell_type": "code",
   "execution_count": 9,
   "metadata": {},
   "outputs": [],
   "source": [
    "test_idx = data._get_idx('test')"
   ]
  },
  {
   "cell_type": "code",
   "execution_count": 10,
   "metadata": {},
   "outputs": [],
   "source": [
    "def binned_ppr(y_pred, y_gnd, charge, bins=50):\n",
    "    \"\"\" Calculates the ppr binned in charges. \n",
    "    \n",
    "    Parameters:\n",
    "    -----------\n",
    "    y_pred : ndarray, shape [N]\n",
    "        Predictions.\n",
    "    y_gnd : ndarray, shape [N]\n",
    "        Ground truths.\n",
    "    charge : ndarray, shape [N]\n",
    "        Charge values (to be binned.)\n",
    "    bins : int, optional\n",
    "        The number of bins.\n",
    "    \n",
    "    Returns:\n",
    "    --------\n",
    "    ppr : ndarray, shape [bins + 1]\n",
    "        Positive predicted values for each bin.\n",
    "    sigma_ppr : ndarray, shape [bins + 1]\n",
    "        Uncertainty of predicted positive values for each bin.\n",
    "    bins : ndarray, shape [bins]\n",
    "        Bin edges.\n",
    "    \"\"\"\n",
    "    log_charge = np.log(charge)\n",
    "    # Bin all charges\n",
    "    bin_counts, bins = np.histogram(log_charge, bins=bins, range=(2.0, 5.2))\n",
    "    # Bin positive predictions\n",
    "    pos_bin_counts, _ = np.histogram(log_charge[y_pred > 0], bins=bins)\n",
    "    ppr = pos_bin_counts / bin_counts\n",
    "    \n",
    "    # Calculate uncertainty\n",
    "    sigma_bin_counts = np.sqrt(bin_counts)\n",
    "    sigma_pos_bin_counts = np.sqrt(pos_bin_counts)\n",
    "    \n",
    "    sigma_ppr = np.sqrt(\n",
    "        ppr**2 * ((sigma_bin_counts / bin_counts)**2 + (sigma_pos_bin_counts / pos_bin_counts)**2))\n",
    "    return ppr, sigma_ppr, bins"
   ]
  },
  {
   "cell_type": "code",
   "execution_count": 11,
   "metadata": {},
   "outputs": [],
   "source": [
    "def ppr_plot(y_pred, y_gnd, charges, pdg_encodings, interaction_types, title, plots):\n",
    "    \"\"\" Creates subplots for the ppr by neutrino flavour (and interaction type). \"\"\"\n",
    "    pgd_encodings = np.abs(pdg_encodings)\n",
    "    fig = plt.figure(figsize=(20, 15))\n",
    "    plt.xscale('log')\n",
    "    \n",
    "    for plot_label in plots:\n",
    "        color, pdg_encoding, interaction_type = plots[plot_label]\n",
    "        if interaction_type is None:\n",
    "            mask = pdg_encodings == pdg_encoding\n",
    "        else:\n",
    "            mask = np.logical_and((pdg_encodings == pdg_encoding), (interaction_types == interaction_type))\n",
    "                           \n",
    "        ppr, sigma, bin_edges = binned_ppr(y_pred[mask], y_gnd[mask], charges[mask])\n",
    "        bin_centers = 0.5 * (bin_edges[1:] + bin_edges[:-1])\n",
    "        plt.fill_between(\n",
    "            bin_centers,\n",
    "            ppr - sigma,\n",
    "            ppr + sigma,\n",
    "            color=color,\n",
    "            alpha=.1,\n",
    "            step='pre',\n",
    "        )\n",
    "        plt.errorbar(\n",
    "            bin_centers,\n",
    "            ppr,\n",
    "            color=color,\n",
    "            label=plot_label,\n",
    "            linestyle='steps',\n",
    "        )\n",
    "    plt.xlabel('log(Integrated Charge) (pe)')\n",
    "    plt.legend(loc='left', bbox_to_anchor=(1.0, 1.05))\n",
    "    plt.title(title)"
   ]
  },
  {
   "cell_type": "code",
   "execution_count": 12,
   "metadata": {},
   "outputs": [],
   "source": [
    "plots = {\n",
    "    #'nue NC' : ('blue', 12, 2),\n",
    "    #'nue CC' : ('black', 12, 1),\n",
    "    'numu CC' : ('green', 14, 1),\n",
    "    'numu NC' : ('red', 14, 2),\n",
    "    'nue' : ('blue', 12, None),\n",
    "    'nutau' : ('purple', 16, None),\n",
    "    #'nutau NC' : ('green', 16, 2),\n",
    "    #'nutau CC' : ('brown', 16, 1)\n",
    "\n",
    "}"
   ]
  },
  {
   "cell_type": "code",
   "execution_count": 13,
   "metadata": {},
   "outputs": [
    {
     "name": "stderr",
     "output_type": "stream",
     "text": [
      "/home/dominik/.local/lib/python3.6/site-packages/ipykernel_launcher.py:36: RuntimeWarning: invalid value encountered in true_divide\n",
      "/usr/local/lib/python3.6/dist-packages/matplotlib-3.0.3-py3.6-linux-x86_64.egg/matplotlib/legend.py:497: UserWarning: Unrecognized location \"left\". Falling back on \"best\"; valid locations are\n",
      "\tbest\n",
      "\tupper right\n",
      "\tupper left\n",
      "\tlower left\n",
      "\tlower right\n",
      "\tright\n",
      "\tcenter left\n",
      "\tcenter right\n",
      "\tlower center\n",
      "\tupper center\n",
      "\tcenter\n",
      "\n",
      "  % (loc, '\\n\\t'.join(self.codes)))\n"
     ]
    },
    {
     "data": {
      "image/png": "[encoded data removed]",
      "text/plain": [
       "<Figure size 1440x1080 with 1 Axes>"
      ]
     },
     "metadata": {
      "needs_background": "light"
     },
     "output_type": "display_data"
    }
   ],
   "source": [
    "ppr_plot(y_model, data.targets[test_idx], charge[test_idx], pdg_encodings[test_idx], interaction_type[test_idx],\n",
    "        'Positive Predicted Value (Model)', plots)"
   ]
  },
  {
   "cell_type": "code",
   "execution_count": 14,
   "metadata": {},
   "outputs": [
    {
     "data": {
      "image/png": "[encoded data removed]",
      "text/plain": [
       "<Figure size 1440x1080 with 1 Axes>"
      ]
     },
     "metadata": {
      "needs_background": "light"
     },
     "output_type": "display_data"
    }
   ],
   "source": [
    "ppr_plot(y_baseline[test_idx], data.targets[test_idx], charge[test_idx], pdg_encodings[test_idx], interaction_type[test_idx],\n",
    "        'Positive Predicted Value (Baseline)', plots)"
   ]
  },
  {
   "cell_type": "markdown",
   "metadata": {},
   "source": [
    "## Evaluate the model on the big dataset (that contains everything that was filtered)"
   ]
  },
  {
   "cell_type": "code",
   "execution_count": 15,
   "metadata": {},
   "outputs": [],
   "source": [
    "# Create a generator for the data\n",
    "def large_data_generator(batch_size):\n",
    "    # Loop over the dataset\n",
    "    while True:\n",
    "        for idx in range(0, large_data_idx.shape[0], batch_size):\n",
    "            batch_idxs = large_data_idx[idx : idx + batch_size]\n",
    "            features, coordinates, masks = data.get_padded_batch(batch_idxs)\n",
    "            targets = data.targets[batch_idxs]\n",
    "            yield [features, coordinates, masks], targets"
   ]
  },
  {
   "cell_type": "code",
   "execution_count": 16,
   "metadata": {},
   "outputs": [
    {
     "name": "stdout",
     "output_type": "stream",
     "text": [
      "25244/25244 [==============================] - 215s 9ms/step\n"
     ]
    }
   ],
   "source": [
    "logits_model_large_data = model.predict_generator(large_data_generator(batch_size),\n",
    "                       steps=int(np.ceil(large_data_idx.shape[0] / batch_size)), verbose=1)"
   ]
  },
  {
   "cell_type": "code",
   "execution_count": 17,
   "metadata": {},
   "outputs": [],
   "source": [
    "y_model_large_data = (logits_model_large_data >= 0.5).astype(np.int).flatten()"
   ]
  },
  {
   "cell_type": "code",
   "execution_count": 18,
   "metadata": {},
   "outputs": [
    {
     "data": {
      "image/png": "[encoded data removed]",
      "text/plain": [
       "<Figure size 1440x1080 with 1 Axes>"
      ]
     },
     "metadata": {
      "needs_background": "light"
     },
     "output_type": "display_data"
    }
   ],
   "source": [
    "ppr_plot(y_model_large_data, data.targets[large_data_idx], charge[large_data_idx], \n",
    "         pdg_encodings[large_data_idx], interaction_type[large_data_idx],\n",
    "        'Positive Predicted Value (Model, Large Data)', plots)"
   ]
  },
  {
   "cell_type": "code",
   "execution_count": 19,
   "metadata": {},
   "outputs": [
    {
     "data": {
      "image/png": "[encoded data removed]",
      "text/plain": [
       "<Figure size 1440x1080 with 1 Axes>"
      ]
     },
     "metadata": {
      "needs_background": "light"
     },
     "output_type": "display_data"
    }
   ],
   "source": [
    "ppr_plot(y_baseline[large_data_idx], data.targets[large_data_idx], charge[large_data_idx], \n",
    "         pdg_encodings[large_data_idx], interaction_type[large_data_idx],\n",
    "        'Positive Predicted Value (Baseline, Large Data)', plots)"
   ]
  },
  {
   "cell_type": "code",
   "execution_count": 20,
   "metadata": {},
   "outputs": [
    {
     "data": {
      "text/plain": [
       "(0.376427827770577, 0.5601696247630861)"
      ]
     },
     "execution_count": 20,
     "metadata": {},
     "output_type": "execute_result"
    }
   ],
   "source": [
    "acc_model_large_data = (y_model_large_data == data.targets[large_data_idx]).sum() / y_model_large_data.shape[0]\n",
    "acc_baseline_large_data = (y_baseline[large_data_idx] == data.targets[large_data_idx]).sum() / y_model_large_data.shape[0]\n",
    "acc_model_large_data, acc_baseline_large_data"
   ]
  },
  {
   "cell_type": "code",
   "execution_count": 21,
   "metadata": {},
   "outputs": [
    {
     "data": {
      "text/plain": [
       "<ErrorbarContainer object of 3 artists>"
      ]
     },
     "execution_count": 21,
     "metadata": {},
     "output_type": "execute_result"
    },
    {
     "data": {
      "image/png": "[encoded data removed]",
      "text/plain": [
       "<Figure size 432x288 with 1 Axes>"
      ]
     },
     "metadata": {
      "needs_background": "light"
     },
     "output_type": "display_data"
    }
   ],
   "source": [
    "is_numunc = (np.logical_and((np.abs(pdg_encodings) == 14), (interaction_type == 2)))[large_data_idx]\n",
    "model_preds_numunc = y_model_large_data[is_numunc]\n",
    "log_charges_numunc = np.log(charge[large_data_idx][is_numunc])\n",
    "\n",
    "# Bin the charges\n",
    "bin_counts, bins = np.histogram(log_charges_numunc, bins=50, range=(2.0, 5.2))\n",
    "bin_counts_positives, _ = np.histogram(log_charges_numunc[model_preds_numunc > 0], bins=bins)\n",
    "ppr = bin_counts_positives / bin_counts\n",
    "plt.errorbar(0.5 * (bins[1:] + bins[:-1]), ppr, drawstyle='steps')"
   ]
  },
  {
   "cell_type": "markdown",
   "metadata": {},
   "source": [
    "# Check NuMu NC predictions from the model"
   ]
  },
  {
   "cell_type": "code",
   "execution_count": 97,
   "metadata": {},
   "outputs": [],
   "source": [
    "pdg_encodings = data.file['PDGEncoding']['value'][test_idx]\n",
    "interaction_type = data.file['InteractionType']['value'][test_idx]\n",
    "# Find positive predictions of the model that are also NuMu NC\n",
    "model_positives = y_model.astype(np.bool)\n",
    "is_numu_nc = np.logical_and(interaction_type == 2, np.abs(pdg_encodings) == 14)\n",
    "numu_nc_positives = np.logical_and(model_positives, is_numu_nc)\n",
    "numu_nc_positives.sum() / is_numu_nc.sum()\n",
    "numu_nc_positive_idx = test_idx[numu_nc_positives]"
   ]
  },
  {
   "cell_type": "code",
   "execution_count": 98,
   "metadata": {},
   "outputs": [
    {
     "data": {
      "text/plain": [
       "array([nan, nan, nan, ..., nan, nan, nan])"
      ]
     },
     "execution_count": 98,
     "metadata": {},
     "output_type": "execute_result"
    }
   ],
   "source": [
    "data.file['TrackLength']['value'][numu_nc_positive_idx]"
   ]
  },
  {
   "cell_type": "code",
   "execution_count": 99,
   "metadata": {},
   "outputs": [
    {
     "data": {
      "text/plain": [
       "array([ 8.14986454,  7.02910905,  2.97221309, ..., 14.09752974,\n",
       "        9.7161752 ,  6.42506564])"
      ]
     },
     "execution_count": 99,
     "metadata": {},
     "output_type": "execute_result"
    }
   ],
   "source": [
    "data.file['CascadeEnergy']['value'][numu_nc_positive_idx]"
   ]
  },
  {
   "cell_type": "code",
   "execution_count": 103,
   "metadata": {},
   "outputs": [
    {
     "data": {
      "text/plain": [
       "array([ 6.09999999,  8.30000006, 12.40000015, ...,  6.42500007,\n",
       "        5.84999983, 12.59999999])"
      ]
     },
     "execution_count": 103,
     "metadata": {},
     "output_type": "execute_result"
    }
   ],
   "source": [
    "data.file['IC86_Dunkman_L6_SANTA_DirectCharge']['value'][numu_nc_positive_idx]"
   ]
  },
  {
   "cell_type": "code",
   "execution_count": 106,
   "metadata": {},
   "outputs": [
    {
     "data": {
      "text/plain": [
       "(array([ 14.,  14.,  14., ...,  14., -14.,  14.]), 0.0)"
      ]
     },
     "execution_count": 106,
     "metadata": {},
     "output_type": "execute_result"
    }
   ],
   "source": [
    "data.file['PDGEncoding']['value'][numu_nc_positive_idx], np.std(np.abs(data.file['PDGEncoding']['value'][numu_nc_positive_idx]))"
   ]
  },
  {
   "cell_type": "code",
   "execution_count": 107,
   "metadata": {},
   "outputs": [
    {
     "data": {
      "text/plain": [
       "(array([2., 2., 2., ..., 2., 2., 2.]), 0.0)"
      ]
     },
     "execution_count": 107,
     "metadata": {},
     "output_type": "execute_result"
    }
   ],
   "source": [
    "data.file['InteractionType']['value'][numu_nc_positive_idx], np.std(data.file['InteractionType']['value'][numu_nc_positive_idx])"
   ]
  },
  {
   "cell_type": "code",
   "execution_count": null,
   "metadata": {},
   "outputs": [],
   "source": [
    "y_model[]"
   ]
  },
  {
   "cell_type": "code",
   "execution_count": 102,
   "metadata": {},
   "outputs": [
    {
     "data": {
      "text/plain": [
       "<KeysViewHDF5 ['CascadeEnergy', 'ChargeFirstPulse', 'ChargeLastPulse', 'ChargeMaxPulse', 'DeltaLLH', 'Distances', 'DistancesOffset', 'IC86_Dunkman_L6_SANTA_DirectCharge', 'IntegratedCharge', 'InteractionType', 'MuonEnergy', 'NumberChannels', 'NumberVertices', 'Offset', 'PDGEncoding', 'RecoAzimuth', 'RecoX', 'RecoY', 'RecoZ', 'RecoZenith', 'TimeFirstPulse', 'TimeLastPulse', 'TimeMaxPulse', 'TimeVariance', 'TotalCharge', 'TrackLength', 'VertexDeltaLLH', 'VertexX', 'VertexY', 'VertexZ']>"
      ]
     },
     "execution_count": 102,
     "metadata": {},
     "output_type": "execute_result"
    }
   ],
   "source": [
    "data.file.keys()"
   ]
  },
  {
   "cell_type": "markdown",
   "metadata": {},
   "source": [
    "# Evaluate the model on the entire dataset\n",
    "data = HD5Dataset('../data/data_dragon.hd5', seed=42, features=[\"FirstCharge\", \"CumulativeCharge\", \"Time\",\n",
    "            \"VertexX\", \"VertexY\", \"VertexZ\", \"RecoX\",\n",
    "\"RecoZ\", \"RecoAzimuth\", \"RecoZenith\"])"
   ]
  },
  {
   "cell_type": "code",
   "execution_count": 22,
   "metadata": {},
   "outputs": [],
   "source": [
    "#run_idx = 'hd5-875239' Model without cutoff but class balancing\n",
    "run_idx = 'hd5-860835'"
   ]
  },
  {
   "cell_type": "code",
   "execution_count": 23,
   "metadata": {},
   "outputs": [
    {
     "name": "stdout",
     "output_type": "stream",
     "text": [
      "\u001b[0m\u001b[34;42mcheckpoint\u001b[0m/   \u001b[01;32mmodel_weights_0.h5\u001b[0m*  \u001b[01;32mmodel_weights_3.h5\u001b[0m*\r\n",
      "\u001b[01;32mconfig.json\u001b[0m*  \u001b[01;32mmodel_weights_1.h5\u001b[0m*  \u001b[01;32mmodel_weights_4.h5\u001b[0m*\r\n",
      "\u001b[01;32mhistory.pkl\u001b[0m*  \u001b[01;32mmodel_weights_2.h5\u001b[0m*  \u001b[01;32mmodel_weights.h5\u001b[0m*\r\n"
     ]
    }
   ],
   "source": [
    "%ls training/{run_idx}"
   ]
  },
  {
   "cell_type": "code",
   "execution_count": 24,
   "metadata": {},
   "outputs": [],
   "source": [
    "with open(f'training/{run_idx}/config.json') as f:\n",
    "    settings = json.load(f)"
   ]
  },
  {
   "cell_type": "code",
   "execution_count": 25,
   "metadata": {},
   "outputs": [
    {
     "name": "stdout",
     "output_type": "stream",
     "text": [
      "After Track Length filter 1333960 / 2202957 events remain.\n",
      "After Cascade Energy filter 1167113 / 2202957 events remain.\n",
      "Reduced dataset to 326328 samples per class (652656 / 2202957)\n",
      "Created sha1 hash for features and data file c7186ad6f4095a7ceb2168696ef104bbe0381efa\n",
      "Loaded feature memmap ./memmaps/hd5_features_c7186ad6f4095a7ceb2168696ef104bbe0381efa.\n",
      "Created distances memmap ./memmaps/hd5_distances_c7186ad6f4095a7ceb2168696ef104bbe0381efa.\n"
     ]
    }
   ],
   "source": [
    "data = util.dataset_from_config(settings)"
   ]
  },
  {
   "cell_type": "code",
   "execution_count": 26,
   "metadata": {},
   "outputs": [],
   "source": [
    "model = util.model_from_config(settings)"
   ]
  },
  {
   "cell_type": "code",
   "execution_count": 27,
   "metadata": {},
   "outputs": [
    {
     "ename": "ValueError",
     "evalue": "You are trying to load a weight file containing 8 layers into a model with 0 layers.",
     "output_type": "error",
     "traceback": [
      "\u001b[0;31m---------------------------------------------------------------------------\u001b[0m",
      "\u001b[0;31mValueError\u001b[0m                                Traceback (most recent call last)",
      "\u001b[0;32m<ipython-input-27-6ae3b7a6da17>\u001b[0m in \u001b[0;36m<module>\u001b[0;34m\u001b[0m\n\u001b[0;32m----> 1\u001b[0;31m \u001b[0mmodel\u001b[0m\u001b[0;34m.\u001b[0m\u001b[0mload_weights\u001b[0m\u001b[0;34m(\u001b[0m\u001b[0;34mf'training/{run_idx}/model_weights.h5'\u001b[0m\u001b[0;34m)\u001b[0m\u001b[0;34m\u001b[0m\u001b[0;34m\u001b[0m\u001b[0m\n\u001b[0m",
      "\u001b[0;32m~/.local/lib/python3.6/site-packages/tensorflow/python/keras/engine/network.py\u001b[0m in \u001b[0;36mload_weights\u001b[0;34m(self, filepath, by_name)\u001b[0m\n\u001b[1;32m   1514\u001b[0m         \u001b[0msaving\u001b[0m\u001b[0;34m.\u001b[0m\u001b[0mload_weights_from_hdf5_group_by_name\u001b[0m\u001b[0;34m(\u001b[0m\u001b[0mf\u001b[0m\u001b[0;34m,\u001b[0m \u001b[0mself\u001b[0m\u001b[0;34m.\u001b[0m\u001b[0mlayers\u001b[0m\u001b[0;34m)\u001b[0m\u001b[0;34m\u001b[0m\u001b[0;34m\u001b[0m\u001b[0m\n\u001b[1;32m   1515\u001b[0m       \u001b[0;32melse\u001b[0m\u001b[0;34m:\u001b[0m\u001b[0;34m\u001b[0m\u001b[0;34m\u001b[0m\u001b[0m\n\u001b[0;32m-> 1516\u001b[0;31m         \u001b[0msaving\u001b[0m\u001b[0;34m.\u001b[0m\u001b[0mload_weights_from_hdf5_group\u001b[0m\u001b[0;34m(\u001b[0m\u001b[0mf\u001b[0m\u001b[0;34m,\u001b[0m \u001b[0mself\u001b[0m\u001b[0;34m.\u001b[0m\u001b[0mlayers\u001b[0m\u001b[0;34m)\u001b[0m\u001b[0;34m\u001b[0m\u001b[0;34m\u001b[0m\u001b[0m\n\u001b[0m\u001b[1;32m   1517\u001b[0m \u001b[0;34m\u001b[0m\u001b[0m\n\u001b[1;32m   1518\u001b[0m   \u001b[0;32mdef\u001b[0m \u001b[0m_updated_config\u001b[0m\u001b[0;34m(\u001b[0m\u001b[0mself\u001b[0m\u001b[0;34m)\u001b[0m\u001b[0;34m:\u001b[0m\u001b[0;34m\u001b[0m\u001b[0;34m\u001b[0m\u001b[0m\n",
      "\u001b[0;32m~/.local/lib/python3.6/site-packages/tensorflow/python/keras/engine/saving.py\u001b[0m in \u001b[0;36mload_weights_from_hdf5_group\u001b[0;34m(f, layers)\u001b[0m\n\u001b[1;32m    796\u001b[0m                      \u001b[0;34m'containing '\u001b[0m \u001b[0;34m+\u001b[0m \u001b[0mstr\u001b[0m\u001b[0;34m(\u001b[0m\u001b[0mlen\u001b[0m\u001b[0;34m(\u001b[0m\u001b[0mlayer_names\u001b[0m\u001b[0;34m)\u001b[0m\u001b[0;34m)\u001b[0m \u001b[0;34m+\u001b[0m\u001b[0;34m\u001b[0m\u001b[0;34m\u001b[0m\u001b[0m\n\u001b[1;32m    797\u001b[0m                      \u001b[0;34m' layers into a model with '\u001b[0m \u001b[0;34m+\u001b[0m \u001b[0mstr\u001b[0m\u001b[0;34m(\u001b[0m\u001b[0mlen\u001b[0m\u001b[0;34m(\u001b[0m\u001b[0mfiltered_layers\u001b[0m\u001b[0;34m)\u001b[0m\u001b[0;34m)\u001b[0m \u001b[0;34m+\u001b[0m\u001b[0;34m\u001b[0m\u001b[0;34m\u001b[0m\u001b[0m\n\u001b[0;32m--> 798\u001b[0;31m                      ' layers.')\n\u001b[0m\u001b[1;32m    799\u001b[0m \u001b[0;34m\u001b[0m\u001b[0m\n\u001b[1;32m    800\u001b[0m   \u001b[0;31m# We batch weight value assignments in a single backend call\u001b[0m\u001b[0;34m\u001b[0m\u001b[0;34m\u001b[0m\u001b[0;34m\u001b[0m\u001b[0m\n",
      "\u001b[0;31mValueError\u001b[0m: You are trying to load a weight file containing 8 layers into a model with 0 layers."
     ]
    }
   ],
   "source": [
    "model.load_weights(f'training/{run_idx}/model_weights.h5')"
   ]
  },
  {
   "cell_type": "code",
   "execution_count": null,
   "metadata": {},
   "outputs": [],
   "source": [
    "model.weights"
   ]
  },
  {
   "cell_type": "code",
   "execution_count": null,
   "metadata": {},
   "outputs": [],
   "source": [
    "data.get_baseline_accuracy()"
   ]
  },
  {
   "cell_type": "code",
   "execution_count": null,
   "metadata": {},
   "outputs": [],
   "source": [
    "#test_idx = data._get_idx('test')\n",
    "# Also append all idx that were kept from the model\n",
    "#test_idx.shape"
   ]
  },
  {
   "cell_type": "code",
   "execution_count": null,
   "metadata": {},
   "outputs": [],
   "source": [
    "data2_config = settings\n",
    "settings['dataset']['max_charge'] = None\n",
    "settings['dataset']['balance_classes'] = None\n",
    "settings['dataset']['min_track_length'] = None\n",
    "settings['dataset']['max_cascade_energy'] = None\n",
    "data2 = util.dataset_from_config(data2_config)"
   ]
  },
  {
   "cell_type": "code",
   "execution_count": null,
   "metadata": {},
   "outputs": [],
   "source": [
    "test_idx = data2._get_idx('test')\n",
    "test_idx.shape"
   ]
  },
  {
   "cell_type": "code",
   "execution_count": null,
   "metadata": {},
   "outputs": [],
   "source": [
    "# Evaluate the model on all the data\n",
    "batch_size = 72\n",
    "logits_model = model.predict_generator(data2.get_batches(batch_size=batch_size, dataset='test'),\n",
    "                       steps=int(np.ceil(data2.size(dataset='test') / batch_size)), verbose=1)"
   ]
  },
  {
   "cell_type": "code",
   "execution_count": null,
   "metadata": {},
   "outputs": [],
   "source": [
    "logits_model"
   ]
  },
  {
   "cell_type": "code",
   "execution_count": null,
   "metadata": {},
   "outputs": [],
   "source": [
    "np.unique(logits_model).shape"
   ]
  },
  {
   "cell_type": "code",
   "execution_count": null,
   "metadata": {},
   "outputs": [],
   "source": [
    "y_model = (logits_model >= 0.5).astype(np.int)"
   ]
  },
  {
   "cell_type": "code",
   "execution_count": null,
   "metadata": {},
   "outputs": [],
   "source": [
    "np.unique(y_model)"
   ]
  },
  {
   "cell_type": "code",
   "execution_count": null,
   "metadata": {},
   "outputs": [],
   "source": [
    "y_model = y_model.squeeze()"
   ]
  },
  {
   "cell_type": "code",
   "execution_count": null,
   "metadata": {},
   "outputs": [],
   "source": [
    "# Get the pe counts (~charge) of the test data\n",
    "total_charge = data.file['TotalCharge']['value'][test_idx]"
   ]
  },
  {
   "cell_type": "code",
   "execution_count": null,
   "metadata": {},
   "outputs": [],
   "source": [
    "y_gnd = data.targets[test_idx]\n",
    "y_baseline = (data.delta_loglikelihood[test_idx] >= 2.0).astype(np.uint8)"
   ]
  },
  {
   "cell_type": "code",
   "execution_count": null,
   "metadata": {},
   "outputs": [],
   "source": [
    "y_model.shape, y_gnd.shape, y_baseline.shape"
   ]
  },
  {
   "cell_type": "code",
   "execution_count": null,
   "metadata": {},
   "outputs": [],
   "source": [
    "total_charge\n",
    "total_charge.max(), total_charge.min()"
   ]
  },
  {
   "cell_type": "code",
   "execution_count": null,
   "metadata": {},
   "outputs": [],
   "source": [
    "bins = np.logspace(0.8, 3.2)\n",
    "binned = np.digitize(total_charge, bins)\n",
    "#np.unique(binned)"
   ]
  },
  {
   "cell_type": "code",
   "execution_count": null,
   "metadata": {},
   "outputs": [],
   "source": [
    "def get_metrics(y_pred, y_gnd):\n",
    "    acc = (y_pred == y_gnd).sum() / len(y_pred)\n",
    "    tpr = (y_pred[y_gnd == 1] == 1).sum() / ((y_gnd == 1).sum() + 1e-20)\n",
    "    tnr = (y_pred[y_gnd == 0] == 0).sum() / ((y_gnd == 0).sum() + 1e-20)\n",
    "    ppr = (y_pred == 1).sum() / y_pred.shape[0]\n",
    "    return acc, tpr, tnr, ppr"
   ]
  },
  {
   "cell_type": "code",
   "execution_count": null,
   "metadata": {},
   "outputs": [],
   "source": [
    "pgd_encoding = np.array(data.file['PDGEncoding']['value'], dtype=np.uint8).astype(np.int8)\n",
    "pgd_encoding.shape"
   ]
  },
  {
   "cell_type": "code",
   "execution_count": null,
   "metadata": {},
   "outputs": [],
   "source": [
    "(np.abs(pgd_encoding) == 12).sum()"
   ]
  },
  {
   "cell_type": "code",
   "execution_count": 47,
   "metadata": {},
   "outputs": [
    {
     "data": {
      "text/plain": [
       "array([1, 1, 1, ..., 1, 1, 1], dtype=uint8)"
      ]
     },
     "execution_count": 47,
     "metadata": {},
     "output_type": "execute_result"
    }
   ],
   "source": [
    "interaction_types = np.array(data.file['InteractionType']['value'], dtype=np.uint8)\n",
    "interaction_types"
   ]
  },
  {
   "cell_type": "code",
   "execution_count": 48,
   "metadata": {},
   "outputs": [
    {
     "data": {
      "text/plain": [
       "(array([-16, -14, -12,  12,  14,  16], dtype=int8),\n",
       " array([  46767,  467199,  164192,  360730, 1036437,  127632]))"
      ]
     },
     "execution_count": 48,
     "metadata": {},
     "output_type": "execute_result"
    }
   ],
   "source": [
    "np.unique(pgd_encoding, return_counts=True)"
   ]
  },
  {
   "cell_type": "code",
   "execution_count": 49,
   "metadata": {},
   "outputs": [
    {
     "data": {
      "text/plain": [
       "0.618337988440083"
      ]
     },
     "execution_count": 49,
     "metadata": {},
     "output_type": "execute_result"
    }
   ],
   "source": [
    "np.logical_and((interaction_types == 1), (np.abs(pgd_encoding) == 14)).sum() / interaction_types.shape[0]"
   ]
  },
  {
   "cell_type": "code",
   "execution_count": 50,
   "metadata": {},
   "outputs": [
    {
     "data": {
      "text/plain": [
       "array([1, 2], dtype=uint8)"
      ]
     },
     "execution_count": 50,
     "metadata": {},
     "output_type": "execute_result"
    }
   ],
   "source": [
    "np.unique(interaction_types)"
   ]
  },
  {
   "cell_type": "code",
   "execution_count": 51,
   "metadata": {},
   "outputs": [
    {
     "data": {
      "text/plain": [
       "<KeysViewHDF5 ['CascadeEnergy', 'ChargeFirstPulse', 'ChargeLastPulse', 'ChargeMaxPulse', 'DeltaLLH', 'Distances', 'DistancesOffset', 'IC86_Dunkman_L6_SANTA_DirectCharge', 'IntegratedCharge', 'InteractionType', 'MuonEnergy', 'NumberChannels', 'NumberVertices', 'Offset', 'PDGEncoding', 'RecoAzimuth', 'RecoX', 'RecoY', 'RecoZ', 'RecoZenith', 'TimeFirstPulse', 'TimeLastPulse', 'TimeMaxPulse', 'TimeVariance', 'TotalCharge', 'TrackLength', 'VertexDeltaLLH', 'VertexX', 'VertexY', 'VertexZ']>"
      ]
     },
     "execution_count": 51,
     "metadata": {},
     "output_type": "execute_result"
    }
   ],
   "source": [
    "data.file.keys()"
   ]
  },
  {
   "cell_type": "code",
   "execution_count": 52,
   "metadata": {},
   "outputs": [],
   "source": [
    "y_gnd2 = np.logical_and((interaction_types == 1), (np.abs(pgd_encoding) == 14)).astype(np.int)"
   ]
  },
  {
   "cell_type": "code",
   "execution_count": 53,
   "metadata": {},
   "outputs": [
    {
     "name": "stderr",
     "output_type": "stream",
     "text": [
      "/home/dominik/.local/lib/python3.6/site-packages/ipykernel_launcher.py:2: RuntimeWarning: invalid value encountered in long_scalars\n",
      "  \n",
      "/home/dominik/.local/lib/python3.6/site-packages/ipykernel_launcher.py:5: RuntimeWarning: invalid value encountered in long_scalars\n",
      "  \"\"\"\n"
     ]
    }
   ],
   "source": [
    "metrics = defaultdict(lambda: defaultdict(list))\n",
    "for bin_idx, value in enumerate(bins):\n",
    "    for interaction_type, pgd_code in (('nue', 12), ('numu CC', 14), ('numu NC', 14), ('nutau', 16)):\n",
    "        # print((np.abs(pgd_encoding) == pgd_code).sum(), pgd_code)\n",
    "        bin_mask = binned == bin_idx\n",
    "        enc_mask = np.abs(pgd_encoding[test_idx] == pgd_code)\n",
    "        if 'numu' in interaction_type:\n",
    "            it = 1 if 'CC' in interaction_type else 2\n",
    "            it_mask = interaction_types[test_idx] == it\n",
    "            #print(it, it_mask.sum())\n",
    "            idxs = np.where(np.logical_and(bin_mask, np.logical_and(enc_mask, it_mask)))[0]\n",
    "        else:\n",
    "            idxs = np.where(np.logical_and(bin_mask, enc_mask))[0]\n",
    "        # print(idxs.shape)\n",
    "        for y, t in ((y_model, 'model'), (y_baseline, 'baseline')):\n",
    "            acc, tpr, tnr, ppr = get_metrics(y[idxs], y_gnd[idxs])\n",
    "            metrics[interaction_type][t].append({\n",
    "                'acc' : acc, 'tpr' : tpr, 'ppr' : ppr, 'bin_idx' : bin_idx, 'value' : value, 'num_samples' : idxs.shape[0]\n",
    "            })"
   ]
  },
  {
   "cell_type": "code",
   "execution_count": 54,
   "metadata": {},
   "outputs": [],
   "source": [
    "dfs = {\n",
    "    pgd_code : {\n",
    "            type_ : pd.DataFrame(data) for type_, data in metrics_code.items()\n",
    "        } for pgd_code, metrics_code in metrics.items()\n",
    "    }\n",
    "for pgd_code, metrics_code in dfs.items():\n",
    "    for type_, df in metrics_code.items():\n",
    "        df = df[df['num_samples'] > 100]\n",
    "        metrics_code[type_] = df"
   ]
  },
  {
   "cell_type": "code",
   "execution_count": 55,
   "metadata": {},
   "outputs": [
    {
     "data": {
      "text/plain": [
       "{'model':          acc  bin_idx  num_samples       ppr  tpr       value\n",
       " 3   0.940741        3          135  0.059259  0.0    8.849908\n",
       " 4   0.932432        4          296  0.067568  0.0    9.906457\n",
       " 5   0.939052        5          443  0.060948  0.0   11.089142\n",
       " 6   0.950577        6          607  0.049423  0.0   12.413023\n",
       " 7   0.931889        7          646  0.068111  0.0   13.894955\n",
       " 8   0.921316        8          699  0.078684  0.0   15.553808\n",
       " 9   0.930988        9          739  0.069012  0.0   17.410704\n",
       " 10  0.929577       10          710  0.070423  0.0   19.489286\n",
       " 11  0.931677       11          644  0.068323  0.0   21.816019\n",
       " 12  0.903226       12          620  0.096774  0.0   24.420531\n",
       " 13  0.907873       13          597  0.092127  0.0   27.335983\n",
       " 14  0.895745       14          470  0.104255  0.0   30.599497\n",
       " 15  0.883576       15          481  0.116424  0.0   34.252626\n",
       " 16  0.884444       16          450  0.115556  0.0   38.341886\n",
       " 17  0.899510       17          408  0.100490  0.0   42.919343\n",
       " 18  0.878873       18          355  0.121127  0.0   48.043280\n",
       " 19  0.877814       19          311  0.122186  0.0   53.778941\n",
       " 20  0.915825       20          297  0.084175  0.0   60.199355\n",
       " 21  0.889734       21          263  0.110266  0.0   67.386272\n",
       " 22  0.934066       22          273  0.065934  0.0   75.431201\n",
       " 23  0.881057       23          227  0.118943  0.0   84.436576\n",
       " 24  0.893401       24          197  0.106599  0.0   94.517060\n",
       " 25  0.922619       25          168  0.077381  0.0  105.801006\n",
       " 26  0.921986       26          141  0.078014  0.0  118.432088\n",
       " 27  0.912281       27          114  0.087719  0.0  132.571137,\n",
       " 'baseline':          acc  bin_idx  num_samples       ppr  tpr       value\n",
       " 3   0.844444        3          135  0.155556  0.0    8.849908\n",
       " 4   0.837838        4          296  0.162162  0.0    9.906457\n",
       " 5   0.785553        5          443  0.214447  0.0   11.089142\n",
       " 6   0.784185        6          607  0.215815  0.0   12.413023\n",
       " 7   0.764706        7          646  0.235294  0.0   13.894955\n",
       " 8   0.806867        8          699  0.193133  0.0   15.553808\n",
       " 9   0.755074        9          739  0.244926  0.0   17.410704\n",
       " 10  0.742254       10          710  0.257746  0.0   19.489286\n",
       " 11  0.765528       11          644  0.234472  0.0   21.816019\n",
       " 12  0.743548       12          620  0.256452  0.0   24.420531\n",
       " 13  0.740369       13          597  0.259631  0.0   27.335983\n",
       " 14  0.723404       14          470  0.276596  0.0   30.599497\n",
       " 15  0.686071       15          481  0.313929  0.0   34.252626\n",
       " 16  0.702222       16          450  0.297778  0.0   38.341886\n",
       " 17  0.698529       17          408  0.301471  0.0   42.919343\n",
       " 18  0.670423       18          355  0.329577  0.0   48.043280\n",
       " 19  0.591640       19          311  0.408360  0.0   53.778941\n",
       " 20  0.666667       20          297  0.333333  0.0   60.199355\n",
       " 21  0.612167       21          263  0.387833  0.0   67.386272\n",
       " 22  0.593407       22          273  0.406593  0.0   75.431201\n",
       " 23  0.577093       23          227  0.422907  0.0   84.436576\n",
       " 24  0.538071       24          197  0.461929  0.0   94.517060\n",
       " 25  0.613095       25          168  0.386905  0.0  105.801006\n",
       " 26  0.517730       26          141  0.482270  0.0  118.432088\n",
       " 27  0.622807       27          114  0.377193  0.0  132.571137}"
      ]
     },
     "execution_count": 55,
     "metadata": {},
     "output_type": "execute_result"
    }
   ],
   "source": [
    "dfs['numu NC']"
   ]
  },
  {
   "cell_type": "code",
   "execution_count": 56,
   "metadata": {},
   "outputs": [],
   "source": [
    "def plot_metric(metric, metric_name):\n",
    "    colors = ['blue', 'green', 'red', 'purple']\n",
    "    fig = plt.figure()\n",
    "    plt.xscale('log')\n",
    "    for (pgd_code, df), color in zip(dfs.items(), colors):\n",
    "        for t in df.keys():\n",
    "            if t == 'model':\n",
    "                plt.plot(df[t]['value'], df[t][metric], label=f'{pgd_code} (model)', color=color)\n",
    "            else:\n",
    "                plt.plot(df[t]['value'], df[t][metric], label=f'{pgd_code} (baseline)', linestyle='dashed', color=color)\n",
    "    plt.legend(loc='left', bbox_to_anchor=(1.0, 1.05))\n",
    "    plt.title(metric_name)\n",
    "    plt.ylim()\n",
    "    plt.xlabel('log(Integrated Charge) (pe)')\n"
   ]
  },
  {
   "cell_type": "code",
   "execution_count": 57,
   "metadata": {},
   "outputs": [
    {
     "name": "stderr",
     "output_type": "stream",
     "text": [
      "/usr/local/lib/python3.6/dist-packages/matplotlib-3.0.3-py3.6-linux-x86_64.egg/matplotlib/legend.py:497: UserWarning: Unrecognized location \"left\". Falling back on \"best\"; valid locations are\n",
      "\tbest\n",
      "\tupper right\n",
      "\tupper left\n",
      "\tlower left\n",
      "\tlower right\n",
      "\tright\n",
      "\tcenter left\n",
      "\tcenter right\n",
      "\tlower center\n",
      "\tupper center\n",
      "\tcenter\n",
      "\n",
      "  % (loc, '\\n\\t'.join(self.codes)))\n"
     ]
    },
    {
     "data": {
      "image/png": "[encoded data removed]",
      "text/plain": [
       "<Figure size 432x288 with 1 Axes>"
      ]
     },
     "metadata": {
      "needs_background": "light"
     },
     "output_type": "display_data"
    }
   ],
   "source": [
    "plot_metric('acc', 'Accuracy', )"
   ]
  },
  {
   "cell_type": "code",
   "execution_count": 58,
   "metadata": {},
   "outputs": [
    {
     "data": {
      "text/plain": [
       "0.4033091990285753"
      ]
     },
     "execution_count": 58,
     "metadata": {},
     "output_type": "execute_result"
    }
   ],
   "source": [
    "(y_model == y_gnd).sum() / y_gnd.shape[0]"
   ]
  },
  {
   "cell_type": "code",
   "execution_count": 59,
   "metadata": {},
   "outputs": [
    {
     "data": {
      "text/plain": [
       "0.6162010032002542"
      ]
     },
     "execution_count": 59,
     "metadata": {},
     "output_type": "execute_result"
    }
   ],
   "source": [
    "(y_baseline == y_gnd).sum() / y_gnd.shape[0]"
   ]
  },
  {
   "cell_type": "code",
   "execution_count": 60,
   "metadata": {},
   "outputs": [
    {
     "data": {
      "image/png": "[encoded data removed]",
      "text/plain": [
       "<Figure size 432x288 with 1 Axes>"
      ]
     },
     "metadata": {
      "needs_background": "light"
     },
     "output_type": "display_data"
    }
   ],
   "source": [
    "plot_metric('ppr', 'Predicted Positives')"
   ]
  },
  {
   "cell_type": "code",
   "execution_count": 49,
   "metadata": {},
   "outputs": [
    {
     "data": {
      "text/plain": [
       "(array([  15,  455, 1550, 3179, 4701, 5964, 6505, 6722, 6417, 5999, 5752,\n",
       "        5133, 4529, 3866, 3372, 2994, 2620, 2223, 1942, 1652, 1446, 1197,\n",
       "        1044,  886,  765,  623,  505,  424,  314,  306,  217,  183,  142,\n",
       "         111,   74,   66,   42,   31,   23,   12,    6,    9,    1,    4,\n",
       "           7,    1,    1]),\n",
       " array([  19,  538, 1836, 4093, 6086, 7511, 8517, 9375, 9176, 8999, 8646,\n",
       "        8259, 7636, 6971, 6541, 5913, 5341, 4603, 4262, 3880, 3202, 2777,\n",
       "        2462, 2078, 1739, 1382, 1066,  842,  691,  517,  356,  250,  191,\n",
       "         152,  119,   69,   58,   37,   23,   20,   13,   11,    4,    1,\n",
       "           1,    1,    1]))"
      ]
     },
     "execution_count": 49,
     "metadata": {},
     "output_type": "execute_result"
    }
   ],
   "source": [
    "bins_track, bin_counts_track = np.unique(binned[y_gnd > 0], return_counts=True)\n",
    "bins_non_track, bin_counts_non_track = np.unique(binned[y_gnd <= 0], return_counts=True)\n",
    "bin_counts_non_track, bin_counts_track\n"
   ]
  },
  {
   "cell_type": "code",
   "execution_count": 50,
   "metadata": {},
   "outputs": [
    {
     "data": {
      "text/plain": [
       "Text(0.5, 0, 'log(Integrated Charge) (pe)')"
      ]
     },
     "execution_count": 50,
     "metadata": {},
     "output_type": "execute_result"
    },
    {
     "data": {
      "image/png": "[encoded data removed]",
      "text/plain": [
       "<Figure size 432x288 with 1 Axes>"
      ]
     },
     "metadata": {
      "needs_background": "light"
     },
     "output_type": "display_data"
    }
   ],
   "source": [
    "fig = plt.figure()\n",
    "plt.xscale('log')\n",
    "plt.step(bins[bins_track], bin_counts_track, label='Track')\n",
    "plt.step(bins[bins_non_track], bin_counts_non_track, label='No Track')\n",
    "plt.legend()\n",
    "plt.xlim(right=2e2)\n",
    "plt.title('Event Counts')\n",
    "plt.xlabel('log(Integrated Charge) (pe)')"
   ]
  },
  {
   "cell_type": "code",
   "execution_count": 51,
   "metadata": {},
   "outputs": [
    {
     "data": {
      "text/plain": [
       "array([       nan, 0.45454545, 0.54371585, 0.51602564, 0.51567568,\n",
       "       0.49527959, 0.51566784, 0.51246347, 0.51382596, 0.50258565,\n",
       "       0.51834025, 0.52382573, 0.51396848, 0.51608527, 0.53446809,\n",
       "       0.53135536, 0.53290291, 0.53529572, 0.56768838, 0.58156271,\n",
       "       0.59902658, 0.59186472, 0.61957091, 0.62044232, 0.59596662,\n",
       "       0.59243697, 0.53202479, 0.49041096, 0.39739414, 0.36418511,\n",
       "       0.34816754, 0.27881041, 0.22395833, 0.21830986, 0.17322835,\n",
       "       0.14130435, 0.09259259, 0.29787234, 0.07407407, 0.125     ,\n",
       "       0.2       , 0.53846154, 0.375     , 0.        , 1.        ,\n",
       "              nan,        nan,        nan,        nan,        nan,\n",
       "              nan, 0.45454545, 0.54371585, 0.51602564, 0.51567568,\n",
       "       0.49527959, 0.51566784, 0.51246347, 0.51382596, 0.50258565,\n",
       "       0.51834025, 0.52382573, 0.51396848, 0.51608527, 0.53446809,\n",
       "       0.53135536, 0.53290291, 0.53529572, 0.56768838, 0.58156271,\n",
       "       0.59902658, 0.59186472, 0.61957091, 0.62044232, 0.59596662,\n",
       "       0.59243697, 0.53202479, 0.49041096, 0.39739414, 0.36418511,\n",
       "       0.34816754, 0.27881041, 0.22395833, 0.21830986, 0.17322835,\n",
       "       0.14130435, 0.09259259, 0.29787234, 0.07407407, 0.125     ,\n",
       "       0.2       , 0.53846154, 0.375     , 0.        , 1.        ,\n",
       "              nan,        nan,        nan,        nan,        nan])"
      ]
     },
     "execution_count": 51,
     "metadata": {},
     "output_type": "execute_result"
    }
   ],
   "source": [
    "np.hstack((\n",
    "    np.array(pd.DataFrame(metrics['numu CC']['model'])['acc']),\n",
    "    np.array(pd.DataFrame(metrics['numu CC']['model'])['acc'])\n",
    "    )\n",
    ")"
   ]
  },
  {
   "cell_type": "code",
   "execution_count": 52,
   "metadata": {},
   "outputs": [],
   "source": [
    "total_charge_sorted = np.sort(total_charge)"
   ]
  },
  {
   "cell_type": "code",
   "execution_count": 19,
   "metadata": {},
   "outputs": [],
   "source": [
    "# Find different cutoff values to check performance at different maximal energies by selecting the quantiles of the data\n",
    "cutoffs = []\n",
    "quantiles = []\n",
    "for quantile in np.arange(0.00, 1.0, 0.01):\n",
    "    quantile = 1.0 - quantile\n",
    "    quantiles.append(quantile)\n",
    "    cutoffs.append(total_charge_sorted[int(total_charge.shape[0] * quantile) - 1])"
   ]
  },
  {
   "cell_type": "code",
   "execution_count": 20,
   "metadata": {},
   "outputs": [
    {
     "data": {
      "text/plain": [
       "((220295,), (220295,))"
      ]
     },
     "execution_count": 20,
     "metadata": {},
     "output_type": "execute_result"
    }
   ],
   "source": [
    "y_model.shape, y_gnd.shape"
   ]
  },
  {
   "cell_type": "code",
   "execution_count": 22,
   "metadata": {},
   "outputs": [],
   "source": [
    "metrics = defaultdict(lambda: defaultdict(list))\n",
    "for cutoff, quantile in zip(cutoffs, quantiles):\n",
    "    mask = total_charge <= cutoff\n",
    "    acc_baseline, tpr_baseline, tnr_baseline, ppr_baseline = get_metrics(y_baseline[mask], y_gnd[mask])\n",
    "    metrics['baseline']['accuracy'].append(acc_baseline)\n",
    "    metrics['baseline']['tpr'].append(tpr_baseline)\n",
    "    metrics['baseline']['tnr'].append(tnr_baseline)\n",
    "    metrics['baseline']['ppr'].append(ppr_baseline)\n",
    "    acc_model, tpr_model, tnr_model, ppr_model = get_metrics(y_model[mask], y_gnd[mask])\n",
    "    metrics['model']['accuracy'].append(acc_model)\n",
    "    metrics['model']['tpr'].append(tpr_model)\n",
    "    metrics['model']['tnr'].append(tnr_model)\n",
    "    metrics['model']['ppr'].append(ppr_model)\n",
    "    metrics['gnd']['ppr'].append((y_gnd[mask] == 1).sum() / y_gnd[mask].shape[0])"
   ]
  },
  {
   "cell_type": "code",
   "execution_count": 23,
   "metadata": {},
   "outputs": [
    {
     "data": {
      "text/plain": [
       "Text(0.5, 0.04, 'Integrated Charge (pe)')"
      ]
     },
     "execution_count": 23,
     "metadata": {},
     "output_type": "execute_result"
    },
    {
     "data": {
      "image/png": "[encoded data removed]",
      "text/plain": [
       "<Figure size 1080x360 with 3 Axes>"
      ]
     },
     "metadata": {
      "needs_background": "light"
     },
     "output_type": "display_data"
    }
   ],
   "source": [
    "fig = plt.figure(figsize=(15, 5))\n",
    "ax1 = fig.add_subplot(131)\n",
    "ax1.plot(cutoffs, metrics['baseline']['accuracy'], label='Baseline')\n",
    "ax1.plot(cutoffs, metrics['model']['accuracy'], label='Model')\n",
    "ax1.set_title('Accuracy', fontsize=18)\n",
    "ax1.legend(fontsize=18)\n",
    "ax2 = fig.add_subplot(132)\n",
    "ax2.plot(cutoffs, metrics['baseline']['tpr'], label='Baseline')\n",
    "ax2.plot(cutoffs, metrics['model']['tpr'], label='Model')\n",
    "ax2.set_title('True Positive Rate', fontsize=18)\n",
    "ax2.legend(fontsize=18)\n",
    "ax3 = fig.add_subplot(133)\n",
    "ax3.plot(cutoffs, metrics['baseline']['tnr'], label='Baseline')\n",
    "ax3.plot(cutoffs, metrics['model']['tnr'], label='Model')\n",
    "ax3.set_title('True Negative Rate', fontsize=18)\n",
    "ax3.legend(fontsize=18)\n",
    "fig.text(0.5, 0.04, 'Integrated Charge (pe)', ha='center', va='center', fontsize=18)\n",
    "\n"
   ]
  },
  {
   "cell_type": "code",
   "execution_count": null,
   "metadata": {},
   "outputs": [],
   "source": []
  },
  {
   "cell_type": "code",
   "execution_count": 24,
   "metadata": {},
   "outputs": [
    {
     "data": {
      "text/plain": [
       "<matplotlib.legend.Legend at 0x7fe6e4cb3a20>"
      ]
     },
     "execution_count": 24,
     "metadata": {},
     "output_type": "execute_result"
    },
    {
     "data": {
      "image/png": "[encoded data removed]",
      "text/plain": [
       "<Figure size 432x288 with 1 Axes>"
      ]
     },
     "metadata": {
      "needs_background": "light"
     },
     "output_type": "display_data"
    }
   ],
   "source": [
    "fig = plt.figure()\n",
    "plt.plot(cutoffs, metrics['baseline']['ppr'], label='Baseline')\n",
    "plt.plot(cutoffs, metrics['model']['ppr'], label='Model')\n",
    "plt.plot(cutoffs, metrics['gnd']['ppr'], label='Truth')\n",
    "plt.legend()\n"
   ]
  },
  {
   "cell_type": "code",
   "execution_count": 31,
   "metadata": {},
   "outputs": [
    {
     "name": "stdout",
     "output_type": "stream",
     "text": [
      "_________________________________________________________________\n",
      "Layer (type)                 Output Shape              Param #   \n",
      "=================================================================\n",
      "adjacency_matrix_layer_1 (Ad multiple                  1         \n",
      "_________________________________________________________________\n",
      "gcnn_block_4 (GCNNBlock)     multiple                  1088      \n",
      "_________________________________________________________________\n",
      "gcnn_block_5 (GCNNBlock)     multiple                  16448     \n",
      "_________________________________________________________________\n",
      "gcnn_block_6 (GCNNBlock)     multiple                  16448     \n",
      "_________________________________________________________________\n",
      "gcnn_block_7 (GCNNBlock)     multiple                  16448     \n",
      "_________________________________________________________________\n",
      "dense_2 (Dense)              multiple                  2080      \n",
      "_________________________________________________________________\n",
      "batch_normalization_v1_1 (Ba multiple                  128       \n",
      "_________________________________________________________________\n",
      "re_lu_1 (ReLU)               multiple                  0         \n",
      "_________________________________________________________________\n",
      "dropout_1 (Dropout)          multiple                  0         \n",
      "_________________________________________________________________\n",
      "dense_3 (Dense)              multiple                  33        \n",
      "=================================================================\n",
      "Total params: 52,674\n",
      "Trainable params: 52,610\n",
      "Non-trainable params: 64\n",
      "_________________________________________________________________\n"
     ]
    }
   ],
   "source": [
    "model.summary()"
   ]
  },
  {
   "cell_type": "code",
   "execution_count": 32,
   "metadata": {},
   "outputs": [
    {
     "data": {
      "text/plain": [
       "[<tf.Variable 'adjacency_matrix_layer_1/sigma:0' shape=(1,) dtype=float32, numpy=array([-1.1994079], dtype=float32)>,\n",
       " <tf.Variable 'gcnn_block_4/dense/kernel:0' shape=(16, 64) dtype=float32, numpy=\n",
       " array([[-6.7605382e-01, -5.5014306e-01,  1.0545670e+00, ...,\n",
       "          5.9158012e-02,  4.1892594e-01,  1.1311057e+00],\n",
       "        [-1.1726910e-01, -3.6698148e-02, -2.5776282e-02, ...,\n",
       "         -1.6091052e-01, -3.3308864e-03,  1.9296408e-02],\n",
       "        [-4.5562524e-01, -7.2932534e-02,  3.4593046e-01, ...,\n",
       "         -2.7987896e-02,  1.9500892e-01,  7.2564250e-01],\n",
       "        ...,\n",
       "        [ 2.4853425e-02,  5.2007634e-02,  1.5153764e-04, ...,\n",
       "         -1.7101361e-01,  9.0077855e-03, -3.0158782e-01],\n",
       "        [ 1.8562905e-01, -2.1861477e-01, -2.6344028e-01, ...,\n",
       "         -1.6159213e-01,  5.9850786e-02, -1.6955628e-01],\n",
       "        [ 1.4021096e-01, -1.9073695e-01, -1.7653483e-01, ...,\n",
       "          9.7623197e-03, -1.5720429e-02, -1.2895808e-01]], dtype=float32)>,\n",
       " <tf.Variable 'gcnn_block_4/dense/bias:0' shape=(64,) dtype=float32, numpy=\n",
       " array([-0.3069938 ,  0.0624007 ,  0.69398   ,  0.6525065 ,  0.29171705,\n",
       "         0.98811215, -0.41300717, -0.48984492, -0.07880861,  0.02452249,\n",
       "         0.35919142,  0.26089796, -0.096711  , -0.48206446,  0.34416702,\n",
       "        -0.7964469 ,  0.64835846,  0.5966026 , -0.3626038 , -0.7104603 ,\n",
       "         0.7282719 , -0.6431601 ,  0.13027382, -0.87889796,  0.81249046,\n",
       "        -0.39490506,  0.4064488 ,  0.37407222,  0.00981946,  0.86674625,\n",
       "         0.79656076,  0.8064322 ,  0.91592324,  0.29409498, -0.07865976,\n",
       "        -0.01589836, -0.16478431,  0.08708093,  0.8054874 ,  0.5577407 ,\n",
       "        -0.10067268, -0.33921534,  0.73283815,  0.27109697, -0.83541334,\n",
       "        -0.6268804 , -0.58513594, -0.2266315 ,  0.27250856, -0.3784614 ,\n",
       "         0.65270716, -0.5001135 , -0.60789716,  0.5188713 ,  0.12683252,\n",
       "        -0.3821023 , -0.30208313, -0.21026321, -0.25819424,  0.13294078,\n",
       "         1.1780977 ,  0.02748845,  0.16321723,  0.88305664], dtype=float32)>,\n",
       " <tf.Variable 'gcnn_block_5/dense_1/kernel:0' shape=(256, 64) dtype=float32, numpy=\n",
       " array([[ 0.14330289, -0.12059993, -0.12005726, ...,  0.08474343,\n",
       "         -0.12943548, -0.09355707],\n",
       "        [ 0.11784714,  0.06425252, -0.14343964, ..., -0.02485649,\n",
       "         -0.04314864,  0.13742808],\n",
       "        [ 0.0868709 ,  0.19802451,  0.08969695, ..., -0.04779879,\n",
       "         -0.03558064, -0.07239988],\n",
       "        ...,\n",
       "        [-0.10580715,  0.07935583,  0.07933052, ...,  0.03176492,\n",
       "          0.24236882, -0.10040805],\n",
       "        [ 0.03169346, -0.01481703, -0.18317062, ..., -0.05915226,\n",
       "          0.02349429,  0.02185407],\n",
       "        [-0.04483846,  0.08509641,  0.17415132, ...,  0.00384865,\n",
       "         -0.03517282,  0.09106945]], dtype=float32)>,\n",
       " <tf.Variable 'gcnn_block_5/dense_1/bias:0' shape=(64,) dtype=float32, numpy=\n",
       " array([-2.4742424e-01,  5.8939135e-01,  2.9601252e-01,  6.9139200e-01,\n",
       "        -1.5417543e-01, -4.1035244e-01, -2.8629959e-01,  1.8609300e-01,\n",
       "        -3.8132420e-01,  6.1626416e-01, -7.9603225e-02, -2.3907989e-01,\n",
       "         5.8198482e-01, -2.6853782e-01, -2.0738950e-01, -7.8147441e-02,\n",
       "         4.9212563e-01, -2.5570363e-01,  8.3685823e-02, -2.4442749e-01,\n",
       "        -2.6681337e-01,  3.3886957e-01, -5.6005161e-02,  1.5157345e-01,\n",
       "        -3.5367870e-01, -1.6618748e-01, -5.6695685e-02,  1.6568339e-01,\n",
       "        -1.6176121e-01, -4.4167306e-02,  3.9754313e-01,  5.9029728e-01,\n",
       "         1.6782886e-01, -4.4266334e-01,  4.7676954e-01,  5.5651397e-01,\n",
       "        -8.3522648e-02, -4.5893356e-01,  7.4071564e-02,  6.9566560e-01,\n",
       "        -2.4494123e-01, -2.4489164e-01,  7.1892518e-01, -2.2476885e-01,\n",
       "         4.1438431e-02, -2.5427528e-04, -3.4451544e-01,  3.0160165e-01,\n",
       "        -1.3281006e-01,  3.1508520e-01,  1.3543138e-01,  3.9115602e-01,\n",
       "         5.4075706e-01,  6.0587689e-02, -1.1974260e-01, -2.0385189e-01,\n",
       "         7.1999419e-01,  7.7174550e-01,  5.8286077e-01, -3.5850680e-01,\n",
       "         3.5421813e-01,  2.1785796e-02, -7.7037653e-03,  7.3147386e-02],\n",
       "       dtype=float32)>,\n",
       " <tf.Variable 'gcnn_block_6/dense_2/kernel:0' shape=(256, 64) dtype=float32, numpy=\n",
       " array([[ 0.02427884,  0.06220385, -0.1048332 , ...,  0.07933848,\n",
       "          0.04279333, -0.13811654],\n",
       "        [-0.01215193,  0.0465738 , -0.12358401, ..., -0.05428782,\n",
       "         -0.08284378,  0.07130632],\n",
       "        [-0.09329136,  0.0731649 ,  0.07992641, ..., -0.04354678,\n",
       "         -0.10007691,  0.01079553],\n",
       "        ...,\n",
       "        [-0.04804759,  0.03861537,  0.025991  , ...,  0.08627114,\n",
       "         -0.12806006,  0.06225937],\n",
       "        [-0.0687777 ,  0.13067362,  0.05610539, ...,  0.01482721,\n",
       "          0.24838713, -0.07244674],\n",
       "        [ 0.08115092, -0.01208315, -0.00174735, ...,  0.15480064,\n",
       "          0.00962571, -0.13389313]], dtype=float32)>,\n",
       " <tf.Variable 'gcnn_block_6/dense_2/bias:0' shape=(64,) dtype=float32, numpy=\n",
       " array([ 0.08063985, -0.08773158, -0.05985765,  0.27423757, -0.02770679,\n",
       "         0.19619206,  0.40502763,  0.07005962, -0.2945476 , -0.25396326,\n",
       "        -0.09896465, -0.0343955 , -0.14073594, -0.24055219,  0.14262447,\n",
       "         0.08839218, -0.05507744, -0.16811931,  0.07436746,  0.14911534,\n",
       "         0.17514987,  0.09190225,  0.14551517,  0.06605029,  0.06421548,\n",
       "        -0.11824498,  0.08085201, -0.02057709,  0.15742132,  0.33493528,\n",
       "         0.16404453, -0.20951962, -0.03663767, -0.41505045,  0.24234954,\n",
       "         0.18298139,  0.00894762, -0.02975206, -0.2663744 , -0.21434473,\n",
       "         0.2007879 ,  0.08222935,  0.23509604, -0.20412245, -0.06752763,\n",
       "        -0.29935735,  0.48670286, -0.14593829,  0.1202387 , -0.01121091,\n",
       "         0.430828  , -0.17915514, -0.22010724,  0.16429535,  0.31328845,\n",
       "        -0.13824992, -0.12758411, -0.15146253,  0.00234769,  0.08594495,\n",
       "        -0.31159884,  0.08143885, -0.10054699,  0.19561033], dtype=float32)>,\n",
       " <tf.Variable 'gcnn_block_7/dense_3/kernel:0' shape=(256, 64) dtype=float32, numpy=\n",
       " array([[ 0.00504931, -0.00590566,  0.12278549, ..., -0.14761123,\n",
       "         -0.06352481, -0.02533544],\n",
       "        [ 0.0140737 , -0.07158004,  0.0160893 , ..., -0.03070254,\n",
       "          0.02732349,  0.0623679 ],\n",
       "        [ 0.0409312 , -0.01092318,  0.03787312, ..., -0.0976135 ,\n",
       "         -0.03519413, -0.03571904],\n",
       "        ...,\n",
       "        [-0.05366746, -0.00312963,  0.15568294, ..., -0.16332014,\n",
       "         -0.02189261, -0.09808336],\n",
       "        [ 0.010653  ,  0.00492356,  0.11491548, ..., -0.12452638,\n",
       "         -0.19219492, -0.2555971 ],\n",
       "        [ 0.12391725, -0.05601732,  0.15248115, ..., -0.0697597 ,\n",
       "          0.01371723,  0.03034191]], dtype=float32)>,\n",
       " <tf.Variable 'gcnn_block_7/dense_3/bias:0' shape=(64,) dtype=float32, numpy=\n",
       " array([ 1.09283665e-05, -3.70472480e-06,  9.79481956e-06, -4.68909047e-06,\n",
       "         2.63644461e-06,  1.07026108e-05,  6.20744868e-06, -1.03379682e-06,\n",
       "         6.09029257e-06,  9.94405241e-07, -1.04568960e-06,  7.32679018e-06,\n",
       "        -2.09740119e-06, -8.96600432e-06,  6.75564934e-06, -3.40468500e-06,\n",
       "        -2.18726655e-06,  8.32801470e-06,  2.19173035e-06,  1.65182391e-05,\n",
       "         6.31007060e-06,  2.57023703e-06, -4.91838864e-06,  2.82768411e-07,\n",
       "         9.48868504e-08, -1.74863445e-07, -1.94763879e-06,  4.32375691e-06,\n",
       "        -6.46948729e-06,  1.53478527e-06, -4.96164876e-06, -7.41265285e-06,\n",
       "         1.20180548e-05, -4.44610487e-06,  2.45391334e-06,  4.49995287e-06,\n",
       "        -4.17054025e-06,  9.01213298e-06, -1.95397115e-05, -2.67575297e-06,\n",
       "        -8.63451419e-07, -3.51290646e-06, -2.37991185e-06,  2.42215350e-07,\n",
       "        -5.39265193e-06, -1.03960210e-05, -2.56293629e-06, -1.09794723e-06,\n",
       "        -2.77794334e-06, -2.87077273e-06, -8.42911231e-06, -4.23480486e-07,\n",
       "         1.55811467e-05, -1.30350472e-05, -2.12787154e-06, -3.45752437e-06,\n",
       "        -6.50441143e-06,  2.29349189e-06,  2.72345164e-06, -1.22389520e-06,\n",
       "        -6.32130605e-06,  1.06091295e-06,  5.76701132e-06,  4.23906204e-06],\n",
       "       dtype=float32)>,\n",
       " <tf.Variable 'dense_2/kernel:0' shape=(64, 32) dtype=float32, numpy=\n",
       " array([[ 0.005633  , -0.12180412,  0.2880475 , ..., -0.0495809 ,\n",
       "         -0.08780124,  0.10140747],\n",
       "        [-0.18472634,  0.14648107,  0.25162888, ..., -0.0540107 ,\n",
       "          0.26062837,  0.2841678 ],\n",
       "        [-0.10013869, -0.23438743, -0.04762027, ..., -0.3122728 ,\n",
       "         -0.00161952, -0.23551206],\n",
       "        ...,\n",
       "        [ 0.00544812,  0.03507583,  0.09598786, ...,  0.08200205,\n",
       "         -0.15396816,  0.22239341],\n",
       "        [ 0.04748636,  0.16081351,  0.14092557, ...,  0.10422183,\n",
       "         -0.06772839,  0.092614  ],\n",
       "        [ 0.05284258,  0.04149263,  0.2291767 , ...,  0.06530889,\n",
       "          0.22437537,  0.20304035]], dtype=float32)>,\n",
       " <tf.Variable 'dense_2/bias:0' shape=(32,) dtype=float32, numpy=\n",
       " array([-8.15126455e-08,  3.13944319e-08,  1.99982537e-07,  2.01241889e-07,\n",
       "         5.31884119e-08,  7.74946471e-08, -1.00901303e-07,  2.38342039e-08,\n",
       "        -3.84971344e-08,  5.52345591e-09, -4.44674768e-08, -3.61908157e-08,\n",
       "         2.21651213e-08,  6.02070003e-08,  1.31602498e-08, -1.82061619e-08,\n",
       "        -1.18151267e-08, -3.19834896e-08, -1.43066487e-07,  1.11017265e-07,\n",
       "        -1.53631827e-08, -4.66140087e-08,  3.08193187e-08, -1.66770008e-07,\n",
       "        -1.44835894e-08,  5.83475277e-08, -8.02255542e-08,  2.88452355e-08,\n",
       "        -1.83585609e-08, -8.14512688e-08,  3.85102545e-08, -8.60070131e-08],\n",
       "       dtype=float32)>,\n",
       " <tf.Variable 'batch_normalization_v1_1/gamma:0' shape=(32,) dtype=float32, numpy=\n",
       " array([0.52920765, 0.58692896, 0.7468871 , 0.6553369 , 0.7385978 ,\n",
       "        0.6628496 , 0.6486181 , 0.67284405, 0.67850816, 0.62013775,\n",
       "        0.5649198 , 0.57535845, 0.69799286, 0.6880644 , 0.7135706 ,\n",
       "        0.71745425, 0.68305796, 0.70047665, 0.6402485 , 0.67412096,\n",
       "        0.54429275, 0.6493168 , 0.7007516 , 0.5896491 , 0.7163578 ,\n",
       "        0.5854549 , 0.589267  , 0.64098364, 0.62771386, 0.7032132 ,\n",
       "        0.49711365, 0.7010627 ], dtype=float32)>,\n",
       " <tf.Variable 'batch_normalization_v1_1/beta:0' shape=(32,) dtype=float32, numpy=\n",
       " array([-0.32480738, -0.44385242,  0.04496158, -0.39519447, -0.10977688,\n",
       "        -0.07697792,  0.06346464,  0.13457754,  0.09408556,  0.10751452,\n",
       "        -0.3984073 , -0.42428523,  0.10890862,  0.11964466,  0.1223326 ,\n",
       "        -0.1842204 ,  0.1689751 , -0.08602165, -0.09461443,  0.00608822,\n",
       "        -0.3602877 , -0.33430982,  0.09833628, -0.37188894,  0.20369828,\n",
       "         0.05224164, -0.4455716 , -0.18821386, -0.44535145,  0.02379471,\n",
       "        -0.62841624,  0.07267494], dtype=float32)>,\n",
       " <tf.Variable 'dense_3/kernel:0' shape=(32, 1) dtype=float32, numpy=\n",
       " array([[-0.00423669],\n",
       "        [ 0.04372752],\n",
       "        [-0.04380444],\n",
       "        [ 0.09054193],\n",
       "        [-0.01902472],\n",
       "        [-0.02217328],\n",
       "        [ 0.01706297],\n",
       "        [-0.03005931],\n",
       "        [ 0.01605664],\n",
       "        [ 0.02960158],\n",
       "        [ 0.00723833],\n",
       "        [ 0.0450989 ],\n",
       "        [ 0.02144675],\n",
       "        [ 0.02626002],\n",
       "        [-0.03490426],\n",
       "        [ 0.01946905],\n",
       "        [ 0.02897662],\n",
       "        [ 0.00141925],\n",
       "        [-0.02043498],\n",
       "        [-0.02344782],\n",
       "        [ 0.00739965],\n",
       "        [ 0.07656591],\n",
       "        [-0.03184641],\n",
       "        [ 0.00702154],\n",
       "        [-0.03826641],\n",
       "        [ 0.01648133],\n",
       "        [ 0.07698587],\n",
       "        [-0.0034397 ],\n",
       "        [ 0.10023106],\n",
       "        [-0.0021108 ],\n",
       "        [-0.07840984],\n",
       "        [-0.04406582]], dtype=float32)>,\n",
       " <tf.Variable 'dense_3/bias:0' shape=(1,) dtype=float32, numpy=array([0.03189318], dtype=float32)>,\n",
       " <tf.Variable 'batch_normalization_v1_1/moving_mean:0' shape=(32,) dtype=float32, numpy=\n",
       " array([ -93041.3  , -137074.25 , -161544.   , -160841.89 , -102343.17 ,\n",
       "        -147416.4  ,  145387.8  , -135653.02 ,  178598.73 ,  162219.61 ,\n",
       "        -121981.484, -122629.37 ,  103978.23 ,  193454.56 , -154419.95 ,\n",
       "        -181470.66 ,  166504.17 , -176659.84 , -137790.3  , -151414.05 ,\n",
       "        -129314.7  , -179475.88 , -157737.4  , -115548.77 , -177896.84 ,\n",
       "         131939.47 , -171772.48 ,  -92248.38 , -198568.6  , -166841.16 ,\n",
       "         -48922.95 , -181906.2  ], dtype=float32)>,\n",
       " <tf.Variable 'batch_normalization_v1_1/moving_variance:0' shape=(32,) dtype=float32, numpy=\n",
       " array([5.9049016e+09, 1.2295650e+10, 1.9145492e+10, 1.4226649e+10,\n",
       "        1.0100710e+10, 1.5126668e+10, 1.1718042e+10, 1.4366755e+10,\n",
       "        1.6669768e+10, 1.3785593e+10, 8.5152492e+09, 8.5030717e+09,\n",
       "        6.8065336e+09, 2.0093778e+10, 1.5488828e+10, 1.8045252e+10,\n",
       "        1.4326422e+10, 1.9609612e+10, 1.5731478e+10, 1.1965369e+10,\n",
       "        9.0412698e+09, 1.6996647e+10, 1.6244432e+10, 7.7409500e+09,\n",
       "        2.1816377e+10, 8.7513723e+09, 1.6737608e+10, 4.7076260e+09,\n",
       "        2.2051588e+10, 1.4322737e+10, 5.4254525e+09, 2.0359776e+10],\n",
       "       dtype=float32)>]"
      ]
     },
     "execution_count": 32,
     "metadata": {},
     "output_type": "execute_result"
    }
   ],
   "source": [
    "model.weights"
   ]
  },
  {
   "cell_type": "code",
   "execution_count": 131,
   "metadata": {},
   "outputs": [
    {
     "data": {
      "text/plain": [
       "array([0])"
      ]
     },
     "execution_count": 131,
     "metadata": {},
     "output_type": "execute_result"
    }
   ],
   "source": [
    "np.unique(y_model)"
   ]
  },
  {
   "cell_type": "markdown",
   "metadata": {},
   "source": [
    "# Investigate attributes of the dataset"
   ]
  },
  {
   "cell_type": "code",
   "execution_count": 5,
   "metadata": {},
   "outputs": [],
   "source": [
    "file = h5py.File('../data/data_dragon2.hd5')"
   ]
  },
  {
   "cell_type": "code",
   "execution_count": 13,
   "metadata": {},
   "outputs": [],
   "source": [
    "idx = np.arange(file['TimeStdDeviation'].shape[0])\n",
    "np.random.shuffle(idx)"
   ]
  },
  {
   "cell_type": "code",
   "execution_count": 14,
   "metadata": {},
   "outputs": [],
   "source": [
    "samples = idx[:100000]"
   ]
  },
  {
   "cell_type": "code",
   "execution_count": 18,
   "metadata": {},
   "outputs": [
    {
     "data": {
      "text/plain": [
       "<KeysViewHDF5 ['ChargeFirstPulse', 'ChargeLastPulse', 'DeltaLLH', 'IC86_Dunkman_L6_SANTA_DirectCharge', 'IntegratedCharge', 'InteractionType', 'NumberChannels', 'NumberVertices', 'Offset', 'PDGEncoding', 'RecoAzimuth', 'RecoX', 'RecoY', 'RecoZ', 'RecoZenith', 'TimeFirstPulse', 'TimeLastPulse', 'TimeStdDeviation', 'TotalCharge', 'VertexX', 'VertexY', 'VertexZ', '__I3Index__']>"
      ]
     },
     "execution_count": 18,
     "metadata": {},
     "output_type": "execute_result"
    }
   ],
   "source": [
    "file.keys()"
   ]
  },
  {
   "cell_type": "code",
   "execution_count": 42,
   "metadata": {},
   "outputs": [],
   "source": [
    "time_std_samples = file['TimeStdDeviation']['item'][samples]"
   ]
  },
  {
   "cell_type": "code",
   "execution_count": 38,
   "metadata": {},
   "outputs": [],
   "source": [
    "time_std_samples = time_std_samples[time_std_samples < 1e-5]"
   ]
  },
  {
   "cell_type": "code",
   "execution_count": 43,
   "metadata": {},
   "outputs": [
    {
     "data": {
      "text/plain": [
       "array([1.2055448e-03, 1.1102230e-16, 0.0000000e+00, ..., 0.0000000e+00,\n",
       "       0.0000000e+00, 2.8057413e-03], dtype=float32)"
      ]
     },
     "execution_count": 43,
     "metadata": {},
     "output_type": "execute_result"
    }
   ],
   "source": [
    "time_std_samples"
   ]
  },
  {
   "cell_type": "code",
   "execution_count": 39,
   "metadata": {},
   "outputs": [
    {
     "data": {
      "text/plain": [
       "(array([76768.,     0.,     0.,     0.,     0.,     0.,     0.,     0.,\n",
       "            0.,     0.,     0.,     0.,     0.,     0.,     0.,     0.,\n",
       "            0.,     0.,     0.,     0.,     0.,     0.,     0.,     0.,\n",
       "            0.,     0.,     0.,     0.,     0.,     0.,     0.,     0.,\n",
       "            0.,     0.,     0.,     0.,     0.,     0.,     0.,     0.,\n",
       "            0.,     0.,     0.,     0.,     0.,     0.,     0.,     0.,\n",
       "            0.,     0.,  4604.,     0.,     0.,     0.,     0.,     0.,\n",
       "            0.,     0.,     0.,     0.,     0.,     0.,     0.,     0.,\n",
       "            0.,     0.,     0.,     0.,     0.,     0.,     0.,     0.,\n",
       "            0.,     0.,     0.,     0.,     0.,     0.,     0.,     0.,\n",
       "            0.,     0.,     0.,     0.,     0.,     0.,     0.,     0.,\n",
       "            0.,     0.,     0.,     0.,     0.,     0.,     0.,     0.,\n",
       "            0.,     0.,     0.,   264.]),\n",
       " array([0.00000000e+00, 2.22044600e-18, 4.44089200e-18, 6.66133800e-18,\n",
       "        8.88178400e-18, 1.11022304e-17, 1.33226760e-17, 1.55431224e-17,\n",
       "        1.77635680e-17, 1.99840152e-17, 2.22044608e-17, 2.44249064e-17,\n",
       "        2.66453520e-17, 2.88657976e-17, 3.10862448e-17, 3.33066921e-17,\n",
       "        3.55271360e-17, 3.77475832e-17, 3.99680305e-17, 4.21884744e-17,\n",
       "        4.44089216e-17, 4.66293656e-17, 4.88498128e-17, 5.10702601e-17,\n",
       "        5.32907040e-17, 5.55111512e-17, 5.77315952e-17, 5.99520457e-17,\n",
       "        6.21724896e-17, 6.43929336e-17, 6.66133841e-17, 6.88338281e-17,\n",
       "        7.10542720e-17, 7.32747225e-17, 7.54951665e-17, 7.77156104e-17,\n",
       "        7.99360609e-17, 8.21565049e-17, 8.43769488e-17, 8.65973927e-17,\n",
       "        8.88178433e-17, 9.10382872e-17, 9.32587312e-17, 9.54791817e-17,\n",
       "        9.76996256e-17, 9.99200696e-17, 1.02140520e-16, 1.04360964e-16,\n",
       "        1.06581408e-16, 1.08801859e-16, 1.11022302e-16, 1.13242746e-16,\n",
       "        1.15463190e-16, 1.17683634e-16, 1.19904091e-16, 1.22124535e-16,\n",
       "        1.24344979e-16, 1.26565423e-16, 1.28785867e-16, 1.31006311e-16,\n",
       "        1.33226768e-16, 1.35447212e-16, 1.37667656e-16, 1.39888100e-16,\n",
       "        1.42108544e-16, 1.44328988e-16, 1.46549445e-16, 1.48769889e-16,\n",
       "        1.50990333e-16, 1.53210777e-16, 1.55431221e-16, 1.57651665e-16,\n",
       "        1.59872122e-16, 1.62092566e-16, 1.64313010e-16, 1.66533454e-16,\n",
       "        1.68753898e-16, 1.70974342e-16, 1.73194785e-16, 1.75415243e-16,\n",
       "        1.77635687e-16, 1.79856131e-16, 1.82076574e-16, 1.84297018e-16,\n",
       "        1.86517462e-16, 1.88737919e-16, 1.90958363e-16, 1.93178807e-16,\n",
       "        1.95399251e-16, 1.97619695e-16, 1.99840139e-16, 2.02060596e-16,\n",
       "        2.04281040e-16, 2.06501484e-16, 2.08721928e-16, 2.10942372e-16,\n",
       "        2.13162816e-16, 2.15383273e-16, 2.17603717e-16, 2.19824161e-16,\n",
       "        2.22044605e-16], dtype=float32),\n",
       " <a list of 100 Patch objects>)"
      ]
     },
     "execution_count": 39,
     "metadata": {},
     "output_type": "execute_result"
    },
    {
     "data": {
      "image/png": "[encoded data removed]",
      "text/plain": [
       "<Figure size 432x288 with 1 Axes>"
      ]
     },
     "metadata": {
      "needs_background": "light"
     },
     "output_type": "display_data"
    }
   ],
   "source": [
    "plt.hist(time_std_samples, bins=100)"
   ]
  },
  {
   "cell_type": "code",
   "execution_count": 40,
   "metadata": {},
   "outputs": [],
   "source": [
    "charge_samples = file['ChargeFirstPulse']['item'][samples]"
   ]
  },
  {
   "cell_type": "code",
   "execution_count": 27,
   "metadata": {},
   "outputs": [],
   "source": [
    "charge_samples = charge_samples[charge_samples <= 5]"
   ]
  },
  {
   "cell_type": "code",
   "execution_count": 29,
   "metadata": {},
   "outputs": [
    {
     "data": {
      "text/plain": [
       "(array([3072., 3387., 3761., 4108., 4557., 5143., 5673., 5869., 6233.,\n",
       "           0., 6162., 6139., 5778., 5318., 4768., 4331., 3793., 3172.,\n",
       "           0., 2688., 2301., 1654., 1348., 1078.,  891.,  731.,  589.,\n",
       "           0.,  528.,  435.,  373.,  360.,  345.,  307.,  296.,  278.,\n",
       "           0.,  259.,  222.,  214.,  202.,  214.,  174.,  185.,  134.,\n",
       "           0.,  137.,  121.,  134.,   90.,  136.,   94.,   87.,   85.,\n",
       "           0.,   75.,   86.,   84.,   47.,   75.,   48.,   55.,   42.,\n",
       "           0.,   39.,   36.,   49.,   49.,   39.,   48.,   36.,   37.,\n",
       "           0.,   32.,   27.,   32.,   32.,   41.,   35.,   43.,   27.,\n",
       "           0.,   28.,   21.,   21.,   24.,   27.,   20.,   18.,   13.,\n",
       "           0.,   24.,   15.,   21.,   18.,   13.,   21.,   15.,   14.,\n",
       "          11.]),\n",
       " array([0.525     , 0.56949997, 0.61399996, 0.65849996, 0.70299995,\n",
       "        0.74749994, 0.792     , 0.8365    , 0.881     , 0.9255    ,\n",
       "        0.96999997, 1.0145    , 1.059     , 1.1035    , 1.148     ,\n",
       "        1.1925    , 1.237     , 1.2815    , 1.326     , 1.3705    ,\n",
       "        1.415     , 1.4595    , 1.504     , 1.5485    , 1.5929999 ,\n",
       "        1.6374999 , 1.6819999 , 1.7264999 , 1.7709999 , 1.8154999 ,\n",
       "        1.8599999 , 1.9045    , 1.949     , 1.9935    , 2.0379999 ,\n",
       "        2.0825    , 2.1269999 , 2.1715    , 2.2159998 , 2.2605    ,\n",
       "        2.3049998 , 2.3495    , 2.394     , 2.4385    , 2.483     ,\n",
       "        2.5275    , 2.572     , 2.6165    , 2.661     , 2.7055    ,\n",
       "        2.75      , 2.7944999 , 2.839     , 2.8834999 , 2.928     ,\n",
       "        2.9724998 , 3.017     , 3.0614998 , 3.106     , 3.1504998 ,\n",
       "        3.195     , 3.2395    , 3.284     , 3.3285    , 3.373     ,\n",
       "        3.4175    , 3.462     , 3.5065    , 3.5509999 , 3.5955    ,\n",
       "        3.6399999 , 3.6845    , 3.7289999 , 3.7735    , 3.8179998 ,\n",
       "        3.8625    , 3.9069998 , 3.9515    , 3.9959998 , 4.0404997 ,\n",
       "        4.085     , 4.1295    , 4.174     , 4.2185    , 4.263     ,\n",
       "        4.3075    , 4.3519998 , 4.3965    , 4.441     , 4.4855    ,\n",
       "        4.5299997 , 4.5745    , 4.619     , 4.6635    , 4.7079997 ,\n",
       "        4.7525    , 4.797     , 4.8415    , 4.8859997 , 4.9305    ,\n",
       "        4.975     ], dtype=float32),\n",
       " <a list of 100 Patch objects>)"
      ]
     },
     "execution_count": 29,
     "metadata": {},
     "output_type": "execute_result"
    },
    {
     "data": {
      "image/png": "[encoded data removed]",
      "text/plain": [
       "<Figure size 432x288 with 1 Axes>"
      ]
     },
     "metadata": {
      "needs_background": "light"
     },
     "output_type": "display_data"
    }
   ],
   "source": [
    "plt.hist(charge_samples, bins=100)"
   ]
  },
  {
   "cell_type": "code",
   "execution_count": 48,
   "metadata": {},
   "outputs": [],
   "source": [
    "time_samples = file['TimeFirstPulse']['item'][samples]"
   ]
  },
  {
   "cell_type": "code",
   "execution_count": 51,
   "metadata": {},
   "outputs": [],
   "source": [
    "time_samples_filtered = time_samples[time_samples > -0.002]"
   ]
  },
  {
   "cell_type": "code",
   "execution_count": 55,
   "metadata": {},
   "outputs": [
    {
     "data": {
      "text/plain": [
       "0.00030537526"
      ]
     },
     "execution_count": 55,
     "metadata": {},
     "output_type": "execute_result"
    }
   ],
   "source": [
    "time_samples_filtered.std()"
   ]
  },
  {
   "cell_type": "code",
   "execution_count": null,
   "metadata": {},
   "outputs": [],
   "source": []
  }
 ],
 "metadata": {
  "kernelspec": {
   "display_name": "Python 3",
   "language": "python",
   "name": "python3"
  },
  "language_info": {
   "codemirror_mode": {
    "name": "ipython",
    "version": 3
   },
   "file_extension": ".py",
   "mimetype": "text/x-python",
   "name": "python",
   "nbconvert_exporter": "python",
   "pygments_lexer": "ipython3",
   "version": "3.6.7"
  }
 },
 "nbformat": 4,
 "nbformat_minor": 2
}
