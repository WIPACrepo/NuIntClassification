{
 "cells": [
  {
   "cell_type": "code",
   "execution_count": 1,
   "metadata": {},
   "outputs": [],
   "source": [
    "import numpy as np\n",
    "import pandas as pd\n",
    "import matplotlib.pyplot as plt\n",
    "import h5py\n",
    "from model import *\n",
    "from dataset import *\n",
    "import util\n",
    "import json\n",
    "from collections import defaultdict"
   ]
  },
  {
   "cell_type": "markdown",
   "metadata": {},
   "source": [
    "# Evaluate the model on the entire dataset\n",
    "data = HD5Dataset('../data/data_dragon.hd5', seed=42, features=[\"FirstCharge\", \"CumulativeCharge\", \"Time\",\n",
    "            \"VertexX\", \"VertexY\", \"VertexZ\", \"RecoX\",\n",
    "\"RecoZ\", \"RecoAzimuth\", \"RecoZenith\"])"
   ]
  },
  {
   "cell_type": "code",
   "execution_count": 2,
   "metadata": {},
   "outputs": [],
   "source": [
    "with open('training/hd5-860835/config.json') as f:\n",
    "    settings = json.load(f)"
   ]
  },
  {
   "cell_type": "code",
   "execution_count": 3,
   "metadata": {},
   "outputs": [
    {
     "name": "stderr",
     "output_type": "stream",
     "text": [
      "/media/dominik/d/uni/uare/icecube/NuIntClassification/dataset/hd5.py:316: RuntimeWarning: invalid value encountered in less\n",
      "  idx_removed = np.where(np.logical_and((track_length < min_track_length), has_track_length))[0]\n",
      "/media/dominik/d/uni/uare/icecube/NuIntClassification/dataset/hd5.py:322: RuntimeWarning: invalid value encountered in greater\n",
      "  idx_removed = np.where(np.logical_and((cascade_energy > max_cascade_energy), has_track_length))\n"
     ]
    },
    {
     "name": "stdout",
     "output_type": "stream",
     "text": [
      "After Track Length filter 1333960 / 2202957 events remain.\n",
      "After Cascade Energy filter 1167113 / 2202957 events remain.\n",
      "Reduced dataset to 326328 samples per class (652656 / 2202957)\n",
      "Created sha1 hash for features and data file c7186ad6f4095a7ceb2168696ef104bbe0381efa\n",
      "Loaded feature memmap ./memmaps/hd5_features_c7186ad6f4095a7ceb2168696ef104bbe0381efa.\n",
      "Created distances memmap ./memmaps/hd5_distances_c7186ad6f4095a7ceb2168696ef104bbe0381efa.\n"
     ]
    }
   ],
   "source": [
    "data = util.dataset_from_config(settings)"
   ]
  },
  {
   "cell_type": "code",
   "execution_count": 4,
   "metadata": {},
   "outputs": [],
   "source": [
    "model = util.model_from_config(settings)"
   ]
  },
  {
   "cell_type": "code",
   "execution_count": 13,
   "metadata": {},
   "outputs": [],
   "source": [
    "model.load_weights('training/hd5-860835/model_weights.h5')"
   ]
  },
  {
   "cell_type": "code",
   "execution_count": 6,
   "metadata": {},
   "outputs": [
    {
     "data": {
      "text/plain": [
       "[]"
      ]
     },
     "execution_count": 6,
     "metadata": {},
     "output_type": "execute_result"
    }
   ],
   "source": [
    "model.weights"
   ]
  },
  {
   "cell_type": "code",
   "execution_count": 7,
   "metadata": {},
   "outputs": [
    {
     "data": {
      "text/plain": [
       "0.7685318542579598"
      ]
     },
     "execution_count": 7,
     "metadata": {},
     "output_type": "execute_result"
    }
   ],
   "source": [
    "data.get_baseline_accuracy()"
   ]
  },
  {
   "cell_type": "code",
   "execution_count": 8,
   "metadata": {},
   "outputs": [],
   "source": [
    "#test_idx = data._get_idx('test')\n",
    "# Also append all idx that were kept from the model\n",
    "#test_idx.shape"
   ]
  },
  {
   "cell_type": "code",
   "execution_count": 9,
   "metadata": {},
   "outputs": [
    {
     "name": "stdout",
     "output_type": "stream",
     "text": [
      "Created sha1 hash for features and data file c7186ad6f4095a7ceb2168696ef104bbe0381efa\n",
      "Loaded feature memmap ./memmaps/hd5_features_c7186ad6f4095a7ceb2168696ef104bbe0381efa.\n",
      "Created distances memmap ./memmaps/hd5_distances_c7186ad6f4095a7ceb2168696ef104bbe0381efa.\n"
     ]
    }
   ],
   "source": [
    "data2_config = settings\n",
    "settings['dataset']['max_charge'] = None\n",
    "settings['dataset']['balance_classes'] = None\n",
    "settings['dataset']['min_track_length'] = None\n",
    "settings['dataset']['max_cascade_energy'] = None\n",
    "data2 = util.dataset_from_config(data2_config)"
   ]
  },
  {
   "cell_type": "code",
   "execution_count": 10,
   "metadata": {},
   "outputs": [
    {
     "data": {
      "text/plain": [
       "(220295,)"
      ]
     },
     "execution_count": 10,
     "metadata": {},
     "output_type": "execute_result"
    }
   ],
   "source": [
    "test_idx = data2._get_idx('test')\n",
    "test_idx.shape"
   ]
  },
  {
   "cell_type": "code",
   "execution_count": 15,
   "metadata": {},
   "outputs": [
    {
     "name": "stdout",
     "output_type": "stream",
     "text": [
      "3443/3443 [==============================] - 3651s 1s/step\n"
     ]
    }
   ],
   "source": [
    "# Evaluate the model on all the data\n",
    "batch_size = 64\n",
    "logits_model = model.predict_generator(data2.get_batches(batch_size=batch_size, dataset='test'),\n",
    "                       steps=int(np.ceil(data2.size(dataset='test') / batch_size)), verbose=1)"
   ]
  },
  {
   "cell_type": "code",
   "execution_count": 16,
   "metadata": {},
   "outputs": [
    {
     "data": {
      "text/plain": [
       "array([[3.9094025e-01],\n",
       "       [4.6363479e-01],\n",
       "       [4.3548137e-01],\n",
       "       ...,\n",
       "       [1.8063841e-04],\n",
       "       [1.1559729e-02],\n",
       "       [2.6033237e-04]], dtype=float32)"
      ]
     },
     "execution_count": 16,
     "metadata": {},
     "output_type": "execute_result"
    }
   ],
   "source": [
    "logits_model"
   ]
  },
  {
   "cell_type": "code",
   "execution_count": 17,
   "metadata": {},
   "outputs": [
    {
     "data": {
      "text/plain": [
       "(218430,)"
      ]
     },
     "execution_count": 17,
     "metadata": {},
     "output_type": "execute_result"
    }
   ],
   "source": [
    "np.unique(logits_model).shape"
   ]
  },
  {
   "cell_type": "code",
   "execution_count": 18,
   "metadata": {},
   "outputs": [],
   "source": [
    "y_model = (logits_model >= 0.5).astype(np.int)"
   ]
  },
  {
   "cell_type": "code",
   "execution_count": 19,
   "metadata": {},
   "outputs": [
    {
     "data": {
      "text/plain": [
       "array([0, 1])"
      ]
     },
     "execution_count": 19,
     "metadata": {},
     "output_type": "execute_result"
    }
   ],
   "source": [
    "np.unique(y_model)"
   ]
  },
  {
   "cell_type": "code",
   "execution_count": 20,
   "metadata": {},
   "outputs": [],
   "source": [
    "y_model = y_model.squeeze()"
   ]
  },
  {
   "cell_type": "code",
   "execution_count": 21,
   "metadata": {},
   "outputs": [],
   "source": [
    "# Get the pe counts (~charge) of the test data\n",
    "total_charge = data.file['TotalCharge']['value'][test_idx]"
   ]
  },
  {
   "cell_type": "code",
   "execution_count": 22,
   "metadata": {},
   "outputs": [],
   "source": [
    "y_gnd = data.targets[test_idx]\n",
    "y_baseline = (data.delta_loglikelihood[test_idx] >= 2.0).astype(np.uint8)"
   ]
  },
  {
   "cell_type": "code",
   "execution_count": 23,
   "metadata": {},
   "outputs": [
    {
     "data": {
      "text/plain": [
       "((220295,), (220295,), (220295,))"
      ]
     },
     "execution_count": 23,
     "metadata": {},
     "output_type": "execute_result"
    }
   ],
   "source": [
    "y_model.shape, y_gnd.shape, y_baseline.shape"
   ]
  },
  {
   "cell_type": "code",
   "execution_count": 24,
   "metadata": {},
   "outputs": [
    {
     "data": {
      "text/plain": [
       "(2020.9750251919031, 7.0)"
      ]
     },
     "execution_count": 24,
     "metadata": {},
     "output_type": "execute_result"
    }
   ],
   "source": [
    "total_charge\n",
    "total_charge.max(), total_charge.min()"
   ]
  },
  {
   "cell_type": "code",
   "execution_count": 25,
   "metadata": {},
   "outputs": [],
   "source": [
    "bins = np.logspace(0.8, 3.2)\n",
    "binned = np.digitize(total_charge, bins)\n",
    "#np.unique(binned)"
   ]
  },
  {
   "cell_type": "code",
   "execution_count": 26,
   "metadata": {},
   "outputs": [],
   "source": [
    "def get_metrics(y_pred, y_gnd):\n",
    "    acc = (y_pred == y_gnd).sum() / len(y_pred)\n",
    "    tpr = (y_pred[y_gnd == 1] == 1).sum() / ((y_gnd == 1).sum() + 1e-20)\n",
    "    tnr = (y_pred[y_gnd == 0] == 0).sum() / ((y_gnd == 0).sum() + 1e-20)\n",
    "    ppr = (y_pred == 1).sum() / y_pred.shape[0]\n",
    "    return acc, tpr, tnr, ppr"
   ]
  },
  {
   "cell_type": "code",
   "execution_count": 27,
   "metadata": {},
   "outputs": [
    {
     "data": {
      "text/plain": [
       "(2202957,)"
      ]
     },
     "execution_count": 27,
     "metadata": {},
     "output_type": "execute_result"
    }
   ],
   "source": [
    "pgd_encoding = np.array(data.file['PDGEncoding']['value'], dtype=np.uint8).astype(np.int8)\n",
    "pgd_encoding.shape"
   ]
  },
  {
   "cell_type": "code",
   "execution_count": 28,
   "metadata": {},
   "outputs": [
    {
     "data": {
      "text/plain": [
       "524922"
      ]
     },
     "execution_count": 28,
     "metadata": {},
     "output_type": "execute_result"
    }
   ],
   "source": [
    "(np.abs(pgd_encoding) == 12).sum()"
   ]
  },
  {
   "cell_type": "code",
   "execution_count": 29,
   "metadata": {},
   "outputs": [
    {
     "data": {
      "text/plain": [
       "array([1, 1, 1, ..., 1, 1, 1], dtype=uint8)"
      ]
     },
     "execution_count": 29,
     "metadata": {},
     "output_type": "execute_result"
    }
   ],
   "source": [
    "interaction_types = np.array(data.file['InteractionType']['value'], dtype=np.uint8)\n",
    "interaction_types"
   ]
  },
  {
   "cell_type": "code",
   "execution_count": 30,
   "metadata": {},
   "outputs": [
    {
     "data": {
      "text/plain": [
       "(array([-16, -14, -12,  12,  14,  16], dtype=int8),\n",
       " array([  46767,  467199,  164192,  360730, 1036437,  127632]))"
      ]
     },
     "execution_count": 30,
     "metadata": {},
     "output_type": "execute_result"
    }
   ],
   "source": [
    "np.unique(pgd_encoding, return_counts=True)"
   ]
  },
  {
   "cell_type": "code",
   "execution_count": 31,
   "metadata": {},
   "outputs": [
    {
     "data": {
      "text/plain": [
       "0.618337988440083"
      ]
     },
     "execution_count": 31,
     "metadata": {},
     "output_type": "execute_result"
    }
   ],
   "source": [
    "np.logical_and((interaction_types == 1), (np.abs(pgd_encoding) == 14)).sum() / interaction_types.shape[0]"
   ]
  },
  {
   "cell_type": "code",
   "execution_count": 32,
   "metadata": {},
   "outputs": [
    {
     "data": {
      "text/plain": [
       "array([1, 2], dtype=uint8)"
      ]
     },
     "execution_count": 32,
     "metadata": {},
     "output_type": "execute_result"
    }
   ],
   "source": [
    "np.unique(interaction_types)"
   ]
  },
  {
   "cell_type": "code",
   "execution_count": 33,
   "metadata": {},
   "outputs": [
    {
     "data": {
      "text/plain": [
       "<KeysViewHDF5 ['CascadeEnergy', 'ChargeFirstPulse', 'ChargeLastPulse', 'ChargeMaxPulse', 'DeltaLLH', 'Distances', 'DistancesOffset', 'IC86_Dunkman_L6_SANTA_DirectCharge', 'IntegratedCharge', 'InteractionType', 'MuonEnergy', 'NumberChannels', 'NumberVertices', 'Offset', 'PDGEncoding', 'RecoAzimuth', 'RecoX', 'RecoY', 'RecoZ', 'RecoZenith', 'TimeFirstPulse', 'TimeLastPulse', 'TimeMaxPulse', 'TimeVariance', 'TotalCharge', 'TrackLength', 'VertexDeltaLLH', 'VertexX', 'VertexY', 'VertexZ']>"
      ]
     },
     "execution_count": 33,
     "metadata": {},
     "output_type": "execute_result"
    }
   ],
   "source": [
    "data.file.keys()"
   ]
  },
  {
   "cell_type": "code",
   "execution_count": 34,
   "metadata": {},
   "outputs": [],
   "source": [
    "y_gnd2 = np.logical_and((interaction_types == 1), (np.abs(pgd_encoding) == 14)).astype(np.int)"
   ]
  },
  {
   "cell_type": "code",
   "execution_count": 35,
   "metadata": {},
   "outputs": [
    {
     "name": "stderr",
     "output_type": "stream",
     "text": [
      "/home/dominik/.local/lib/python3.6/site-packages/ipykernel_launcher.py:2: RuntimeWarning: invalid value encountered in long_scalars\n",
      "  \n",
      "/home/dominik/.local/lib/python3.6/site-packages/ipykernel_launcher.py:5: RuntimeWarning: invalid value encountered in long_scalars\n",
      "  \"\"\"\n"
     ]
    }
   ],
   "source": [
    "metrics = defaultdict(lambda: defaultdict(list))\n",
    "for bin_idx, value in enumerate(bins):\n",
    "    for interaction_type, pgd_code in (('nue', 12), ('numu CC', 14), ('numu NC', 14), ('nutau', 16)):\n",
    "        # print((np.abs(pgd_encoding) == pgd_code).sum(), pgd_code)\n",
    "        bin_mask = binned == bin_idx\n",
    "        enc_mask = np.abs(pgd_encoding[test_idx] == pgd_code)\n",
    "        if 'numu' in interaction_type:\n",
    "            it = 1 if 'CC' in interaction_type else 2\n",
    "            it_mask = interaction_types[test_idx] == it\n",
    "            #print(it, it_mask.sum())\n",
    "            idxs = np.where(np.logical_and(bin_mask, np.logical_and(enc_mask, it_mask)))[0]\n",
    "        else:\n",
    "            idxs = np.where(np.logical_and(bin_mask, enc_mask))[0]\n",
    "        # print(idxs.shape)\n",
    "        for y, t in ((y_model, 'model'), (y_baseline, 'baseline')):\n",
    "            acc, tpr, tnr, ppr = get_metrics(y[idxs], y_gnd[idxs])\n",
    "            metrics[interaction_type][t].append({\n",
    "                'acc' : acc, 'tpr' : tpr, 'ppr' : ppr, 'bin_idx' : bin_idx, 'value' : value, 'num_samples' : idxs.shape[0]\n",
    "            })"
   ]
  },
  {
   "cell_type": "code",
   "execution_count": 36,
   "metadata": {},
   "outputs": [],
   "source": [
    "dfs = {\n",
    "    pgd_code : {\n",
    "            type_ : pd.DataFrame(data) for type_, data in metrics_code.items()\n",
    "        } for pgd_code, metrics_code in metrics.items()\n",
    "    }\n",
    "for pgd_code, metrics_code in dfs.items():\n",
    "    for type_, df in metrics_code.items():\n",
    "        df = df[df['num_samples'] > 100]\n",
    "        metrics_code[type_] = df"
   ]
  },
  {
   "cell_type": "code",
   "execution_count": 37,
   "metadata": {},
   "outputs": [
    {
     "data": {
      "text/plain": [
       "{'model':          acc  bin_idx  num_samples       ppr  tpr       value\n",
       " 3   0.929078        3          141  0.070922  0.0    8.849908\n",
       " 4   0.920792        4          303  0.079208  0.0    9.906457\n",
       " 5   0.918182        5          440  0.081818  0.0   11.089142\n",
       " 6   0.911414        6          587  0.088586  0.0   12.413023\n",
       " 7   0.923547        7          654  0.076453  0.0   13.894955\n",
       " 8   0.912851        8          677  0.087149  0.0   15.553808\n",
       " 9   0.901146        9          698  0.098854  0.0   17.410704\n",
       " 10  0.899291       10          705  0.100709  0.0   19.489286\n",
       " 11  0.891473       11          645  0.108527  0.0   21.816019\n",
       " 12  0.881301       12          615  0.118699  0.0   24.420531\n",
       " 13  0.906137       13          554  0.093863  0.0   27.335983\n",
       " 14  0.899807       14          519  0.100193  0.0   30.599497\n",
       " 15  0.883002       15          453  0.116998  0.0   34.252626\n",
       " 16  0.889671       16          426  0.110329  0.0   38.341886\n",
       " 17  0.873418       17          395  0.126582  0.0   42.919343\n",
       " 18  0.866162       18          396  0.133838  0.0   48.043280\n",
       " 19  0.895623       19          297  0.104377  0.0   53.778941\n",
       " 20  0.865672       20          268  0.134328  0.0   60.199355\n",
       " 21  0.896414       21          251  0.103586  0.0   67.386272\n",
       " 22  0.859031       22          227  0.140969  0.0   75.431201\n",
       " 23  0.896714       23          213  0.103286  0.0   84.436576\n",
       " 24  0.891089       24          202  0.108911  0.0   94.517060\n",
       " 25  0.885350       25          157  0.114650  0.0  105.801006\n",
       " 26  0.888060       26          134  0.111940  0.0  118.432088\n",
       " 27  0.899225       27          129  0.100775  0.0  132.571137\n",
       " 28  0.937984       28          129  0.062016  0.0  148.398179,\n",
       " 'baseline':          acc  bin_idx  num_samples       ppr  tpr       value\n",
       " 3   0.773050        3          141  0.226950  0.0    8.849908\n",
       " 4   0.811881        4          303  0.188119  0.0    9.906457\n",
       " 5   0.838636        5          440  0.161364  0.0   11.089142\n",
       " 6   0.804089        6          587  0.195911  0.0   12.413023\n",
       " 7   0.772171        7          654  0.227829  0.0   13.894955\n",
       " 8   0.797637        8          677  0.202363  0.0   15.553808\n",
       " 9   0.786533        9          698  0.213467  0.0   17.410704\n",
       " 10  0.739007       10          705  0.260993  0.0   19.489286\n",
       " 11  0.762791       11          645  0.237209  0.0   21.816019\n",
       " 12  0.747967       12          615  0.252033  0.0   24.420531\n",
       " 13  0.758123       13          554  0.241877  0.0   27.335983\n",
       " 14  0.722543       14          519  0.277457  0.0   30.599497\n",
       " 15  0.660044       15          453  0.339956  0.0   34.252626\n",
       " 16  0.671362       16          426  0.328638  0.0   38.341886\n",
       " 17  0.693671       17          395  0.306329  0.0   42.919343\n",
       " 18  0.633838       18          396  0.366162  0.0   48.043280\n",
       " 19  0.659933       19          297  0.340067  0.0   53.778941\n",
       " 20  0.626866       20          268  0.373134  0.0   60.199355\n",
       " 21  0.629482       21          251  0.370518  0.0   67.386272\n",
       " 22  0.581498       22          227  0.418502  0.0   75.431201\n",
       " 23  0.610329       23          213  0.389671  0.0   84.436576\n",
       " 24  0.608911       24          202  0.391089  0.0   94.517060\n",
       " 25  0.585987       25          157  0.414013  0.0  105.801006\n",
       " 26  0.559701       26          134  0.440299  0.0  118.432088\n",
       " 27  0.596899       27          129  0.403101  0.0  132.571137\n",
       " 28  0.558140       28          129  0.441860  0.0  148.398179}"
      ]
     },
     "execution_count": 37,
     "metadata": {},
     "output_type": "execute_result"
    }
   ],
   "source": [
    "dfs['numu NC']"
   ]
  },
  {
   "cell_type": "code",
   "execution_count": 38,
   "metadata": {},
   "outputs": [],
   "source": [
    "def plot_metric(metric, metric_name):\n",
    "    colors = ['blue', 'green', 'red', 'purple']\n",
    "    fig = plt.figure()\n",
    "    plt.xscale('log')\n",
    "    for (pgd_code, df), color in zip(dfs.items(), colors):\n",
    "        for t in df.keys():\n",
    "            if t == 'model':\n",
    "                plt.plot(df[t]['value'], df[t][metric], label=f'{pgd_code} (model)', color=color)\n",
    "            else:\n",
    "                plt.plot(df[t]['value'], df[t][metric], label=f'{pgd_code} (baseline)', linestyle='dashed', color=color)\n",
    "    plt.legend(loc='left', bbox_to_anchor=(1.0, 1.05))\n",
    "    plt.title(metric_name)\n",
    "    plt.xlabel('log(Integrated Charge) (pe)')\n"
   ]
  },
  {
   "cell_type": "code",
   "execution_count": 39,
   "metadata": {},
   "outputs": [
    {
     "name": "stderr",
     "output_type": "stream",
     "text": [
      "/usr/local/lib/python3.6/dist-packages/matplotlib-3.0.3-py3.6-linux-x86_64.egg/matplotlib/legend.py:497: UserWarning: Unrecognized location \"left\". Falling back on \"best\"; valid locations are\n",
      "\tbest\n",
      "\tupper right\n",
      "\tupper left\n",
      "\tlower left\n",
      "\tlower right\n",
      "\tright\n",
      "\tcenter left\n",
      "\tcenter right\n",
      "\tlower center\n",
      "\tupper center\n",
      "\tcenter\n",
      "\n",
      "  % (loc, '\\n\\t'.join(self.codes)))\n"
     ]
    },
    {
     "data": {
      "image/png": "[encoded data removed]",
      "text/plain": [
       "<Figure size 432x288 with 1 Axes>"
      ]
     },
     "metadata": {
      "needs_background": "light"
     },
     "output_type": "display_data"
    }
   ],
   "source": [
    "plot_metric('acc', 'Accuracy', )"
   ]
  },
  {
   "cell_type": "code",
   "execution_count": 40,
   "metadata": {},
   "outputs": [
    {
     "data": {
      "text/plain": [
       "0.40863841666855805"
      ]
     },
     "execution_count": 40,
     "metadata": {},
     "output_type": "execute_result"
    }
   ],
   "source": [
    "(y_model == y_gnd).sum() / y_gnd.shape[0]"
   ]
  },
  {
   "cell_type": "code",
   "execution_count": 41,
   "metadata": {},
   "outputs": [
    {
     "data": {
      "text/plain": [
       "0.6157924601103066"
      ]
     },
     "execution_count": 41,
     "metadata": {},
     "output_type": "execute_result"
    }
   ],
   "source": [
    "(y_baseline == y_gnd).sum() / y_gnd.shape[0]"
   ]
  },
  {
   "cell_type": "code",
   "execution_count": 42,
   "metadata": {},
   "outputs": [
    {
     "data": {
      "image/png": "[encoded data removed]",
      "text/plain": [
       "<Figure size 432x288 with 1 Axes>"
      ]
     },
     "metadata": {
      "needs_background": "light"
     },
     "output_type": "display_data"
    }
   ],
   "source": [
    "plot_metric('ppr', 'Predicted Positives')"
   ]
  },
  {
   "cell_type": "code",
   "execution_count": 44,
   "metadata": {},
   "outputs": [
    {
     "data": {
      "text/plain": [
       "(array([  22,  451, 1575, 3293, 4807, 5907, 6293, 6708, 6451, 6024, 5630,\n",
       "        5007, 4551, 3900, 3445, 3028, 2558, 2244, 1939, 1610, 1434, 1155,\n",
       "        1049,  927,  718,  640,  565,  432,  362,  300,  235,  153,  142,\n",
       "         116,   82,   60,   37,   32,   19,   11,   12,    2,    4,    4,\n",
       "           1,    4,    1]),\n",
       " array([  21,  542, 1891, 4201, 6124, 7780, 8447, 9265, 9168, 9022, 8756,\n",
       "        8263, 7681, 6903, 6450, 5906, 5458, 4783, 4210, 3680, 3104, 2682,\n",
       "        2412, 2002, 1721, 1412, 1085,  850,  659,  506,  371,  279,  206,\n",
       "         172,  102,   74,   54,   39,   19,   21,    7,    9,    9,    3,\n",
       "           2,    2,    2]))"
      ]
     },
     "execution_count": 44,
     "metadata": {},
     "output_type": "execute_result"
    }
   ],
   "source": [
    "bins_track, bin_counts_track = np.unique(binned[y_gnd > 0], return_counts=True)\n",
    "bins_non_track, bin_counts_non_track = np.unique(binned[y_gnd <= 0], return_counts=True)\n",
    "bin_counts_non_track, bin_counts_track\n"
   ]
  },
  {
   "cell_type": "code",
   "execution_count": 45,
   "metadata": {},
   "outputs": [
    {
     "ename": "IndexError",
     "evalue": "index 50 is out of bounds for axis 0 with size 50",
     "output_type": "error",
     "traceback": [
      "\u001b[0;31m---------------------------------------------------------------------------\u001b[0m",
      "\u001b[0;31mIndexError\u001b[0m                                Traceback (most recent call last)",
      "\u001b[0;32m<ipython-input-45-6ee9b66d12cb>\u001b[0m in \u001b[0;36m<module>\u001b[0;34m\u001b[0m\n\u001b[1;32m      1\u001b[0m \u001b[0mfig\u001b[0m \u001b[0;34m=\u001b[0m \u001b[0mplt\u001b[0m\u001b[0;34m.\u001b[0m\u001b[0mfigure\u001b[0m\u001b[0;34m(\u001b[0m\u001b[0;34m)\u001b[0m\u001b[0;34m\u001b[0m\u001b[0;34m\u001b[0m\u001b[0m\n\u001b[1;32m      2\u001b[0m \u001b[0mplt\u001b[0m\u001b[0;34m.\u001b[0m\u001b[0mxscale\u001b[0m\u001b[0;34m(\u001b[0m\u001b[0;34m'log'\u001b[0m\u001b[0;34m)\u001b[0m\u001b[0;34m\u001b[0m\u001b[0;34m\u001b[0m\u001b[0m\n\u001b[0;32m----> 3\u001b[0;31m \u001b[0mplt\u001b[0m\u001b[0;34m.\u001b[0m\u001b[0mstep\u001b[0m\u001b[0;34m(\u001b[0m\u001b[0mbins\u001b[0m\u001b[0;34m[\u001b[0m\u001b[0mbins_track\u001b[0m\u001b[0;34m]\u001b[0m\u001b[0;34m,\u001b[0m \u001b[0mbin_counts_track\u001b[0m\u001b[0;34m,\u001b[0m \u001b[0mlabel\u001b[0m\u001b[0;34m=\u001b[0m\u001b[0;34m'Track'\u001b[0m\u001b[0;34m)\u001b[0m\u001b[0;34m\u001b[0m\u001b[0;34m\u001b[0m\u001b[0m\n\u001b[0m\u001b[1;32m      4\u001b[0m \u001b[0mplt\u001b[0m\u001b[0;34m.\u001b[0m\u001b[0mstep\u001b[0m\u001b[0;34m(\u001b[0m\u001b[0mbins\u001b[0m\u001b[0;34m[\u001b[0m\u001b[0mbins_non_track\u001b[0m\u001b[0;34m]\u001b[0m\u001b[0;34m,\u001b[0m \u001b[0mbin_counts_non_track\u001b[0m\u001b[0;34m,\u001b[0m \u001b[0mlabel\u001b[0m\u001b[0;34m=\u001b[0m\u001b[0;34m'No Track'\u001b[0m\u001b[0;34m)\u001b[0m\u001b[0;34m\u001b[0m\u001b[0;34m\u001b[0m\u001b[0m\n\u001b[1;32m      5\u001b[0m \u001b[0mplt\u001b[0m\u001b[0;34m.\u001b[0m\u001b[0mlegend\u001b[0m\u001b[0;34m(\u001b[0m\u001b[0;34m)\u001b[0m\u001b[0;34m\u001b[0m\u001b[0;34m\u001b[0m\u001b[0m\n",
      "\u001b[0;31mIndexError\u001b[0m: index 50 is out of bounds for axis 0 with size 50"
     ]
    },
    {
     "data": {
      "image/png": "[encoded data removed]",
      "text/plain": [
       "<Figure size 432x288 with 1 Axes>"
      ]
     },
     "metadata": {
      "needs_background": "light"
     },
     "output_type": "display_data"
    }
   ],
   "source": [
    "fig = plt.figure()\n",
    "plt.xscale('log')\n",
    "plt.step(bins[bins_track], bin_counts_track, label='Track')\n",
    "plt.step(bins[bins_non_track], bin_counts_non_track, label='No Track')\n",
    "plt.legend()\n",
    "plt.xlim(right=2e2)\n",
    "plt.title('Event Counts')\n",
    "plt.xlabel('log(Integrated Charge) (pe)')"
   ]
  },
  {
   "cell_type": "code",
   "execution_count": 83,
   "metadata": {},
   "outputs": [
    {
     "data": {
      "text/plain": [
       "array([       nan,        nan, 0.69230769, 0.72340426, 0.675     ,\n",
       "       0.77678571, 0.75561798, 0.75275938, 0.78338279, 0.80851064,\n",
       "       0.81512605, 0.84995425, 0.85299003, 0.85873288, 0.85793212,\n",
       "       0.84626437, 0.86868687, 0.84569288, 0.84494196, 0.84780739,\n",
       "       0.83928571, 0.84166667, 0.80769231, 0.78230088, 0.80414747,\n",
       "       0.70987654, 0.74568966, 0.68292683, 0.76086957, 0.70833333,\n",
       "       0.7826087 , 0.78571429, 0.7       , 0.72727273, 0.75      ,\n",
       "       1.        ,        nan,        nan, 1.        ,        nan,\n",
       "              nan,        nan,        nan,        nan,        nan,\n",
       "              nan,        nan,        nan,        nan,        nan,\n",
       "              nan,        nan, 0.69230769, 0.72340426, 0.675     ,\n",
       "       0.77678571, 0.75561798, 0.75275938, 0.78338279, 0.80851064,\n",
       "       0.81512605, 0.84995425, 0.85299003, 0.85873288, 0.85793212,\n",
       "       0.84626437, 0.86868687, 0.84569288, 0.84494196, 0.84780739,\n",
       "       0.83928571, 0.84166667, 0.80769231, 0.78230088, 0.80414747,\n",
       "       0.70987654, 0.74568966, 0.68292683, 0.76086957, 0.70833333,\n",
       "       0.7826087 , 0.78571429, 0.7       , 0.72727273, 0.75      ,\n",
       "       1.        ,        nan,        nan, 1.        ,        nan,\n",
       "              nan,        nan,        nan,        nan,        nan,\n",
       "              nan,        nan,        nan,        nan,        nan])"
      ]
     },
     "execution_count": 83,
     "metadata": {},
     "output_type": "execute_result"
    }
   ],
   "source": [
    "np.hstack((\n",
    "    np.array(pd.DataFrame(metrics['numu CC']['model'])['acc']),\n",
    "    np.array(pd.DataFrame(metrics['numu CC']['model'])['acc'])\n",
    "    )\n",
    ")"
   ]
  },
  {
   "cell_type": "code",
   "execution_count": 84,
   "metadata": {},
   "outputs": [],
   "source": [
    "total_charge_sorted = np.sort(total_charge)"
   ]
  },
  {
   "cell_type": "code",
   "execution_count": 19,
   "metadata": {},
   "outputs": [],
   "source": [
    "# Find different cutoff values to check performance at different maximal energies by selecting the quantiles of the data\n",
    "cutoffs = []\n",
    "quantiles = []\n",
    "for quantile in np.arange(0.00, 1.0, 0.01):\n",
    "    quantile = 1.0 - quantile\n",
    "    quantiles.append(quantile)\n",
    "    cutoffs.append(total_charge_sorted[int(total_charge.shape[0] * quantile) - 1])"
   ]
  },
  {
   "cell_type": "code",
   "execution_count": 20,
   "metadata": {},
   "outputs": [
    {
     "data": {
      "text/plain": [
       "((220295,), (220295,))"
      ]
     },
     "execution_count": 20,
     "metadata": {},
     "output_type": "execute_result"
    }
   ],
   "source": [
    "y_model.shape, y_gnd.shape"
   ]
  },
  {
   "cell_type": "code",
   "execution_count": 22,
   "metadata": {},
   "outputs": [],
   "source": [
    "metrics = defaultdict(lambda: defaultdict(list))\n",
    "for cutoff, quantile in zip(cutoffs, quantiles):\n",
    "    mask = total_charge <= cutoff\n",
    "    acc_baseline, tpr_baseline, tnr_baseline, ppr_baseline = get_metrics(y_baseline[mask], y_gnd[mask])\n",
    "    metrics['baseline']['accuracy'].append(acc_baseline)\n",
    "    metrics['baseline']['tpr'].append(tpr_baseline)\n",
    "    metrics['baseline']['tnr'].append(tnr_baseline)\n",
    "    metrics['baseline']['ppr'].append(ppr_baseline)\n",
    "    acc_model, tpr_model, tnr_model, ppr_model = get_metrics(y_model[mask], y_gnd[mask])\n",
    "    metrics['model']['accuracy'].append(acc_model)\n",
    "    metrics['model']['tpr'].append(tpr_model)\n",
    "    metrics['model']['tnr'].append(tnr_model)\n",
    "    metrics['model']['ppr'].append(ppr_model)\n",
    "    metrics['gnd']['ppr'].append((y_gnd[mask] == 1).sum() / y_gnd[mask].shape[0])"
   ]
  },
  {
   "cell_type": "code",
   "execution_count": 23,
   "metadata": {},
   "outputs": [
    {
     "data": {
      "text/plain": [
       "Text(0.5, 0.04, 'Integrated Charge (pe)')"
      ]
     },
     "execution_count": 23,
     "metadata": {},
     "output_type": "execute_result"
    },
    {
     "data": {
      "image/png": "[encoded data removed]",
      "text/plain": [
       "<Figure size 1080x360 with 3 Axes>"
      ]
     },
     "metadata": {
      "needs_background": "light"
     },
     "output_type": "display_data"
    }
   ],
   "source": [
    "fig = plt.figure(figsize=(15, 5))\n",
    "ax1 = fig.add_subplot(131)\n",
    "ax1.plot(cutoffs, metrics['baseline']['accuracy'], label='Baseline')\n",
    "ax1.plot(cutoffs, metrics['model']['accuracy'], label='Model')\n",
    "ax1.set_title('Accuracy', fontsize=18)\n",
    "ax1.legend(fontsize=18)\n",
    "ax2 = fig.add_subplot(132)\n",
    "ax2.plot(cutoffs, metrics['baseline']['tpr'], label='Baseline')\n",
    "ax2.plot(cutoffs, metrics['model']['tpr'], label='Model')\n",
    "ax2.set_title('True Positive Rate', fontsize=18)\n",
    "ax2.legend(fontsize=18)\n",
    "ax3 = fig.add_subplot(133)\n",
    "ax3.plot(cutoffs, metrics['baseline']['tnr'], label='Baseline')\n",
    "ax3.plot(cutoffs, metrics['model']['tnr'], label='Model')\n",
    "ax3.set_title('True Negative Rate', fontsize=18)\n",
    "ax3.legend(fontsize=18)\n",
    "fig.text(0.5, 0.04, 'Integrated Charge (pe)', ha='center', va='center', fontsize=18)\n",
    "\n"
   ]
  },
  {
   "cell_type": "code",
   "execution_count": null,
   "metadata": {},
   "outputs": [],
   "source": []
  },
  {
   "cell_type": "code",
   "execution_count": 24,
   "metadata": {},
   "outputs": [
    {
     "data": {
      "text/plain": [
       "<matplotlib.legend.Legend at 0x7fe6e4cb3a20>"
      ]
     },
     "execution_count": 24,
     "metadata": {},
     "output_type": "execute_result"
    },
    {
     "data": {
      "image/png": "[encoded data removed]",
      "text/plain": [
       "<Figure size 432x288 with 1 Axes>"
      ]
     },
     "metadata": {
      "needs_background": "light"
     },
     "output_type": "display_data"
    }
   ],
   "source": [
    "fig = plt.figure()\n",
    "plt.plot(cutoffs, metrics['baseline']['ppr'], label='Baseline')\n",
    "plt.plot(cutoffs, metrics['model']['ppr'], label='Model')\n",
    "plt.plot(cutoffs, metrics['gnd']['ppr'], label='Truth')\n",
    "plt.legend()\n"
   ]
  },
  {
   "cell_type": "code",
   "execution_count": 31,
   "metadata": {},
   "outputs": [
    {
     "name": "stdout",
     "output_type": "stream",
     "text": [
      "_________________________________________________________________\n",
      "Layer (type)                 Output Shape              Param #   \n",
      "=================================================================\n",
      "adjacency_matrix_layer_1 (Ad multiple                  1         \n",
      "_________________________________________________________________\n",
      "gcnn_block_4 (GCNNBlock)     multiple                  1088      \n",
      "_________________________________________________________________\n",
      "gcnn_block_5 (GCNNBlock)     multiple                  16448     \n",
      "_________________________________________________________________\n",
      "gcnn_block_6 (GCNNBlock)     multiple                  16448     \n",
      "_________________________________________________________________\n",
      "gcnn_block_7 (GCNNBlock)     multiple                  16448     \n",
      "_________________________________________________________________\n",
      "dense_2 (Dense)              multiple                  2080      \n",
      "_________________________________________________________________\n",
      "batch_normalization_v1_1 (Ba multiple                  128       \n",
      "_________________________________________________________________\n",
      "re_lu_1 (ReLU)               multiple                  0         \n",
      "_________________________________________________________________\n",
      "dropout_1 (Dropout)          multiple                  0         \n",
      "_________________________________________________________________\n",
      "dense_3 (Dense)              multiple                  33        \n",
      "=================================================================\n",
      "Total params: 52,674\n",
      "Trainable params: 52,610\n",
      "Non-trainable params: 64\n",
      "_________________________________________________________________\n"
     ]
    }
   ],
   "source": [
    "model.summary()"
   ]
  },
  {
   "cell_type": "code",
   "execution_count": 32,
   "metadata": {},
   "outputs": [
    {
     "data": {
      "text/plain": [
       "[<tf.Variable 'adjacency_matrix_layer_1/sigma:0' shape=(1,) dtype=float32, numpy=array([-1.1994079], dtype=float32)>,\n",
       " <tf.Variable 'gcnn_block_4/dense/kernel:0' shape=(16, 64) dtype=float32, numpy=\n",
       " array([[-6.7605382e-01, -5.5014306e-01,  1.0545670e+00, ...,\n",
       "          5.9158012e-02,  4.1892594e-01,  1.1311057e+00],\n",
       "        [-1.1726910e-01, -3.6698148e-02, -2.5776282e-02, ...,\n",
       "         -1.6091052e-01, -3.3308864e-03,  1.9296408e-02],\n",
       "        [-4.5562524e-01, -7.2932534e-02,  3.4593046e-01, ...,\n",
       "         -2.7987896e-02,  1.9500892e-01,  7.2564250e-01],\n",
       "        ...,\n",
       "        [ 2.4853425e-02,  5.2007634e-02,  1.5153764e-04, ...,\n",
       "         -1.7101361e-01,  9.0077855e-03, -3.0158782e-01],\n",
       "        [ 1.8562905e-01, -2.1861477e-01, -2.6344028e-01, ...,\n",
       "         -1.6159213e-01,  5.9850786e-02, -1.6955628e-01],\n",
       "        [ 1.4021096e-01, -1.9073695e-01, -1.7653483e-01, ...,\n",
       "          9.7623197e-03, -1.5720429e-02, -1.2895808e-01]], dtype=float32)>,\n",
       " <tf.Variable 'gcnn_block_4/dense/bias:0' shape=(64,) dtype=float32, numpy=\n",
       " array([-0.3069938 ,  0.0624007 ,  0.69398   ,  0.6525065 ,  0.29171705,\n",
       "         0.98811215, -0.41300717, -0.48984492, -0.07880861,  0.02452249,\n",
       "         0.35919142,  0.26089796, -0.096711  , -0.48206446,  0.34416702,\n",
       "        -0.7964469 ,  0.64835846,  0.5966026 , -0.3626038 , -0.7104603 ,\n",
       "         0.7282719 , -0.6431601 ,  0.13027382, -0.87889796,  0.81249046,\n",
       "        -0.39490506,  0.4064488 ,  0.37407222,  0.00981946,  0.86674625,\n",
       "         0.79656076,  0.8064322 ,  0.91592324,  0.29409498, -0.07865976,\n",
       "        -0.01589836, -0.16478431,  0.08708093,  0.8054874 ,  0.5577407 ,\n",
       "        -0.10067268, -0.33921534,  0.73283815,  0.27109697, -0.83541334,\n",
       "        -0.6268804 , -0.58513594, -0.2266315 ,  0.27250856, -0.3784614 ,\n",
       "         0.65270716, -0.5001135 , -0.60789716,  0.5188713 ,  0.12683252,\n",
       "        -0.3821023 , -0.30208313, -0.21026321, -0.25819424,  0.13294078,\n",
       "         1.1780977 ,  0.02748845,  0.16321723,  0.88305664], dtype=float32)>,\n",
       " <tf.Variable 'gcnn_block_5/dense_1/kernel:0' shape=(256, 64) dtype=float32, numpy=\n",
       " array([[ 0.14330289, -0.12059993, -0.12005726, ...,  0.08474343,\n",
       "         -0.12943548, -0.09355707],\n",
       "        [ 0.11784714,  0.06425252, -0.14343964, ..., -0.02485649,\n",
       "         -0.04314864,  0.13742808],\n",
       "        [ 0.0868709 ,  0.19802451,  0.08969695, ..., -0.04779879,\n",
       "         -0.03558064, -0.07239988],\n",
       "        ...,\n",
       "        [-0.10580715,  0.07935583,  0.07933052, ...,  0.03176492,\n",
       "          0.24236882, -0.10040805],\n",
       "        [ 0.03169346, -0.01481703, -0.18317062, ..., -0.05915226,\n",
       "          0.02349429,  0.02185407],\n",
       "        [-0.04483846,  0.08509641,  0.17415132, ...,  0.00384865,\n",
       "         -0.03517282,  0.09106945]], dtype=float32)>,\n",
       " <tf.Variable 'gcnn_block_5/dense_1/bias:0' shape=(64,) dtype=float32, numpy=\n",
       " array([-2.4742424e-01,  5.8939135e-01,  2.9601252e-01,  6.9139200e-01,\n",
       "        -1.5417543e-01, -4.1035244e-01, -2.8629959e-01,  1.8609300e-01,\n",
       "        -3.8132420e-01,  6.1626416e-01, -7.9603225e-02, -2.3907989e-01,\n",
       "         5.8198482e-01, -2.6853782e-01, -2.0738950e-01, -7.8147441e-02,\n",
       "         4.9212563e-01, -2.5570363e-01,  8.3685823e-02, -2.4442749e-01,\n",
       "        -2.6681337e-01,  3.3886957e-01, -5.6005161e-02,  1.5157345e-01,\n",
       "        -3.5367870e-01, -1.6618748e-01, -5.6695685e-02,  1.6568339e-01,\n",
       "        -1.6176121e-01, -4.4167306e-02,  3.9754313e-01,  5.9029728e-01,\n",
       "         1.6782886e-01, -4.4266334e-01,  4.7676954e-01,  5.5651397e-01,\n",
       "        -8.3522648e-02, -4.5893356e-01,  7.4071564e-02,  6.9566560e-01,\n",
       "        -2.4494123e-01, -2.4489164e-01,  7.1892518e-01, -2.2476885e-01,\n",
       "         4.1438431e-02, -2.5427528e-04, -3.4451544e-01,  3.0160165e-01,\n",
       "        -1.3281006e-01,  3.1508520e-01,  1.3543138e-01,  3.9115602e-01,\n",
       "         5.4075706e-01,  6.0587689e-02, -1.1974260e-01, -2.0385189e-01,\n",
       "         7.1999419e-01,  7.7174550e-01,  5.8286077e-01, -3.5850680e-01,\n",
       "         3.5421813e-01,  2.1785796e-02, -7.7037653e-03,  7.3147386e-02],\n",
       "       dtype=float32)>,\n",
       " <tf.Variable 'gcnn_block_6/dense_2/kernel:0' shape=(256, 64) dtype=float32, numpy=\n",
       " array([[ 0.02427884,  0.06220385, -0.1048332 , ...,  0.07933848,\n",
       "          0.04279333, -0.13811654],\n",
       "        [-0.01215193,  0.0465738 , -0.12358401, ..., -0.05428782,\n",
       "         -0.08284378,  0.07130632],\n",
       "        [-0.09329136,  0.0731649 ,  0.07992641, ..., -0.04354678,\n",
       "         -0.10007691,  0.01079553],\n",
       "        ...,\n",
       "        [-0.04804759,  0.03861537,  0.025991  , ...,  0.08627114,\n",
       "         -0.12806006,  0.06225937],\n",
       "        [-0.0687777 ,  0.13067362,  0.05610539, ...,  0.01482721,\n",
       "          0.24838713, -0.07244674],\n",
       "        [ 0.08115092, -0.01208315, -0.00174735, ...,  0.15480064,\n",
       "          0.00962571, -0.13389313]], dtype=float32)>,\n",
       " <tf.Variable 'gcnn_block_6/dense_2/bias:0' shape=(64,) dtype=float32, numpy=\n",
       " array([ 0.08063985, -0.08773158, -0.05985765,  0.27423757, -0.02770679,\n",
       "         0.19619206,  0.40502763,  0.07005962, -0.2945476 , -0.25396326,\n",
       "        -0.09896465, -0.0343955 , -0.14073594, -0.24055219,  0.14262447,\n",
       "         0.08839218, -0.05507744, -0.16811931,  0.07436746,  0.14911534,\n",
       "         0.17514987,  0.09190225,  0.14551517,  0.06605029,  0.06421548,\n",
       "        -0.11824498,  0.08085201, -0.02057709,  0.15742132,  0.33493528,\n",
       "         0.16404453, -0.20951962, -0.03663767, -0.41505045,  0.24234954,\n",
       "         0.18298139,  0.00894762, -0.02975206, -0.2663744 , -0.21434473,\n",
       "         0.2007879 ,  0.08222935,  0.23509604, -0.20412245, -0.06752763,\n",
       "        -0.29935735,  0.48670286, -0.14593829,  0.1202387 , -0.01121091,\n",
       "         0.430828  , -0.17915514, -0.22010724,  0.16429535,  0.31328845,\n",
       "        -0.13824992, -0.12758411, -0.15146253,  0.00234769,  0.08594495,\n",
       "        -0.31159884,  0.08143885, -0.10054699,  0.19561033], dtype=float32)>,\n",
       " <tf.Variable 'gcnn_block_7/dense_3/kernel:0' shape=(256, 64) dtype=float32, numpy=\n",
       " array([[ 0.00504931, -0.00590566,  0.12278549, ..., -0.14761123,\n",
       "         -0.06352481, -0.02533544],\n",
       "        [ 0.0140737 , -0.07158004,  0.0160893 , ..., -0.03070254,\n",
       "          0.02732349,  0.0623679 ],\n",
       "        [ 0.0409312 , -0.01092318,  0.03787312, ..., -0.0976135 ,\n",
       "         -0.03519413, -0.03571904],\n",
       "        ...,\n",
       "        [-0.05366746, -0.00312963,  0.15568294, ..., -0.16332014,\n",
       "         -0.02189261, -0.09808336],\n",
       "        [ 0.010653  ,  0.00492356,  0.11491548, ..., -0.12452638,\n",
       "         -0.19219492, -0.2555971 ],\n",
       "        [ 0.12391725, -0.05601732,  0.15248115, ..., -0.0697597 ,\n",
       "          0.01371723,  0.03034191]], dtype=float32)>,\n",
       " <tf.Variable 'gcnn_block_7/dense_3/bias:0' shape=(64,) dtype=float32, numpy=\n",
       " array([ 1.09283665e-05, -3.70472480e-06,  9.79481956e-06, -4.68909047e-06,\n",
       "         2.63644461e-06,  1.07026108e-05,  6.20744868e-06, -1.03379682e-06,\n",
       "         6.09029257e-06,  9.94405241e-07, -1.04568960e-06,  7.32679018e-06,\n",
       "        -2.09740119e-06, -8.96600432e-06,  6.75564934e-06, -3.40468500e-06,\n",
       "        -2.18726655e-06,  8.32801470e-06,  2.19173035e-06,  1.65182391e-05,\n",
       "         6.31007060e-06,  2.57023703e-06, -4.91838864e-06,  2.82768411e-07,\n",
       "         9.48868504e-08, -1.74863445e-07, -1.94763879e-06,  4.32375691e-06,\n",
       "        -6.46948729e-06,  1.53478527e-06, -4.96164876e-06, -7.41265285e-06,\n",
       "         1.20180548e-05, -4.44610487e-06,  2.45391334e-06,  4.49995287e-06,\n",
       "        -4.17054025e-06,  9.01213298e-06, -1.95397115e-05, -2.67575297e-06,\n",
       "        -8.63451419e-07, -3.51290646e-06, -2.37991185e-06,  2.42215350e-07,\n",
       "        -5.39265193e-06, -1.03960210e-05, -2.56293629e-06, -1.09794723e-06,\n",
       "        -2.77794334e-06, -2.87077273e-06, -8.42911231e-06, -4.23480486e-07,\n",
       "         1.55811467e-05, -1.30350472e-05, -2.12787154e-06, -3.45752437e-06,\n",
       "        -6.50441143e-06,  2.29349189e-06,  2.72345164e-06, -1.22389520e-06,\n",
       "        -6.32130605e-06,  1.06091295e-06,  5.76701132e-06,  4.23906204e-06],\n",
       "       dtype=float32)>,\n",
       " <tf.Variable 'dense_2/kernel:0' shape=(64, 32) dtype=float32, numpy=\n",
       " array([[ 0.005633  , -0.12180412,  0.2880475 , ..., -0.0495809 ,\n",
       "         -0.08780124,  0.10140747],\n",
       "        [-0.18472634,  0.14648107,  0.25162888, ..., -0.0540107 ,\n",
       "          0.26062837,  0.2841678 ],\n",
       "        [-0.10013869, -0.23438743, -0.04762027, ..., -0.3122728 ,\n",
       "         -0.00161952, -0.23551206],\n",
       "        ...,\n",
       "        [ 0.00544812,  0.03507583,  0.09598786, ...,  0.08200205,\n",
       "         -0.15396816,  0.22239341],\n",
       "        [ 0.04748636,  0.16081351,  0.14092557, ...,  0.10422183,\n",
       "         -0.06772839,  0.092614  ],\n",
       "        [ 0.05284258,  0.04149263,  0.2291767 , ...,  0.06530889,\n",
       "          0.22437537,  0.20304035]], dtype=float32)>,\n",
       " <tf.Variable 'dense_2/bias:0' shape=(32,) dtype=float32, numpy=\n",
       " array([-8.15126455e-08,  3.13944319e-08,  1.99982537e-07,  2.01241889e-07,\n",
       "         5.31884119e-08,  7.74946471e-08, -1.00901303e-07,  2.38342039e-08,\n",
       "        -3.84971344e-08,  5.52345591e-09, -4.44674768e-08, -3.61908157e-08,\n",
       "         2.21651213e-08,  6.02070003e-08,  1.31602498e-08, -1.82061619e-08,\n",
       "        -1.18151267e-08, -3.19834896e-08, -1.43066487e-07,  1.11017265e-07,\n",
       "        -1.53631827e-08, -4.66140087e-08,  3.08193187e-08, -1.66770008e-07,\n",
       "        -1.44835894e-08,  5.83475277e-08, -8.02255542e-08,  2.88452355e-08,\n",
       "        -1.83585609e-08, -8.14512688e-08,  3.85102545e-08, -8.60070131e-08],\n",
       "       dtype=float32)>,\n",
       " <tf.Variable 'batch_normalization_v1_1/gamma:0' shape=(32,) dtype=float32, numpy=\n",
       " array([0.52920765, 0.58692896, 0.7468871 , 0.6553369 , 0.7385978 ,\n",
       "        0.6628496 , 0.6486181 , 0.67284405, 0.67850816, 0.62013775,\n",
       "        0.5649198 , 0.57535845, 0.69799286, 0.6880644 , 0.7135706 ,\n",
       "        0.71745425, 0.68305796, 0.70047665, 0.6402485 , 0.67412096,\n",
       "        0.54429275, 0.6493168 , 0.7007516 , 0.5896491 , 0.7163578 ,\n",
       "        0.5854549 , 0.589267  , 0.64098364, 0.62771386, 0.7032132 ,\n",
       "        0.49711365, 0.7010627 ], dtype=float32)>,\n",
       " <tf.Variable 'batch_normalization_v1_1/beta:0' shape=(32,) dtype=float32, numpy=\n",
       " array([-0.32480738, -0.44385242,  0.04496158, -0.39519447, -0.10977688,\n",
       "        -0.07697792,  0.06346464,  0.13457754,  0.09408556,  0.10751452,\n",
       "        -0.3984073 , -0.42428523,  0.10890862,  0.11964466,  0.1223326 ,\n",
       "        -0.1842204 ,  0.1689751 , -0.08602165, -0.09461443,  0.00608822,\n",
       "        -0.3602877 , -0.33430982,  0.09833628, -0.37188894,  0.20369828,\n",
       "         0.05224164, -0.4455716 , -0.18821386, -0.44535145,  0.02379471,\n",
       "        -0.62841624,  0.07267494], dtype=float32)>,\n",
       " <tf.Variable 'dense_3/kernel:0' shape=(32, 1) dtype=float32, numpy=\n",
       " array([[-0.00423669],\n",
       "        [ 0.04372752],\n",
       "        [-0.04380444],\n",
       "        [ 0.09054193],\n",
       "        [-0.01902472],\n",
       "        [-0.02217328],\n",
       "        [ 0.01706297],\n",
       "        [-0.03005931],\n",
       "        [ 0.01605664],\n",
       "        [ 0.02960158],\n",
       "        [ 0.00723833],\n",
       "        [ 0.0450989 ],\n",
       "        [ 0.02144675],\n",
       "        [ 0.02626002],\n",
       "        [-0.03490426],\n",
       "        [ 0.01946905],\n",
       "        [ 0.02897662],\n",
       "        [ 0.00141925],\n",
       "        [-0.02043498],\n",
       "        [-0.02344782],\n",
       "        [ 0.00739965],\n",
       "        [ 0.07656591],\n",
       "        [-0.03184641],\n",
       "        [ 0.00702154],\n",
       "        [-0.03826641],\n",
       "        [ 0.01648133],\n",
       "        [ 0.07698587],\n",
       "        [-0.0034397 ],\n",
       "        [ 0.10023106],\n",
       "        [-0.0021108 ],\n",
       "        [-0.07840984],\n",
       "        [-0.04406582]], dtype=float32)>,\n",
       " <tf.Variable 'dense_3/bias:0' shape=(1,) dtype=float32, numpy=array([0.03189318], dtype=float32)>,\n",
       " <tf.Variable 'batch_normalization_v1_1/moving_mean:0' shape=(32,) dtype=float32, numpy=\n",
       " array([ -93041.3  , -137074.25 , -161544.   , -160841.89 , -102343.17 ,\n",
       "        -147416.4  ,  145387.8  , -135653.02 ,  178598.73 ,  162219.61 ,\n",
       "        -121981.484, -122629.37 ,  103978.23 ,  193454.56 , -154419.95 ,\n",
       "        -181470.66 ,  166504.17 , -176659.84 , -137790.3  , -151414.05 ,\n",
       "        -129314.7  , -179475.88 , -157737.4  , -115548.77 , -177896.84 ,\n",
       "         131939.47 , -171772.48 ,  -92248.38 , -198568.6  , -166841.16 ,\n",
       "         -48922.95 , -181906.2  ], dtype=float32)>,\n",
       " <tf.Variable 'batch_normalization_v1_1/moving_variance:0' shape=(32,) dtype=float32, numpy=\n",
       " array([5.9049016e+09, 1.2295650e+10, 1.9145492e+10, 1.4226649e+10,\n",
       "        1.0100710e+10, 1.5126668e+10, 1.1718042e+10, 1.4366755e+10,\n",
       "        1.6669768e+10, 1.3785593e+10, 8.5152492e+09, 8.5030717e+09,\n",
       "        6.8065336e+09, 2.0093778e+10, 1.5488828e+10, 1.8045252e+10,\n",
       "        1.4326422e+10, 1.9609612e+10, 1.5731478e+10, 1.1965369e+10,\n",
       "        9.0412698e+09, 1.6996647e+10, 1.6244432e+10, 7.7409500e+09,\n",
       "        2.1816377e+10, 8.7513723e+09, 1.6737608e+10, 4.7076260e+09,\n",
       "        2.2051588e+10, 1.4322737e+10, 5.4254525e+09, 2.0359776e+10],\n",
       "       dtype=float32)>]"
      ]
     },
     "execution_count": 32,
     "metadata": {},
     "output_type": "execute_result"
    }
   ],
   "source": [
    "model.weights"
   ]
  },
  {
   "cell_type": "code",
   "execution_count": 131,
   "metadata": {},
   "outputs": [
    {
     "data": {
      "text/plain": [
       "array([0])"
      ]
     },
     "execution_count": 131,
     "metadata": {},
     "output_type": "execute_result"
    }
   ],
   "source": [
    "np.unique(y_model)"
   ]
  },
  {
   "cell_type": "markdown",
   "metadata": {},
   "source": [
    "# Investigate attributes of the dataset"
   ]
  },
  {
   "cell_type": "code",
   "execution_count": 5,
   "metadata": {},
   "outputs": [],
   "source": [
    "file = h5py.File('../data/data_dragon2.hd5')"
   ]
  },
  {
   "cell_type": "code",
   "execution_count": 13,
   "metadata": {},
   "outputs": [],
   "source": [
    "idx = np.arange(file['TimeStdDeviation'].shape[0])\n",
    "np.random.shuffle(idx)"
   ]
  },
  {
   "cell_type": "code",
   "execution_count": 14,
   "metadata": {},
   "outputs": [],
   "source": [
    "samples = idx[:100000]"
   ]
  },
  {
   "cell_type": "code",
   "execution_count": 18,
   "metadata": {},
   "outputs": [
    {
     "data": {
      "text/plain": [
       "<KeysViewHDF5 ['ChargeFirstPulse', 'ChargeLastPulse', 'DeltaLLH', 'IC86_Dunkman_L6_SANTA_DirectCharge', 'IntegratedCharge', 'InteractionType', 'NumberChannels', 'NumberVertices', 'Offset', 'PDGEncoding', 'RecoAzimuth', 'RecoX', 'RecoY', 'RecoZ', 'RecoZenith', 'TimeFirstPulse', 'TimeLastPulse', 'TimeStdDeviation', 'TotalCharge', 'VertexX', 'VertexY', 'VertexZ', '__I3Index__']>"
      ]
     },
     "execution_count": 18,
     "metadata": {},
     "output_type": "execute_result"
    }
   ],
   "source": [
    "file.keys()"
   ]
  },
  {
   "cell_type": "code",
   "execution_count": 42,
   "metadata": {},
   "outputs": [],
   "source": [
    "time_std_samples = file['TimeStdDeviation']['item'][samples]"
   ]
  },
  {
   "cell_type": "code",
   "execution_count": 38,
   "metadata": {},
   "outputs": [],
   "source": [
    "time_std_samples = time_std_samples[time_std_samples < 1e-5]"
   ]
  },
  {
   "cell_type": "code",
   "execution_count": 43,
   "metadata": {},
   "outputs": [
    {
     "data": {
      "text/plain": [
       "array([1.2055448e-03, 1.1102230e-16, 0.0000000e+00, ..., 0.0000000e+00,\n",
       "       0.0000000e+00, 2.8057413e-03], dtype=float32)"
      ]
     },
     "execution_count": 43,
     "metadata": {},
     "output_type": "execute_result"
    }
   ],
   "source": [
    "time_std_samples"
   ]
  },
  {
   "cell_type": "code",
   "execution_count": 39,
   "metadata": {},
   "outputs": [
    {
     "data": {
      "text/plain": [
       "(array([76768.,     0.,     0.,     0.,     0.,     0.,     0.,     0.,\n",
       "            0.,     0.,     0.,     0.,     0.,     0.,     0.,     0.,\n",
       "            0.,     0.,     0.,     0.,     0.,     0.,     0.,     0.,\n",
       "            0.,     0.,     0.,     0.,     0.,     0.,     0.,     0.,\n",
       "            0.,     0.,     0.,     0.,     0.,     0.,     0.,     0.,\n",
       "            0.,     0.,     0.,     0.,     0.,     0.,     0.,     0.,\n",
       "            0.,     0.,  4604.,     0.,     0.,     0.,     0.,     0.,\n",
       "            0.,     0.,     0.,     0.,     0.,     0.,     0.,     0.,\n",
       "            0.,     0.,     0.,     0.,     0.,     0.,     0.,     0.,\n",
       "            0.,     0.,     0.,     0.,     0.,     0.,     0.,     0.,\n",
       "            0.,     0.,     0.,     0.,     0.,     0.,     0.,     0.,\n",
       "            0.,     0.,     0.,     0.,     0.,     0.,     0.,     0.,\n",
       "            0.,     0.,     0.,   264.]),\n",
       " array([0.00000000e+00, 2.22044600e-18, 4.44089200e-18, 6.66133800e-18,\n",
       "        8.88178400e-18, 1.11022304e-17, 1.33226760e-17, 1.55431224e-17,\n",
       "        1.77635680e-17, 1.99840152e-17, 2.22044608e-17, 2.44249064e-17,\n",
       "        2.66453520e-17, 2.88657976e-17, 3.10862448e-17, 3.33066921e-17,\n",
       "        3.55271360e-17, 3.77475832e-17, 3.99680305e-17, 4.21884744e-17,\n",
       "        4.44089216e-17, 4.66293656e-17, 4.88498128e-17, 5.10702601e-17,\n",
       "        5.32907040e-17, 5.55111512e-17, 5.77315952e-17, 5.99520457e-17,\n",
       "        6.21724896e-17, 6.43929336e-17, 6.66133841e-17, 6.88338281e-17,\n",
       "        7.10542720e-17, 7.32747225e-17, 7.54951665e-17, 7.77156104e-17,\n",
       "        7.99360609e-17, 8.21565049e-17, 8.43769488e-17, 8.65973927e-17,\n",
       "        8.88178433e-17, 9.10382872e-17, 9.32587312e-17, 9.54791817e-17,\n",
       "        9.76996256e-17, 9.99200696e-17, 1.02140520e-16, 1.04360964e-16,\n",
       "        1.06581408e-16, 1.08801859e-16, 1.11022302e-16, 1.13242746e-16,\n",
       "        1.15463190e-16, 1.17683634e-16, 1.19904091e-16, 1.22124535e-16,\n",
       "        1.24344979e-16, 1.26565423e-16, 1.28785867e-16, 1.31006311e-16,\n",
       "        1.33226768e-16, 1.35447212e-16, 1.37667656e-16, 1.39888100e-16,\n",
       "        1.42108544e-16, 1.44328988e-16, 1.46549445e-16, 1.48769889e-16,\n",
       "        1.50990333e-16, 1.53210777e-16, 1.55431221e-16, 1.57651665e-16,\n",
       "        1.59872122e-16, 1.62092566e-16, 1.64313010e-16, 1.66533454e-16,\n",
       "        1.68753898e-16, 1.70974342e-16, 1.73194785e-16, 1.75415243e-16,\n",
       "        1.77635687e-16, 1.79856131e-16, 1.82076574e-16, 1.84297018e-16,\n",
       "        1.86517462e-16, 1.88737919e-16, 1.90958363e-16, 1.93178807e-16,\n",
       "        1.95399251e-16, 1.97619695e-16, 1.99840139e-16, 2.02060596e-16,\n",
       "        2.04281040e-16, 2.06501484e-16, 2.08721928e-16, 2.10942372e-16,\n",
       "        2.13162816e-16, 2.15383273e-16, 2.17603717e-16, 2.19824161e-16,\n",
       "        2.22044605e-16], dtype=float32),\n",
       " <a list of 100 Patch objects>)"
      ]
     },
     "execution_count": 39,
     "metadata": {},
     "output_type": "execute_result"
    },
    {
     "data": {
      "image/png": "[encoded data removed]",
      "text/plain": [
       "<Figure size 432x288 with 1 Axes>"
      ]
     },
     "metadata": {
      "needs_background": "light"
     },
     "output_type": "display_data"
    }
   ],
   "source": [
    "plt.hist(time_std_samples, bins=100)"
   ]
  },
  {
   "cell_type": "code",
   "execution_count": 40,
   "metadata": {},
   "outputs": [],
   "source": [
    "charge_samples = file['ChargeFirstPulse']['item'][samples]"
   ]
  },
  {
   "cell_type": "code",
   "execution_count": 27,
   "metadata": {},
   "outputs": [],
   "source": [
    "charge_samples = charge_samples[charge_samples <= 5]"
   ]
  },
  {
   "cell_type": "code",
   "execution_count": 29,
   "metadata": {},
   "outputs": [
    {
     "data": {
      "text/plain": [
       "(array([3072., 3387., 3761., 4108., 4557., 5143., 5673., 5869., 6233.,\n",
       "           0., 6162., 6139., 5778., 5318., 4768., 4331., 3793., 3172.,\n",
       "           0., 2688., 2301., 1654., 1348., 1078.,  891.,  731.,  589.,\n",
       "           0.,  528.,  435.,  373.,  360.,  345.,  307.,  296.,  278.,\n",
       "           0.,  259.,  222.,  214.,  202.,  214.,  174.,  185.,  134.,\n",
       "           0.,  137.,  121.,  134.,   90.,  136.,   94.,   87.,   85.,\n",
       "           0.,   75.,   86.,   84.,   47.,   75.,   48.,   55.,   42.,\n",
       "           0.,   39.,   36.,   49.,   49.,   39.,   48.,   36.,   37.,\n",
       "           0.,   32.,   27.,   32.,   32.,   41.,   35.,   43.,   27.,\n",
       "           0.,   28.,   21.,   21.,   24.,   27.,   20.,   18.,   13.,\n",
       "           0.,   24.,   15.,   21.,   18.,   13.,   21.,   15.,   14.,\n",
       "          11.]),\n",
       " array([0.525     , 0.56949997, 0.61399996, 0.65849996, 0.70299995,\n",
       "        0.74749994, 0.792     , 0.8365    , 0.881     , 0.9255    ,\n",
       "        0.96999997, 1.0145    , 1.059     , 1.1035    , 1.148     ,\n",
       "        1.1925    , 1.237     , 1.2815    , 1.326     , 1.3705    ,\n",
       "        1.415     , 1.4595    , 1.504     , 1.5485    , 1.5929999 ,\n",
       "        1.6374999 , 1.6819999 , 1.7264999 , 1.7709999 , 1.8154999 ,\n",
       "        1.8599999 , 1.9045    , 1.949     , 1.9935    , 2.0379999 ,\n",
       "        2.0825    , 2.1269999 , 2.1715    , 2.2159998 , 2.2605    ,\n",
       "        2.3049998 , 2.3495    , 2.394     , 2.4385    , 2.483     ,\n",
       "        2.5275    , 2.572     , 2.6165    , 2.661     , 2.7055    ,\n",
       "        2.75      , 2.7944999 , 2.839     , 2.8834999 , 2.928     ,\n",
       "        2.9724998 , 3.017     , 3.0614998 , 3.106     , 3.1504998 ,\n",
       "        3.195     , 3.2395    , 3.284     , 3.3285    , 3.373     ,\n",
       "        3.4175    , 3.462     , 3.5065    , 3.5509999 , 3.5955    ,\n",
       "        3.6399999 , 3.6845    , 3.7289999 , 3.7735    , 3.8179998 ,\n",
       "        3.8625    , 3.9069998 , 3.9515    , 3.9959998 , 4.0404997 ,\n",
       "        4.085     , 4.1295    , 4.174     , 4.2185    , 4.263     ,\n",
       "        4.3075    , 4.3519998 , 4.3965    , 4.441     , 4.4855    ,\n",
       "        4.5299997 , 4.5745    , 4.619     , 4.6635    , 4.7079997 ,\n",
       "        4.7525    , 4.797     , 4.8415    , 4.8859997 , 4.9305    ,\n",
       "        4.975     ], dtype=float32),\n",
       " <a list of 100 Patch objects>)"
      ]
     },
     "execution_count": 29,
     "metadata": {},
     "output_type": "execute_result"
    },
    {
     "data": {
      "image/png": "[encoded data removed]",
      "text/plain": [
       "<Figure size 432x288 with 1 Axes>"
      ]
     },
     "metadata": {
      "needs_background": "light"
     },
     "output_type": "display_data"
    }
   ],
   "source": [
    "plt.hist(charge_samples, bins=100)"
   ]
  },
  {
   "cell_type": "code",
   "execution_count": 48,
   "metadata": {},
   "outputs": [],
   "source": [
    "time_samples = file['TimeFirstPulse']['item'][samples]"
   ]
  },
  {
   "cell_type": "code",
   "execution_count": 51,
   "metadata": {},
   "outputs": [],
   "source": [
    "time_samples_filtered = time_samples[time_samples > -0.002]"
   ]
  },
  {
   "cell_type": "code",
   "execution_count": 55,
   "metadata": {},
   "outputs": [
    {
     "data": {
      "text/plain": [
       "0.00030537526"
      ]
     },
     "execution_count": 55,
     "metadata": {},
     "output_type": "execute_result"
    }
   ],
   "source": [
    "time_samples_filtered.std()"
   ]
  },
  {
   "cell_type": "code",
   "execution_count": null,
   "metadata": {},
   "outputs": [],
   "source": []
  }
 ],
 "metadata": {
  "kernelspec": {
   "display_name": "Python 3",
   "language": "python",
   "name": "python3"
  }
 },
 "nbformat": 4,
 "nbformat_minor": 2
}
