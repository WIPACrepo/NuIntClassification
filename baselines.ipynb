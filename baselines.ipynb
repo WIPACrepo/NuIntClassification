{
 "cells": [
  {
   "cell_type": "code",
   "execution_count": 1,
   "metadata": {},
   "outputs": [],
   "source": [
    "import numpy as np\n",
    "import pandas as pd\n",
    "import matplotlib.pyplot as plt\n",
    "import h5py\n",
    "from model import *\n",
    "from dataset import *\n",
    "import util\n",
    "import json\n",
    "from collections import defaultdict"
   ]
  },
  {
   "cell_type": "markdown",
   "metadata": {},
   "source": [
    "# Load model and data"
   ]
  },
  {
   "cell_type": "code",
   "execution_count": 2,
   "metadata": {},
   "outputs": [],
   "source": [
    "#model_idx = 'hd5-860835'\n",
    "model_idx = 'hd5-6181356400'"
   ]
  },
  {
   "cell_type": "code",
   "execution_count": 3,
   "metadata": {},
   "outputs": [
    {
     "name": "stderr",
     "output_type": "stream",
     "text": [
      "/media/dominik/d/uni/uare/icecube/NuIntClassification/dataset/hd5.py:355: RuntimeWarning: invalid value encountered in less\n",
      "  idx_removed = np.where(np.logical_and((track_length < min_track_length), has_track_length))[0]\n",
      "/media/dominik/d/uni/uare/icecube/NuIntClassification/dataset/hd5.py:361: RuntimeWarning: invalid value encountered in greater\n",
      "  idx_removed = np.where(np.logical_and((cascade_energy > max_cascade_energy), has_track_length))\n"
     ]
    },
    {
     "name": "stdout",
     "output_type": "stream",
     "text": [
      "After Track Length filter 1333960 / 2202957 events remain.\n",
      "After Cascade Energy filter 1167113 / 2202957 events remain.\n",
      "Reduced dataset to 326328 samples per class (652656 / 2202957)\n",
      "Created sha1 hash for features and data file c7186ad6f4095a7ceb2168696ef104bbe0381efa\n",
      "Loaded feature memmap ./memmaps/hd5_features_c7186ad6f4095a7ceb2168696ef104bbe0381efa.\n",
      "Loaded distances memmap ./memmaps/hd5_distances_c7186ad6f4095a7ceb2168696ef104bbe0381efa.\n"
     ]
    }
   ],
   "source": [
    "with open(f'training/{model_idx}/config.json') as f:\n",
    "    config = json.load(f)\n",
    "data = util.dataset_from_config(config)\n",
    "model = util.model_from_config(config)"
   ]
  },
  {
   "cell_type": "code",
   "execution_count": 4,
   "metadata": {},
   "outputs": [
    {
     "name": "stdout",
     "output_type": "stream",
     "text": [
      "{'dataset': {'type': 'hd5', 'path': '../data/data_dragon4.hd5', 'validation_portion': 0.1, 'test_portion': 0.1, 'shuffle': True, 'features': ['ChargeFirstPulse', 'TimeFirstPulse', 'ChargeLastPulse', 'TimeLastPulse', 'TimeVariance', 'IntegratedCharge', 'TimeMaxPulse', 'ChargeMaxPulse', 'VertexX', 'VertexY', 'VertexZ'], 'max_charge': None, 'distances_precomputed': True, 'balance_classes': True, 'min_track_length': 75, 'max_cascade_energy': 10, 'seed': None}, 'model': {'type': 'gcnn', 'hidden_units_graph_convolutions': [64, 64, 64, 64, 64, 64], 'hidden_units_lstm': [32, 16], 'hidden_units_fully_connected': [1], 'use_batchnorm': True, 'dropout_rate': 0.3}, 'training': {'loss': 'binary_crossentropy', 'metrics': ['accuracy'], 'learning_rate': 0.0005, 'learning_rate_decay': None, 'batch_size': 64, 'epochs': 100, 'directory': './training/hd5-{0}', 'checkpoint_period': 5, 'use_class_weights': True, 'logfile': None}}\n"
     ]
    }
   ],
   "source": [
    "print(config)"
   ]
  },
  {
   "cell_type": "code",
   "execution_count": 5,
   "metadata": {},
   "outputs": [
    {
     "name": "stdout",
     "output_type": "stream",
     "text": [
      "WARNING:tensorflow:From /home/dominik/.local/lib/python3.6/site-packages/tensorflow/python/ops/resource_variable_ops.py:642: colocate_with (from tensorflow.python.framework.ops) is deprecated and will be removed in a future version.\n",
      "Instructions for updating:\n",
      "Colocations handled automatically by placer.\n",
      "WARNING:tensorflow:From /home/dominik/.local/lib/python3.6/site-packages/tensorflow/python/keras/layers/core.py:143: calling dropout (from tensorflow.python.ops.nn_ops) with keep_prob is deprecated and will be removed in a future version.\n",
      "Instructions for updating:\n",
      "Please use `rate` instead of `keep_prob`. Rate should be set to `rate = 1 - keep_prob`.\n",
      "1020/1020 [==============================] - 10s 10ms/step\n"
     ]
    }
   ],
   "source": [
    "# Predict on one batch such that the model gets built and then load weights\n",
    "batch_size = config['training']['batch_size']\n",
    "for X, y in data.get_batches(batch_size=batch_size, dataset='test'):\n",
    "    break\n",
    "model.predict_on_batch(X)\n",
    "model.load_weights(f'training/{model_idx}/model_weights.h5')\n",
    "logits_model = model.predict_generator(data.get_batches(batch_size=batch_size, dataset='test'),\n",
    "                       steps=int(np.ceil(data.size(dataset='test') / batch_size)), verbose=1)"
   ]
  },
  {
   "cell_type": "code",
   "execution_count": 6,
   "metadata": {},
   "outputs": [
    {
     "data": {
      "text/plain": [
       "(array([23940.,  1404.,   833.,   962.,  1480.,  2772.,  3953.,  5573.,\n",
       "        11031., 13317.]),\n",
       " array([0.        , 0.09923754, 0.19847508, 0.29771262, 0.39695016,\n",
       "        0.4961877 , 0.59542525, 0.69466275, 0.7939003 , 0.8931378 ,\n",
       "        0.9923754 ], dtype=float32),\n",
       " <a list of 10 Patch objects>)"
      ]
     },
     "execution_count": 6,
     "metadata": {},
     "output_type": "execute_result"
    },
    {
     "data": {
      "image/png": "[encoded data removed]",
      "text/plain": [
       "<Figure size 432x288 with 1 Axes>"
      ]
     },
     "metadata": {
      "needs_background": "light"
     },
     "output_type": "display_data"
    }
   ],
   "source": [
    "y_model = (logits_model >= .5).astype(np.int).flatten()\n",
    "plt.hist(logits_model)"
   ]
  },
  {
   "cell_type": "code",
   "execution_count": 7,
   "metadata": {},
   "outputs": [
    {
     "data": {
      "text/plain": [
       "(0.8648892974795066, 0.7722669118210373)"
      ]
     },
     "execution_count": 7,
     "metadata": {},
     "output_type": "execute_result"
    }
   ],
   "source": [
    "y_baseline = (data.delta_loglikelihood >= 2.0).astype(np.uint8)[data._get_idx('test')]\n",
    "acc_model = (y_model == data.targets[data._get_idx('test')]).sum() / y_model.shape[0]\n",
    "acc_baseline = (y_baseline == data.targets[data._get_idx('test')]).sum() / y_model.shape[0]\n",
    "acc_model, acc_baseline"
   ]
  },
  {
   "cell_type": "markdown",
   "metadata": {},
   "source": [
    "# Check integrity of tracks in data"
   ]
  },
  {
   "cell_type": "code",
   "execution_count": 8,
   "metadata": {},
   "outputs": [
    {
     "data": {
      "text/plain": [
       "(array([432838.,      0.,      0.,      0.,      0.,      0.,      0.,\n",
       "             0.,      0., 929334.]),\n",
       " array([-14. , -11.2,  -8.4,  -5.6,  -2.8,   0. ,   2.8,   5.6,   8.4,\n",
       "         11.2,  14. ]),\n",
       " <a list of 10 Patch objects>)"
      ]
     },
     "execution_count": 8,
     "metadata": {},
     "output_type": "execute_result"
    },
    {
     "data": {
      "image/png": "[encoded data removed]",
      "text/plain": [
       "<Figure size 432x288 with 1 Axes>"
      ]
     },
     "metadata": {
      "needs_background": "light"
     },
     "output_type": "display_data"
    }
   ],
   "source": [
    "track_idx = data.targets > 0\n",
    "plt.hist(data.file['PDGEncoding']['value'][track_idx])"
   ]
  },
  {
   "cell_type": "code",
   "execution_count": 9,
   "metadata": {},
   "outputs": [
    {
     "data": {
      "text/plain": [
       "(array([      0.,       0.,       0.,       0.,       0., 1362172.,\n",
       "              0.,       0.,       0.,       0.]),\n",
       " array([0.5, 0.6, 0.7, 0.8, 0.9, 1. , 1.1, 1.2, 1.3, 1.4, 1.5]),\n",
       " <a list of 10 Patch objects>)"
      ]
     },
     "execution_count": 9,
     "metadata": {},
     "output_type": "execute_result"
    },
    {
     "data": {
      "image/png": "[encoded data removed]",
      "text/plain": [
       "<Figure size 432x288 with 1 Axes>"
      ]
     },
     "metadata": {
      "needs_background": "light"
     },
     "output_type": "display_data"
    }
   ],
   "source": [
    "plt.hist(data.file['InteractionType']['value'][track_idx])"
   ]
  },
  {
   "cell_type": "code",
   "execution_count": 10,
   "metadata": {},
   "outputs": [
    {
     "data": {
      "text/plain": [
       "(array([      0.,       0.,       0.,       0.,       0., 1362172.,\n",
       "              0.,       0.,       0.,       0.]),\n",
       " array([0.5, 0.6, 0.7, 0.8, 0.9, 1. , 1.1, 1.2, 1.3, 1.4, 1.5]),\n",
       " <a list of 10 Patch objects>)"
      ]
     },
     "execution_count": 10,
     "metadata": {},
     "output_type": "execute_result"
    },
    {
     "data": {
      "image/png": "[encoded data removed]",
      "text/plain": [
       "<Figure size 432x288 with 1 Axes>"
      ]
     },
     "metadata": {
      "needs_background": "light"
     },
     "output_type": "display_data"
    }
   ],
   "source": [
    "has_no_track_length = np.isnan(data.file['TrackLength']['value'])\n",
    "plt.hist(data.targets[~has_no_track_length])"
   ]
  },
  {
   "cell_type": "code",
   "execution_count": 11,
   "metadata": {},
   "outputs": [
    {
     "data": {
      "text/plain": [
       "(array([-14.,  14.]), array([432838, 929334]))"
      ]
     },
     "execution_count": 11,
     "metadata": {},
     "output_type": "execute_result"
    }
   ],
   "source": [
    "np.unique(data.file['PDGEncoding']['value'][~has_no_track_length], return_counts=True)"
   ]
  },
  {
   "cell_type": "code",
   "execution_count": 12,
   "metadata": {},
   "outputs": [
    {
     "data": {
      "text/plain": [
       "False"
      ]
     },
     "execution_count": 12,
     "metadata": {},
     "output_type": "execute_result"
    },
    {
     "data": {
      "image/png": "[encoded data removed]",
      "text/plain": [
       "<Figure size 432x288 with 1 Axes>"
      ]
     },
     "metadata": {
      "needs_background": "light"
     },
     "output_type": "display_data"
    }
   ],
   "source": [
    "mask = (~np.isnan(data.file['TrackLength']['value'])).copy()\n",
    "mask[data.targets > 0] = False\n",
    "\n",
    "track_lengths = data.file['TrackLength']['value'][mask]\n",
    "plt.hist(track_lengths, bins=200)\n",
    "\n",
    "mask.any()"
   ]
  },
  {
   "cell_type": "markdown",
   "metadata": {},
   "source": [
    "## Predict model on all data that was discarded during filtering"
   ]
  },
  {
   "cell_type": "code",
   "execution_count": 13,
   "metadata": {},
   "outputs": [
    {
     "name": "stdout",
     "output_type": "stream",
     "text": [
      "Large test data consists of (1615566,) samples\n"
     ]
    }
   ],
   "source": [
    "large_data_mask = np.ones(data.targets.shape).astype(np.bool)\n",
    "large_data_mask[data._get_idx('train')] = False\n",
    "large_data_mask[data._get_idx('val')] = False\n",
    "large_data_idx = np.where(large_data_mask)[0]\n",
    "print(f'Large test data consists of {large_data_idx.shape} samples')"
   ]
  },
  {
   "cell_type": "code",
   "execution_count": 84,
   "metadata": {},
   "outputs": [],
   "source": [
    "charge = np.array(data.file['TotalCharge']['value'])\n",
    "pdg_encodings = np.array(data.file['PDGEncoding']['value'])\n",
    "interaction_type = np.array(data.file['InteractionType']['value'])\n",
    "y_baseline = (data.delta_loglikelihood >= 2.0).astype(np.uint8)"
   ]
  },
  {
   "cell_type": "code",
   "execution_count": 15,
   "metadata": {},
   "outputs": [],
   "source": [
    "test_idx = data._get_idx('test')"
   ]
  },
  {
   "cell_type": "code",
   "execution_count": 16,
   "metadata": {},
   "outputs": [],
   "source": [
    "def binned_ppr(y_pred, y_gnd, charge, bins=50):\n",
    "    \"\"\" Calculates the ppr binned in charges. \n",
    "    \n",
    "    Parameters:\n",
    "    -----------\n",
    "    y_pred : ndarray, shape [N]\n",
    "        Predictions.\n",
    "    y_gnd : ndarray, shape [N]\n",
    "        Ground truths.\n",
    "    charge : ndarray, shape [N]\n",
    "        Charge values (to be binned.)\n",
    "    bins : int, optional\n",
    "        The number of bins.\n",
    "    \n",
    "    Returns:\n",
    "    --------\n",
    "    ppr : ndarray, shape [bins + 1]\n",
    "        Positive predicted values for each bin.\n",
    "    sigma_ppr : ndarray, shape [bins + 1]\n",
    "        Uncertainty of predicted positive values for each bin.\n",
    "    bins : ndarray, shape [bins]\n",
    "        Bin edges.\n",
    "    \"\"\"\n",
    "    log_charge = np.log(charge)\n",
    "    # Bin all charges\n",
    "    bin_counts, bins = np.histogram(log_charge, bins=bins, range=(2.0, 5.2))\n",
    "    # Bin positive predictions\n",
    "    pos_bin_counts, _ = np.histogram(log_charge[y_pred > 0], bins=bins)\n",
    "    ppr = pos_bin_counts / bin_counts\n",
    "    \n",
    "    # Calculate uncertainty\n",
    "    sigma_bin_counts = np.sqrt(bin_counts)\n",
    "    sigma_pos_bin_counts = np.sqrt(pos_bin_counts)\n",
    "    \n",
    "    sigma_ppr = np.sqrt(\n",
    "        ppr**2 * ((sigma_bin_counts / bin_counts)**2 + (sigma_pos_bin_counts / pos_bin_counts)**2))\n",
    "    return ppr, sigma_ppr, bins"
   ]
  },
  {
   "cell_type": "code",
   "execution_count": 36,
   "metadata": {},
   "outputs": [],
   "source": [
    "def ppr_plot(y_pred, y_gnd, charges, pdg_encodings, interaction_types, title, plots):\n",
    "    \"\"\" Creates subplots for the ppr by neutrino flavour (and interaction type). \"\"\"\n",
    "    pgd_encodings = np.abs(pdg_encodings)\n",
    "    fig = plt.figure(figsize=(20, 10))\n",
    "    plt.xticks(fontsize=24)\n",
    "    plt.xscale('log')\n",
    "    \n",
    "    for plot_label in plots:\n",
    "        color, pdg_encoding, interaction_type = plots[plot_label]\n",
    "        if interaction_type is None:\n",
    "            mask = pdg_encodings == pdg_encoding\n",
    "        else:\n",
    "            mask = np.logical_and((pdg_encodings == pdg_encoding), (interaction_types == interaction_type))\n",
    "                           \n",
    "        ppr, sigma, bin_edges = binned_ppr(y_pred[mask], y_gnd[mask], charges[mask])\n",
    "        bin_centers = 0.5 * (bin_edges[1:] + bin_edges[:-1])\n",
    "        plt.fill_between(\n",
    "            bin_centers,\n",
    "            ppr - sigma,\n",
    "            ppr + sigma,\n",
    "            color=color,\n",
    "            alpha=.1,\n",
    "            step='pre',\n",
    "        )\n",
    "        plt.errorbar(\n",
    "            bin_centers,\n",
    "            ppr,\n",
    "            color=color,\n",
    "            label=plot_label,\n",
    "            linestyle='steps',\n",
    "        )\n",
    "    plt.xlabel('log(Integrated Charge) (pe)', fontsize=20)\n",
    "    plt.legend(loc='left', bbox_to_anchor=(1.0, 1.0), fontsize=20)\n",
    "    plt.title(title, fontsize=24)"
   ]
  },
  {
   "cell_type": "code",
   "execution_count": 22,
   "metadata": {},
   "outputs": [],
   "source": [
    "plots = {\n",
    "    #'nue NC' : ('blue', 12, 2),\n",
    "    #'nue CC' : ('black', 12, 1),\n",
    "    'numu CC' : ('green', 14, 1),\n",
    "    'numu NC' : ('red', 14, 2),\n",
    "    'nue' : ('blue', 12, None),\n",
    "    'nutau' : ('purple', 16, None),\n",
    "    #'nutau NC' : ('green', 16, 2),\n",
    "    #'nutau CC' : ('brown', 16, 1)\n",
    "\n",
    "}"
   ]
  },
  {
   "cell_type": "code",
   "execution_count": 85,
   "metadata": {},
   "outputs": [
    {
     "name": "stderr",
     "output_type": "stream",
     "text": [
      "/home/dominik/.local/lib/python3.6/site-packages/ipykernel_launcher.py:36: RuntimeWarning: invalid value encountered in true_divide\n",
      "/usr/local/lib/python3.6/dist-packages/matplotlib-3.0.3-py3.6-linux-x86_64.egg/matplotlib/legend.py:497: UserWarning: Unrecognized location \"left\". Falling back on \"best\"; valid locations are\n",
      "\tbest\n",
      "\tupper right\n",
      "\tupper left\n",
      "\tlower left\n",
      "\tlower right\n",
      "\tright\n",
      "\tcenter left\n",
      "\tcenter right\n",
      "\tlower center\n",
      "\tupper center\n",
      "\tcenter\n",
      "\n",
      "  % (loc, '\\n\\t'.join(self.codes)))\n"
     ]
    },
    {
     "data": {
      "image/png": "[encoded data removed]",
      "text/plain": [
       "<Figure size 1440x720 with 1 Axes>"
      ]
     },
     "metadata": {
      "needs_background": "light"
     },
     "output_type": "display_data"
    }
   ],
   "source": [
    "ppr_plot(y_model, data.targets[test_idx], charge[test_idx], pdg_encodings[test_idx], interaction_type[test_idx],\n",
    "        'Positive Predicted Value (Model)', plots)"
   ]
  },
  {
   "cell_type": "code",
   "execution_count": 38,
   "metadata": {},
   "outputs": [
    {
     "data": {
      "image/png": "[encoded data removed]",
      "text/plain": [
       "<Figure size 1440x720 with 1 Axes>"
      ]
     },
     "metadata": {
      "needs_background": "light"
     },
     "output_type": "display_data"
    }
   ],
   "source": [
    "ppr_plot(y_baseline[test_idx], data.targets[test_idx], charge[test_idx], pdg_encodings[test_idx], interaction_type[test_idx],\n",
    "        'Positive Predicted Value (Baseline)', plots)"
   ]
  },
  {
   "cell_type": "markdown",
   "metadata": {},
   "source": [
    "## Evaluate the model on the big dataset (that contains everything that was filtered)"
   ]
  },
  {
   "cell_type": "code",
   "execution_count": 76,
   "metadata": {},
   "outputs": [],
   "source": [
    "# Create a generator for the data\n",
    "def large_data_generator(batch_size):\n",
    "    # Loop over the dataset\n",
    "    while True:\n",
    "        for idx in range(0, large_data_idx.shape[0], batch_size):\n",
    "            batch_idxs = large_data_idx[idx : idx + batch_size]\n",
    "            features, coordinates, masks = data.get_padded_batch(batch_idxs)\n",
    "            yield [features, coordinates, masks]"
   ]
  },
  {
   "cell_type": "code",
   "execution_count": 77,
   "metadata": {},
   "outputs": [
    {
     "name": "stdout",
     "output_type": "stream",
     "text": [
      "25244/25244 [==============================] - 233s 9ms/step\n"
     ]
    }
   ],
   "source": [
    "logits_model_large_data = model.predict_generator(large_data_generator(batch_size),\n",
    "                       steps=int(np.ceil(large_data_idx.shape[0] / batch_size)), verbose=1)"
   ]
  },
  {
   "cell_type": "code",
   "execution_count": 78,
   "metadata": {},
   "outputs": [],
   "source": [
    "y_model_large_data = (logits_model_large_data >= 0.5).astype(np.int).flatten()"
   ]
  },
  {
   "cell_type": "code",
   "execution_count": 83,
   "metadata": {},
   "outputs": [
    {
     "data": {
      "text/plain": [
       "((1615566,), (1615566,), (2202957,), (65265,))"
      ]
     },
     "execution_count": 83,
     "metadata": {},
     "output_type": "execute_result"
    }
   ],
   "source": [
    "y_model_large_data.shape, large_data_idx.shape, charge.shape, pdg_encodings.shape"
   ]
  },
  {
   "cell_type": "code",
   "execution_count": 87,
   "metadata": {},
   "outputs": [
    {
     "data": {
      "image/png": "[encoded data removed]",
      "text/plain": [
       "<Figure size 1440x720 with 1 Axes>"
      ]
     },
     "metadata": {
      "needs_background": "light"
     },
     "output_type": "display_data"
    }
   ],
   "source": [
    "ppr_plot(y_model_large_data, data.targets[large_data_idx], charge[large_data_idx], \n",
    "         pdg_encodings[large_data_idx], interaction_type[large_data_idx],\n",
    "        'Positive Predicted Value (Model, Large Data)', plots)"
   ]
  },
  {
   "cell_type": "code",
   "execution_count": 86,
   "metadata": {},
   "outputs": [
    {
     "data": {
      "image/png": "[encoded data removed]",
      "text/plain": [
       "<Figure size 1440x720 with 1 Axes>"
      ]
     },
     "metadata": {
      "needs_background": "light"
     },
     "output_type": "display_data"
    }
   ],
   "source": [
    "ppr_plot(y_baseline[large_data_idx], data.targets[large_data_idx], charge[large_data_idx], \n",
    "         pdg_encodings[large_data_idx], interaction_type[large_data_idx],\n",
    "        'Positive Predicted Value (Baseline, Large Data)', plots)"
   ]
  },
  {
   "cell_type": "code",
   "execution_count": 47,
   "metadata": {},
   "outputs": [
    {
     "data": {
      "text/plain": [
       "(0.37931659864097167, 0.5603441765919808)"
      ]
     },
     "execution_count": 47,
     "metadata": {},
     "output_type": "execute_result"
    }
   ],
   "source": [
    "acc_model_large_data = (y_model_large_data == data.targets[large_data_idx]).sum() / y_model_large_data.shape[0]\n",
    "acc_baseline_large_data = (y_baseline[large_data_idx] == data.targets[large_data_idx]).sum() / y_model_large_data.shape[0]\n",
    "acc_model_large_data, acc_baseline_large_data"
   ]
  },
  {
   "cell_type": "code",
   "execution_count": 49,
   "metadata": {},
   "outputs": [
    {
     "data": {
      "text/plain": [
       "<ErrorbarContainer object of 3 artists>"
      ]
     },
     "execution_count": 49,
     "metadata": {},
     "output_type": "execute_result"
    },
    {
     "data": {
      "image/png": "[encoded data removed]",
      "text/plain": [
       "<Figure size 432x288 with 1 Axes>"
      ]
     },
     "metadata": {
      "needs_background": "light"
     },
     "output_type": "display_data"
    }
   ],
   "source": [
    "is_numunc = (np.logical_and((np.abs(pdg_encodings) == 14), (interaction_type == 2)))[large_data_idx]\n",
    "model_preds_numunc = y_model_large_data[is_numunc]\n",
    "log_charges_numunc = np.log(charge[large_data_idx][is_numunc])\n",
    "\n",
    "# Bin the charges\n",
    "bin_counts, bins = np.histogram(log_charges_numunc, bins=50, range=(2.0, 5.2))\n",
    "bin_counts_positives, _ = np.histogram(log_charges_numunc[model_preds_numunc > 0], bins=bins)\n",
    "ppr = bin_counts_positives / bin_counts\n",
    "plt.errorbar(0.5 * (bins[1:] + bins[:-1]), ppr, drawstyle='steps')"
   ]
  },
  {
   "cell_type": "markdown",
   "metadata": {},
   "source": [
    "# Check NuMu NC predictions from the model"
   ]
  },
  {
   "cell_type": "code",
   "execution_count": 50,
   "metadata": {},
   "outputs": [],
   "source": [
    "pdg_encodings = data.file['PDGEncoding']['value'][test_idx]\n",
    "interaction_type = data.file['InteractionType']['value'][test_idx]\n",
    "# Find positive predictions of the model that are also NuMu NC\n",
    "model_positives = y_model.astype(np.bool)\n",
    "is_numu_nc = np.logical_and(interaction_type == 2, np.abs(pdg_encodings) == 14)\n",
    "numu_nc_positives = np.logical_and(model_positives, is_numu_nc)\n",
    "numu_nc_positives.sum() / is_numu_nc.sum()\n",
    "numu_nc_positive_idx = test_idx[numu_nc_positives]"
   ]
  },
  {
   "cell_type": "code",
   "execution_count": 56,
   "metadata": {},
   "outputs": [
    {
     "data": {
      "text/plain": [
       "array([132626,  45518, 210986,  88710, 120602, 128937, 190098,  84665,\n",
       "        58167])"
      ]
     },
     "execution_count": 56,
     "metadata": {},
     "output_type": "execute_result"
    }
   ],
   "source": [
    "numu_nc_positve_idx_shuffled = numu_nc_positive_idx.copy()\n",
    "np.random.shuffle(numu_nc_positve_idx_shuffled)\n",
    "numu_nc_positve_idx_shuffled[:9]"
   ]
  },
  {
   "cell_type": "code",
   "execution_count": 69,
   "metadata": {},
   "outputs": [],
   "source": [
    "X, D, M = data.get_padded_batch(numu_nc_positve_idx_shuffled[:1000])\n",
    "logits_ = model.predict_on_batch([X, D, M])"
   ]
  },
  {
   "cell_type": "code",
   "execution_count": 71,
   "metadata": {},
   "outputs": [
    {
     "data": {
      "text/plain": [
       "1"
      ]
     },
     "execution_count": 71,
     "metadata": {},
     "output_type": "execute_result"
    }
   ],
   "source": [
    "(logits_ > .5).sum()"
   ]
  },
  {
   "cell_type": "code",
   "execution_count": 51,
   "metadata": {},
   "outputs": [
    {
     "data": {
      "text/plain": [
       "array([nan, nan, nan, ..., nan, nan, nan])"
      ]
     },
     "execution_count": 51,
     "metadata": {},
     "output_type": "execute_result"
    }
   ],
   "source": [
    "data.file['TrackLength']['value'][numu_nc_positive_idx]"
   ]
  },
  {
   "cell_type": "code",
   "execution_count": 52,
   "metadata": {},
   "outputs": [
    {
     "data": {
      "text/plain": [
       "array([ 4.75584811,  2.97221309,  7.37752622, ..., 49.48427969,\n",
       "        4.56047016, 14.87253192])"
      ]
     },
     "execution_count": 52,
     "metadata": {},
     "output_type": "execute_result"
    }
   ],
   "source": [
    "data.file['CascadeEnergy']['value'][numu_nc_positive_idx]"
   ]
  },
  {
   "cell_type": "code",
   "execution_count": 53,
   "metadata": {},
   "outputs": [
    {
     "data": {
      "text/plain": [
       "array([ 4.67499995, 12.40000015,  8.67499997, ..., 23.07499993,\n",
       "       21.20000009, 11.55      ])"
      ]
     },
     "execution_count": 53,
     "metadata": {},
     "output_type": "execute_result"
    }
   ],
   "source": [
    "data.file['IC86_Dunkman_L6_SANTA_DirectCharge']['value'][numu_nc_positive_idx]"
   ]
  },
  {
   "cell_type": "code",
   "execution_count": null,
   "metadata": {},
   "outputs": [],
   "source": [
    "data.file['PDGEncoding']['value'][numu_nc_positive_idx], np.std(np.abs(data.file['PDGEncoding']['value'][numu_nc_positive_idx]))"
   ]
  },
  {
   "cell_type": "code",
   "execution_count": null,
   "metadata": {},
   "outputs": [],
   "source": [
    "data.file['InteractionType']['value'][numu_nc_positive_idx], np.std(data.file['InteractionType']['value'][numu_nc_positive_idx])"
   ]
  },
  {
   "cell_type": "code",
   "execution_count": null,
   "metadata": {},
   "outputs": [],
   "source": [
    "y_model[]"
   ]
  },
  {
   "cell_type": "code",
   "execution_count": null,
   "metadata": {},
   "outputs": [],
   "source": [
    "data.file.keys()"
   ]
  },
  {
   "cell_type": "markdown",
   "metadata": {},
   "source": [
    "# Evaluate the model on the entire dataset\n",
    "data = HD5Dataset('../data/data_dragon.hd5', seed=42, features=[\"FirstCharge\", \"CumulativeCharge\", \"Time\",\n",
    "            \"VertexX\", \"VertexY\", \"VertexZ\", \"RecoX\",\n",
    "\"RecoZ\", \"RecoAzimuth\", \"RecoZenith\"])"
   ]
  },
  {
   "cell_type": "code",
   "execution_count": null,
   "metadata": {},
   "outputs": [],
   "source": [
    "#run_idx = 'hd5-875239' Model without cutoff but class balancing\n",
    "run_idx = 'hd5-860835'"
   ]
  },
  {
   "cell_type": "code",
   "execution_count": null,
   "metadata": {},
   "outputs": [],
   "source": [
    "%ls training/{run_idx}"
   ]
  },
  {
   "cell_type": "code",
   "execution_count": null,
   "metadata": {},
   "outputs": [],
   "source": [
    "with open(f'training/{run_idx}/config.json') as f:\n",
    "    settings = json.load(f)"
   ]
  },
  {
   "cell_type": "code",
   "execution_count": null,
   "metadata": {},
   "outputs": [],
   "source": [
    "data = util.dataset_from_config(settings)"
   ]
  },
  {
   "cell_type": "code",
   "execution_count": null,
   "metadata": {},
   "outputs": [],
   "source": [
    "model = util.model_from_config(settings)"
   ]
  },
  {
   "cell_type": "code",
   "execution_count": null,
   "metadata": {},
   "outputs": [],
   "source": [
    "model.load_weights(f'training/{run_idx}/model_weights.h5')"
   ]
  },
  {
   "cell_type": "code",
   "execution_count": null,
   "metadata": {},
   "outputs": [],
   "source": [
    "model.weights"
   ]
  },
  {
   "cell_type": "code",
   "execution_count": null,
   "metadata": {},
   "outputs": [],
   "source": [
    "data.get_baseline_accuracy()"
   ]
  },
  {
   "cell_type": "code",
   "execution_count": null,
   "metadata": {},
   "outputs": [],
   "source": [
    "#test_idx = data._get_idx('test')\n",
    "# Also append all idx that were kept from the model\n",
    "#test_idx.shape"
   ]
  },
  {
   "cell_type": "code",
   "execution_count": null,
   "metadata": {},
   "outputs": [],
   "source": [
    "data2_config = settings\n",
    "settings['dataset']['max_charge'] = None\n",
    "settings['dataset']['balance_classes'] = None\n",
    "settings['dataset']['min_track_length'] = None\n",
    "settings['dataset']['max_cascade_energy'] = None\n",
    "data2 = util.dataset_from_config(data2_config)"
   ]
  },
  {
   "cell_type": "code",
   "execution_count": null,
   "metadata": {},
   "outputs": [],
   "source": [
    "test_idx = data2._get_idx('test')\n",
    "test_idx.shape"
   ]
  },
  {
   "cell_type": "code",
   "execution_count": null,
   "metadata": {},
   "outputs": [],
   "source": [
    "# Evaluate the model on all the data\n",
    "batch_size = 72\n",
    "logits_model = model.predict_generator(data2.get_batches(batch_size=batch_size, dataset='test'),\n",
    "                       steps=int(np.ceil(data2.size(dataset='test') / batch_size)), verbose=1)"
   ]
  },
  {
   "cell_type": "code",
   "execution_count": null,
   "metadata": {},
   "outputs": [],
   "source": [
    "logits_model"
   ]
  },
  {
   "cell_type": "code",
   "execution_count": null,
   "metadata": {},
   "outputs": [],
   "source": [
    "np.unique(logits_model).shape"
   ]
  },
  {
   "cell_type": "code",
   "execution_count": null,
   "metadata": {},
   "outputs": [],
   "source": [
    "y_model = (logits_model >= 0.5).astype(np.int)"
   ]
  },
  {
   "cell_type": "code",
   "execution_count": null,
   "metadata": {},
   "outputs": [],
   "source": [
    "np.unique(y_model)"
   ]
  },
  {
   "cell_type": "code",
   "execution_count": null,
   "metadata": {},
   "outputs": [],
   "source": [
    "y_model = y_model.squeeze()"
   ]
  },
  {
   "cell_type": "code",
   "execution_count": null,
   "metadata": {},
   "outputs": [],
   "source": [
    "# Get the pe counts (~charge) of the test data\n",
    "total_charge = data.file['TotalCharge']['value'][test_idx]"
   ]
  },
  {
   "cell_type": "code",
   "execution_count": null,
   "metadata": {},
   "outputs": [],
   "source": [
    "y_gnd = data.targets[test_idx]\n",
    "y_baseline = (data.delta_loglikelihood[test_idx] >= 2.0).astype(np.uint8)"
   ]
  },
  {
   "cell_type": "code",
   "execution_count": null,
   "metadata": {},
   "outputs": [],
   "source": [
    "y_model.shape, y_gnd.shape, y_baseline.shape"
   ]
  },
  {
   "cell_type": "code",
   "execution_count": null,
   "metadata": {},
   "outputs": [],
   "source": [
    "total_charge\n",
    "total_charge.max(), total_charge.min()"
   ]
  },
  {
   "cell_type": "code",
   "execution_count": null,
   "metadata": {},
   "outputs": [],
   "source": [
    "bins = np.logspace(0.8, 3.2)\n",
    "binned = np.digitize(total_charge, bins)\n",
    "#np.unique(binned)"
   ]
  },
  {
   "cell_type": "code",
   "execution_count": null,
   "metadata": {},
   "outputs": [],
   "source": [
    "def get_metrics(y_pred, y_gnd):\n",
    "    acc = (y_pred == y_gnd).sum() / len(y_pred)\n",
    "    tpr = (y_pred[y_gnd == 1] == 1).sum() / ((y_gnd == 1).sum() + 1e-20)\n",
    "    tnr = (y_pred[y_gnd == 0] == 0).sum() / ((y_gnd == 0).sum() + 1e-20)\n",
    "    ppr = (y_pred == 1).sum() / y_pred.shape[0]\n",
    "    return acc, tpr, tnr, ppr"
   ]
  },
  {
   "cell_type": "code",
   "execution_count": null,
   "metadata": {},
   "outputs": [],
   "source": [
    "pgd_encoding = np.array(data.file['PDGEncoding']['value'], dtype=np.uint8).astype(np.int8)\n",
    "pgd_encoding.shape"
   ]
  },
  {
   "cell_type": "code",
   "execution_count": null,
   "metadata": {},
   "outputs": [],
   "source": [
    "(np.abs(pgd_encoding) == 12).sum()"
   ]
  },
  {
   "cell_type": "code",
   "execution_count": null,
   "metadata": {},
   "outputs": [],
   "source": [
    "interaction_types = np.array(data.file['InteractionType']['value'], dtype=np.uint8)\n",
    "interaction_types"
   ]
  },
  {
   "cell_type": "code",
   "execution_count": null,
   "metadata": {},
   "outputs": [],
   "source": [
    "np.unique(pgd_encoding, return_counts=True)"
   ]
  },
  {
   "cell_type": "code",
   "execution_count": null,
   "metadata": {},
   "outputs": [],
   "source": [
    "np.logical_and((interaction_types == 1), (np.abs(pgd_encoding) == 14)).sum() / interaction_types.shape[0]"
   ]
  },
  {
   "cell_type": "code",
   "execution_count": null,
   "metadata": {},
   "outputs": [],
   "source": [
    "np.unique(interaction_types)"
   ]
  },
  {
   "cell_type": "code",
   "execution_count": null,
   "metadata": {},
   "outputs": [],
   "source": [
    "data.file.keys()"
   ]
  },
  {
   "cell_type": "code",
   "execution_count": null,
   "metadata": {},
   "outputs": [],
   "source": [
    "y_gnd2 = np.logical_and((interaction_types == 1), (np.abs(pgd_encoding) == 14)).astype(np.int)"
   ]
  },
  {
   "cell_type": "code",
   "execution_count": null,
   "metadata": {},
   "outputs": [],
   "source": [
    "metrics = defaultdict(lambda: defaultdict(list))\n",
    "for bin_idx, value in enumerate(bins):\n",
    "    for interaction_type, pgd_code in (('nue', 12), ('numu CC', 14), ('numu NC', 14), ('nutau', 16)):\n",
    "        # print((np.abs(pgd_encoding) == pgd_code).sum(), pgd_code)\n",
    "        bin_mask = binned == bin_idx\n",
    "        enc_mask = np.abs(pgd_encoding[test_idx] == pgd_code)\n",
    "        if 'numu' in interaction_type:\n",
    "            it = 1 if 'CC' in interaction_type else 2\n",
    "            it_mask = interaction_types[test_idx] == it\n",
    "            #print(it, it_mask.sum())\n",
    "            idxs = np.where(np.logical_and(bin_mask, np.logical_and(enc_mask, it_mask)))[0]\n",
    "        else:\n",
    "            idxs = np.where(np.logical_and(bin_mask, enc_mask))[0]\n",
    "        # print(idxs.shape)\n",
    "        for y, t in ((y_model, 'model'), (y_baseline, 'baseline')):\n",
    "            acc, tpr, tnr, ppr = get_metrics(y[idxs], y_gnd[idxs])\n",
    "            metrics[interaction_type][t].append({\n",
    "                'acc' : acc, 'tpr' : tpr, 'ppr' : ppr, 'bin_idx' : bin_idx, 'value' : value, 'num_samples' : idxs.shape[0]\n",
    "            })"
   ]
  },
  {
   "cell_type": "code",
   "execution_count": null,
   "metadata": {},
   "outputs": [],
   "source": [
    "dfs = {\n",
    "    pgd_code : {\n",
    "            type_ : pd.DataFrame(data) for type_, data in metrics_code.items()\n",
    "        } for pgd_code, metrics_code in metrics.items()\n",
    "    }\n",
    "for pgd_code, metrics_code in dfs.items():\n",
    "    for type_, df in metrics_code.items():\n",
    "        df = df[df['num_samples'] > 100]\n",
    "        metrics_code[type_] = df"
   ]
  },
  {
   "cell_type": "code",
   "execution_count": null,
   "metadata": {},
   "outputs": [],
   "source": [
    "dfs['numu NC']"
   ]
  },
  {
   "cell_type": "code",
   "execution_count": null,
   "metadata": {},
   "outputs": [],
   "source": [
    "def plot_metric(metric, metric_name):\n",
    "    colors = ['blue', 'green', 'red', 'purple']\n",
    "    fig = plt.figure()\n",
    "    plt.xscale('log')\n",
    "    for (pgd_code, df), color in zip(dfs.items(), colors):\n",
    "        for t in df.keys():\n",
    "            if t == 'model':\n",
    "                plt.plot(df[t]['value'], df[t][metric], label=f'{pgd_code} (model)', color=color)\n",
    "            else:\n",
    "                plt.plot(df[t]['value'], df[t][metric], label=f'{pgd_code} (baseline)', linestyle='dashed', color=color)\n",
    "    plt.legend(loc='left', bbox_to_anchor=(1.0, 1.05))\n",
    "    plt.title(metric_name)\n",
    "    plt.ylim()\n",
    "    plt.xlabel('log(Integrated Charge) (pe)')\n"
   ]
  },
  {
   "cell_type": "code",
   "execution_count": null,
   "metadata": {},
   "outputs": [],
   "source": [
    "plot_metric('acc', 'Accuracy', )"
   ]
  },
  {
   "cell_type": "code",
   "execution_count": null,
   "metadata": {},
   "outputs": [],
   "source": [
    "(y_model == y_gnd).sum() / y_gnd.shape[0]"
   ]
  },
  {
   "cell_type": "code",
   "execution_count": null,
   "metadata": {},
   "outputs": [],
   "source": [
    "(y_baseline == y_gnd).sum() / y_gnd.shape[0]"
   ]
  },
  {
   "cell_type": "code",
   "execution_count": null,
   "metadata": {},
   "outputs": [],
   "source": [
    "plot_metric('ppr', 'Predicted Positives')"
   ]
  },
  {
   "cell_type": "code",
   "execution_count": null,
   "metadata": {},
   "outputs": [],
   "source": [
    "bins_track, bin_counts_track = np.unique(binned[y_gnd > 0], return_counts=True)\n",
    "bins_non_track, bin_counts_non_track = np.unique(binned[y_gnd <= 0], return_counts=True)\n",
    "bin_counts_non_track, bin_counts_track\n"
   ]
  },
  {
   "cell_type": "code",
   "execution_count": null,
   "metadata": {},
   "outputs": [],
   "source": [
    "fig = plt.figure()\n",
    "plt.xscale('log')\n",
    "plt.step(bins[bins_track], bin_counts_track, label='Track')\n",
    "plt.step(bins[bins_non_track], bin_counts_non_track, label='No Track')\n",
    "plt.legend()\n",
    "plt.xlim(right=2e2)\n",
    "plt.title('Event Counts')\n",
    "plt.xlabel('log(Integrated Charge) (pe)')"
   ]
  },
  {
   "cell_type": "code",
   "execution_count": null,
   "metadata": {},
   "outputs": [],
   "source": [
    "np.hstack((\n",
    "    np.array(pd.DataFrame(metrics['numu CC']['model'])['acc']),\n",
    "    np.array(pd.DataFrame(metrics['numu CC']['model'])['acc'])\n",
    "    )\n",
    ")"
   ]
  },
  {
   "cell_type": "code",
   "execution_count": null,
   "metadata": {},
   "outputs": [],
   "source": [
    "total_charge_sorted = np.sort(total_charge)"
   ]
  },
  {
   "cell_type": "code",
   "execution_count": null,
   "metadata": {},
   "outputs": [],
   "source": [
    "# Find different cutoff values to check performance at different maximal energies by selecting the quantiles of the data\n",
    "cutoffs = []\n",
    "quantiles = []\n",
    "for quantile in np.arange(0.00, 1.0, 0.01):\n",
    "    quantile = 1.0 - quantile\n",
    "    quantiles.append(quantile)\n",
    "    cutoffs.append(total_charge_sorted[int(total_charge.shape[0] * quantile) - 1])"
   ]
  },
  {
   "cell_type": "code",
   "execution_count": null,
   "metadata": {},
   "outputs": [],
   "source": [
    "y_model.shape, y_gnd.shape"
   ]
  },
  {
   "cell_type": "code",
   "execution_count": null,
   "metadata": {},
   "outputs": [],
   "source": [
    "metrics = defaultdict(lambda: defaultdict(list))\n",
    "for cutoff, quantile in zip(cutoffs, quantiles):\n",
    "    mask = total_charge <= cutoff\n",
    "    acc_baseline, tpr_baseline, tnr_baseline, ppr_baseline = get_metrics(y_baseline[mask], y_gnd[mask])\n",
    "    metrics['baseline']['accuracy'].append(acc_baseline)\n",
    "    metrics['baseline']['tpr'].append(tpr_baseline)\n",
    "    metrics['baseline']['tnr'].append(tnr_baseline)\n",
    "    metrics['baseline']['ppr'].append(ppr_baseline)\n",
    "    acc_model, tpr_model, tnr_model, ppr_model = get_metrics(y_model[mask], y_gnd[mask])\n",
    "    metrics['model']['accuracy'].append(acc_model)\n",
    "    metrics['model']['tpr'].append(tpr_model)\n",
    "    metrics['model']['tnr'].append(tnr_model)\n",
    "    metrics['model']['ppr'].append(ppr_model)\n",
    "    metrics['gnd']['ppr'].append((y_gnd[mask] == 1).sum() / y_gnd[mask].shape[0])"
   ]
  },
  {
   "cell_type": "code",
   "execution_count": null,
   "metadata": {},
   "outputs": [],
   "source": [
    "fig = plt.figure(figsize=(15, 5))\n",
    "ax1 = fig.add_subplot(131)\n",
    "ax1.plot(cutoffs, metrics['baseline']['accuracy'], label='Baseline')\n",
    "ax1.plot(cutoffs, metrics['model']['accuracy'], label='Model')\n",
    "ax1.set_title('Accuracy', fontsize=18)\n",
    "ax1.legend(fontsize=18)\n",
    "ax2 = fig.add_subplot(132)\n",
    "ax2.plot(cutoffs, metrics['baseline']['tpr'], label='Baseline')\n",
    "ax2.plot(cutoffs, metrics['model']['tpr'], label='Model')\n",
    "ax2.set_title('True Positive Rate', fontsize=18)\n",
    "ax2.legend(fontsize=18)\n",
    "ax3 = fig.add_subplot(133)\n",
    "ax3.plot(cutoffs, metrics['baseline']['tnr'], label='Baseline')\n",
    "ax3.plot(cutoffs, metrics['model']['tnr'], label='Model')\n",
    "ax3.set_title('True Negative Rate', fontsize=18)\n",
    "ax3.legend(fontsize=18)\n",
    "fig.text(0.5, 0.04, 'Integrated Charge (pe)', ha='center', va='center', fontsize=18)\n",
    "\n"
   ]
  },
  {
   "cell_type": "code",
   "execution_count": null,
   "metadata": {},
   "outputs": [],
   "source": []
  },
  {
   "cell_type": "code",
   "execution_count": null,
   "metadata": {},
   "outputs": [],
   "source": [
    "fig = plt.figure()\n",
    "plt.plot(cutoffs, metrics['baseline']['ppr'], label='Baseline')\n",
    "plt.plot(cutoffs, metrics['model']['ppr'], label='Model')\n",
    "plt.plot(cutoffs, metrics['gnd']['ppr'], label='Truth')\n",
    "plt.legend()\n"
   ]
  },
  {
   "cell_type": "code",
   "execution_count": null,
   "metadata": {},
   "outputs": [],
   "source": [
    "model.summary()"
   ]
  },
  {
   "cell_type": "code",
   "execution_count": null,
   "metadata": {},
   "outputs": [],
   "source": [
    "model.weights"
   ]
  },
  {
   "cell_type": "code",
   "execution_count": null,
   "metadata": {},
   "outputs": [],
   "source": [
    "np.unique(y_model)"
   ]
  },
  {
   "cell_type": "markdown",
   "metadata": {},
   "source": [
    "# Investigate attributes of the dataset"
   ]
  },
  {
   "cell_type": "code",
   "execution_count": null,
   "metadata": {},
   "outputs": [],
   "source": [
    "file = h5py.File('../data/data_dragon2.hd5')"
   ]
  },
  {
   "cell_type": "code",
   "execution_count": null,
   "metadata": {},
   "outputs": [],
   "source": [
    "idx = np.arange(file['TimeStdDeviation'].shape[0])\n",
    "np.random.shuffle(idx)"
   ]
  },
  {
   "cell_type": "code",
   "execution_count": null,
   "metadata": {},
   "outputs": [],
   "source": [
    "samples = idx[:100000]"
   ]
  },
  {
   "cell_type": "code",
   "execution_count": null,
   "metadata": {},
   "outputs": [],
   "source": [
    "file.keys()"
   ]
  },
  {
   "cell_type": "code",
   "execution_count": null,
   "metadata": {},
   "outputs": [],
   "source": [
    "time_std_samples = file['TimeStdDeviation']['item'][samples]"
   ]
  },
  {
   "cell_type": "code",
   "execution_count": null,
   "metadata": {},
   "outputs": [],
   "source": [
    "time_std_samples = time_std_samples[time_std_samples < 1e-5]"
   ]
  },
  {
   "cell_type": "code",
   "execution_count": null,
   "metadata": {},
   "outputs": [],
   "source": [
    "time_std_samples"
   ]
  },
  {
   "cell_type": "code",
   "execution_count": null,
   "metadata": {},
   "outputs": [],
   "source": [
    "plt.hist(time_std_samples, bins=100)"
   ]
  },
  {
   "cell_type": "code",
   "execution_count": null,
   "metadata": {},
   "outputs": [],
   "source": [
    "charge_samples = file['ChargeFirstPulse']['item'][samples]"
   ]
  },
  {
   "cell_type": "code",
   "execution_count": null,
   "metadata": {},
   "outputs": [],
   "source": [
    "charge_samples = charge_samples[charge_samples <= 5]"
   ]
  },
  {
   "cell_type": "code",
   "execution_count": null,
   "metadata": {},
   "outputs": [],
   "source": [
    "plt.hist(charge_samples, bins=100)"
   ]
  },
  {
   "cell_type": "code",
   "execution_count": null,
   "metadata": {},
   "outputs": [],
   "source": [
    "time_samples = file['TimeFirstPulse']['item'][samples]"
   ]
  },
  {
   "cell_type": "code",
   "execution_count": null,
   "metadata": {},
   "outputs": [],
   "source": [
    "time_samples_filtered = time_samples[time_samples > -0.002]"
   ]
  },
  {
   "cell_type": "code",
   "execution_count": null,
   "metadata": {},
   "outputs": [],
   "source": [
    "time_samples_filtered.std()"
   ]
  },
  {
   "cell_type": "code",
   "execution_count": null,
   "metadata": {},
   "outputs": [],
   "source": []
  }
 ],
 "metadata": {
  "kernelspec": {
   "display_name": "Python 3",
   "language": "python",
   "name": "python3"
  },
  "language_info": {
   "codemirror_mode": {
    "name": "ipython",
    "version": 3
   },
   "file_extension": ".py",
   "mimetype": "text/x-python",
   "name": "python",
   "nbconvert_exporter": "python",
   "pygments_lexer": "ipython3",
   "version": "3.6.7"
  }
 },
 "nbformat": 4,
 "nbformat_minor": 2
}
