{
 "cells": [
  {
   "cell_type": "code",
   "execution_count": 1,
   "metadata": {},
   "outputs": [],
   "source": [
    "import numpy as np\n",
    "import pandas as pd\n",
    "import matplotlib.pyplot as plt\n",
    "import h5py\n",
    "from model import *\n",
    "from dataset import *\n",
    "import util\n",
    "import json\n",
    "from collections import defaultdict"
   ]
  },
  {
   "cell_type": "markdown",
   "metadata": {},
   "source": [
    "# Load model and data"
   ]
  },
  {
   "cell_type": "code",
   "execution_count": 2,
   "metadata": {},
   "outputs": [],
   "source": [
    "model_idx = 'hd5-860835'"
   ]
  },
  {
   "cell_type": "code",
   "execution_count": 4,
   "metadata": {},
   "outputs": [
    {
     "name": "stderr",
     "output_type": "stream",
     "text": [
      "/media/dominik/d/uni/uare/icecube/NuIntClassification/dataset/hd5.py:316: RuntimeWarning: invalid value encountered in less\n",
      "  idx_removed = np.where(np.logical_and((track_length < min_track_length), has_track_length))[0]\n",
      "/media/dominik/d/uni/uare/icecube/NuIntClassification/dataset/hd5.py:322: RuntimeWarning: invalid value encountered in greater\n",
      "  idx_removed = np.where(np.logical_and((cascade_energy > max_cascade_energy), has_track_length))\n"
     ]
    },
    {
     "name": "stdout",
     "output_type": "stream",
     "text": [
      "After Track Length filter 1333960 / 2202957 events remain.\n",
      "After Cascade Energy filter 1167113 / 2202957 events remain.\n",
      "Reduced dataset to 326328 samples per class (652656 / 2202957)\n",
      "Created sha1 hash for features and data file c7186ad6f4095a7ceb2168696ef104bbe0381efa\n",
      "Loaded feature memmap ./memmaps/hd5_features_c7186ad6f4095a7ceb2168696ef104bbe0381efa.\n",
      "Created distances memmap ./memmaps/hd5_distances_c7186ad6f4095a7ceb2168696ef104bbe0381efa.\n"
     ]
    }
   ],
   "source": [
    "with open(f'training/{model_idx}/config.json') as f:\n",
    "    config = json.load(f)\n",
    "data = util.dataset_from_config(config)\n",
    "model = util.model_from_config(config)"
   ]
  },
  {
   "cell_type": "code",
   "execution_count": 214,
   "metadata": {},
   "outputs": [
    {
     "name": "stdout",
     "output_type": "stream",
     "text": [
      "{'dataset': {'type': 'hd5', 'path': '../data/data_dragon4.hd5', 'validation_portion': 0.1, 'test_portion': 0.1, 'shuffle': True, 'features': ['ChargeFirstPulse', 'TimeFirstPulse', 'ChargeLastPulse', 'TimeLastPulse', 'TimeVariance', 'IntegratedCharge', 'TimeMaxPulse', 'ChargeMaxPulse', 'VertexX', 'VertexY', 'VertexZ'], 'max_charge': None, 'seed': None, 'distances_precomputed': True, 'balance_classes': True, 'min_track_length': 75, 'max_cascade_energy': 10}, 'model': {'type': 'gcnn', 'hidden_units_graph_convolutions': [64, 64, 64, 64, 64, 64], 'hidden_units_lstm': [32, 16], 'hidden_units_fully_connected': [1], 'use_batchnorm': True, 'dropout_rate': 0.3}, 'training': {'loss': 'binary_crossentropy', 'metrics': ['accuracy'], 'learning_rate': 0.0005, 'batch_size': 64, 'epochs': 5, 'directory': './training/hd5-{0}', 'checkpoint_period': 5, 'use_class_weights': True, 'logfile': None}}\n"
     ]
    }
   ],
   "source": [
    "print(config)"
   ]
  },
  {
   "cell_type": "code",
   "execution_count": 5,
   "metadata": {},
   "outputs": [
    {
     "name": "stdout",
     "output_type": "stream",
     "text": [
      "WARNING:tensorflow:From /home/dominik/.local/lib/python3.6/site-packages/tensorflow/python/ops/resource_variable_ops.py:642: colocate_with (from tensorflow.python.framework.ops) is deprecated and will be removed in a future version.\n",
      "Instructions for updating:\n",
      "Colocations handled automatically by placer.\n",
      "WARNING:tensorflow:From /home/dominik/.local/lib/python3.6/site-packages/tensorflow/python/keras/layers/core.py:143: calling dropout (from tensorflow.python.ops.nn_ops) with keep_prob is deprecated and will be removed in a future version.\n",
      "Instructions for updating:\n",
      "Please use `rate` instead of `keep_prob`. Rate should be set to `rate = 1 - keep_prob`.\n",
      "1020/1020 [==============================] - 10s 10ms/step\n"
     ]
    }
   ],
   "source": [
    "# Predict on one batch such that the model gets built and then load weights\n",
    "batch_size = config['training']['batch_size']\n",
    "for X, y in data.get_batches(batch_size=batch_size, dataset='test'):\n",
    "    break\n",
    "model.predict_on_batch(X)\n",
    "model.load_weights(f'training/{model_idx}/model_weights.h5')\n",
    "logits_model = model.predict_generator(data.get_batches(batch_size=batch_size, dataset='test'),\n",
    "                       steps=int(np.ceil(data.size(dataset='test') / batch_size)), verbose=1)"
   ]
  },
  {
   "cell_type": "code",
   "execution_count": 31,
   "metadata": {},
   "outputs": [
    {
     "data": {
      "text/plain": [
       "(array([11062.,  3626.,  3898.,  4309.,  3696.,  3960.,  4950.,  7100.,\n",
       "        10869., 11795.]),\n",
       " array([0.        , 0.09580143, 0.19160286, 0.28740427, 0.3832057 ,\n",
       "        0.47900712, 0.57480854, 0.67060995, 0.7664114 , 0.86221284,\n",
       "        0.95801425], dtype=float32),\n",
       " <a list of 10 Patch objects>)"
      ]
     },
     "execution_count": 31,
     "metadata": {},
     "output_type": "execute_result"
    },
    {
     "data": {
      "image/png": "[encoded data removed]",
      "text/plain": [
       "<Figure size 432x288 with 1 Axes>"
      ]
     },
     "metadata": {
      "needs_background": "light"
     },
     "output_type": "display_data"
    }
   ],
   "source": [
    "y_model = (logits_model >= .5).astype(np.int).flatten()\n",
    "plt.hist(logits_model)"
   ]
  },
  {
   "cell_type": "markdown",
   "metadata": {},
   "source": [
    "## Predict model on all data that was discarded during filtering"
   ]
  },
  {
   "cell_type": "code",
   "execution_count": 32,
   "metadata": {},
   "outputs": [
    {
     "name": "stdout",
     "output_type": "stream",
     "text": [
      "Large test data consists of (1615566,) samples\n"
     ]
    }
   ],
   "source": [
    "large_data_mask = np.ones(data.targets.shape).astype(np.bool)\n",
    "large_data_mask[data._get_idx('train')] = False\n",
    "large_data_mask[data._get_idx('val')] = False\n",
    "large_data_idx = np.where(large_data_mask)[0]\n",
    "print(f'Large test data consists of {large_data_idx.shape} samples')"
   ]
  },
  {
   "cell_type": "code",
   "execution_count": 83,
   "metadata": {},
   "outputs": [],
   "source": [
    "charge = np.array(data.file['TotalCharge']['value'])\n",
    "pdg_encodings = np.array(data.file['PDGEncoding']['value'])\n",
    "interaction_type = np.array(data.file['InteractionType']['value'])\n",
    "y_baseline = (data.delta_loglikelihood >= 2.0).astype(np.uint8)"
   ]
  },
  {
   "cell_type": "code",
   "execution_count": 34,
   "metadata": {},
   "outputs": [],
   "source": [
    "test_idx = data._get_idx('test')"
   ]
  },
  {
   "cell_type": "code",
   "execution_count": 55,
   "metadata": {},
   "outputs": [],
   "source": [
    "def binned_ppr(y_pred, y_gnd, charge, bins=50):\n",
    "    \"\"\" Calculates the ppr binned in charges. \n",
    "    \n",
    "    Parameters:\n",
    "    -----------\n",
    "    y_pred : ndarray, shape [N]\n",
    "        Predictions.\n",
    "    y_gnd : ndarray, shape [N]\n",
    "        Ground truths.\n",
    "    charge : ndarray, shape [N]\n",
    "        Charge values (to be binned.)\n",
    "    bins : int, optional\n",
    "        The number of bins.\n",
    "    \n",
    "    Returns:\n",
    "    --------\n",
    "    ppr : ndarray, shape [bins + 1]\n",
    "        Positive predicted values for each bin.\n",
    "    sigma_ppr : ndarray, shape [bins + 1]\n",
    "        Uncertainty of predicted positive values for each bin.\n",
    "    bins : ndarray, shape [bins]\n",
    "        Bin edges.\n",
    "    \"\"\"\n",
    "    log_charge = np.log(charge)\n",
    "    # Bin all charges\n",
    "    bin_counts, bins = np.histogram(log_charge, bins=bins, range=(2.0, 5.2))\n",
    "    # Bin positive predictions\n",
    "    pos_bin_counts, _ = np.histogram(log_charge[y_pred > 0], bins=bins)\n",
    "    ppr = pos_bin_counts / bin_counts\n",
    "    \n",
    "    # Calculate uncertainty\n",
    "    sigma_bin_counts = np.sqrt(bin_counts)\n",
    "    sigma_pos_bin_counts = np.sqrt(pos_bin_counts)\n",
    "    \n",
    "    sigma_ppr = np.sqrt(\n",
    "        ppr**2 * ((sigma_bin_counts / bin_counts)**2 + (sigma_pos_bin_counts / pos_bin_counts)**2))\n",
    "    return ppr, sigma_ppr, bins"
   ]
  },
  {
   "cell_type": "code",
   "execution_count": 141,
   "metadata": {},
   "outputs": [],
   "source": [
    "def ppr_plot(y_pred, y_gnd, charges, pdg_encodings, interaction_types, title, plots):\n",
    "    \"\"\" Creates subplots for the ppr by neutrino flavour (and interaction type). \"\"\"\n",
    "    pgd_encodings = np.abs(pdg_encodings)\n",
    "    fig = plt.figure()\n",
    "    plt.xscale('log')\n",
    "    \n",
    "    for plot_label in plots:\n",
    "        color, pdg_encoding, interaction_type = plots[plot_label]\n",
    "        if interaction_type is None:\n",
    "            mask = pdg_encodings == pdg_encoding\n",
    "        else:\n",
    "            mask = np.logical_and((pdg_encodings == pdg_encoding), (interaction_types == interaction_type))\n",
    "                           \n",
    "        ppr, sigma, bin_edges = binned_ppr(y_pred[mask], y_gnd[mask], charges[mask])\n",
    "        bin_centers = 0.5 * (bin_edges[1:] + bin_edges[:-1])\n",
    "        plt.errorbar(\n",
    "            bin_centers,\n",
    "            ppr,\n",
    "            yerr = sigma,\n",
    "            drawstyle = 'steps',\n",
    "            color=color,\n",
    "            label=plot_label\n",
    "        )\n",
    "    plt.xlabel('log(Integrated Charge) (pe)')\n",
    "    plt.legend(loc='left', bbox_to_anchor=(1.0, 1.05))\n",
    "    plt.title(title)"
   ]
  },
  {
   "cell_type": "code",
   "execution_count": 202,
   "metadata": {},
   "outputs": [],
   "source": [
    "plots = {\n",
    "    #'nue NC' : ('blue', 12, 2),\n",
    "    #'nue CC' : ('black', 12, 1),\n",
    "    'numu CC' : ('green', 14, 1),\n",
    "    'numu NC' : ('red', 14, 2),\n",
    "    'nue' : ('blue', 12, None),\n",
    "    'nutau' : ('purple', 16, None),\n",
    "    #'nutau NC' : ('green', 16, 2),\n",
    "    #'nutau CC' : ('brown', 16, 1)\n",
    "\n",
    "}"
   ]
  },
  {
   "cell_type": "code",
   "execution_count": 203,
   "metadata": {},
   "outputs": [
    {
     "data": {
      "image/png": "[encoded data removed]",
      "text/plain": [
       "<Figure size 432x288 with 1 Axes>"
      ]
     },
     "metadata": {
      "needs_background": "light"
     },
     "output_type": "display_data"
    }
   ],
   "source": [
    "ppr_plot(y_model, data.targets[test_idx], charge[test_idx], pdg_encodings[test_idx], interaction_type[test_idx],\n",
    "        'Positive Predicted Value (Model)', plots)"
   ]
  },
  {
   "cell_type": "code",
   "execution_count": 206,
   "metadata": {},
   "outputs": [
    {
     "name": "stderr",
     "output_type": "stream",
     "text": [
      "/home/dominik/.local/lib/python3.6/site-packages/ipykernel_launcher.py:36: RuntimeWarning: invalid value encountered in true_divide\n"
     ]
    },
    {
     "data": {
      "image/png": "[encoded data removed]",
      "text/plain": [
       "<Figure size 432x288 with 1 Axes>"
      ]
     },
     "metadata": {
      "needs_background": "light"
     },
     "output_type": "display_data"
    }
   ],
   "source": [
    "ppr_plot(y_baseline[test_idx], data.targets[test_idx], charge[test_idx], pdg_encodings[test_idx], interaction_type[test_idx],\n",
    "        'Positive Predicted Value (Baseline)', plots)"
   ]
  },
  {
   "cell_type": "markdown",
   "metadata": {},
   "source": [
    "## Evaluate the model on the big dataset (that contains everything that was filtered)"
   ]
  },
  {
   "cell_type": "code",
   "execution_count": 97,
   "metadata": {},
   "outputs": [],
   "source": [
    "# Create a generator for the data\n",
    "def large_data_generator(batch_size):\n",
    "    # Loop over the dataset\n",
    "    while True:\n",
    "        for idx in range(0, large_data_idx.shape[0], batch_size):\n",
    "            batch_idxs = large_data_idx[idx : idx + batch_size]\n",
    "            features, coordinates, masks = data.get_padded_batch(batch_idxs)\n",
    "            targets = data.targets[batch_idxs]\n",
    "            yield [features, coordinates, masks], targets"
   ]
  },
  {
   "cell_type": "code",
   "execution_count": 215,
   "metadata": {},
   "outputs": [
    {
     "data": {
      "text/plain": [
       "((1615566,), (1615566,))"
      ]
     },
     "execution_count": 215,
     "metadata": {},
     "output_type": "execute_result"
    }
   ],
   "source": []
  },
  {
   "cell_type": "code",
   "execution_count": 213,
   "metadata": {},
   "outputs": [
    {
     "data": {
      "text/plain": [
       "<ErrorbarContainer object of 3 artists>"
      ]
     },
     "execution_count": 213,
     "metadata": {},
     "output_type": "execute_result"
    },
    {
     "data": {
      "image/png": "[encoded data removed]",
      "text/plain": [
       "<Figure size 432x288 with 1 Axes>"
      ]
     },
     "metadata": {
      "needs_background": "light"
     },
     "output_type": "display_data"
    }
   ],
   "source": [
    "is_numunc = (np.logical_and((np.abs(pdg_encodings) == 14), (interaction_type == 2)))[large_data_idx]\n",
    "model_preds_numunc = y_model_large_data[is_numunc]\n",
    "log_charges_numunc = np.log(charge[large_data_idx][is_numunc])\n",
    "\n",
    "# Bin the charges\n",
    "bin_counts, bins = np.histogram(log_charges_numunc, bins=50, range=(2.0, 5.2))\n",
    "bin_counts_positives, _ = np.histogram(log_charges_numunc[model_preds_numunc > 0], bins=bins)\n",
    "ppr = bin_counts_positives / bin_counts\n",
    "plt.errorbar(0.5 * (bins[1:] + bins[:-1]), ppr, drawstyle='steps')"
   ]
  },
  {
   "cell_type": "code",
   "execution_count": 98,
   "metadata": {},
   "outputs": [
    {
     "name": "stdout",
     "output_type": "stream",
     "text": [
      "25244/25244 [==============================] - 209s 8ms/step\n"
     ]
    }
   ],
   "source": [
    "logits_model_large_data = model.predict_generator(large_data_generator(batch_size),\n",
    "                       steps=int(np.ceil(large_data_idx.shape[0] / batch_size)), verbose=1)"
   ]
  },
  {
   "cell_type": "code",
   "execution_count": 105,
   "metadata": {},
   "outputs": [],
   "source": [
    "y_model_large_data = (logits_model_large_data >= 0.5).astype(np.int).flatten()"
   ]
  },
  {
   "cell_type": "code",
   "execution_count": 207,
   "metadata": {},
   "outputs": [
    {
     "data": {
      "image/png": "[encoded data removed]",
      "text/plain": [
       "<Figure size 432x288 with 1 Axes>"
      ]
     },
     "metadata": {
      "needs_background": "light"
     },
     "output_type": "display_data"
    }
   ],
   "source": [
    "ppr_plot(y_model_large_data, data.targets[large_data_idx], charge[large_data_idx], \n",
    "         pdg_encodings[large_data_idx], interaction_type[large_data_idx],\n",
    "        'Positive Predicted Value (Model, Large Data)', plots)"
   ]
  },
  {
   "cell_type": "code",
   "execution_count": 209,
   "metadata": {},
   "outputs": [
    {
     "data": {
      "image/png": "[encoded data removed]",
      "text/plain": [
       "<Figure size 432x288 with 1 Axes>"
      ]
     },
     "metadata": {
      "needs_background": "light"
     },
     "output_type": "display_data"
    }
   ],
   "source": [
    "ppr_plot(y_baseline[large_data_idx], data.targets[large_data_idx], charge[large_data_idx], \n",
    "         pdg_encodings[large_data_idx], interaction_type[large_data_idx],\n",
    "        'Positive Predicted Value (Baseline, Large Data)', plots)"
   ]
  },
  {
   "cell_type": "code",
   "execution_count": 193,
   "metadata": {},
   "outputs": [
    {
     "data": {
      "text/plain": [
       "(0.5482963865295506, 0.5604611634560271)"
      ]
     },
     "execution_count": 193,
     "metadata": {},
     "output_type": "execute_result"
    }
   ],
   "source": [
    "acc_model_large_data = (y_model_large_data == data.targets[large_data_idx]).sum() / y_model_large_data.shape[0]\n",
    "acc_baseline_large_data = (y_baseline[large_data_idx] == data.targets[large_data_idx]).sum() / y_model_large_data.shape[0]\n",
    "acc_model_large_data, acc_baseline_large_data"
   ]
  },
  {
   "cell_type": "markdown",
   "metadata": {},
   "source": [
    "# Evaluate the model on the entire dataset\n",
    "data = HD5Dataset('../data/data_dragon.hd5', seed=42, features=[\"FirstCharge\", \"CumulativeCharge\", \"Time\",\n",
    "            \"VertexX\", \"VertexY\", \"VertexZ\", \"RecoX\",\n",
    "\"RecoZ\", \"RecoAzimuth\", \"RecoZenith\"])"
   ]
  },
  {
   "cell_type": "code",
   "execution_count": 17,
   "metadata": {},
   "outputs": [],
   "source": [
    "#run_idx = 'hd5-875239' Model without cutoff but class balancing\n",
    "run_idx = 'hd5-860835'"
   ]
  },
  {
   "cell_type": "code",
   "execution_count": 18,
   "metadata": {},
   "outputs": [
    {
     "name": "stdout",
     "output_type": "stream",
     "text": [
      "\u001b[0m\u001b[34;42mcheckpoint\u001b[0m/   \u001b[01;32mmodel_weights_0.h5\u001b[0m*  \u001b[01;32mmodel_weights_3.h5\u001b[0m*\r\n",
      "\u001b[01;32mconfig.json\u001b[0m*  \u001b[01;32mmodel_weights_1.h5\u001b[0m*  \u001b[01;32mmodel_weights_4.h5\u001b[0m*\r\n",
      "\u001b[01;32mhistory.pkl\u001b[0m*  \u001b[01;32mmodel_weights_2.h5\u001b[0m*  \u001b[01;32mmodel_weights.h5\u001b[0m*\r\n"
     ]
    }
   ],
   "source": [
    "%ls training/{run_idx}"
   ]
  },
  {
   "cell_type": "code",
   "execution_count": 19,
   "metadata": {},
   "outputs": [],
   "source": [
    "with open(f'training/{run_idx}/config.json') as f:\n",
    "    settings = json.load(f)"
   ]
  },
  {
   "cell_type": "code",
   "execution_count": 20,
   "metadata": {},
   "outputs": [
    {
     "name": "stdout",
     "output_type": "stream",
     "text": [
      "After Track Length filter 1333960 / 2202957 events remain.\n",
      "After Cascade Energy filter 1167113 / 2202957 events remain.\n",
      "Reduced dataset to 326328 samples per class (652656 / 2202957)\n",
      "Created sha1 hash for features and data file c7186ad6f4095a7ceb2168696ef104bbe0381efa\n",
      "Loaded feature memmap ./memmaps/hd5_features_c7186ad6f4095a7ceb2168696ef104bbe0381efa.\n",
      "Created distances memmap ./memmaps/hd5_distances_c7186ad6f4095a7ceb2168696ef104bbe0381efa.\n"
     ]
    }
   ],
   "source": [
    "data = util.dataset_from_config(settings)"
   ]
  },
  {
   "cell_type": "code",
   "execution_count": 21,
   "metadata": {},
   "outputs": [],
   "source": [
    "model = util.model_from_config(settings)"
   ]
  },
  {
   "cell_type": "code",
   "execution_count": 31,
   "metadata": {},
   "outputs": [],
   "source": [
    "model.load_weights(f'training/{run_idx}/model_weights.h5')"
   ]
  },
  {
   "cell_type": "code",
   "execution_count": 32,
   "metadata": {},
   "outputs": [
    {
     "data": {
      "text/plain": [
       "[<tf.Variable 'gaussian_adjacency_matrix_1/sigma:0' shape=(1,) dtype=float32, numpy=array([0.35142273], dtype=float32)>,\n",
       " <tf.Variable 'graph_convolution_6/dense_6/kernel:0' shape=(11, 64) dtype=float32, numpy=\n",
       " array([[ 0.2239214 ,  0.15596068, -0.13438588, -0.07833476,  0.14623208,\n",
       "         -0.08545016, -0.02621705, -0.19662471,  0.15228847, -0.20730625,\n",
       "         -0.09103765, -0.16213174, -0.22246753,  0.04835239, -0.0158903 ,\n",
       "         -0.13461098, -0.0386467 , -0.25373593,  0.0026829 , -0.26437947,\n",
       "          0.26145646, -0.00076191,  0.18259798,  0.06007466, -0.17173089,\n",
       "          0.2913055 , -0.02826076,  0.07315319,  0.06424043,  0.16374806,\n",
       "          0.20040113,  0.01533565, -0.23864836,  0.17922196, -0.00672318,\n",
       "         -0.20244783,  0.03283402,  0.23020889,  0.04662801,  0.23188503,\n",
       "          0.05235031, -0.23137029,  0.15334603,  0.0786277 ,  0.0889988 ,\n",
       "         -0.27830297,  0.25397697,  0.00536071, -0.2702963 , -0.17338991,\n",
       "          0.10001887,  0.02417095, -0.28518465, -0.14552222,  0.21311454,\n",
       "         -0.07971352,  0.03407542, -0.15126503,  0.3462865 , -0.10645346,\n",
       "         -0.0589724 ,  0.02556498, -0.06192562, -0.06907444],\n",
       "        [-0.17213762,  0.3344439 , -0.01546422, -0.1899282 ,  0.25150883,\n",
       "         -0.23176707, -0.07945666, -0.21412647, -0.24783486,  0.24647023,\n",
       "          0.00339746, -0.0143778 ,  0.32287705, -0.17363492, -0.22789706,\n",
       "         -0.05154162,  0.111777  , -0.05679492, -0.09119502,  0.22024606,\n",
       "         -0.13624626,  0.051824  , -0.01207743,  0.17302758, -0.10333687,\n",
       "         -0.06205758, -0.1973077 , -0.04664802,  0.25751075,  0.08758295,\n",
       "          0.07256522,  0.13479096,  0.22290684, -0.26355287,  0.08342535,\n",
       "          0.46759006,  0.23970877,  0.12667102,  0.22347106,  0.12885214,\n",
       "         -0.04244626, -0.08103679, -0.11050473, -0.11437778,  0.15870853,\n",
       "         -0.23139568,  0.2042931 ,  0.25446373, -0.1091869 , -0.14422162,\n",
       "         -0.14186929,  0.0517382 , -0.15577614,  0.13836783,  0.13730156,\n",
       "         -0.03301417, -0.1304744 , -0.16912842, -0.14109346, -0.01318595,\n",
       "          0.14910066,  0.00225566, -0.17559235, -0.03128666],\n",
       "        [ 0.04145307,  0.18847689,  0.02005507,  0.24468264,  0.21638316,\n",
       "         -0.20542872,  0.08966289,  0.2681389 , -0.14529978,  0.08428925,\n",
       "          0.26049894, -0.15430997,  0.11442488,  0.16470361,  0.08000501,\n",
       "          0.29802996,  0.2562521 ,  0.05921441,  0.10450581, -0.01302021,\n",
       "         -0.15962873, -0.0092626 , -0.050678  ,  0.2211477 , -0.00494013,\n",
       "         -0.03895281, -0.22130622,  0.11958096, -0.26565173, -0.11978718,\n",
       "         -0.14313172, -0.11677846, -0.02692333, -0.2017163 , -0.14151658,\n",
       "          0.04219113, -0.02358859, -0.18994343,  0.21338865, -0.1249904 ,\n",
       "          0.02556175,  0.10912432, -0.08856976, -0.14727172, -0.0807263 ,\n",
       "         -0.19236721,  0.04736804, -0.17716587,  0.2510708 , -0.12502187,\n",
       "          0.00573563,  0.12479636,  0.08498407,  0.1018028 , -0.00984797,\n",
       "          0.16140758,  0.09419768, -0.25135124,  0.24898896, -0.01906412,\n",
       "          0.16208659, -0.3053607 ,  0.23419404, -0.20165953],\n",
       "        [-0.25066036, -0.04992139,  0.21003541,  0.14312747,  0.12658668,\n",
       "          0.16139145, -0.19205554, -0.12189992, -0.30373558,  0.29395297,\n",
       "         -0.3136837 ,  0.20131916,  0.00997038,  0.01109208,  0.14696969,\n",
       "          0.23336288, -0.14255214,  0.23167758, -0.02279939,  0.3233593 ,\n",
       "          0.18384948, -0.16284738,  0.28535914,  0.11360962,  0.17699564,\n",
       "          0.01746102, -0.19764072, -0.15051629, -0.0510326 , -0.20526825,\n",
       "         -0.06740846, -0.09544036,  0.14823957,  0.14448607, -0.04354146,\n",
       "         -0.04530167, -0.24544342,  0.07817356,  0.16872655,  0.2104147 ,\n",
       "          0.07014146,  0.1940379 ,  0.09449764,  0.07276173,  0.27472496,\n",
       "          0.09011515, -0.01390646,  0.08051103, -0.1785038 , -0.31099853,\n",
       "          0.16918513, -0.42401525,  0.18215902, -0.0388681 , -0.07334248,\n",
       "          0.05385685, -0.09723939,  0.29863876, -0.14275159,  0.15819119,\n",
       "         -0.09453119, -0.07413183,  0.13357426,  0.09089966],\n",
       "        [-0.17880571, -0.16029093, -0.25963363,  0.11453441,  0.0045454 ,\n",
       "         -0.05616375,  0.16565056, -0.16331913,  0.01895417, -0.17933916,\n",
       "          0.17145948,  0.20947823, -0.03637486, -0.07220539,  0.10381062,\n",
       "          0.15165822, -0.19097044, -0.00327262, -0.06337696,  0.09126132,\n",
       "          0.17660898, -0.0110884 ,  0.12163718,  0.09864769, -0.10091528,\n",
       "          0.24567455,  0.2715566 ,  0.04427067,  0.0959366 , -0.12366789,\n",
       "          0.1939467 , -0.03505351, -0.17996706,  0.27355877, -0.04626459,\n",
       "          0.29800987,  0.21790402,  0.2104788 , -0.08884399,  0.17857347,\n",
       "          0.21582654, -0.23769793,  0.09810952,  0.10203826,  0.03376878,\n",
       "         -0.08579861,  0.15581733, -0.11422105,  0.15464415, -0.32148173,\n",
       "         -0.00157742,  0.05541602, -0.2678955 ,  0.17788899,  0.2379758 ,\n",
       "          0.16051082, -0.01982713, -0.16954042, -0.1252137 ,  0.03897282,\n",
       "         -0.21652398,  0.1369416 , -0.16537416,  0.03082144],\n",
       "        [-0.11762252,  0.08663993,  0.13591786,  0.0821783 , -0.03994513,\n",
       "         -0.04121269,  0.09762359,  0.19904684, -0.10603613,  0.00535097,\n",
       "          0.18968043, -0.21463996,  0.03603061,  0.11929207, -0.07135477,\n",
       "          0.07482651,  0.0964141 ,  0.1908527 , -0.0103261 ,  0.10613108,\n",
       "          0.17171693,  0.03844804,  0.07182183,  0.12733646,  0.16185017,\n",
       "         -0.07290857, -0.01461156, -0.06351563,  0.00200716, -0.00331914,\n",
       "         -0.04149262,  0.15190461, -0.04295432,  0.09586993, -0.01020417,\n",
       "          0.02796389,  0.05806797,  0.15599015, -0.07802849, -0.06789253,\n",
       "          0.26501152,  0.03667221, -0.39849967, -0.23496513,  0.00794593,\n",
       "          0.00612653,  0.2217743 ,  0.19618821,  0.04385344, -0.22683038,\n",
       "          0.01757606,  0.07439355, -0.06271444, -0.00939417,  0.11909787,\n",
       "         -0.07173372,  0.23357123,  0.1292542 ,  0.2949063 ,  0.07602236,\n",
       "         -0.12846293, -0.08201203,  0.27289653, -0.0202536 ],\n",
       "        [ 0.14722963,  0.01948405, -0.25847957, -0.35073483, -0.03881313,\n",
       "         -0.18543968,  0.17078586, -0.08896138,  0.23364587, -0.11540824,\n",
       "         -0.2556321 , -0.08822533, -0.07005998, -0.04918872, -0.23459002,\n",
       "          0.12154061, -0.11720164, -0.16769794, -0.22811674,  0.01827102,\n",
       "          0.11411041, -0.336757  , -0.1792543 ,  0.37946206,  0.09835555,\n",
       "         -0.23848341, -0.17863762, -0.06467505, -0.01861008, -0.11044757,\n",
       "         -0.3436508 ,  0.27250084,  0.0846557 , -0.07237761,  0.04671383,\n",
       "          0.05783926,  0.24357238,  0.26264647,  0.11782568, -0.05751534,\n",
       "          0.16063944, -0.20850904, -0.20444313,  0.13674144,  0.3524735 ,\n",
       "         -0.1043461 , -0.20087329, -0.22466919, -0.3133376 , -0.206903  ,\n",
       "         -0.13956623, -0.18280521,  0.01663335,  0.22931919, -0.31249887,\n",
       "          0.01542938,  0.2644007 ,  0.14094168,  0.1153265 , -0.04765722,\n",
       "         -0.19925182,  0.01630786,  0.01551266,  0.17583755],\n",
       "        [ 0.08315969, -0.17895973, -0.1913855 , -0.06636262,  0.09850871,\n",
       "          0.06784842, -0.11209051, -0.21754968,  0.27676928, -0.23584971,\n",
       "         -0.09796749, -0.15042625, -0.30969414, -0.10618665,  0.16727461,\n",
       "          0.18190944,  0.02998239, -0.28246477,  0.11454995, -0.12227082,\n",
       "         -0.00615358,  0.05870773, -0.24747892,  0.11289727,  0.12227625,\n",
       "          0.1095137 ,  0.05277322,  0.07520614, -0.11111562, -0.0684073 ,\n",
       "          0.21828884,  0.05668616, -0.0507701 ,  0.2647595 , -0.01785839,\n",
       "          0.00165415, -0.01028   ,  0.052768  , -0.02736284,  0.1699214 ,\n",
       "         -0.11606251, -0.04037924, -0.13072424, -0.06215471,  0.05763753,\n",
       "         -0.07120387, -0.10187211, -0.06525401,  0.18362574, -0.0070787 ,\n",
       "          0.20034474,  0.00180443,  0.13670705,  0.1621978 , -0.15136948,\n",
       "          0.11244766,  0.17431352,  0.01749522, -0.05542571, -0.18520458,\n",
       "          0.2760447 , -0.06978421, -0.00462578, -0.12149273],\n",
       "        [ 0.15144394, -0.20845802,  0.32864106,  0.2983439 , -0.05700797,\n",
       "          0.26791307, -0.27661392,  0.28589976,  0.35990041,  0.072846  ,\n",
       "          0.21065836, -0.05412463, -0.05615297,  0.41632226,  0.02788387,\n",
       "          0.08404647,  0.06508247, -0.27080473,  0.19078456,  0.28636953,\n",
       "         -0.06789999,  0.22818652, -0.49781215,  0.17785023, -0.29225394,\n",
       "          0.1823784 , -0.22145787, -0.26502934,  0.13716999, -0.36028382,\n",
       "          0.01896557, -0.07789236, -0.33115712,  0.14452156, -0.27901956,\n",
       "          0.00382575, -0.3607554 , -0.18333656,  0.11956978, -0.17461252,\n",
       "          0.08120936,  0.31963754, -0.00980545, -0.31091356, -0.06578289,\n",
       "          0.01249192,  0.17946798,  0.41472247,  0.3016998 ,  0.19089858,\n",
       "         -0.0786157 ,  0.10531485, -0.24147667,  0.18918061, -0.19142847,\n",
       "         -0.36017117, -0.16075255,  0.16807237, -0.18568785,  0.14597012,\n",
       "         -0.33368224,  0.12175572,  0.08092684,  0.2681666 ],\n",
       "        [-0.23245446,  0.36664298,  0.17351724,  0.06763402, -0.05536766,\n",
       "          0.405095  ,  0.13611516,  0.26135877,  0.02480641, -0.09600425,\n",
       "          0.17706023, -0.24958915,  0.02452746, -0.01371049, -0.3734152 ,\n",
       "          0.02122957,  0.17251563, -0.04960885,  0.23947796, -0.26788   ,\n",
       "          0.09410036,  0.22490841, -0.29441416,  0.06493233,  0.22319968,\n",
       "         -0.21662949,  0.17494786,  0.19016764, -0.01935615,  0.12866825,\n",
       "          0.18937054, -0.18312098, -0.04871793, -0.20695433, -0.42379016,\n",
       "          0.32998675, -0.2526627 , -0.18131   , -0.33018237,  0.2939914 ,\n",
       "          0.26982543,  0.2587984 ,  0.25489524,  0.29629874, -0.18986665,\n",
       "         -0.15984175,  0.19905016, -0.17814997,  0.01774828,  0.05982082,\n",
       "          0.0623841 ,  0.0022798 ,  0.06117624,  0.02593824,  0.12830281,\n",
       "         -0.1850814 , -0.06086608,  0.41592142, -0.03896368, -0.18129292,\n",
       "          0.31362587,  0.21981618,  0.31090593,  0.2866059 ],\n",
       "        [ 0.01778335, -0.05859473, -0.01523963,  0.2550295 , -0.03920981,\n",
       "         -0.01329959, -0.36005893,  0.2620018 ,  0.2397493 , -0.2438872 ,\n",
       "         -0.3341774 , -0.03068866,  0.17235407,  0.2995204 ,  0.29252678,\n",
       "          0.16003413,  0.01944646,  0.32142228,  0.1286509 ,  0.12353823,\n",
       "         -0.17046109, -0.21768634, -0.05492533,  0.05759361,  0.09382887,\n",
       "          0.03327581,  0.01993394, -0.17769982, -0.31753212,  0.09198059,\n",
       "         -0.00467236,  0.2751344 , -0.03945054, -0.14037855,  0.1830854 ,\n",
       "          0.24087763, -0.16836192, -0.23146011, -0.05322723, -0.31895375,\n",
       "         -0.03616281, -0.05369703, -0.06169241,  0.34903103,  0.18920785,\n",
       "         -0.10252528,  0.3107848 ,  0.2052799 , -0.12013101,  0.14833172,\n",
       "          0.05558859, -0.22183338, -0.03708104,  0.10147774,  0.13875401,\n",
       "          0.1221908 ,  0.20141919,  0.2969435 ,  0.06497084,  0.01762484,\n",
       "          0.20418377,  0.26213977, -0.10681719, -0.06967472]],\n",
       "       dtype=float32)>,\n",
       " <tf.Variable 'graph_convolution_6/dense_6/bias:0' shape=(64,) dtype=float32, numpy=\n",
       " array([ 0.05842076,  0.02157376, -0.02532991,  0.01095918,  0.10549682,\n",
       "         0.01035744, -0.03225464, -0.0003529 ,  0.01548177, -0.01075688,\n",
       "         0.03694376, -0.01963004, -0.08656666,  0.02638334, -0.01321617,\n",
       "         0.10355105,  0.01971181, -0.08828532,  0.03624628,  0.00215008,\n",
       "         0.        , -0.02716422, -0.03158431,  0.02090717,  0.01761038,\n",
       "         0.07930505, -0.01169833,  0.01282371, -0.09041397,  0.00380829,\n",
       "         0.12706706,  0.        , -0.0540265 ,  0.        , -0.01863466,\n",
       "         0.00547499,  0.10365232,  0.04037724,  0.00307891,  0.03743611,\n",
       "         0.        , -0.11039185, -0.0646771 , -0.07123739,  0.10650158,\n",
       "        -0.02136207,  0.03535331, -0.04767925, -0.00220517,  0.01474837,\n",
       "         0.01360932, -0.00832409, -0.02989243,  0.        ,  0.05502647,\n",
       "         0.04286041,  0.02461016,  0.02659058,  0.06501452,  0.03577019,\n",
       "        -0.01226138, -0.05913139,  0.01371483, -0.00384401], dtype=float32)>,\n",
       " <tf.Variable 'graph_convolution_6/batch_normalization_5/beta:0' shape=(1, 1, 64) dtype=float32, numpy=\n",
       " array([[[ 0.17076863,  0.12526366,  0.13456139,  0.15381093,\n",
       "           0.15512359, -0.0920938 , -0.03510952,  0.0284885 ,\n",
       "          -0.09621002, -0.12550761,  0.20051283,  0.08805946,\n",
       "           0.11147586, -0.05710674, -0.16214411,  0.10915054,\n",
       "           0.13981912,  0.20462531,  0.10627138, -0.09901506,\n",
       "          -0.20520386, -0.0193648 , -0.1461205 ,  0.1312431 ,\n",
       "          -0.23839019,  0.07887737, -0.22391164, -0.29070163,\n",
       "           0.20714836, -0.12697202,  0.04949005, -0.17231011,\n",
       "           0.26482755, -0.23230883, -0.03142057, -0.16271746,\n",
       "           0.1986398 , -0.16094236, -0.03799344,  0.18434015,\n",
       "          -0.14433792,  0.11164507, -0.33446747, -0.13399267,\n",
       "           0.1258827 , -0.19107541,  0.18815152, -0.20305923,\n",
       "          -0.05176556,  0.00320003, -0.12101673, -0.04867501,\n",
       "          -0.3201362 , -0.29689997,  0.05666231, -0.05375827,\n",
       "          -0.14017653, -0.01274493,  0.24102081, -0.00901296,\n",
       "          -0.08007527,  0.20226245,  0.28842282,  0.17018977]]],\n",
       "       dtype=float32)>,\n",
       " <tf.Variable 'graph_convolution_6/batch_normalization_5/gamma:0' shape=(1, 1, 64) dtype=float32, numpy=\n",
       " array([[[-0.13652192,  0.17079914, -0.30418858, -0.30635023,\n",
       "           0.0420928 , -0.26739103,  0.24613492,  0.16839778,\n",
       "           0.16409431, -0.13228256,  0.34078622, -0.26410395,\n",
       "          -0.00763623,  0.23551647,  0.22005452,  0.01168388,\n",
       "           0.12568922,  0.22465838, -0.2794854 , -0.36517388,\n",
       "          -0.03372771, -0.2629604 , -0.27743435,  0.13455574,\n",
       "          -0.35806382,  0.20520726, -0.04184991, -0.05211774,\n",
       "          -0.2884412 ,  0.37744156,  0.1920741 , -0.01419029,\n",
       "           0.16164333, -0.057027  , -0.29917786, -0.3144974 ,\n",
       "           0.3734195 ,  0.07786226,  0.2246721 , -0.13025683,\n",
       "          -0.10113975, -0.2947333 , -0.14573184, -0.14754069,\n",
       "          -0.18692204,  0.18057345,  0.2734324 , -0.23602274,\n",
       "          -0.31630528,  0.27510118, -0.09571687,  0.05667701,\n",
       "           0.07321933, -0.126047  , -0.17253548,  0.36489573,\n",
       "           0.09914748,  0.30373046, -0.10918233,  0.12798166,\n",
       "          -0.291857  ,  0.05690933,  0.04066047, -0.07671191]]],\n",
       "       dtype=float32)>,\n",
       " <tf.Variable 'graph_convolution_7/dense_7/kernel:0' shape=(64, 64) dtype=float32, numpy=\n",
       " array([[ 0.17093615, -0.14028227,  0.11934453, ..., -0.02882578,\n",
       "         -0.08477443, -0.13835877],\n",
       "        [ 0.08876883,  0.13454826, -0.02922753, ...,  0.14209636,\n",
       "         -0.04575239, -0.31737557],\n",
       "        [-0.16170439, -0.17172791, -0.12487484, ...,  0.05382666,\n",
       "         -0.12677889, -0.17644319],\n",
       "        ...,\n",
       "        [-0.2405059 , -0.02931962, -0.20292418, ..., -0.17904134,\n",
       "         -0.11523444, -0.11347056],\n",
       "        [-0.2102148 ,  0.12532516, -0.2986485 , ...,  0.12689996,\n",
       "         -0.14076409,  0.04040688],\n",
       "        [-0.21451625, -0.16458966, -0.0661919 , ..., -0.1455254 ,\n",
       "          0.17200772,  0.06304134]], dtype=float32)>,\n",
       " <tf.Variable 'graph_convolution_7/dense_7/bias:0' shape=(64,) dtype=float32, numpy=\n",
       " array([-0.02058509, -0.05294056, -0.03344946, -0.06607092, -0.06293363,\n",
       "         0.02365852, -0.02318808, -0.00756341, -0.07415631,  0.01970668,\n",
       "        -0.15234685, -0.01089476,  0.02616201, -0.09185953, -0.05948786,\n",
       "         0.01357958, -0.01183066, -0.07797775, -0.01806545, -0.0673621 ,\n",
       "         0.04370685, -0.01006129,  0.01842602,  0.14752659,  0.        ,\n",
       "        -0.01822832,  0.01133128,  0.        , -0.0048333 , -0.0341329 ,\n",
       "        -0.07125559, -0.05100899,  0.04932353,  0.        ,  0.01594709,\n",
       "         0.02350423, -0.07123614, -0.06614967, -0.01664831,  0.09205855,\n",
       "        -0.00196826, -0.05126016, -0.00806972, -0.07866149,  0.06323846,\n",
       "        -0.09257869,  0.        ,  0.        , -0.00223937, -0.03643701,\n",
       "        -0.06197859,  0.05876566,  0.06237052, -0.03978583,  0.01350727,\n",
       "         0.03774567,  0.11216848, -0.0406478 , -0.0149075 ,  0.06588088,\n",
       "         0.0027743 , -0.11110023, -0.09139995, -0.03366356], dtype=float32)>,\n",
       " <tf.Variable 'graph_convolution_7/batch_normalization_6/beta:0' shape=(1, 1, 64) dtype=float32, numpy=\n",
       " array([[[ 0.02493879,  0.06928044, -0.02365582, -0.09451161,\n",
       "          -0.2553507 ,  0.00800254, -0.10343441, -0.08026171,\n",
       "          -0.14407133, -0.11649758,  0.25409594, -0.31236678,\n",
       "           0.09939401,  0.12334147,  0.05089843, -0.17606503,\n",
       "          -0.07056883,  0.05796958, -0.14249837, -0.09932166,\n",
       "          -0.15803026, -0.1956048 , -0.21424113,  0.18852629,\n",
       "          -0.2562917 , -0.26874825, -0.21000996, -0.15367611,\n",
       "           0.04506352, -0.08247504,  0.10452613,  0.12722935,\n",
       "          -0.14509872, -0.17173018, -0.13146777, -0.11106331,\n",
       "          -0.06682561, -0.07075655, -0.057579  ,  0.12667148,\n",
       "          -0.20522352,  0.17040217, -0.04371292,  0.19660084,\n",
       "          -0.0726535 ,  0.05985931, -0.24068919, -0.20827909,\n",
       "           0.02761569,  0.18053524, -0.0043703 , -0.08841141,\n",
       "           0.0685938 , -0.09272911, -0.04644698,  0.0199978 ,\n",
       "           0.00927204, -0.1590639 , -0.05089295,  0.17214021,\n",
       "           0.08669455,  0.0685515 ,  0.03701891, -0.07989138]]],\n",
       "       dtype=float32)>,\n",
       " <tf.Variable 'graph_convolution_7/batch_normalization_6/gamma:0' shape=(1, 1, 64) dtype=float32, numpy=\n",
       " array([[[ 0.05103022, -0.19860369,  0.2591365 ,  0.30637178,\n",
       "           0.13306838, -0.10419877,  0.38475576, -0.00809988,\n",
       "           0.26101872, -0.42198545, -0.12390686,  0.15353952,\n",
       "          -0.3490696 , -0.1642949 ,  0.0715995 ,  0.24650113,\n",
       "          -0.33310303,  0.0737934 ,  0.1704835 , -0.38476425,\n",
       "           0.3103015 , -0.04575266, -0.21089467, -0.25851327,\n",
       "           0.01265579, -0.28223705,  0.03337476, -0.01076359,\n",
       "          -0.06327141,  0.43629974, -0.1230876 ,  0.12135211,\n",
       "           0.39626542,  0.03030348, -0.37963006,  0.01730257,\n",
       "           0.3857078 ,  0.3726456 ,  0.25687778, -0.09004957,\n",
       "          -0.27899593,  0.26572594,  0.19782366,  0.07950155,\n",
       "          -0.35858166,  0.19937374, -0.00126466, -0.08939682,\n",
       "           0.11408052,  0.21580248,  0.17685913,  0.23469587,\n",
       "          -0.26217535,  0.35313785, -0.43580037, -0.11578496,\n",
       "           0.13596858, -0.4559765 ,  0.30770433, -0.10792632,\n",
       "           0.29057893,  0.1457964 ,  0.03412912,  0.38233054]]],\n",
       "       dtype=float32)>,\n",
       " <tf.Variable 'graph_convolution_8/dense_8/kernel:0' shape=(64, 64) dtype=float32, numpy=\n",
       " array([[-0.04045918, -0.00932523, -0.13220243, ...,  0.12484715,\n",
       "         -0.11410267, -0.03873505],\n",
       "        [ 0.15728511,  0.02865072, -0.18161085, ..., -0.24391332,\n",
       "          0.13312213, -0.07908385],\n",
       "        [-0.04566508,  0.03218236,  0.05627083, ..., -0.18228728,\n",
       "         -0.03670819,  0.10507686],\n",
       "        ...,\n",
       "        [-0.16142833,  0.12652439,  0.14735734, ..., -0.15061441,\n",
       "         -0.00385678, -0.02653775],\n",
       "        [-0.01328363, -0.13916288,  0.19239876, ..., -0.25261024,\n",
       "         -0.07868025, -0.09498499],\n",
       "        [-0.01286366,  0.09563324, -0.01369656, ..., -0.10745868,\n",
       "         -0.2890378 , -0.10956433]], dtype=float32)>,\n",
       " <tf.Variable 'graph_convolution_8/dense_8/bias:0' shape=(64,) dtype=float32, numpy=\n",
       " array([-0.00078036, -0.03386067,  0.0236071 , -0.01334703,  0.03354935,\n",
       "        -0.08143823, -0.05065947, -0.10166504, -0.04838442,  0.04612132,\n",
       "        -0.05836667,  0.04275388,  0.06092755,  0.01298896, -0.01856035,\n",
       "         0.0123876 ,  0.07211655, -0.05508729,  0.        ,  0.        ,\n",
       "         0.03796573,  0.05406244,  0.03227567, -0.1288075 , -0.01425747,\n",
       "         0.05641446,  0.10824355, -0.01850111,  0.014584  ,  0.0320214 ,\n",
       "         0.03426359,  0.03833578, -0.09032065,  0.00821985, -0.05508032,\n",
       "         0.03705562, -0.04600053,  0.04727734,  0.0927353 ,  0.04294065,\n",
       "         0.04966244, -0.03198937,  0.00567573,  0.01113815, -0.04616196,\n",
       "        -0.06590442,  0.04451149, -0.04356795, -0.00602728,  0.07384776,\n",
       "         0.01399805,  0.        , -0.04463833,  0.110966  ,  0.        ,\n",
       "         0.0164237 , -0.05162076,  0.06772865, -0.09232229, -0.03035294,\n",
       "        -0.01791851, -0.02176269, -0.06033786, -0.0398946 ], dtype=float32)>,\n",
       " <tf.Variable 'graph_convolution_8/batch_normalization_7/beta:0' shape=(1, 1, 64) dtype=float32, numpy=\n",
       " array([[[ 0.13640685,  0.26894468, -0.2572825 , -0.14830424,\n",
       "           0.00531195,  0.21775672, -0.09394217,  0.1177569 ,\n",
       "           0.23403111, -0.08609265,  0.21580315,  0.14533587,\n",
       "           0.06245673,  0.07094142, -0.04406204, -0.2328335 ,\n",
       "           0.07886873,  0.01226095, -0.17811504, -0.2832694 ,\n",
       "           0.03145792, -0.12376405, -0.02930701,  0.05686102,\n",
       "           0.01965572, -0.12808727,  0.03439314, -0.13066348,\n",
       "          -0.15783425, -0.14638282, -0.19897799,  0.11269395,\n",
       "          -0.08435393, -0.24328853,  0.0277819 ,  0.00434097,\n",
       "          -0.09954866, -0.30428216,  0.10839598, -0.20806581,\n",
       "           0.01012798, -0.08200166,  0.07251221,  0.01063916,\n",
       "           0.08619759,  0.18542705,  0.19543527, -0.0645211 ,\n",
       "           0.09248263, -0.11760176,  0.07795303, -0.01421621,\n",
       "          -0.05711927,  0.15278569, -0.13580792, -0.13421576,\n",
       "           0.15168133,  0.16637234, -0.05248185, -0.21005529,\n",
       "           0.08199152, -0.08621116,  0.14345679,  0.1965095 ]]],\n",
       "       dtype=float32)>,\n",
       " <tf.Variable 'graph_convolution_8/batch_normalization_7/gamma:0' shape=(1, 1, 64) dtype=float32, numpy=\n",
       " array([[[ 0.27496773, -0.16140269,  0.05705602,  0.26321858,\n",
       "           0.31534517, -0.25744605, -0.37738386,  0.25952357,\n",
       "           0.22514047, -0.40918064, -0.3918606 ,  0.18586789,\n",
       "          -0.2844074 ,  0.17400129, -0.01537626, -0.11957977,\n",
       "          -0.14472683,  0.44392937,  0.02645326,  0.00811011,\n",
       "           0.12093275, -0.40698856, -0.3174718 ,  0.17557168,\n",
       "           0.14974971,  0.33225256,  0.25049168, -0.02028437,\n",
       "           0.45451358, -0.50306493, -0.07021307,  0.3493005 ,\n",
       "           0.417832  ,  0.09264532,  0.06524992,  0.3736501 ,\n",
       "           0.47453374, -0.10714666,  0.25486025,  0.05865917,\n",
       "          -0.1705598 , -0.3398675 , -0.3308613 , -0.24941039,\n",
       "           0.20222692,  0.28677395,  0.31889665, -0.36935383,\n",
       "          -0.2671874 ,  0.3253279 , -0.29644814,  0.00069857,\n",
       "           0.30092955, -0.38995725,  0.03963101, -0.21971081,\n",
       "          -0.19684646,  0.3205778 , -0.41807437,  0.05746835,\n",
       "          -0.2752107 ,  0.2869834 , -0.29168984,  0.30503646]]],\n",
       "       dtype=float32)>,\n",
       " <tf.Variable 'graph_convolution_9/dense_9/kernel:0' shape=(64, 64) dtype=float32, numpy=\n",
       " array([[ 0.07307925, -0.14772585, -0.0245841 , ...,  0.05098855,\n",
       "         -0.15800984, -0.05744007],\n",
       "        [ 0.02876605,  0.13702333,  0.04013207, ..., -0.03830657,\n",
       "         -0.14578833, -0.16604179],\n",
       "        [ 0.11302849,  0.03441979, -0.16361047, ..., -0.17483461,\n",
       "         -0.00568784,  0.11822703],\n",
       "        ...,\n",
       "        [-0.15238564, -0.14972395,  0.17440902, ...,  0.03210596,\n",
       "         -0.0782785 ,  0.02727748],\n",
       "        [ 0.1329776 ,  0.31217   ,  0.03031467, ..., -0.02031374,\n",
       "          0.18947877,  0.10668222],\n",
       "        [ 0.06339517,  0.19007733, -0.23588902, ..., -0.13676053,\n",
       "          0.06780183, -0.06344289]], dtype=float32)>,\n",
       " <tf.Variable 'graph_convolution_9/dense_9/bias:0' shape=(64,) dtype=float32, numpy=\n",
       " array([ 0.01248571,  0.02979056, -0.1126996 ,  0.14889818, -0.09953357,\n",
       "        -0.04814763,  0.04668322,  0.02765273,  0.09888953, -0.07148048,\n",
       "        -0.07066263,  0.05726191,  0.08015339,  0.06666987,  0.021716  ,\n",
       "         0.02403966, -0.07197245,  0.04289345,  0.07577551, -0.05930953,\n",
       "         0.00937328,  0.03763935,  0.07493639, -0.00537978,  0.0684564 ,\n",
       "         0.08930975, -0.00847061, -0.01113155,  0.02101419,  0.        ,\n",
       "        -0.07627799, -0.09021919, -0.0639554 ,  0.02593611,  0.        ,\n",
       "        -0.05189103, -0.05519965, -0.02715109,  0.        , -0.08624739,\n",
       "        -0.02393113,  0.00048566, -0.04741085, -0.00891391,  0.04607664,\n",
       "         0.02606716, -0.04016796,  0.11601902, -0.01947238,  0.01004492,\n",
       "         0.09072025,  0.04636218,  0.00249107, -0.0302878 , -0.02853144,\n",
       "        -0.01525735,  0.05843198,  0.05293941,  0.00715553, -0.01288097,\n",
       "         0.0849072 , -0.05549463, -0.08785389, -0.09794005], dtype=float32)>,\n",
       " <tf.Variable 'graph_convolution_9/batch_normalization_8/beta:0' shape=(1, 1, 64) dtype=float32, numpy=\n",
       " array([[[-0.18152235,  0.15108751, -0.18156958,  0.16227564,\n",
       "           0.16779268,  0.12114151, -0.2958378 , -0.21334125,\n",
       "           0.15332757, -0.06409229, -0.04050907,  0.04055886,\n",
       "           0.09809547, -0.01635798, -0.18376492,  0.02669597,\n",
       "           0.02220247,  0.1163119 ,  0.00447246,  0.02131657,\n",
       "           0.13706379, -0.11203144,  0.18514425,  0.00356955,\n",
       "          -0.02313038,  0.21448757, -0.28759983,  0.20932494,\n",
       "           0.18639658, -0.03151289,  0.0022011 ,  0.02926983,\n",
       "          -0.01888678, -0.04907912, -0.28591493, -0.23624833,\n",
       "          -0.03542345, -0.03837538, -0.2630827 ,  0.02784346,\n",
       "           0.06527588,  0.06245456,  0.06948602,  0.04220089,\n",
       "           0.08722234,  0.00389055, -0.19836466,  0.17165072,\n",
       "          -0.02967848,  0.01240284,  0.163698  , -0.13243234,\n",
       "           0.06164569,  0.00853462, -0.02033002, -0.00311782,\n",
       "           0.06025268, -0.17018378, -0.07434458,  0.05226116,\n",
       "          -0.03288323,  0.05391877,  0.1709302 , -0.24804865]]],\n",
       "       dtype=float32)>,\n",
       " <tf.Variable 'graph_convolution_9/batch_normalization_8/gamma:0' shape=(1, 1, 64) dtype=float32, numpy=\n",
       " array([[[-0.09195895,  0.16701464,  0.37368318, -0.21351258,\n",
       "          -0.30921817,  0.26718572,  0.4056041 ,  0.44844246,\n",
       "           0.08915323,  0.51995754,  0.11326113,  0.40719816,\n",
       "           0.1560547 ,  0.38698912, -0.03106205,  0.10316287,\n",
       "          -0.279226  ,  0.3678083 ,  0.40256122, -0.24786265,\n",
       "          -0.17851265, -0.53418684,  0.20892113,  0.15606199,\n",
       "          -0.46957278,  0.19353274,  0.04213218, -0.24601515,\n",
       "           0.1185405 , -0.00101346,  0.4570968 , -0.29764557,\n",
       "          -0.45633978,  0.00815855, -0.03645894, -0.08739582,\n",
       "           0.22118051,  0.30538037, -0.02132574, -0.5181017 ,\n",
       "           0.39214495,  0.24495901, -0.28883496,  0.396237  ,\n",
       "           0.15707135, -0.27588847, -0.48328838, -0.28042832,\n",
       "           0.29634085,  0.37892237,  0.27003652,  0.3319    ,\n",
       "           0.3462372 ,  0.42093736,  0.4558315 ,  0.21407807,\n",
       "           0.18492465,  0.04670961,  0.0060637 , -0.29902232,\n",
       "          -0.509582  , -0.37125108,  0.25525877,  0.2517985 ]]],\n",
       "       dtype=float32)>,\n",
       " <tf.Variable 'graph_convolution_10/dense_10/kernel:0' shape=(64, 64) dtype=float32, numpy=\n",
       " array([[-0.06700034, -0.15753838, -0.05398096, ...,  0.10207771,\n",
       "          0.00225769,  0.17478366],\n",
       "        [-0.1307998 , -0.00690658, -0.07365052, ...,  0.05368436,\n",
       "          0.22392504, -0.08840615],\n",
       "        [-0.2245101 , -0.02526123, -0.1496635 , ..., -0.2713104 ,\n",
       "          0.43313837, -0.14725897],\n",
       "        ...,\n",
       "        [ 0.18968123, -0.03459026, -0.2253323 , ...,  0.06764865,\n",
       "          0.31434146, -0.15815373],\n",
       "        [-0.15251258,  0.09992494,  0.18910405, ...,  0.14764595,\n",
       "          0.10690518,  0.23047934],\n",
       "        [ 0.10379497, -0.07624494,  0.1475351 , ...,  0.04139872,\n",
       "         -0.2116316 , -0.0890204 ]], dtype=float32)>,\n",
       " <tf.Variable 'graph_convolution_10/dense_10/bias:0' shape=(64,) dtype=float32, numpy=\n",
       " array([ 0.08710223,  0.07560544,  0.01019266,  0.08586071,  0.01851186,\n",
       "        -0.0124133 , -0.03872406,  0.        , -0.08204276,  0.03339302,\n",
       "        -0.05380384, -0.06115758,  0.03763581,  0.03201676, -0.03596025,\n",
       "        -0.07325671, -0.00787857,  0.05091486,  0.08780244,  0.01189963,\n",
       "         0.03037079,  0.00912151, -0.05111051,  0.13068089,  0.05478167,\n",
       "        -0.03207952,  0.11592986,  0.02811449,  0.03549363,  0.03516268,\n",
       "        -0.09162021,  0.07324042, -0.04438562, -0.03359908,  0.0257976 ,\n",
       "         0.01436981, -0.04961907,  0.01825265, -0.07969292, -0.00303161,\n",
       "        -0.08567166,  0.07311679, -0.05905889,  0.02235422, -0.05181509,\n",
       "         0.08000538,  0.        , -0.00382286,  0.12895301,  0.        ,\n",
       "         0.00906859,  0.04579236,  0.06612783, -0.01636223,  0.06409372,\n",
       "         0.04183904, -0.05496048, -0.10167209,  0.06829545, -0.0895056 ,\n",
       "         0.0455822 ,  0.07484627,  0.04662094,  0.0648466 ], dtype=float32)>,\n",
       " <tf.Variable 'graph_convolution_10/batch_normalization_9/beta:0' shape=(1, 1, 64) dtype=float32, numpy=\n",
       " array([[[ 0.00157601, -0.06054658, -0.19353244,  0.10735465,\n",
       "          -0.01838598, -0.10193039, -0.04704054, -0.2944232 ,\n",
       "          -0.0829825 , -0.16607614,  0.00556117, -0.12926278,\n",
       "          -0.01036022, -0.1103504 , -0.00837237, -0.11291957,\n",
       "          -0.1205552 ,  0.02585175, -0.11843528, -0.11030468,\n",
       "          -0.03128584, -0.07111347, -0.03428351,  0.09967403,\n",
       "          -0.08938081,  0.00556641,  0.0815196 , -0.0804368 ,\n",
       "          -0.03646509, -0.1778967 , -0.02267735,  0.07664081,\n",
       "          -0.02452668, -0.08098377, -0.17737009, -0.21579339,\n",
       "          -0.03357029, -0.1138083 , -0.05513839, -0.12179747,\n",
       "          -0.06176244, -0.12341804,  0.01452129, -0.15938139,\n",
       "          -0.09815601, -0.06677292, -0.24957797, -0.03295721,\n",
       "          -0.04841279, -0.15974501,  0.16039295, -0.1268796 ,\n",
       "          -0.01142798, -0.04257607,  0.06016836, -0.17061636,\n",
       "           0.01127383, -0.04616308, -0.18916573,  0.0512001 ,\n",
       "          -0.08135661, -0.03170916, -0.01171888,  0.00284498]]],\n",
       "       dtype=float32)>,\n",
       " <tf.Variable 'graph_convolution_10/batch_normalization_9/gamma:0' shape=(1, 1, 64) dtype=float32, numpy=\n",
       " array([[[ 0.44317466,  0.2561878 ,  0.41918987, -0.36257735,\n",
       "          -0.0260821 ,  0.30066913, -0.25862625, -0.04269648,\n",
       "          -0.20242034,  0.41335687, -0.3604839 , -0.47806457,\n",
       "          -0.40276563, -0.20507221, -0.21848401, -0.26922357,\n",
       "           0.41074368, -0.22444338,  0.27511624,  0.01854297,\n",
       "           0.20620179, -0.00776918, -0.18701942,  0.38044178,\n",
       "          -0.07064652,  0.5621683 , -0.3185045 , -0.35219857,\n",
       "          -0.19164905,  0.42638782, -0.14890334, -0.41470912,\n",
       "          -0.1550204 , -0.32669395,  0.38436604,  0.4594155 ,\n",
       "           0.16846569,  0.24719119,  0.20274138, -0.27295998,\n",
       "          -0.3323195 ,  0.46076146,  0.5518514 ,  0.39233434,\n",
       "          -0.08436716, -0.24821009,  0.08206671, -0.35124025,\n",
       "           0.29367486, -0.00584841, -0.40348867,  0.27586764,\n",
       "           0.51349384,  0.38673276, -0.20418684, -0.37213397,\n",
       "           0.40567866, -0.2568801 ,  0.3783847 ,  0.48879796,\n",
       "          -0.29809672,  0.27252525, -0.36043486,  0.2786014 ]]],\n",
       "       dtype=float32)>,\n",
       " <tf.Variable 'graph_convolution_11/dense_11/kernel:0' shape=(64, 64) dtype=float32, numpy=\n",
       " array([[ 0.02970935, -0.20993099, -0.05277291, ...,  0.07051721,\n",
       "         -0.21930467, -0.01519461],\n",
       "        [-0.11889578, -0.177386  ,  0.09984958, ...,  0.16860485,\n",
       "         -0.11083221,  0.22962792],\n",
       "        [ 0.10583537, -0.13805641,  0.49383217, ...,  0.4867953 ,\n",
       "         -0.13988899,  0.10666466],\n",
       "        ...,\n",
       "        [ 0.16629075,  0.20809127, -0.20535251, ..., -0.2708442 ,\n",
       "          0.3461717 ,  0.00347422],\n",
       "        [ 0.30326802,  0.17233892, -0.24076709, ..., -0.13143367,\n",
       "          0.07222673, -0.0330149 ],\n",
       "        [-0.04349482,  0.26315358, -0.3067945 , ..., -0.11955323,\n",
       "          0.0321722 , -0.04138858]], dtype=float32)>,\n",
       " <tf.Variable 'graph_convolution_11/dense_11/bias:0' shape=(64,) dtype=float32, numpy=\n",
       " array([-0.02948167, -0.00114553,  0.02678454, -0.02647878,  0.02834323,\n",
       "        -0.01301418,  0.0164877 ,  0.02055706,  0.03178511,  0.02479988,\n",
       "         0.00576306, -0.0035914 , -0.00997009, -0.00043892, -0.0317691 ,\n",
       "        -0.0220954 , -0.00516089, -0.01856579, -0.0109918 , -0.00601883,\n",
       "        -0.00335634,  0.02085217,  0.00448447,  0.00802942,  0.00922449,\n",
       "        -0.02466808,  0.02087862,  0.01956595, -0.00350466, -0.01300209,\n",
       "         0.01863197,  0.00791543, -0.00282368,  0.01065528,  0.0500004 ,\n",
       "         0.0123584 ,  0.01195115, -0.02269383, -0.00235931,  0.03605645,\n",
       "         0.00657369,  0.00402677, -0.02075371,  0.02696813,  0.01877698,\n",
       "        -0.01866999,  0.03532724,  0.0053585 ,  0.03547507, -0.02402423,\n",
       "         0.00721405, -0.0305523 , -0.00065808,  0.02157169, -0.00465874,\n",
       "         0.01544823,  0.01635697,  0.02089156,  0.01589816, -0.02558827,\n",
       "        -0.03050752,  0.01911184, -0.00283978,  0.03087464], dtype=float32)>,\n",
       " <tf.Variable 'dense_1/kernel:0' shape=(64, 1) dtype=float32, numpy=\n",
       " array([[ 0.17452846],\n",
       "        [ 0.20763607],\n",
       "        [-0.3525318 ],\n",
       "        [ 0.3907781 ],\n",
       "        [-0.2208609 ],\n",
       "        [-0.17964123],\n",
       "        [-0.15937075],\n",
       "        [-0.18496001],\n",
       "        [-0.26191634],\n",
       "        [-0.38062882],\n",
       "        [-0.40750062],\n",
       "        [ 0.30406073],\n",
       "        [-0.23449984],\n",
       "        [ 0.27848378],\n",
       "        [ 0.29269907],\n",
       "        [-0.1813538 ],\n",
       "        [ 0.35187927],\n",
       "        [ 0.17861114],\n",
       "        [ 0.17966895],\n",
       "        [ 0.12467137],\n",
       "        [ 0.22366256],\n",
       "        [-0.21626057],\n",
       "        [-0.21717572],\n",
       "        [ 0.2877841 ],\n",
       "        [ 0.2196234 ],\n",
       "        [-0.18400465],\n",
       "        [ 0.13036649],\n",
       "        [-0.17508034],\n",
       "        [-0.29234487],\n",
       "        [ 0.13021147],\n",
       "        [-0.33725622],\n",
       "        [ 0.09976014],\n",
       "        [ 0.13987564],\n",
       "        [ 0.17125715],\n",
       "        [-0.24163535],\n",
       "        [-0.20544636],\n",
       "        [-0.37146726],\n",
       "        [ 0.07096346],\n",
       "        [-0.2636461 ],\n",
       "        [-0.22992416],\n",
       "        [-0.21638304],\n",
       "        [ 0.3028777 ],\n",
       "        [ 0.40290517],\n",
       "        [-0.29610988],\n",
       "        [-0.34741697],\n",
       "        [-0.22629878],\n",
       "        [-0.22598566],\n",
       "        [-0.24534865],\n",
       "        [-0.2958125 ],\n",
       "        [ 0.25577903],\n",
       "        [-0.26680785],\n",
       "        [ 0.19748642],\n",
       "        [-0.35399276],\n",
       "        [-0.15927835],\n",
       "        [ 0.1459598 ],\n",
       "        [-0.36405239],\n",
       "        [-0.21666496],\n",
       "        [-0.20577608],\n",
       "        [-0.25794396],\n",
       "        [ 0.34159094],\n",
       "        [ 0.19447102],\n",
       "        [-0.41702086],\n",
       "        [ 0.38551012],\n",
       "        [-0.0681934 ]], dtype=float32)>,\n",
       " <tf.Variable 'dense_1/bias:0' shape=(1,) dtype=float32, numpy=array([-0.01208447], dtype=float32)>]"
      ]
     },
     "execution_count": 32,
     "metadata": {},
     "output_type": "execute_result"
    }
   ],
   "source": [
    "model.weights"
   ]
  },
  {
   "cell_type": "code",
   "execution_count": 24,
   "metadata": {},
   "outputs": [
    {
     "data": {
      "text/plain": [
       "0.7690834431403794"
      ]
     },
     "execution_count": 24,
     "metadata": {},
     "output_type": "execute_result"
    }
   ],
   "source": [
    "data.get_baseline_accuracy()"
   ]
  },
  {
   "cell_type": "code",
   "execution_count": 25,
   "metadata": {},
   "outputs": [],
   "source": [
    "#test_idx = data._get_idx('test')\n",
    "# Also append all idx that were kept from the model\n",
    "#test_idx.shape"
   ]
  },
  {
   "cell_type": "code",
   "execution_count": 26,
   "metadata": {},
   "outputs": [
    {
     "name": "stdout",
     "output_type": "stream",
     "text": [
      "Created sha1 hash for features and data file c7186ad6f4095a7ceb2168696ef104bbe0381efa\n",
      "Loaded feature memmap ./memmaps/hd5_features_c7186ad6f4095a7ceb2168696ef104bbe0381efa.\n",
      "Created distances memmap ./memmaps/hd5_distances_c7186ad6f4095a7ceb2168696ef104bbe0381efa.\n"
     ]
    }
   ],
   "source": [
    "data2_config = settings\n",
    "settings['dataset']['max_charge'] = None\n",
    "settings['dataset']['balance_classes'] = None\n",
    "settings['dataset']['min_track_length'] = None\n",
    "settings['dataset']['max_cascade_energy'] = None\n",
    "data2 = util.dataset_from_config(data2_config)"
   ]
  },
  {
   "cell_type": "code",
   "execution_count": 27,
   "metadata": {},
   "outputs": [
    {
     "data": {
      "text/plain": [
       "(220295,)"
      ]
     },
     "execution_count": 27,
     "metadata": {},
     "output_type": "execute_result"
    }
   ],
   "source": [
    "test_idx = data2._get_idx('test')\n",
    "test_idx.shape"
   ]
  },
  {
   "cell_type": "code",
   "execution_count": 33,
   "metadata": {},
   "outputs": [
    {
     "name": "stdout",
     "output_type": "stream",
     "text": [
      "3060/3060 [==============================] - 2494s 815ms/step\n"
     ]
    }
   ],
   "source": [
    "# Evaluate the model on all the data\n",
    "batch_size = 72\n",
    "logits_model = model.predict_generator(data2.get_batches(batch_size=batch_size, dataset='test'),\n",
    "                       steps=int(np.ceil(data2.size(dataset='test') / batch_size)), verbose=1)"
   ]
  },
  {
   "cell_type": "code",
   "execution_count": 34,
   "metadata": {},
   "outputs": [
    {
     "data": {
      "text/plain": [
       "array([[0.25352836],\n",
       "       [0.11936048],\n",
       "       [0.14663255],\n",
       "       ...,\n",
       "       [0.5826628 ],\n",
       "       [0.5891738 ],\n",
       "       [0.51535964]], dtype=float32)"
      ]
     },
     "execution_count": 34,
     "metadata": {},
     "output_type": "execute_result"
    }
   ],
   "source": [
    "logits_model"
   ]
  },
  {
   "cell_type": "code",
   "execution_count": 35,
   "metadata": {},
   "outputs": [
    {
     "data": {
      "text/plain": [
       "(218369,)"
      ]
     },
     "execution_count": 35,
     "metadata": {},
     "output_type": "execute_result"
    }
   ],
   "source": [
    "np.unique(logits_model).shape"
   ]
  },
  {
   "cell_type": "code",
   "execution_count": 36,
   "metadata": {},
   "outputs": [],
   "source": [
    "y_model = (logits_model >= 0.5).astype(np.int)"
   ]
  },
  {
   "cell_type": "code",
   "execution_count": 37,
   "metadata": {},
   "outputs": [
    {
     "data": {
      "text/plain": [
       "array([0, 1])"
      ]
     },
     "execution_count": 37,
     "metadata": {},
     "output_type": "execute_result"
    }
   ],
   "source": [
    "np.unique(y_model)"
   ]
  },
  {
   "cell_type": "code",
   "execution_count": 38,
   "metadata": {},
   "outputs": [],
   "source": [
    "y_model = y_model.squeeze()"
   ]
  },
  {
   "cell_type": "code",
   "execution_count": 39,
   "metadata": {},
   "outputs": [],
   "source": [
    "# Get the pe counts (~charge) of the test data\n",
    "total_charge = data.file['TotalCharge']['value'][test_idx]"
   ]
  },
  {
   "cell_type": "code",
   "execution_count": 40,
   "metadata": {},
   "outputs": [],
   "source": [
    "y_gnd = data.targets[test_idx]\n",
    "y_baseline = (data.delta_loglikelihood[test_idx] >= 2.0).astype(np.uint8)"
   ]
  },
  {
   "cell_type": "code",
   "execution_count": 41,
   "metadata": {},
   "outputs": [
    {
     "data": {
      "text/plain": [
       "((220295,), (220295,), (220295,))"
      ]
     },
     "execution_count": 41,
     "metadata": {},
     "output_type": "execute_result"
    }
   ],
   "source": [
    "y_model.shape, y_gnd.shape, y_baseline.shape"
   ]
  },
  {
   "cell_type": "code",
   "execution_count": 42,
   "metadata": {},
   "outputs": [
    {
     "data": {
      "text/plain": [
       "(1374.7999986559153, 7.0)"
      ]
     },
     "execution_count": 42,
     "metadata": {},
     "output_type": "execute_result"
    }
   ],
   "source": [
    "total_charge\n",
    "total_charge.max(), total_charge.min()"
   ]
  },
  {
   "cell_type": "code",
   "execution_count": 43,
   "metadata": {},
   "outputs": [],
   "source": [
    "bins = np.logspace(0.8, 3.2)\n",
    "binned = np.digitize(total_charge, bins)\n",
    "#np.unique(binned)"
   ]
  },
  {
   "cell_type": "code",
   "execution_count": 44,
   "metadata": {},
   "outputs": [],
   "source": [
    "def get_metrics(y_pred, y_gnd):\n",
    "    acc = (y_pred == y_gnd).sum() / len(y_pred)\n",
    "    tpr = (y_pred[y_gnd == 1] == 1).sum() / ((y_gnd == 1).sum() + 1e-20)\n",
    "    tnr = (y_pred[y_gnd == 0] == 0).sum() / ((y_gnd == 0).sum() + 1e-20)\n",
    "    ppr = (y_pred == 1).sum() / y_pred.shape[0]\n",
    "    return acc, tpr, tnr, ppr"
   ]
  },
  {
   "cell_type": "code",
   "execution_count": 45,
   "metadata": {},
   "outputs": [
    {
     "data": {
      "text/plain": [
       "(2202957,)"
      ]
     },
     "execution_count": 45,
     "metadata": {},
     "output_type": "execute_result"
    }
   ],
   "source": [
    "pgd_encoding = np.array(data.file['PDGEncoding']['value'], dtype=np.uint8).astype(np.int8)\n",
    "pgd_encoding.shape"
   ]
  },
  {
   "cell_type": "code",
   "execution_count": 46,
   "metadata": {},
   "outputs": [
    {
     "data": {
      "text/plain": [
       "524922"
      ]
     },
     "execution_count": 46,
     "metadata": {},
     "output_type": "execute_result"
    }
   ],
   "source": [
    "(np.abs(pgd_encoding) == 12).sum()"
   ]
  },
  {
   "cell_type": "code",
   "execution_count": 47,
   "metadata": {},
   "outputs": [
    {
     "data": {
      "text/plain": [
       "array([1, 1, 1, ..., 1, 1, 1], dtype=uint8)"
      ]
     },
     "execution_count": 47,
     "metadata": {},
     "output_type": "execute_result"
    }
   ],
   "source": [
    "interaction_types = np.array(data.file['InteractionType']['value'], dtype=np.uint8)\n",
    "interaction_types"
   ]
  },
  {
   "cell_type": "code",
   "execution_count": 48,
   "metadata": {},
   "outputs": [
    {
     "data": {
      "text/plain": [
       "(array([-16, -14, -12,  12,  14,  16], dtype=int8),\n",
       " array([  46767,  467199,  164192,  360730, 1036437,  127632]))"
      ]
     },
     "execution_count": 48,
     "metadata": {},
     "output_type": "execute_result"
    }
   ],
   "source": [
    "np.unique(pgd_encoding, return_counts=True)"
   ]
  },
  {
   "cell_type": "code",
   "execution_count": 49,
   "metadata": {},
   "outputs": [
    {
     "data": {
      "text/plain": [
       "0.618337988440083"
      ]
     },
     "execution_count": 49,
     "metadata": {},
     "output_type": "execute_result"
    }
   ],
   "source": [
    "np.logical_and((interaction_types == 1), (np.abs(pgd_encoding) == 14)).sum() / interaction_types.shape[0]"
   ]
  },
  {
   "cell_type": "code",
   "execution_count": 50,
   "metadata": {},
   "outputs": [
    {
     "data": {
      "text/plain": [
       "array([1, 2], dtype=uint8)"
      ]
     },
     "execution_count": 50,
     "metadata": {},
     "output_type": "execute_result"
    }
   ],
   "source": [
    "np.unique(interaction_types)"
   ]
  },
  {
   "cell_type": "code",
   "execution_count": 51,
   "metadata": {},
   "outputs": [
    {
     "data": {
      "text/plain": [
       "<KeysViewHDF5 ['CascadeEnergy', 'ChargeFirstPulse', 'ChargeLastPulse', 'ChargeMaxPulse', 'DeltaLLH', 'Distances', 'DistancesOffset', 'IC86_Dunkman_L6_SANTA_DirectCharge', 'IntegratedCharge', 'InteractionType', 'MuonEnergy', 'NumberChannels', 'NumberVertices', 'Offset', 'PDGEncoding', 'RecoAzimuth', 'RecoX', 'RecoY', 'RecoZ', 'RecoZenith', 'TimeFirstPulse', 'TimeLastPulse', 'TimeMaxPulse', 'TimeVariance', 'TotalCharge', 'TrackLength', 'VertexDeltaLLH', 'VertexX', 'VertexY', 'VertexZ']>"
      ]
     },
     "execution_count": 51,
     "metadata": {},
     "output_type": "execute_result"
    }
   ],
   "source": [
    "data.file.keys()"
   ]
  },
  {
   "cell_type": "code",
   "execution_count": 52,
   "metadata": {},
   "outputs": [],
   "source": [
    "y_gnd2 = np.logical_and((interaction_types == 1), (np.abs(pgd_encoding) == 14)).astype(np.int)"
   ]
  },
  {
   "cell_type": "code",
   "execution_count": 53,
   "metadata": {},
   "outputs": [
    {
     "name": "stderr",
     "output_type": "stream",
     "text": [
      "/home/dominik/.local/lib/python3.6/site-packages/ipykernel_launcher.py:2: RuntimeWarning: invalid value encountered in long_scalars\n",
      "  \n",
      "/home/dominik/.local/lib/python3.6/site-packages/ipykernel_launcher.py:5: RuntimeWarning: invalid value encountered in long_scalars\n",
      "  \"\"\"\n"
     ]
    }
   ],
   "source": [
    "metrics = defaultdict(lambda: defaultdict(list))\n",
    "for bin_idx, value in enumerate(bins):\n",
    "    for interaction_type, pgd_code in (('nue', 12), ('numu CC', 14), ('numu NC', 14), ('nutau', 16)):\n",
    "        # print((np.abs(pgd_encoding) == pgd_code).sum(), pgd_code)\n",
    "        bin_mask = binned == bin_idx\n",
    "        enc_mask = np.abs(pgd_encoding[test_idx] == pgd_code)\n",
    "        if 'numu' in interaction_type:\n",
    "            it = 1 if 'CC' in interaction_type else 2\n",
    "            it_mask = interaction_types[test_idx] == it\n",
    "            #print(it, it_mask.sum())\n",
    "            idxs = np.where(np.logical_and(bin_mask, np.logical_and(enc_mask, it_mask)))[0]\n",
    "        else:\n",
    "            idxs = np.where(np.logical_and(bin_mask, enc_mask))[0]\n",
    "        # print(idxs.shape)\n",
    "        for y, t in ((y_model, 'model'), (y_baseline, 'baseline')):\n",
    "            acc, tpr, tnr, ppr = get_metrics(y[idxs], y_gnd[idxs])\n",
    "            metrics[interaction_type][t].append({\n",
    "                'acc' : acc, 'tpr' : tpr, 'ppr' : ppr, 'bin_idx' : bin_idx, 'value' : value, 'num_samples' : idxs.shape[0]\n",
    "            })"
   ]
  },
  {
   "cell_type": "code",
   "execution_count": 54,
   "metadata": {},
   "outputs": [],
   "source": [
    "dfs = {\n",
    "    pgd_code : {\n",
    "            type_ : pd.DataFrame(data) for type_, data in metrics_code.items()\n",
    "        } for pgd_code, metrics_code in metrics.items()\n",
    "    }\n",
    "for pgd_code, metrics_code in dfs.items():\n",
    "    for type_, df in metrics_code.items():\n",
    "        df = df[df['num_samples'] > 100]\n",
    "        metrics_code[type_] = df"
   ]
  },
  {
   "cell_type": "code",
   "execution_count": 55,
   "metadata": {},
   "outputs": [
    {
     "data": {
      "text/plain": [
       "{'model':          acc  bin_idx  num_samples       ppr  tpr       value\n",
       " 3   0.940741        3          135  0.059259  0.0    8.849908\n",
       " 4   0.932432        4          296  0.067568  0.0    9.906457\n",
       " 5   0.939052        5          443  0.060948  0.0   11.089142\n",
       " 6   0.950577        6          607  0.049423  0.0   12.413023\n",
       " 7   0.931889        7          646  0.068111  0.0   13.894955\n",
       " 8   0.921316        8          699  0.078684  0.0   15.553808\n",
       " 9   0.930988        9          739  0.069012  0.0   17.410704\n",
       " 10  0.929577       10          710  0.070423  0.0   19.489286\n",
       " 11  0.931677       11          644  0.068323  0.0   21.816019\n",
       " 12  0.903226       12          620  0.096774  0.0   24.420531\n",
       " 13  0.907873       13          597  0.092127  0.0   27.335983\n",
       " 14  0.895745       14          470  0.104255  0.0   30.599497\n",
       " 15  0.883576       15          481  0.116424  0.0   34.252626\n",
       " 16  0.884444       16          450  0.115556  0.0   38.341886\n",
       " 17  0.899510       17          408  0.100490  0.0   42.919343\n",
       " 18  0.878873       18          355  0.121127  0.0   48.043280\n",
       " 19  0.877814       19          311  0.122186  0.0   53.778941\n",
       " 20  0.915825       20          297  0.084175  0.0   60.199355\n",
       " 21  0.889734       21          263  0.110266  0.0   67.386272\n",
       " 22  0.934066       22          273  0.065934  0.0   75.431201\n",
       " 23  0.881057       23          227  0.118943  0.0   84.436576\n",
       " 24  0.893401       24          197  0.106599  0.0   94.517060\n",
       " 25  0.922619       25          168  0.077381  0.0  105.801006\n",
       " 26  0.921986       26          141  0.078014  0.0  118.432088\n",
       " 27  0.912281       27          114  0.087719  0.0  132.571137,\n",
       " 'baseline':          acc  bin_idx  num_samples       ppr  tpr       value\n",
       " 3   0.844444        3          135  0.155556  0.0    8.849908\n",
       " 4   0.837838        4          296  0.162162  0.0    9.906457\n",
       " 5   0.785553        5          443  0.214447  0.0   11.089142\n",
       " 6   0.784185        6          607  0.215815  0.0   12.413023\n",
       " 7   0.764706        7          646  0.235294  0.0   13.894955\n",
       " 8   0.806867        8          699  0.193133  0.0   15.553808\n",
       " 9   0.755074        9          739  0.244926  0.0   17.410704\n",
       " 10  0.742254       10          710  0.257746  0.0   19.489286\n",
       " 11  0.765528       11          644  0.234472  0.0   21.816019\n",
       " 12  0.743548       12          620  0.256452  0.0   24.420531\n",
       " 13  0.740369       13          597  0.259631  0.0   27.335983\n",
       " 14  0.723404       14          470  0.276596  0.0   30.599497\n",
       " 15  0.686071       15          481  0.313929  0.0   34.252626\n",
       " 16  0.702222       16          450  0.297778  0.0   38.341886\n",
       " 17  0.698529       17          408  0.301471  0.0   42.919343\n",
       " 18  0.670423       18          355  0.329577  0.0   48.043280\n",
       " 19  0.591640       19          311  0.408360  0.0   53.778941\n",
       " 20  0.666667       20          297  0.333333  0.0   60.199355\n",
       " 21  0.612167       21          263  0.387833  0.0   67.386272\n",
       " 22  0.593407       22          273  0.406593  0.0   75.431201\n",
       " 23  0.577093       23          227  0.422907  0.0   84.436576\n",
       " 24  0.538071       24          197  0.461929  0.0   94.517060\n",
       " 25  0.613095       25          168  0.386905  0.0  105.801006\n",
       " 26  0.517730       26          141  0.482270  0.0  118.432088\n",
       " 27  0.622807       27          114  0.377193  0.0  132.571137}"
      ]
     },
     "execution_count": 55,
     "metadata": {},
     "output_type": "execute_result"
    }
   ],
   "source": [
    "dfs['numu NC']"
   ]
  },
  {
   "cell_type": "code",
   "execution_count": 56,
   "metadata": {},
   "outputs": [],
   "source": [
    "def plot_metric(metric, metric_name):\n",
    "    colors = ['blue', 'green', 'red', 'purple']\n",
    "    fig = plt.figure()\n",
    "    plt.xscale('log')\n",
    "    for (pgd_code, df), color in zip(dfs.items(), colors):\n",
    "        for t in df.keys():\n",
    "            if t == 'model':\n",
    "                plt.plot(df[t]['value'], df[t][metric], label=f'{pgd_code} (model)', color=color)\n",
    "            else:\n",
    "                plt.plot(df[t]['value'], df[t][metric], label=f'{pgd_code} (baseline)', linestyle='dashed', color=color)\n",
    "    plt.legend(loc='left', bbox_to_anchor=(1.0, 1.05))\n",
    "    plt.title(metric_name)\n",
    "    plt.ylim()\n",
    "    plt.xlabel('log(Integrated Charge) (pe)')\n"
   ]
  },
  {
   "cell_type": "code",
   "execution_count": 57,
   "metadata": {},
   "outputs": [
    {
     "name": "stderr",
     "output_type": "stream",
     "text": [
      "/usr/local/lib/python3.6/dist-packages/matplotlib-3.0.3-py3.6-linux-x86_64.egg/matplotlib/legend.py:497: UserWarning: Unrecognized location \"left\". Falling back on \"best\"; valid locations are\n",
      "\tbest\n",
      "\tupper right\n",
      "\tupper left\n",
      "\tlower left\n",
      "\tlower right\n",
      "\tright\n",
      "\tcenter left\n",
      "\tcenter right\n",
      "\tlower center\n",
      "\tupper center\n",
      "\tcenter\n",
      "\n",
      "  % (loc, '\\n\\t'.join(self.codes)))\n"
     ]
    },
    {
     "data": {
      "image/png": "[encoded data removed]",
      "text/plain": [
       "<Figure size 432x288 with 1 Axes>"
      ]
     },
     "metadata": {
      "needs_background": "light"
     },
     "output_type": "display_data"
    }
   ],
   "source": [
    "plot_metric('acc', 'Accuracy', )"
   ]
  },
  {
   "cell_type": "code",
   "execution_count": 58,
   "metadata": {},
   "outputs": [
    {
     "data": {
      "text/plain": [
       "0.4033091990285753"
      ]
     },
     "execution_count": 58,
     "metadata": {},
     "output_type": "execute_result"
    }
   ],
   "source": [
    "(y_model == y_gnd).sum() / y_gnd.shape[0]"
   ]
  },
  {
   "cell_type": "code",
   "execution_count": 59,
   "metadata": {},
   "outputs": [
    {
     "data": {
      "text/plain": [
       "0.6162010032002542"
      ]
     },
     "execution_count": 59,
     "metadata": {},
     "output_type": "execute_result"
    }
   ],
   "source": [
    "(y_baseline == y_gnd).sum() / y_gnd.shape[0]"
   ]
  },
  {
   "cell_type": "code",
   "execution_count": 60,
   "metadata": {},
   "outputs": [
    {
     "data": {
      "image/png": "[encoded data removed]",
      "text/plain": [
       "<Figure size 432x288 with 1 Axes>"
      ]
     },
     "metadata": {
      "needs_background": "light"
     },
     "output_type": "display_data"
    }
   ],
   "source": [
    "plot_metric('ppr', 'Predicted Positives')"
   ]
  },
  {
   "cell_type": "code",
   "execution_count": 49,
   "metadata": {},
   "outputs": [
    {
     "data": {
      "text/plain": [
       "(array([  15,  455, 1550, 3179, 4701, 5964, 6505, 6722, 6417, 5999, 5752,\n",
       "        5133, 4529, 3866, 3372, 2994, 2620, 2223, 1942, 1652, 1446, 1197,\n",
       "        1044,  886,  765,  623,  505,  424,  314,  306,  217,  183,  142,\n",
       "         111,   74,   66,   42,   31,   23,   12,    6,    9,    1,    4,\n",
       "           7,    1,    1]),\n",
       " array([  19,  538, 1836, 4093, 6086, 7511, 8517, 9375, 9176, 8999, 8646,\n",
       "        8259, 7636, 6971, 6541, 5913, 5341, 4603, 4262, 3880, 3202, 2777,\n",
       "        2462, 2078, 1739, 1382, 1066,  842,  691,  517,  356,  250,  191,\n",
       "         152,  119,   69,   58,   37,   23,   20,   13,   11,    4,    1,\n",
       "           1,    1,    1]))"
      ]
     },
     "execution_count": 49,
     "metadata": {},
     "output_type": "execute_result"
    }
   ],
   "source": [
    "bins_track, bin_counts_track = np.unique(binned[y_gnd > 0], return_counts=True)\n",
    "bins_non_track, bin_counts_non_track = np.unique(binned[y_gnd <= 0], return_counts=True)\n",
    "bin_counts_non_track, bin_counts_track\n"
   ]
  },
  {
   "cell_type": "code",
   "execution_count": 50,
   "metadata": {},
   "outputs": [
    {
     "data": {
      "text/plain": [
       "Text(0.5, 0, 'log(Integrated Charge) (pe)')"
      ]
     },
     "execution_count": 50,
     "metadata": {},
     "output_type": "execute_result"
    },
    {
     "data": {
      "image/png": "[encoded data removed]",
      "text/plain": [
       "<Figure size 432x288 with 1 Axes>"
      ]
     },
     "metadata": {
      "needs_background": "light"
     },
     "output_type": "display_data"
    }
   ],
   "source": [
    "fig = plt.figure()\n",
    "plt.xscale('log')\n",
    "plt.step(bins[bins_track], bin_counts_track, label='Track')\n",
    "plt.step(bins[bins_non_track], bin_counts_non_track, label='No Track')\n",
    "plt.legend()\n",
    "plt.xlim(right=2e2)\n",
    "plt.title('Event Counts')\n",
    "plt.xlabel('log(Integrated Charge) (pe)')"
   ]
  },
  {
   "cell_type": "code",
   "execution_count": 51,
   "metadata": {},
   "outputs": [
    {
     "data": {
      "text/plain": [
       "array([       nan, 0.45454545, 0.54371585, 0.51602564, 0.51567568,\n",
       "       0.49527959, 0.51566784, 0.51246347, 0.51382596, 0.50258565,\n",
       "       0.51834025, 0.52382573, 0.51396848, 0.51608527, 0.53446809,\n",
       "       0.53135536, 0.53290291, 0.53529572, 0.56768838, 0.58156271,\n",
       "       0.59902658, 0.59186472, 0.61957091, 0.62044232, 0.59596662,\n",
       "       0.59243697, 0.53202479, 0.49041096, 0.39739414, 0.36418511,\n",
       "       0.34816754, 0.27881041, 0.22395833, 0.21830986, 0.17322835,\n",
       "       0.14130435, 0.09259259, 0.29787234, 0.07407407, 0.125     ,\n",
       "       0.2       , 0.53846154, 0.375     , 0.        , 1.        ,\n",
       "              nan,        nan,        nan,        nan,        nan,\n",
       "              nan, 0.45454545, 0.54371585, 0.51602564, 0.51567568,\n",
       "       0.49527959, 0.51566784, 0.51246347, 0.51382596, 0.50258565,\n",
       "       0.51834025, 0.52382573, 0.51396848, 0.51608527, 0.53446809,\n",
       "       0.53135536, 0.53290291, 0.53529572, 0.56768838, 0.58156271,\n",
       "       0.59902658, 0.59186472, 0.61957091, 0.62044232, 0.59596662,\n",
       "       0.59243697, 0.53202479, 0.49041096, 0.39739414, 0.36418511,\n",
       "       0.34816754, 0.27881041, 0.22395833, 0.21830986, 0.17322835,\n",
       "       0.14130435, 0.09259259, 0.29787234, 0.07407407, 0.125     ,\n",
       "       0.2       , 0.53846154, 0.375     , 0.        , 1.        ,\n",
       "              nan,        nan,        nan,        nan,        nan])"
      ]
     },
     "execution_count": 51,
     "metadata": {},
     "output_type": "execute_result"
    }
   ],
   "source": [
    "np.hstack((\n",
    "    np.array(pd.DataFrame(metrics['numu CC']['model'])['acc']),\n",
    "    np.array(pd.DataFrame(metrics['numu CC']['model'])['acc'])\n",
    "    )\n",
    ")"
   ]
  },
  {
   "cell_type": "code",
   "execution_count": 52,
   "metadata": {},
   "outputs": [],
   "source": [
    "total_charge_sorted = np.sort(total_charge)"
   ]
  },
  {
   "cell_type": "code",
   "execution_count": 19,
   "metadata": {},
   "outputs": [],
   "source": [
    "# Find different cutoff values to check performance at different maximal energies by selecting the quantiles of the data\n",
    "cutoffs = []\n",
    "quantiles = []\n",
    "for quantile in np.arange(0.00, 1.0, 0.01):\n",
    "    quantile = 1.0 - quantile\n",
    "    quantiles.append(quantile)\n",
    "    cutoffs.append(total_charge_sorted[int(total_charge.shape[0] * quantile) - 1])"
   ]
  },
  {
   "cell_type": "code",
   "execution_count": 20,
   "metadata": {},
   "outputs": [
    {
     "data": {
      "text/plain": [
       "((220295,), (220295,))"
      ]
     },
     "execution_count": 20,
     "metadata": {},
     "output_type": "execute_result"
    }
   ],
   "source": [
    "y_model.shape, y_gnd.shape"
   ]
  },
  {
   "cell_type": "code",
   "execution_count": 22,
   "metadata": {},
   "outputs": [],
   "source": [
    "metrics = defaultdict(lambda: defaultdict(list))\n",
    "for cutoff, quantile in zip(cutoffs, quantiles):\n",
    "    mask = total_charge <= cutoff\n",
    "    acc_baseline, tpr_baseline, tnr_baseline, ppr_baseline = get_metrics(y_baseline[mask], y_gnd[mask])\n",
    "    metrics['baseline']['accuracy'].append(acc_baseline)\n",
    "    metrics['baseline']['tpr'].append(tpr_baseline)\n",
    "    metrics['baseline']['tnr'].append(tnr_baseline)\n",
    "    metrics['baseline']['ppr'].append(ppr_baseline)\n",
    "    acc_model, tpr_model, tnr_model, ppr_model = get_metrics(y_model[mask], y_gnd[mask])\n",
    "    metrics['model']['accuracy'].append(acc_model)\n",
    "    metrics['model']['tpr'].append(tpr_model)\n",
    "    metrics['model']['tnr'].append(tnr_model)\n",
    "    metrics['model']['ppr'].append(ppr_model)\n",
    "    metrics['gnd']['ppr'].append((y_gnd[mask] == 1).sum() / y_gnd[mask].shape[0])"
   ]
  },
  {
   "cell_type": "code",
   "execution_count": 23,
   "metadata": {},
   "outputs": [
    {
     "data": {
      "text/plain": [
       "Text(0.5, 0.04, 'Integrated Charge (pe)')"
      ]
     },
     "execution_count": 23,
     "metadata": {},
     "output_type": "execute_result"
    },
    {
     "data": {
      "image/png": "[encoded data removed]",
      "text/plain": [
       "<Figure size 1080x360 with 3 Axes>"
      ]
     },
     "metadata": {
      "needs_background": "light"
     },
     "output_type": "display_data"
    }
   ],
   "source": [
    "fig = plt.figure(figsize=(15, 5))\n",
    "ax1 = fig.add_subplot(131)\n",
    "ax1.plot(cutoffs, metrics['baseline']['accuracy'], label='Baseline')\n",
    "ax1.plot(cutoffs, metrics['model']['accuracy'], label='Model')\n",
    "ax1.set_title('Accuracy', fontsize=18)\n",
    "ax1.legend(fontsize=18)\n",
    "ax2 = fig.add_subplot(132)\n",
    "ax2.plot(cutoffs, metrics['baseline']['tpr'], label='Baseline')\n",
    "ax2.plot(cutoffs, metrics['model']['tpr'], label='Model')\n",
    "ax2.set_title('True Positive Rate', fontsize=18)\n",
    "ax2.legend(fontsize=18)\n",
    "ax3 = fig.add_subplot(133)\n",
    "ax3.plot(cutoffs, metrics['baseline']['tnr'], label='Baseline')\n",
    "ax3.plot(cutoffs, metrics['model']['tnr'], label='Model')\n",
    "ax3.set_title('True Negative Rate', fontsize=18)\n",
    "ax3.legend(fontsize=18)\n",
    "fig.text(0.5, 0.04, 'Integrated Charge (pe)', ha='center', va='center', fontsize=18)\n",
    "\n"
   ]
  },
  {
   "cell_type": "code",
   "execution_count": null,
   "metadata": {},
   "outputs": [],
   "source": []
  },
  {
   "cell_type": "code",
   "execution_count": 24,
   "metadata": {},
   "outputs": [
    {
     "data": {
      "text/plain": [
       "<matplotlib.legend.Legend at 0x7fe6e4cb3a20>"
      ]
     },
     "execution_count": 24,
     "metadata": {},
     "output_type": "execute_result"
    },
    {
     "data": {
      "image/png": "[encoded data removed]",
      "text/plain": [
       "<Figure size 432x288 with 1 Axes>"
      ]
     },
     "metadata": {
      "needs_background": "light"
     },
     "output_type": "display_data"
    }
   ],
   "source": [
    "fig = plt.figure()\n",
    "plt.plot(cutoffs, metrics['baseline']['ppr'], label='Baseline')\n",
    "plt.plot(cutoffs, metrics['model']['ppr'], label='Model')\n",
    "plt.plot(cutoffs, metrics['gnd']['ppr'], label='Truth')\n",
    "plt.legend()\n"
   ]
  },
  {
   "cell_type": "code",
   "execution_count": 31,
   "metadata": {},
   "outputs": [
    {
     "name": "stdout",
     "output_type": "stream",
     "text": [
      "_________________________________________________________________\n",
      "Layer (type)                 Output Shape              Param #   \n",
      "=================================================================\n",
      "adjacency_matrix_layer_1 (Ad multiple                  1         \n",
      "_________________________________________________________________\n",
      "gcnn_block_4 (GCNNBlock)     multiple                  1088      \n",
      "_________________________________________________________________\n",
      "gcnn_block_5 (GCNNBlock)     multiple                  16448     \n",
      "_________________________________________________________________\n",
      "gcnn_block_6 (GCNNBlock)     multiple                  16448     \n",
      "_________________________________________________________________\n",
      "gcnn_block_7 (GCNNBlock)     multiple                  16448     \n",
      "_________________________________________________________________\n",
      "dense_2 (Dense)              multiple                  2080      \n",
      "_________________________________________________________________\n",
      "batch_normalization_v1_1 (Ba multiple                  128       \n",
      "_________________________________________________________________\n",
      "re_lu_1 (ReLU)               multiple                  0         \n",
      "_________________________________________________________________\n",
      "dropout_1 (Dropout)          multiple                  0         \n",
      "_________________________________________________________________\n",
      "dense_3 (Dense)              multiple                  33        \n",
      "=================================================================\n",
      "Total params: 52,674\n",
      "Trainable params: 52,610\n",
      "Non-trainable params: 64\n",
      "_________________________________________________________________\n"
     ]
    }
   ],
   "source": [
    "model.summary()"
   ]
  },
  {
   "cell_type": "code",
   "execution_count": 32,
   "metadata": {},
   "outputs": [
    {
     "data": {
      "text/plain": [
       "[<tf.Variable 'adjacency_matrix_layer_1/sigma:0' shape=(1,) dtype=float32, numpy=array([-1.1994079], dtype=float32)>,\n",
       " <tf.Variable 'gcnn_block_4/dense/kernel:0' shape=(16, 64) dtype=float32, numpy=\n",
       " array([[-6.7605382e-01, -5.5014306e-01,  1.0545670e+00, ...,\n",
       "          5.9158012e-02,  4.1892594e-01,  1.1311057e+00],\n",
       "        [-1.1726910e-01, -3.6698148e-02, -2.5776282e-02, ...,\n",
       "         -1.6091052e-01, -3.3308864e-03,  1.9296408e-02],\n",
       "        [-4.5562524e-01, -7.2932534e-02,  3.4593046e-01, ...,\n",
       "         -2.7987896e-02,  1.9500892e-01,  7.2564250e-01],\n",
       "        ...,\n",
       "        [ 2.4853425e-02,  5.2007634e-02,  1.5153764e-04, ...,\n",
       "         -1.7101361e-01,  9.0077855e-03, -3.0158782e-01],\n",
       "        [ 1.8562905e-01, -2.1861477e-01, -2.6344028e-01, ...,\n",
       "         -1.6159213e-01,  5.9850786e-02, -1.6955628e-01],\n",
       "        [ 1.4021096e-01, -1.9073695e-01, -1.7653483e-01, ...,\n",
       "          9.7623197e-03, -1.5720429e-02, -1.2895808e-01]], dtype=float32)>,\n",
       " <tf.Variable 'gcnn_block_4/dense/bias:0' shape=(64,) dtype=float32, numpy=\n",
       " array([-0.3069938 ,  0.0624007 ,  0.69398   ,  0.6525065 ,  0.29171705,\n",
       "         0.98811215, -0.41300717, -0.48984492, -0.07880861,  0.02452249,\n",
       "         0.35919142,  0.26089796, -0.096711  , -0.48206446,  0.34416702,\n",
       "        -0.7964469 ,  0.64835846,  0.5966026 , -0.3626038 , -0.7104603 ,\n",
       "         0.7282719 , -0.6431601 ,  0.13027382, -0.87889796,  0.81249046,\n",
       "        -0.39490506,  0.4064488 ,  0.37407222,  0.00981946,  0.86674625,\n",
       "         0.79656076,  0.8064322 ,  0.91592324,  0.29409498, -0.07865976,\n",
       "        -0.01589836, -0.16478431,  0.08708093,  0.8054874 ,  0.5577407 ,\n",
       "        -0.10067268, -0.33921534,  0.73283815,  0.27109697, -0.83541334,\n",
       "        -0.6268804 , -0.58513594, -0.2266315 ,  0.27250856, -0.3784614 ,\n",
       "         0.65270716, -0.5001135 , -0.60789716,  0.5188713 ,  0.12683252,\n",
       "        -0.3821023 , -0.30208313, -0.21026321, -0.25819424,  0.13294078,\n",
       "         1.1780977 ,  0.02748845,  0.16321723,  0.88305664], dtype=float32)>,\n",
       " <tf.Variable 'gcnn_block_5/dense_1/kernel:0' shape=(256, 64) dtype=float32, numpy=\n",
       " array([[ 0.14330289, -0.12059993, -0.12005726, ...,  0.08474343,\n",
       "         -0.12943548, -0.09355707],\n",
       "        [ 0.11784714,  0.06425252, -0.14343964, ..., -0.02485649,\n",
       "         -0.04314864,  0.13742808],\n",
       "        [ 0.0868709 ,  0.19802451,  0.08969695, ..., -0.04779879,\n",
       "         -0.03558064, -0.07239988],\n",
       "        ...,\n",
       "        [-0.10580715,  0.07935583,  0.07933052, ...,  0.03176492,\n",
       "          0.24236882, -0.10040805],\n",
       "        [ 0.03169346, -0.01481703, -0.18317062, ..., -0.05915226,\n",
       "          0.02349429,  0.02185407],\n",
       "        [-0.04483846,  0.08509641,  0.17415132, ...,  0.00384865,\n",
       "         -0.03517282,  0.09106945]], dtype=float32)>,\n",
       " <tf.Variable 'gcnn_block_5/dense_1/bias:0' shape=(64,) dtype=float32, numpy=\n",
       " array([-2.4742424e-01,  5.8939135e-01,  2.9601252e-01,  6.9139200e-01,\n",
       "        -1.5417543e-01, -4.1035244e-01, -2.8629959e-01,  1.8609300e-01,\n",
       "        -3.8132420e-01,  6.1626416e-01, -7.9603225e-02, -2.3907989e-01,\n",
       "         5.8198482e-01, -2.6853782e-01, -2.0738950e-01, -7.8147441e-02,\n",
       "         4.9212563e-01, -2.5570363e-01,  8.3685823e-02, -2.4442749e-01,\n",
       "        -2.6681337e-01,  3.3886957e-01, -5.6005161e-02,  1.5157345e-01,\n",
       "        -3.5367870e-01, -1.6618748e-01, -5.6695685e-02,  1.6568339e-01,\n",
       "        -1.6176121e-01, -4.4167306e-02,  3.9754313e-01,  5.9029728e-01,\n",
       "         1.6782886e-01, -4.4266334e-01,  4.7676954e-01,  5.5651397e-01,\n",
       "        -8.3522648e-02, -4.5893356e-01,  7.4071564e-02,  6.9566560e-01,\n",
       "        -2.4494123e-01, -2.4489164e-01,  7.1892518e-01, -2.2476885e-01,\n",
       "         4.1438431e-02, -2.5427528e-04, -3.4451544e-01,  3.0160165e-01,\n",
       "        -1.3281006e-01,  3.1508520e-01,  1.3543138e-01,  3.9115602e-01,\n",
       "         5.4075706e-01,  6.0587689e-02, -1.1974260e-01, -2.0385189e-01,\n",
       "         7.1999419e-01,  7.7174550e-01,  5.8286077e-01, -3.5850680e-01,\n",
       "         3.5421813e-01,  2.1785796e-02, -7.7037653e-03,  7.3147386e-02],\n",
       "       dtype=float32)>,\n",
       " <tf.Variable 'gcnn_block_6/dense_2/kernel:0' shape=(256, 64) dtype=float32, numpy=\n",
       " array([[ 0.02427884,  0.06220385, -0.1048332 , ...,  0.07933848,\n",
       "          0.04279333, -0.13811654],\n",
       "        [-0.01215193,  0.0465738 , -0.12358401, ..., -0.05428782,\n",
       "         -0.08284378,  0.07130632],\n",
       "        [-0.09329136,  0.0731649 ,  0.07992641, ..., -0.04354678,\n",
       "         -0.10007691,  0.01079553],\n",
       "        ...,\n",
       "        [-0.04804759,  0.03861537,  0.025991  , ...,  0.08627114,\n",
       "         -0.12806006,  0.06225937],\n",
       "        [-0.0687777 ,  0.13067362,  0.05610539, ...,  0.01482721,\n",
       "          0.24838713, -0.07244674],\n",
       "        [ 0.08115092, -0.01208315, -0.00174735, ...,  0.15480064,\n",
       "          0.00962571, -0.13389313]], dtype=float32)>,\n",
       " <tf.Variable 'gcnn_block_6/dense_2/bias:0' shape=(64,) dtype=float32, numpy=\n",
       " array([ 0.08063985, -0.08773158, -0.05985765,  0.27423757, -0.02770679,\n",
       "         0.19619206,  0.40502763,  0.07005962, -0.2945476 , -0.25396326,\n",
       "        -0.09896465, -0.0343955 , -0.14073594, -0.24055219,  0.14262447,\n",
       "         0.08839218, -0.05507744, -0.16811931,  0.07436746,  0.14911534,\n",
       "         0.17514987,  0.09190225,  0.14551517,  0.06605029,  0.06421548,\n",
       "        -0.11824498,  0.08085201, -0.02057709,  0.15742132,  0.33493528,\n",
       "         0.16404453, -0.20951962, -0.03663767, -0.41505045,  0.24234954,\n",
       "         0.18298139,  0.00894762, -0.02975206, -0.2663744 , -0.21434473,\n",
       "         0.2007879 ,  0.08222935,  0.23509604, -0.20412245, -0.06752763,\n",
       "        -0.29935735,  0.48670286, -0.14593829,  0.1202387 , -0.01121091,\n",
       "         0.430828  , -0.17915514, -0.22010724,  0.16429535,  0.31328845,\n",
       "        -0.13824992, -0.12758411, -0.15146253,  0.00234769,  0.08594495,\n",
       "        -0.31159884,  0.08143885, -0.10054699,  0.19561033], dtype=float32)>,\n",
       " <tf.Variable 'gcnn_block_7/dense_3/kernel:0' shape=(256, 64) dtype=float32, numpy=\n",
       " array([[ 0.00504931, -0.00590566,  0.12278549, ..., -0.14761123,\n",
       "         -0.06352481, -0.02533544],\n",
       "        [ 0.0140737 , -0.07158004,  0.0160893 , ..., -0.03070254,\n",
       "          0.02732349,  0.0623679 ],\n",
       "        [ 0.0409312 , -0.01092318,  0.03787312, ..., -0.0976135 ,\n",
       "         -0.03519413, -0.03571904],\n",
       "        ...,\n",
       "        [-0.05366746, -0.00312963,  0.15568294, ..., -0.16332014,\n",
       "         -0.02189261, -0.09808336],\n",
       "        [ 0.010653  ,  0.00492356,  0.11491548, ..., -0.12452638,\n",
       "         -0.19219492, -0.2555971 ],\n",
       "        [ 0.12391725, -0.05601732,  0.15248115, ..., -0.0697597 ,\n",
       "          0.01371723,  0.03034191]], dtype=float32)>,\n",
       " <tf.Variable 'gcnn_block_7/dense_3/bias:0' shape=(64,) dtype=float32, numpy=\n",
       " array([ 1.09283665e-05, -3.70472480e-06,  9.79481956e-06, -4.68909047e-06,\n",
       "         2.63644461e-06,  1.07026108e-05,  6.20744868e-06, -1.03379682e-06,\n",
       "         6.09029257e-06,  9.94405241e-07, -1.04568960e-06,  7.32679018e-06,\n",
       "        -2.09740119e-06, -8.96600432e-06,  6.75564934e-06, -3.40468500e-06,\n",
       "        -2.18726655e-06,  8.32801470e-06,  2.19173035e-06,  1.65182391e-05,\n",
       "         6.31007060e-06,  2.57023703e-06, -4.91838864e-06,  2.82768411e-07,\n",
       "         9.48868504e-08, -1.74863445e-07, -1.94763879e-06,  4.32375691e-06,\n",
       "        -6.46948729e-06,  1.53478527e-06, -4.96164876e-06, -7.41265285e-06,\n",
       "         1.20180548e-05, -4.44610487e-06,  2.45391334e-06,  4.49995287e-06,\n",
       "        -4.17054025e-06,  9.01213298e-06, -1.95397115e-05, -2.67575297e-06,\n",
       "        -8.63451419e-07, -3.51290646e-06, -2.37991185e-06,  2.42215350e-07,\n",
       "        -5.39265193e-06, -1.03960210e-05, -2.56293629e-06, -1.09794723e-06,\n",
       "        -2.77794334e-06, -2.87077273e-06, -8.42911231e-06, -4.23480486e-07,\n",
       "         1.55811467e-05, -1.30350472e-05, -2.12787154e-06, -3.45752437e-06,\n",
       "        -6.50441143e-06,  2.29349189e-06,  2.72345164e-06, -1.22389520e-06,\n",
       "        -6.32130605e-06,  1.06091295e-06,  5.76701132e-06,  4.23906204e-06],\n",
       "       dtype=float32)>,\n",
       " <tf.Variable 'dense_2/kernel:0' shape=(64, 32) dtype=float32, numpy=\n",
       " array([[ 0.005633  , -0.12180412,  0.2880475 , ..., -0.0495809 ,\n",
       "         -0.08780124,  0.10140747],\n",
       "        [-0.18472634,  0.14648107,  0.25162888, ..., -0.0540107 ,\n",
       "          0.26062837,  0.2841678 ],\n",
       "        [-0.10013869, -0.23438743, -0.04762027, ..., -0.3122728 ,\n",
       "         -0.00161952, -0.23551206],\n",
       "        ...,\n",
       "        [ 0.00544812,  0.03507583,  0.09598786, ...,  0.08200205,\n",
       "         -0.15396816,  0.22239341],\n",
       "        [ 0.04748636,  0.16081351,  0.14092557, ...,  0.10422183,\n",
       "         -0.06772839,  0.092614  ],\n",
       "        [ 0.05284258,  0.04149263,  0.2291767 , ...,  0.06530889,\n",
       "          0.22437537,  0.20304035]], dtype=float32)>,\n",
       " <tf.Variable 'dense_2/bias:0' shape=(32,) dtype=float32, numpy=\n",
       " array([-8.15126455e-08,  3.13944319e-08,  1.99982537e-07,  2.01241889e-07,\n",
       "         5.31884119e-08,  7.74946471e-08, -1.00901303e-07,  2.38342039e-08,\n",
       "        -3.84971344e-08,  5.52345591e-09, -4.44674768e-08, -3.61908157e-08,\n",
       "         2.21651213e-08,  6.02070003e-08,  1.31602498e-08, -1.82061619e-08,\n",
       "        -1.18151267e-08, -3.19834896e-08, -1.43066487e-07,  1.11017265e-07,\n",
       "        -1.53631827e-08, -4.66140087e-08,  3.08193187e-08, -1.66770008e-07,\n",
       "        -1.44835894e-08,  5.83475277e-08, -8.02255542e-08,  2.88452355e-08,\n",
       "        -1.83585609e-08, -8.14512688e-08,  3.85102545e-08, -8.60070131e-08],\n",
       "       dtype=float32)>,\n",
       " <tf.Variable 'batch_normalization_v1_1/gamma:0' shape=(32,) dtype=float32, numpy=\n",
       " array([0.52920765, 0.58692896, 0.7468871 , 0.6553369 , 0.7385978 ,\n",
       "        0.6628496 , 0.6486181 , 0.67284405, 0.67850816, 0.62013775,\n",
       "        0.5649198 , 0.57535845, 0.69799286, 0.6880644 , 0.7135706 ,\n",
       "        0.71745425, 0.68305796, 0.70047665, 0.6402485 , 0.67412096,\n",
       "        0.54429275, 0.6493168 , 0.7007516 , 0.5896491 , 0.7163578 ,\n",
       "        0.5854549 , 0.589267  , 0.64098364, 0.62771386, 0.7032132 ,\n",
       "        0.49711365, 0.7010627 ], dtype=float32)>,\n",
       " <tf.Variable 'batch_normalization_v1_1/beta:0' shape=(32,) dtype=float32, numpy=\n",
       " array([-0.32480738, -0.44385242,  0.04496158, -0.39519447, -0.10977688,\n",
       "        -0.07697792,  0.06346464,  0.13457754,  0.09408556,  0.10751452,\n",
       "        -0.3984073 , -0.42428523,  0.10890862,  0.11964466,  0.1223326 ,\n",
       "        -0.1842204 ,  0.1689751 , -0.08602165, -0.09461443,  0.00608822,\n",
       "        -0.3602877 , -0.33430982,  0.09833628, -0.37188894,  0.20369828,\n",
       "         0.05224164, -0.4455716 , -0.18821386, -0.44535145,  0.02379471,\n",
       "        -0.62841624,  0.07267494], dtype=float32)>,\n",
       " <tf.Variable 'dense_3/kernel:0' shape=(32, 1) dtype=float32, numpy=\n",
       " array([[-0.00423669],\n",
       "        [ 0.04372752],\n",
       "        [-0.04380444],\n",
       "        [ 0.09054193],\n",
       "        [-0.01902472],\n",
       "        [-0.02217328],\n",
       "        [ 0.01706297],\n",
       "        [-0.03005931],\n",
       "        [ 0.01605664],\n",
       "        [ 0.02960158],\n",
       "        [ 0.00723833],\n",
       "        [ 0.0450989 ],\n",
       "        [ 0.02144675],\n",
       "        [ 0.02626002],\n",
       "        [-0.03490426],\n",
       "        [ 0.01946905],\n",
       "        [ 0.02897662],\n",
       "        [ 0.00141925],\n",
       "        [-0.02043498],\n",
       "        [-0.02344782],\n",
       "        [ 0.00739965],\n",
       "        [ 0.07656591],\n",
       "        [-0.03184641],\n",
       "        [ 0.00702154],\n",
       "        [-0.03826641],\n",
       "        [ 0.01648133],\n",
       "        [ 0.07698587],\n",
       "        [-0.0034397 ],\n",
       "        [ 0.10023106],\n",
       "        [-0.0021108 ],\n",
       "        [-0.07840984],\n",
       "        [-0.04406582]], dtype=float32)>,\n",
       " <tf.Variable 'dense_3/bias:0' shape=(1,) dtype=float32, numpy=array([0.03189318], dtype=float32)>,\n",
       " <tf.Variable 'batch_normalization_v1_1/moving_mean:0' shape=(32,) dtype=float32, numpy=\n",
       " array([ -93041.3  , -137074.25 , -161544.   , -160841.89 , -102343.17 ,\n",
       "        -147416.4  ,  145387.8  , -135653.02 ,  178598.73 ,  162219.61 ,\n",
       "        -121981.484, -122629.37 ,  103978.23 ,  193454.56 , -154419.95 ,\n",
       "        -181470.66 ,  166504.17 , -176659.84 , -137790.3  , -151414.05 ,\n",
       "        -129314.7  , -179475.88 , -157737.4  , -115548.77 , -177896.84 ,\n",
       "         131939.47 , -171772.48 ,  -92248.38 , -198568.6  , -166841.16 ,\n",
       "         -48922.95 , -181906.2  ], dtype=float32)>,\n",
       " <tf.Variable 'batch_normalization_v1_1/moving_variance:0' shape=(32,) dtype=float32, numpy=\n",
       " array([5.9049016e+09, 1.2295650e+10, 1.9145492e+10, 1.4226649e+10,\n",
       "        1.0100710e+10, 1.5126668e+10, 1.1718042e+10, 1.4366755e+10,\n",
       "        1.6669768e+10, 1.3785593e+10, 8.5152492e+09, 8.5030717e+09,\n",
       "        6.8065336e+09, 2.0093778e+10, 1.5488828e+10, 1.8045252e+10,\n",
       "        1.4326422e+10, 1.9609612e+10, 1.5731478e+10, 1.1965369e+10,\n",
       "        9.0412698e+09, 1.6996647e+10, 1.6244432e+10, 7.7409500e+09,\n",
       "        2.1816377e+10, 8.7513723e+09, 1.6737608e+10, 4.7076260e+09,\n",
       "        2.2051588e+10, 1.4322737e+10, 5.4254525e+09, 2.0359776e+10],\n",
       "       dtype=float32)>]"
      ]
     },
     "execution_count": 32,
     "metadata": {},
     "output_type": "execute_result"
    }
   ],
   "source": [
    "model.weights"
   ]
  },
  {
   "cell_type": "code",
   "execution_count": 131,
   "metadata": {},
   "outputs": [
    {
     "data": {
      "text/plain": [
       "array([0])"
      ]
     },
     "execution_count": 131,
     "metadata": {},
     "output_type": "execute_result"
    }
   ],
   "source": [
    "np.unique(y_model)"
   ]
  },
  {
   "cell_type": "markdown",
   "metadata": {},
   "source": [
    "# Investigate attributes of the dataset"
   ]
  },
  {
   "cell_type": "code",
   "execution_count": 5,
   "metadata": {},
   "outputs": [],
   "source": [
    "file = h5py.File('../data/data_dragon2.hd5')"
   ]
  },
  {
   "cell_type": "code",
   "execution_count": 13,
   "metadata": {},
   "outputs": [],
   "source": [
    "idx = np.arange(file['TimeStdDeviation'].shape[0])\n",
    "np.random.shuffle(idx)"
   ]
  },
  {
   "cell_type": "code",
   "execution_count": 14,
   "metadata": {},
   "outputs": [],
   "source": [
    "samples = idx[:100000]"
   ]
  },
  {
   "cell_type": "code",
   "execution_count": 18,
   "metadata": {},
   "outputs": [
    {
     "data": {
      "text/plain": [
       "<KeysViewHDF5 ['ChargeFirstPulse', 'ChargeLastPulse', 'DeltaLLH', 'IC86_Dunkman_L6_SANTA_DirectCharge', 'IntegratedCharge', 'InteractionType', 'NumberChannels', 'NumberVertices', 'Offset', 'PDGEncoding', 'RecoAzimuth', 'RecoX', 'RecoY', 'RecoZ', 'RecoZenith', 'TimeFirstPulse', 'TimeLastPulse', 'TimeStdDeviation', 'TotalCharge', 'VertexX', 'VertexY', 'VertexZ', '__I3Index__']>"
      ]
     },
     "execution_count": 18,
     "metadata": {},
     "output_type": "execute_result"
    }
   ],
   "source": [
    "file.keys()"
   ]
  },
  {
   "cell_type": "code",
   "execution_count": 42,
   "metadata": {},
   "outputs": [],
   "source": [
    "time_std_samples = file['TimeStdDeviation']['item'][samples]"
   ]
  },
  {
   "cell_type": "code",
   "execution_count": 38,
   "metadata": {},
   "outputs": [],
   "source": [
    "time_std_samples = time_std_samples[time_std_samples < 1e-5]"
   ]
  },
  {
   "cell_type": "code",
   "execution_count": 43,
   "metadata": {},
   "outputs": [
    {
     "data": {
      "text/plain": [
       "array([1.2055448e-03, 1.1102230e-16, 0.0000000e+00, ..., 0.0000000e+00,\n",
       "       0.0000000e+00, 2.8057413e-03], dtype=float32)"
      ]
     },
     "execution_count": 43,
     "metadata": {},
     "output_type": "execute_result"
    }
   ],
   "source": [
    "time_std_samples"
   ]
  },
  {
   "cell_type": "code",
   "execution_count": 39,
   "metadata": {},
   "outputs": [
    {
     "data": {
      "text/plain": [
       "(array([76768.,     0.,     0.,     0.,     0.,     0.,     0.,     0.,\n",
       "            0.,     0.,     0.,     0.,     0.,     0.,     0.,     0.,\n",
       "            0.,     0.,     0.,     0.,     0.,     0.,     0.,     0.,\n",
       "            0.,     0.,     0.,     0.,     0.,     0.,     0.,     0.,\n",
       "            0.,     0.,     0.,     0.,     0.,     0.,     0.,     0.,\n",
       "            0.,     0.,     0.,     0.,     0.,     0.,     0.,     0.,\n",
       "            0.,     0.,  4604.,     0.,     0.,     0.,     0.,     0.,\n",
       "            0.,     0.,     0.,     0.,     0.,     0.,     0.,     0.,\n",
       "            0.,     0.,     0.,     0.,     0.,     0.,     0.,     0.,\n",
       "            0.,     0.,     0.,     0.,     0.,     0.,     0.,     0.,\n",
       "            0.,     0.,     0.,     0.,     0.,     0.,     0.,     0.,\n",
       "            0.,     0.,     0.,     0.,     0.,     0.,     0.,     0.,\n",
       "            0.,     0.,     0.,   264.]),\n",
       " array([0.00000000e+00, 2.22044600e-18, 4.44089200e-18, 6.66133800e-18,\n",
       "        8.88178400e-18, 1.11022304e-17, 1.33226760e-17, 1.55431224e-17,\n",
       "        1.77635680e-17, 1.99840152e-17, 2.22044608e-17, 2.44249064e-17,\n",
       "        2.66453520e-17, 2.88657976e-17, 3.10862448e-17, 3.33066921e-17,\n",
       "        3.55271360e-17, 3.77475832e-17, 3.99680305e-17, 4.21884744e-17,\n",
       "        4.44089216e-17, 4.66293656e-17, 4.88498128e-17, 5.10702601e-17,\n",
       "        5.32907040e-17, 5.55111512e-17, 5.77315952e-17, 5.99520457e-17,\n",
       "        6.21724896e-17, 6.43929336e-17, 6.66133841e-17, 6.88338281e-17,\n",
       "        7.10542720e-17, 7.32747225e-17, 7.54951665e-17, 7.77156104e-17,\n",
       "        7.99360609e-17, 8.21565049e-17, 8.43769488e-17, 8.65973927e-17,\n",
       "        8.88178433e-17, 9.10382872e-17, 9.32587312e-17, 9.54791817e-17,\n",
       "        9.76996256e-17, 9.99200696e-17, 1.02140520e-16, 1.04360964e-16,\n",
       "        1.06581408e-16, 1.08801859e-16, 1.11022302e-16, 1.13242746e-16,\n",
       "        1.15463190e-16, 1.17683634e-16, 1.19904091e-16, 1.22124535e-16,\n",
       "        1.24344979e-16, 1.26565423e-16, 1.28785867e-16, 1.31006311e-16,\n",
       "        1.33226768e-16, 1.35447212e-16, 1.37667656e-16, 1.39888100e-16,\n",
       "        1.42108544e-16, 1.44328988e-16, 1.46549445e-16, 1.48769889e-16,\n",
       "        1.50990333e-16, 1.53210777e-16, 1.55431221e-16, 1.57651665e-16,\n",
       "        1.59872122e-16, 1.62092566e-16, 1.64313010e-16, 1.66533454e-16,\n",
       "        1.68753898e-16, 1.70974342e-16, 1.73194785e-16, 1.75415243e-16,\n",
       "        1.77635687e-16, 1.79856131e-16, 1.82076574e-16, 1.84297018e-16,\n",
       "        1.86517462e-16, 1.88737919e-16, 1.90958363e-16, 1.93178807e-16,\n",
       "        1.95399251e-16, 1.97619695e-16, 1.99840139e-16, 2.02060596e-16,\n",
       "        2.04281040e-16, 2.06501484e-16, 2.08721928e-16, 2.10942372e-16,\n",
       "        2.13162816e-16, 2.15383273e-16, 2.17603717e-16, 2.19824161e-16,\n",
       "        2.22044605e-16], dtype=float32),\n",
       " <a list of 100 Patch objects>)"
      ]
     },
     "execution_count": 39,
     "metadata": {},
     "output_type": "execute_result"
    },
    {
     "data": {
      "image/png": "[encoded data removed]",
      "text/plain": [
       "<Figure size 432x288 with 1 Axes>"
      ]
     },
     "metadata": {
      "needs_background": "light"
     },
     "output_type": "display_data"
    }
   ],
   "source": [
    "plt.hist(time_std_samples, bins=100)"
   ]
  },
  {
   "cell_type": "code",
   "execution_count": 40,
   "metadata": {},
   "outputs": [],
   "source": [
    "charge_samples = file['ChargeFirstPulse']['item'][samples]"
   ]
  },
  {
   "cell_type": "code",
   "execution_count": 27,
   "metadata": {},
   "outputs": [],
   "source": [
    "charge_samples = charge_samples[charge_samples <= 5]"
   ]
  },
  {
   "cell_type": "code",
   "execution_count": 29,
   "metadata": {},
   "outputs": [
    {
     "data": {
      "text/plain": [
       "(array([3072., 3387., 3761., 4108., 4557., 5143., 5673., 5869., 6233.,\n",
       "           0., 6162., 6139., 5778., 5318., 4768., 4331., 3793., 3172.,\n",
       "           0., 2688., 2301., 1654., 1348., 1078.,  891.,  731.,  589.,\n",
       "           0.,  528.,  435.,  373.,  360.,  345.,  307.,  296.,  278.,\n",
       "           0.,  259.,  222.,  214.,  202.,  214.,  174.,  185.,  134.,\n",
       "           0.,  137.,  121.,  134.,   90.,  136.,   94.,   87.,   85.,\n",
       "           0.,   75.,   86.,   84.,   47.,   75.,   48.,   55.,   42.,\n",
       "           0.,   39.,   36.,   49.,   49.,   39.,   48.,   36.,   37.,\n",
       "           0.,   32.,   27.,   32.,   32.,   41.,   35.,   43.,   27.,\n",
       "           0.,   28.,   21.,   21.,   24.,   27.,   20.,   18.,   13.,\n",
       "           0.,   24.,   15.,   21.,   18.,   13.,   21.,   15.,   14.,\n",
       "          11.]),\n",
       " array([0.525     , 0.56949997, 0.61399996, 0.65849996, 0.70299995,\n",
       "        0.74749994, 0.792     , 0.8365    , 0.881     , 0.9255    ,\n",
       "        0.96999997, 1.0145    , 1.059     , 1.1035    , 1.148     ,\n",
       "        1.1925    , 1.237     , 1.2815    , 1.326     , 1.3705    ,\n",
       "        1.415     , 1.4595    , 1.504     , 1.5485    , 1.5929999 ,\n",
       "        1.6374999 , 1.6819999 , 1.7264999 , 1.7709999 , 1.8154999 ,\n",
       "        1.8599999 , 1.9045    , 1.949     , 1.9935    , 2.0379999 ,\n",
       "        2.0825    , 2.1269999 , 2.1715    , 2.2159998 , 2.2605    ,\n",
       "        2.3049998 , 2.3495    , 2.394     , 2.4385    , 2.483     ,\n",
       "        2.5275    , 2.572     , 2.6165    , 2.661     , 2.7055    ,\n",
       "        2.75      , 2.7944999 , 2.839     , 2.8834999 , 2.928     ,\n",
       "        2.9724998 , 3.017     , 3.0614998 , 3.106     , 3.1504998 ,\n",
       "        3.195     , 3.2395    , 3.284     , 3.3285    , 3.373     ,\n",
       "        3.4175    , 3.462     , 3.5065    , 3.5509999 , 3.5955    ,\n",
       "        3.6399999 , 3.6845    , 3.7289999 , 3.7735    , 3.8179998 ,\n",
       "        3.8625    , 3.9069998 , 3.9515    , 3.9959998 , 4.0404997 ,\n",
       "        4.085     , 4.1295    , 4.174     , 4.2185    , 4.263     ,\n",
       "        4.3075    , 4.3519998 , 4.3965    , 4.441     , 4.4855    ,\n",
       "        4.5299997 , 4.5745    , 4.619     , 4.6635    , 4.7079997 ,\n",
       "        4.7525    , 4.797     , 4.8415    , 4.8859997 , 4.9305    ,\n",
       "        4.975     ], dtype=float32),\n",
       " <a list of 100 Patch objects>)"
      ]
     },
     "execution_count": 29,
     "metadata": {},
     "output_type": "execute_result"
    },
    {
     "data": {
      "image/png": "[encoded data removed]",
      "text/plain": [
       "<Figure size 432x288 with 1 Axes>"
      ]
     },
     "metadata": {
      "needs_background": "light"
     },
     "output_type": "display_data"
    }
   ],
   "source": [
    "plt.hist(charge_samples, bins=100)"
   ]
  },
  {
   "cell_type": "code",
   "execution_count": 48,
   "metadata": {},
   "outputs": [],
   "source": [
    "time_samples = file['TimeFirstPulse']['item'][samples]"
   ]
  },
  {
   "cell_type": "code",
   "execution_count": 51,
   "metadata": {},
   "outputs": [],
   "source": [
    "time_samples_filtered = time_samples[time_samples > -0.002]"
   ]
  },
  {
   "cell_type": "code",
   "execution_count": 55,
   "metadata": {},
   "outputs": [
    {
     "data": {
      "text/plain": [
       "0.00030537526"
      ]
     },
     "execution_count": 55,
     "metadata": {},
     "output_type": "execute_result"
    }
   ],
   "source": [
    "time_samples_filtered.std()"
   ]
  },
  {
   "cell_type": "code",
   "execution_count": null,
   "metadata": {},
   "outputs": [],
   "source": []
  }
 ],
 "metadata": {
  "kernelspec": {
   "display_name": "Python 3",
   "language": "python",
   "name": "python3"
  },
  "language_info": {
   "codemirror_mode": {
    "name": "ipython",
    "version": 3
   },
   "file_extension": ".py",
   "mimetype": "text/x-python",
   "name": "python",
   "nbconvert_exporter": "python",
   "pygments_lexer": "ipython3",
   "version": "3.6.7"
  }
 },
 "nbformat": 4,
 "nbformat_minor": 2
}
