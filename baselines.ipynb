{
 "cells": [
  {
   "cell_type": "code",
   "execution_count": 5,
   "metadata": {},
   "outputs": [],
   "source": [
    "import numpy as np\n",
    "import pandas as pd\n",
    "import matplotlib.pyplot as plt\n",
    "import h5py\n",
    "from model import GCNN\n",
    "from dataset import HD5Dataset\n",
    "import util\n",
    "import json"
   ]
  },
  {
   "cell_type": "code",
   "execution_count": 4,
   "metadata": {},
   "outputs": [
    {
     "name": "stdout",
     "output_type": "stream",
     "text": [
      "Created memory map arrays.\n"
     ]
    }
   ],
   "source": [
    "# Evaluate the model on the entire dataset\n",
    "data = HD5Dataset('../data/data_dragon.hd5', seed=42, features=[\"FirstCharge\", \"CumulativeCharge\", \"Time\",\n",
    "            \"VertexX\", \"VertexY\", \"VertexZ\", \"RecoX\",\n",
    "\"RecoZ\", \"RecoAzimuth\", \"RecoZenith\"])"
   ]
  },
  {
   "cell_type": "code",
   "execution_count": 10,
   "metadata": {},
   "outputs": [],
   "source": [
    "with open('training/hd5-80549/config.json') as f:\n",
    "    settings = json.load(f)"
   ]
  },
  {
   "cell_type": "code",
   "execution_count": 27,
   "metadata": {},
   "outputs": [],
   "source": [
    "model = util.model_from_config(settings['model'], 10)"
   ]
  },
  {
   "cell_type": "code",
   "execution_count": 33,
   "metadata": {},
   "outputs": [],
   "source": [
    "model.load_weights('training/hd5-80549/model_weights.h5')"
   ]
  },
  {
   "cell_type": "code",
   "execution_count": 34,
   "metadata": {},
   "outputs": [],
   "source": [
    "test_idx = data._get_idx('test')"
   ]
  },
  {
   "cell_type": "code",
   "execution_count": 35,
   "metadata": {},
   "outputs": [],
   "source": [
    "# Evaluate the model on all the data\n",
    "batch_size = 128\n",
    "logits_model = model.predict_generator(data.get_batches(batch_size=batch_size, dataset='test'),\n",
    "                       steps=int(np.ceil(data.size(dataset='test') / batch_size)))"
   ]
  },
  {
   "cell_type": "code",
   "execution_count": 38,
   "metadata": {},
   "outputs": [
    {
     "data": {
      "text/plain": [
       "(207622,)"
      ]
     },
     "execution_count": 38,
     "metadata": {},
     "output_type": "execute_result"
    }
   ],
   "source": [
    "np.unique(logits_model).shape"
   ]
  },
  {
   "cell_type": "code",
   "execution_count": 39,
   "metadata": {},
   "outputs": [],
   "source": [
    "y_model = (logits_model >= 0.5).astype(np.int)"
   ]
  },
  {
   "cell_type": "code",
   "execution_count": 40,
   "metadata": {},
   "outputs": [],
   "source": [
    "y_model = y_model.squeeze()"
   ]
  },
  {
   "cell_type": "code",
   "execution_count": 41,
   "metadata": {},
   "outputs": [],
   "source": [
    "# Get the pe counts (~charge) of the test data\n",
    "total_charge = data.file['TotalCharge']['value'][test_idx]"
   ]
  },
  {
   "cell_type": "code",
   "execution_count": 42,
   "metadata": {},
   "outputs": [],
   "source": [
    "y_gnd = data.targets[test_idx]\n",
    "y_baseline = (data.delta_loglikelihood[test_idx] >= 2.0).astype(np.uint8)"
   ]
  },
  {
   "cell_type": "code",
   "execution_count": 43,
   "metadata": {},
   "outputs": [],
   "source": [
    "total_charge_sorted = np.sort(total_charge)"
   ]
  },
  {
   "cell_type": "code",
   "execution_count": 44,
   "metadata": {},
   "outputs": [],
   "source": [
    "# Find different cutoff values to check performance at different maximal energies by selecting the quantiles of the data\n",
    "cutoffs = []\n",
    "quantiles = []\n",
    "for quantile in np.arange(0.00, 1.0, 0.01):\n",
    "    quantile = 1.0 - quantile\n",
    "    quantiles.append(quantile)\n",
    "    cutoffs.append(total_charge_sorted[int(total_charge.shape[0] * quantile) - 1])"
   ]
  },
  {
   "cell_type": "code",
   "execution_count": 45,
   "metadata": {},
   "outputs": [
    {
     "data": {
      "text/plain": [
       "((220295,), (220295,))"
      ]
     },
     "execution_count": 45,
     "metadata": {},
     "output_type": "execute_result"
    }
   ],
   "source": [
    "y_model.shape, y_gnd.shape"
   ]
  },
  {
   "cell_type": "code",
   "execution_count": 46,
   "metadata": {},
   "outputs": [
    {
     "data": {
      "text/plain": [
       "(array([0, 0, 0, ..., 0, 1, 0]), array([0, 0, 1, ..., 0, 1, 0]))"
      ]
     },
     "execution_count": 46,
     "metadata": {},
     "output_type": "execute_result"
    }
   ],
   "source": [
    "y_model, y_gnd"
   ]
  },
  {
   "cell_type": "code",
   "execution_count": 47,
   "metadata": {},
   "outputs": [],
   "source": [
    "accuracies = []\n",
    "for cutoff, quantile in zip(cutoffs, quantiles):\n",
    "    mask = total_charge <= cutoff\n",
    "    accuracy_baseline = (y_gnd[mask] == y_baseline[mask]).sum() / mask.sum()\n",
    "    accuracy_model = (y_model[mask] == y_gnd[mask]).sum() / mask.sum()\n",
    "    accuracies.append([accuracy_baseline, accuracy_model])\n",
    "accuracies = np.array(accuracies)"
   ]
  },
  {
   "cell_type": "code",
   "execution_count": 48,
   "metadata": {},
   "outputs": [
    {
     "data": {
      "text/plain": [
       "array([[0.58990445, 0.57054858],\n",
       "       [0.58961814, 0.57102507],\n",
       "       [0.58933526, 0.57150202],\n",
       "       [0.58893423, 0.57178758],\n",
       "       [0.58833571, 0.57191831],\n",
       "       [0.58797783, 0.57210914],\n",
       "       [0.58759302, 0.57244407],\n",
       "       [0.58720482, 0.57274227],\n",
       "       [0.58690686, 0.57300749],\n",
       "       [0.5865375 , 0.57309396],\n",
       "       [0.58623055, 0.57317227],\n",
       "       [0.5859014 , 0.57331864],\n",
       "       [0.58560603, 0.57353025],\n",
       "       [0.585163  , 0.5739189 ],\n",
       "       [0.58481523, 0.5738996 ],\n",
       "       [0.58443258, 0.57385314],\n",
       "       [0.58405162, 0.57376234],\n",
       "       [0.58383103, 0.57383343],\n",
       "       [0.58341683, 0.57394501],\n",
       "       [0.58326141, 0.57403692],\n",
       "       [0.58287183, 0.57425838],\n",
       "       [0.58266775, 0.5743418 ],\n",
       "       [0.58238618, 0.57449471],\n",
       "       [0.5822152 , 0.57466338],\n",
       "       [0.58202528, 0.57491757],\n",
       "       [0.58160888, 0.57518112],\n",
       "       [0.58122416, 0.57555607],\n",
       "       [0.58120461, 0.57596881],\n",
       "       [0.58124858, 0.57571937],\n",
       "       [0.58068538, 0.5759798 ],\n",
       "       [0.5801996 , 0.5760883 ],\n",
       "       [0.57995566, 0.57591626],\n",
       "       [0.57943538, 0.57583728],\n",
       "       [0.57925974, 0.57623122],\n",
       "       [0.57929778, 0.57646411],\n",
       "       [0.57912747, 0.57668322],\n",
       "       [0.57911312, 0.57673703],\n",
       "       [0.57899515, 0.57702811],\n",
       "       [0.5788202 , 0.57709232],\n",
       "       [0.57871707, 0.57725852],\n",
       "       [0.57870847, 0.57752073],\n",
       "       [0.57882994, 0.57730658],\n",
       "       [0.57853051, 0.57752872],\n",
       "       [0.57847541, 0.57781441],\n",
       "       [0.57804077, 0.57770843],\n",
       "       [0.57814331, 0.57792047],\n",
       "       [0.57813511, 0.5782696 ],\n",
       "       [0.57792186, 0.57831583],\n",
       "       [0.5778934 , 0.57868778],\n",
       "       [0.57790832, 0.57874499],\n",
       "       [0.57788612, 0.5788303 ],\n",
       "       [0.57790788, 0.57914922],\n",
       "       [0.57731627, 0.57913203],\n",
       "       [0.5771311 , 0.57902413],\n",
       "       [0.57737625, 0.57975448],\n",
       "       [0.57787394, 0.58000222],\n",
       "       [0.57799074, 0.58012606],\n",
       "       [0.57788733, 0.5800513 ],\n",
       "       [0.57778931, 0.57963731],\n",
       "       [0.57822308, 0.58018267],\n",
       "       [0.57855797, 0.5801693 ],\n",
       "       [0.57849345, 0.57998324],\n",
       "       [0.57837212, 0.58002055],\n",
       "       [0.5784167 , 0.58019528],\n",
       "       [0.57852334, 0.5800237 ],\n",
       "       [0.57858838, 0.58049457],\n",
       "       [0.57876401, 0.58112653],\n",
       "       [0.57916094, 0.58173315],\n",
       "       [0.57918777, 0.58188292],\n",
       "       [0.57959321, 0.58275615],\n",
       "       [0.58006111, 0.58323754],\n",
       "       [0.58003068, 0.58316116],\n",
       "       [0.58032675, 0.58335765],\n",
       "       [0.5800269 , 0.5835575 ],\n",
       "       [0.58028528, 0.58398659],\n",
       "       [0.58053801, 0.58407754],\n",
       "       [0.58115035, 0.58429006],\n",
       "       [0.58155049, 0.58494513],\n",
       "       [0.58196518, 0.58520337],\n",
       "       [0.58252994, 0.58577234],\n",
       "       [0.58278311, 0.58527897],\n",
       "       [0.58315422, 0.58506472],\n",
       "       [0.58365053, 0.58612084],\n",
       "       [0.5835713 , 0.58637346],\n",
       "       [0.58330733, 0.5865982 ],\n",
       "       [0.58302326, 0.58695586],\n",
       "       [0.58284973, 0.58855568],\n",
       "       [0.58198639, 0.58820038],\n",
       "       [0.58386267, 0.58904265],\n",
       "       [0.58425808, 0.58949713],\n",
       "       [0.58400654, 0.58908959],\n",
       "       [0.58216104, 0.58745525],\n",
       "       [0.58369245, 0.58907916],\n",
       "       [0.58304711, 0.58887953],\n",
       "       [0.58759924, 0.59198488],\n",
       "       [0.58871479, 0.59025451],\n",
       "       [0.59198729, 0.59334922],\n",
       "       [0.59473366, 0.59276634],\n",
       "       [0.59161948, 0.59093998],\n",
       "       [0.58991826, 0.6030881 ]])"
      ]
     },
     "execution_count": 48,
     "metadata": {},
     "output_type": "execute_result"
    }
   ],
   "source": [
    "accuracies"
   ]
  },
  {
   "cell_type": "code",
   "execution_count": 49,
   "metadata": {},
   "outputs": [
    {
     "data": {
      "text/plain": [
       "Text(0, 0.5, 'Accuracy')"
      ]
     },
     "execution_count": 49,
     "metadata": {},
     "output_type": "execute_result"
    },
    {
     "data": {
      "image/png": "[encoded data removed]",
      "text/plain": [
       "<Figure size 432x288 with 1 Axes>"
      ]
     },
     "metadata": {
      "needs_background": "light"
     },
     "output_type": "display_data"
    }
   ],
   "source": [
    "plt.plot(cutoffs, accuracies[:, 0])\n",
    "plt.plot(cutoffs, accuracies[:, 1])\n",
    "\n",
    "plt.xlabel('Integrated charge cutoff (pe)')\n",
    "plt.ylabel('Accuracy')"
   ]
  },
  {
   "cell_type": "code",
   "execution_count": 131,
   "metadata": {},
   "outputs": [
    {
     "data": {
      "text/plain": [
       "array([0])"
      ]
     },
     "execution_count": 131,
     "metadata": {},
     "output_type": "execute_result"
    }
   ],
   "source": [
    "np.unique(y_model)"
   ]
  }
 ],
 "metadata": {
  "kernelspec": {
   "display_name": "Python 3",
   "language": "python",
   "name": "python3"
  },
  "language_info": {
   "codemirror_mode": {
    "name": "ipython",
    "version": 3
   },
   "file_extension": ".py",
   "mimetype": "text/x-python",
   "name": "python",
   "nbconvert_exporter": "python",
   "pygments_lexer": "ipython3",
   "version": "3.6.7"
  }
 },
 "nbformat": 4,
 "nbformat_minor": 2
}
